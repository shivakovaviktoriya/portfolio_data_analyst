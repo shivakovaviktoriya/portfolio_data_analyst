{
 "cells": [
  {
   "cell_type": "markdown",
   "metadata": {},
   "source": [
    "# Исследование популярности компьютерных игр.\n",
    "\n",
    "### Описание проекта\n",
    "Вы работаете в интернет-магазине «Стримчик», который продаёт по всему миру компьютерные игры. Вам нужно выявить определяющие успешность игры закономерности. \n",
    "\n",
    "**Входные данные** —  исторические данные о продажах игр, оценки пользователей и экспертов, жанры и платформы. \n",
    "\n",
    "**Результаты исследования** позволят сделать ставку на потенциально популярный продукт и спланировать рекламные кампании.\n",
    "\n",
    "**Цель исследования** :\n",
    "1. Провести исследовательский анализ данных.\n",
    "2. Составить портрет пользователя каждого региона.\n",
    "3. Проверить 2 гипотезы: \n",
    "- Средние пользовательские рейтинги платформ Xbox One и PC одинаковые;\n",
    "- Средние пользовательские рейтинги жанров Action (англ. «действие», экшенигры) и Sports (англ. «спортивные соревнования») разные.\n",
    "\n",
    "\n",
    "**Ход исследования**\n",
    "Путь к файлу: /datasets/games.csv\n",
    "\n",
    "Исследование пройдет в **6 этапов:**\n",
    "1. Изучение общей информации о данных.\n",
    "2. Предобработка данных.\n",
    "3. Исследовательский анализ данных.\n",
    "4. Составление портрета пользователя каждого региона.\n",
    "5. Проверка гипотез.\n",
    "6. Общие выводы. "
   ]
  },
  {
   "cell_type": "markdown",
   "metadata": {},
   "source": [
    "###  Обзор данных"
   ]
  },
  {
   "cell_type": "code",
   "execution_count": 1,
   "metadata": {},
   "outputs": [],
   "source": [
    "#проигнорируем предупреждения\n",
    "import warnings\n",
    "warnings.filterwarnings('ignore')\n"
   ]
  },
  {
   "cell_type": "code",
   "execution_count": 2,
   "metadata": {},
   "outputs": [],
   "source": [
    "# импорт библиотек\n",
    "import pandas as pd\n",
    "import matplotlib.pyplot as plt \n",
    "from scipy import stats as st"
   ]
  },
  {
   "cell_type": "code",
   "execution_count": 3,
   "metadata": {},
   "outputs": [],
   "source": [
    "# чтение файла с данными и сохранение в games\n",
    "games = pd.read_csv('/datasets/games.csv')"
   ]
  },
  {
   "cell_type": "code",
   "execution_count": 4,
   "metadata": {},
   "outputs": [
    {
     "data": {
      "text/html": [
       "<div>\n",
       "<style scoped>\n",
       "    .dataframe tbody tr th:only-of-type {\n",
       "        vertical-align: middle;\n",
       "    }\n",
       "\n",
       "    .dataframe tbody tr th {\n",
       "        vertical-align: top;\n",
       "    }\n",
       "\n",
       "    .dataframe thead th {\n",
       "        text-align: right;\n",
       "    }\n",
       "</style>\n",
       "<table border=\"1\" class=\"dataframe\">\n",
       "  <thead>\n",
       "    <tr style=\"text-align: right;\">\n",
       "      <th></th>\n",
       "      <th>Name</th>\n",
       "      <th>Platform</th>\n",
       "      <th>Year_of_Release</th>\n",
       "      <th>Genre</th>\n",
       "      <th>NA_sales</th>\n",
       "      <th>EU_sales</th>\n",
       "      <th>JP_sales</th>\n",
       "      <th>Other_sales</th>\n",
       "      <th>Critic_Score</th>\n",
       "      <th>User_Score</th>\n",
       "      <th>Rating</th>\n",
       "    </tr>\n",
       "  </thead>\n",
       "  <tbody>\n",
       "    <tr>\n",
       "      <th>0</th>\n",
       "      <td>Wii Sports</td>\n",
       "      <td>Wii</td>\n",
       "      <td>2006.0</td>\n",
       "      <td>Sports</td>\n",
       "      <td>41.36</td>\n",
       "      <td>28.96</td>\n",
       "      <td>3.77</td>\n",
       "      <td>8.45</td>\n",
       "      <td>76.0</td>\n",
       "      <td>8</td>\n",
       "      <td>E</td>\n",
       "    </tr>\n",
       "    <tr>\n",
       "      <th>1</th>\n",
       "      <td>Super Mario Bros.</td>\n",
       "      <td>NES</td>\n",
       "      <td>1985.0</td>\n",
       "      <td>Platform</td>\n",
       "      <td>29.08</td>\n",
       "      <td>3.58</td>\n",
       "      <td>6.81</td>\n",
       "      <td>0.77</td>\n",
       "      <td>NaN</td>\n",
       "      <td>NaN</td>\n",
       "      <td>NaN</td>\n",
       "    </tr>\n",
       "    <tr>\n",
       "      <th>2</th>\n",
       "      <td>Mario Kart Wii</td>\n",
       "      <td>Wii</td>\n",
       "      <td>2008.0</td>\n",
       "      <td>Racing</td>\n",
       "      <td>15.68</td>\n",
       "      <td>12.76</td>\n",
       "      <td>3.79</td>\n",
       "      <td>3.29</td>\n",
       "      <td>82.0</td>\n",
       "      <td>8.3</td>\n",
       "      <td>E</td>\n",
       "    </tr>\n",
       "    <tr>\n",
       "      <th>3</th>\n",
       "      <td>Wii Sports Resort</td>\n",
       "      <td>Wii</td>\n",
       "      <td>2009.0</td>\n",
       "      <td>Sports</td>\n",
       "      <td>15.61</td>\n",
       "      <td>10.93</td>\n",
       "      <td>3.28</td>\n",
       "      <td>2.95</td>\n",
       "      <td>80.0</td>\n",
       "      <td>8</td>\n",
       "      <td>E</td>\n",
       "    </tr>\n",
       "    <tr>\n",
       "      <th>4</th>\n",
       "      <td>Pokemon Red/Pokemon Blue</td>\n",
       "      <td>GB</td>\n",
       "      <td>1996.0</td>\n",
       "      <td>Role-Playing</td>\n",
       "      <td>11.27</td>\n",
       "      <td>8.89</td>\n",
       "      <td>10.22</td>\n",
       "      <td>1.00</td>\n",
       "      <td>NaN</td>\n",
       "      <td>NaN</td>\n",
       "      <td>NaN</td>\n",
       "    </tr>\n",
       "    <tr>\n",
       "      <th>5</th>\n",
       "      <td>Tetris</td>\n",
       "      <td>GB</td>\n",
       "      <td>1989.0</td>\n",
       "      <td>Puzzle</td>\n",
       "      <td>23.20</td>\n",
       "      <td>2.26</td>\n",
       "      <td>4.22</td>\n",
       "      <td>0.58</td>\n",
       "      <td>NaN</td>\n",
       "      <td>NaN</td>\n",
       "      <td>NaN</td>\n",
       "    </tr>\n",
       "    <tr>\n",
       "      <th>6</th>\n",
       "      <td>New Super Mario Bros.</td>\n",
       "      <td>DS</td>\n",
       "      <td>2006.0</td>\n",
       "      <td>Platform</td>\n",
       "      <td>11.28</td>\n",
       "      <td>9.14</td>\n",
       "      <td>6.50</td>\n",
       "      <td>2.88</td>\n",
       "      <td>89.0</td>\n",
       "      <td>8.5</td>\n",
       "      <td>E</td>\n",
       "    </tr>\n",
       "    <tr>\n",
       "      <th>7</th>\n",
       "      <td>Wii Play</td>\n",
       "      <td>Wii</td>\n",
       "      <td>2006.0</td>\n",
       "      <td>Misc</td>\n",
       "      <td>13.96</td>\n",
       "      <td>9.18</td>\n",
       "      <td>2.93</td>\n",
       "      <td>2.84</td>\n",
       "      <td>58.0</td>\n",
       "      <td>6.6</td>\n",
       "      <td>E</td>\n",
       "    </tr>\n",
       "    <tr>\n",
       "      <th>8</th>\n",
       "      <td>New Super Mario Bros. Wii</td>\n",
       "      <td>Wii</td>\n",
       "      <td>2009.0</td>\n",
       "      <td>Platform</td>\n",
       "      <td>14.44</td>\n",
       "      <td>6.94</td>\n",
       "      <td>4.70</td>\n",
       "      <td>2.24</td>\n",
       "      <td>87.0</td>\n",
       "      <td>8.4</td>\n",
       "      <td>E</td>\n",
       "    </tr>\n",
       "    <tr>\n",
       "      <th>9</th>\n",
       "      <td>Duck Hunt</td>\n",
       "      <td>NES</td>\n",
       "      <td>1984.0</td>\n",
       "      <td>Shooter</td>\n",
       "      <td>26.93</td>\n",
       "      <td>0.63</td>\n",
       "      <td>0.28</td>\n",
       "      <td>0.47</td>\n",
       "      <td>NaN</td>\n",
       "      <td>NaN</td>\n",
       "      <td>NaN</td>\n",
       "    </tr>\n",
       "  </tbody>\n",
       "</table>\n",
       "</div>"
      ],
      "text/plain": [
       "                        Name Platform  Year_of_Release         Genre  \\\n",
       "0                 Wii Sports      Wii           2006.0        Sports   \n",
       "1          Super Mario Bros.      NES           1985.0      Platform   \n",
       "2             Mario Kart Wii      Wii           2008.0        Racing   \n",
       "3          Wii Sports Resort      Wii           2009.0        Sports   \n",
       "4   Pokemon Red/Pokemon Blue       GB           1996.0  Role-Playing   \n",
       "5                     Tetris       GB           1989.0        Puzzle   \n",
       "6      New Super Mario Bros.       DS           2006.0      Platform   \n",
       "7                   Wii Play      Wii           2006.0          Misc   \n",
       "8  New Super Mario Bros. Wii      Wii           2009.0      Platform   \n",
       "9                  Duck Hunt      NES           1984.0       Shooter   \n",
       "\n",
       "   NA_sales  EU_sales  JP_sales  Other_sales  Critic_Score User_Score Rating  \n",
       "0     41.36     28.96      3.77         8.45          76.0          8      E  \n",
       "1     29.08      3.58      6.81         0.77           NaN        NaN    NaN  \n",
       "2     15.68     12.76      3.79         3.29          82.0        8.3      E  \n",
       "3     15.61     10.93      3.28         2.95          80.0          8      E  \n",
       "4     11.27      8.89     10.22         1.00           NaN        NaN    NaN  \n",
       "5     23.20      2.26      4.22         0.58           NaN        NaN    NaN  \n",
       "6     11.28      9.14      6.50         2.88          89.0        8.5      E  \n",
       "7     13.96      9.18      2.93         2.84          58.0        6.6      E  \n",
       "8     14.44      6.94      4.70         2.24          87.0        8.4      E  \n",
       "9     26.93      0.63      0.28         0.47           NaN        NaN    NaN  "
      ]
     },
     "execution_count": 4,
     "metadata": {},
     "output_type": "execute_result"
    }
   ],
   "source": [
    "# получение первых 10 строк таблицы games\n",
    "games.head(10)"
   ]
  },
  {
   "cell_type": "code",
   "execution_count": 5,
   "metadata": {},
   "outputs": [
    {
     "name": "stdout",
     "output_type": "stream",
     "text": [
      "<class 'pandas.core.frame.DataFrame'>\n",
      "RangeIndex: 16715 entries, 0 to 16714\n",
      "Data columns (total 11 columns):\n",
      " #   Column           Non-Null Count  Dtype  \n",
      "---  ------           --------------  -----  \n",
      " 0   Name             16713 non-null  object \n",
      " 1   Platform         16715 non-null  object \n",
      " 2   Year_of_Release  16446 non-null  float64\n",
      " 3   Genre            16713 non-null  object \n",
      " 4   NA_sales         16715 non-null  float64\n",
      " 5   EU_sales         16715 non-null  float64\n",
      " 6   JP_sales         16715 non-null  float64\n",
      " 7   Other_sales      16715 non-null  float64\n",
      " 8   Critic_Score     8137 non-null   float64\n",
      " 9   User_Score       10014 non-null  object \n",
      " 10  Rating           9949 non-null   object \n",
      "dtypes: float64(6), object(5)\n",
      "memory usage: 1.4+ MB\n"
     ]
    }
   ],
   "source": [
    "# получение общей информации о данных в таблице games\n",
    "games.info()"
   ]
  },
  {
   "cell_type": "markdown",
   "metadata": {},
   "source": [
    "Итак, в таблице 11 столбцов. Типы данных в столбцах — float и object.\n",
    "\n",
    "- Name — название игры\n",
    "- Platform — платформа\n",
    "- Year_of_Release — год выпуска\n",
    "- Genre — жанр игры\n",
    "- NA_sales — продажи в Северной Америке (миллионы проданных копий)\n",
    "- EU_sales — продажи в Европе (миллионы проданных копий)\n",
    "- JP_sales — продажи в Японии (миллионы проданных копий)\n",
    "- Other_sales — продажи в других странах (миллионы проданных копий)\n",
    "- Critic_Score — оценка критиков (максимум 100)\n",
    "- User_Score — оценка пользователей (максимум 10)\n",
    "- Rating — рейтинг от организации ESRB (англ. Entertainment Software Rating Board). Эта ассоциация определяет рейтинг компьютерных игр и присваивает им подходящую возрастную категорию."
   ]
  },
  {
   "cell_type": "code",
   "execution_count": 6,
   "metadata": {},
   "outputs": [
    {
     "data": {
      "text/plain": [
       "Name                  2\n",
       "Platform              0\n",
       "Year_of_Release     269\n",
       "Genre                 2\n",
       "NA_sales              0\n",
       "EU_sales              0\n",
       "JP_sales              0\n",
       "Other_sales           0\n",
       "Critic_Score       8578\n",
       "User_Score         6701\n",
       "Rating             6766\n",
       "dtype: int64"
      ]
     },
     "execution_count": 6,
     "metadata": {},
     "output_type": "execute_result"
    }
   ],
   "source": [
    "# подсчёт пропусков\n",
    "games.isna().sum()"
   ]
  },
  {
   "cell_type": "markdown",
   "metadata": {},
   "source": [
    "#### Выводы:\n",
    "\n",
    "1. В каждой строке таблицы представлены данные об определенной игре. Общая информация (название, жанр и тд), а также информация о продажах, оценки(пользователей, критиков) и рейтинг ESRB . \n",
    "2. В названиях колонок нарушен стиль. Необходимо привести все к нижнему регистру. \n",
    "3. В столбцах Year_of_Release, Critic_Score, User_Score и Rating есть пропущенные значения. А также по 2 пропущенных значения в столбцах Name и Genre.\n",
    "4. Не все типы данных подходят для анализа.\n",
    "\n",
    "Чтобы двигаться дальше, нужно устранить проблемы в данных."
   ]
  },
  {
   "cell_type": "markdown",
   "metadata": {},
   "source": [
    "###  Предобработка данных"
   ]
  },
  {
   "cell_type": "code",
   "execution_count": 7,
   "metadata": {},
   "outputs": [
    {
     "data": {
      "text/plain": [
       "Index(['name', 'platform', 'year_of_release', 'genre', 'na_sales', 'eu_sales',\n",
       "       'jp_sales', 'other_sales', 'critic_score', 'user_score', 'rating'],\n",
       "      dtype='object')"
      ]
     },
     "execution_count": 7,
     "metadata": {},
     "output_type": "execute_result"
    }
   ],
   "source": [
    "# первым шагом исправим название столбцов (примедем все к нижнему регистру)\n",
    "games.columns = games.columns.str.lower()\n",
    "games.columns #проверим результат "
   ]
  },
  {
   "cell_type": "code",
   "execution_count": 8,
   "metadata": {},
   "outputs": [],
   "source": [
    "# вторым шагом обработаем пропуски \n",
    "# 1) пропусков в столбцах с названием, жанромм и годом выпуска - мало(менее 2%). Их можно просто удалить из таблицы \n",
    "# 2) пропуски в scores заполнять не надо - любое заполнение исказит результаты корреляционного анализа и стат-тестов. \n",
    "# 3) пропуски в rating можно заполнить заглушкой (например, значением \"не определен\") потому, что это категориальная переменная.\n",
    "# 4) знаечение tbd в столбце user_score лучше всего заменить на пропуски."
   ]
  },
  {
   "cell_type": "code",
   "execution_count": 9,
   "metadata": {},
   "outputs": [],
   "source": [
    "games.loc[games['user_score'] == 'tbd', 'user_score'] = float('nan') #меняем tbd в столбце user_score на nan"
   ]
  },
  {
   "cell_type": "code",
   "execution_count": 10,
   "metadata": {},
   "outputs": [],
   "source": [
    "games['rating'] = games['rating'].fillna('unknown') #пропуски в rating меняем на unknown"
   ]
  },
  {
   "cell_type": "code",
   "execution_count": 11,
   "metadata": {},
   "outputs": [],
   "source": [
    "games = games[games['name'].notnull() & games['year_of_release'].notnull()] #удалим строки с пропущенными значением названия и года выпуска "
   ]
  },
  {
   "cell_type": "code",
   "execution_count": 12,
   "metadata": {},
   "outputs": [
    {
     "data": {
      "text/plain": [
       "name                  0\n",
       "platform              0\n",
       "year_of_release       0\n",
       "genre                 0\n",
       "na_sales              0\n",
       "eu_sales              0\n",
       "jp_sales              0\n",
       "other_sales           0\n",
       "critic_score       8461\n",
       "user_score         8981\n",
       "rating                0\n",
       "dtype: int64"
      ]
     },
     "execution_count": 12,
     "metadata": {},
     "output_type": "execute_result"
    }
   ],
   "source": [
    "games.isna().sum() #проверка пропусков "
   ]
  },
  {
   "cell_type": "code",
   "execution_count": 13,
   "metadata": {},
   "outputs": [],
   "source": [
    "# третьим шагом изменим типы данных\n",
    "games['user_score'] = games['user_score'].astype('float32') #меняем оценки пользователей user_score на float64, чтобы можно были с ними проводить операции в дальнейшем\n",
    "games['year_of_release'] = games['year_of_release'].astype('int') #меняем год на int для удобства восприятия"
   ]
  },
  {
   "cell_type": "code",
   "execution_count": 14,
   "metadata": {},
   "outputs": [],
   "source": [
    "#можно заметить, что в столбцах с оценками критиков и оценками пользователей данные представлены как будто в разной системе \n",
    "#(10-бальная и 100-бальная)\n",
    "#приведем к единому виду \n",
    "games['critic_score'] = games['critic_score'] / 10  #перевод оценок критиков в 10-бальную систему"
   ]
  },
  {
   "cell_type": "code",
   "execution_count": 15,
   "metadata": {},
   "outputs": [],
   "source": [
    "#последним шагом посчитаем суммарные продажи во всех регионах и запишим их в отдельный столбец\n",
    "games['total_sales'] = games['na_sales'] + games['eu_sales'] + games['jp_sales'] + games['other_sales']"
   ]
  },
  {
   "cell_type": "code",
   "execution_count": 16,
   "metadata": {},
   "outputs": [
    {
     "data": {
      "text/html": [
       "<div>\n",
       "<style scoped>\n",
       "    .dataframe tbody tr th:only-of-type {\n",
       "        vertical-align: middle;\n",
       "    }\n",
       "\n",
       "    .dataframe tbody tr th {\n",
       "        vertical-align: top;\n",
       "    }\n",
       "\n",
       "    .dataframe thead th {\n",
       "        text-align: right;\n",
       "    }\n",
       "</style>\n",
       "<table border=\"1\" class=\"dataframe\">\n",
       "  <thead>\n",
       "    <tr style=\"text-align: right;\">\n",
       "      <th></th>\n",
       "      <th>name</th>\n",
       "      <th>platform</th>\n",
       "      <th>year_of_release</th>\n",
       "      <th>genre</th>\n",
       "      <th>na_sales</th>\n",
       "      <th>eu_sales</th>\n",
       "      <th>jp_sales</th>\n",
       "      <th>other_sales</th>\n",
       "      <th>critic_score</th>\n",
       "      <th>user_score</th>\n",
       "      <th>rating</th>\n",
       "      <th>total_sales</th>\n",
       "    </tr>\n",
       "  </thead>\n",
       "  <tbody>\n",
       "    <tr>\n",
       "      <th>0</th>\n",
       "      <td>Wii Sports</td>\n",
       "      <td>Wii</td>\n",
       "      <td>2006</td>\n",
       "      <td>Sports</td>\n",
       "      <td>41.36</td>\n",
       "      <td>28.96</td>\n",
       "      <td>3.77</td>\n",
       "      <td>8.45</td>\n",
       "      <td>7.6</td>\n",
       "      <td>8.0</td>\n",
       "      <td>E</td>\n",
       "      <td>82.54</td>\n",
       "    </tr>\n",
       "    <tr>\n",
       "      <th>1</th>\n",
       "      <td>Super Mario Bros.</td>\n",
       "      <td>NES</td>\n",
       "      <td>1985</td>\n",
       "      <td>Platform</td>\n",
       "      <td>29.08</td>\n",
       "      <td>3.58</td>\n",
       "      <td>6.81</td>\n",
       "      <td>0.77</td>\n",
       "      <td>NaN</td>\n",
       "      <td>NaN</td>\n",
       "      <td>unknown</td>\n",
       "      <td>40.24</td>\n",
       "    </tr>\n",
       "    <tr>\n",
       "      <th>2</th>\n",
       "      <td>Mario Kart Wii</td>\n",
       "      <td>Wii</td>\n",
       "      <td>2008</td>\n",
       "      <td>Racing</td>\n",
       "      <td>15.68</td>\n",
       "      <td>12.76</td>\n",
       "      <td>3.79</td>\n",
       "      <td>3.29</td>\n",
       "      <td>8.2</td>\n",
       "      <td>8.3</td>\n",
       "      <td>E</td>\n",
       "      <td>35.52</td>\n",
       "    </tr>\n",
       "    <tr>\n",
       "      <th>3</th>\n",
       "      <td>Wii Sports Resort</td>\n",
       "      <td>Wii</td>\n",
       "      <td>2009</td>\n",
       "      <td>Sports</td>\n",
       "      <td>15.61</td>\n",
       "      <td>10.93</td>\n",
       "      <td>3.28</td>\n",
       "      <td>2.95</td>\n",
       "      <td>8.0</td>\n",
       "      <td>8.0</td>\n",
       "      <td>E</td>\n",
       "      <td>32.77</td>\n",
       "    </tr>\n",
       "    <tr>\n",
       "      <th>4</th>\n",
       "      <td>Pokemon Red/Pokemon Blue</td>\n",
       "      <td>GB</td>\n",
       "      <td>1996</td>\n",
       "      <td>Role-Playing</td>\n",
       "      <td>11.27</td>\n",
       "      <td>8.89</td>\n",
       "      <td>10.22</td>\n",
       "      <td>1.00</td>\n",
       "      <td>NaN</td>\n",
       "      <td>NaN</td>\n",
       "      <td>unknown</td>\n",
       "      <td>31.38</td>\n",
       "    </tr>\n",
       "    <tr>\n",
       "      <th>5</th>\n",
       "      <td>Tetris</td>\n",
       "      <td>GB</td>\n",
       "      <td>1989</td>\n",
       "      <td>Puzzle</td>\n",
       "      <td>23.20</td>\n",
       "      <td>2.26</td>\n",
       "      <td>4.22</td>\n",
       "      <td>0.58</td>\n",
       "      <td>NaN</td>\n",
       "      <td>NaN</td>\n",
       "      <td>unknown</td>\n",
       "      <td>30.26</td>\n",
       "    </tr>\n",
       "    <tr>\n",
       "      <th>6</th>\n",
       "      <td>New Super Mario Bros.</td>\n",
       "      <td>DS</td>\n",
       "      <td>2006</td>\n",
       "      <td>Platform</td>\n",
       "      <td>11.28</td>\n",
       "      <td>9.14</td>\n",
       "      <td>6.50</td>\n",
       "      <td>2.88</td>\n",
       "      <td>8.9</td>\n",
       "      <td>8.5</td>\n",
       "      <td>E</td>\n",
       "      <td>29.80</td>\n",
       "    </tr>\n",
       "    <tr>\n",
       "      <th>7</th>\n",
       "      <td>Wii Play</td>\n",
       "      <td>Wii</td>\n",
       "      <td>2006</td>\n",
       "      <td>Misc</td>\n",
       "      <td>13.96</td>\n",
       "      <td>9.18</td>\n",
       "      <td>2.93</td>\n",
       "      <td>2.84</td>\n",
       "      <td>5.8</td>\n",
       "      <td>6.6</td>\n",
       "      <td>E</td>\n",
       "      <td>28.91</td>\n",
       "    </tr>\n",
       "    <tr>\n",
       "      <th>8</th>\n",
       "      <td>New Super Mario Bros. Wii</td>\n",
       "      <td>Wii</td>\n",
       "      <td>2009</td>\n",
       "      <td>Platform</td>\n",
       "      <td>14.44</td>\n",
       "      <td>6.94</td>\n",
       "      <td>4.70</td>\n",
       "      <td>2.24</td>\n",
       "      <td>8.7</td>\n",
       "      <td>8.4</td>\n",
       "      <td>E</td>\n",
       "      <td>28.32</td>\n",
       "    </tr>\n",
       "    <tr>\n",
       "      <th>9</th>\n",
       "      <td>Duck Hunt</td>\n",
       "      <td>NES</td>\n",
       "      <td>1984</td>\n",
       "      <td>Shooter</td>\n",
       "      <td>26.93</td>\n",
       "      <td>0.63</td>\n",
       "      <td>0.28</td>\n",
       "      <td>0.47</td>\n",
       "      <td>NaN</td>\n",
       "      <td>NaN</td>\n",
       "      <td>unknown</td>\n",
       "      <td>28.31</td>\n",
       "    </tr>\n",
       "  </tbody>\n",
       "</table>\n",
       "</div>"
      ],
      "text/plain": [
       "                        name platform  year_of_release         genre  \\\n",
       "0                 Wii Sports      Wii             2006        Sports   \n",
       "1          Super Mario Bros.      NES             1985      Platform   \n",
       "2             Mario Kart Wii      Wii             2008        Racing   \n",
       "3          Wii Sports Resort      Wii             2009        Sports   \n",
       "4   Pokemon Red/Pokemon Blue       GB             1996  Role-Playing   \n",
       "5                     Tetris       GB             1989        Puzzle   \n",
       "6      New Super Mario Bros.       DS             2006      Platform   \n",
       "7                   Wii Play      Wii             2006          Misc   \n",
       "8  New Super Mario Bros. Wii      Wii             2009      Platform   \n",
       "9                  Duck Hunt      NES             1984       Shooter   \n",
       "\n",
       "   na_sales  eu_sales  jp_sales  other_sales  critic_score  user_score  \\\n",
       "0     41.36     28.96      3.77         8.45           7.6         8.0   \n",
       "1     29.08      3.58      6.81         0.77           NaN         NaN   \n",
       "2     15.68     12.76      3.79         3.29           8.2         8.3   \n",
       "3     15.61     10.93      3.28         2.95           8.0         8.0   \n",
       "4     11.27      8.89     10.22         1.00           NaN         NaN   \n",
       "5     23.20      2.26      4.22         0.58           NaN         NaN   \n",
       "6     11.28      9.14      6.50         2.88           8.9         8.5   \n",
       "7     13.96      9.18      2.93         2.84           5.8         6.6   \n",
       "8     14.44      6.94      4.70         2.24           8.7         8.4   \n",
       "9     26.93      0.63      0.28         0.47           NaN         NaN   \n",
       "\n",
       "    rating  total_sales  \n",
       "0        E        82.54  \n",
       "1  unknown        40.24  \n",
       "2        E        35.52  \n",
       "3        E        32.77  \n",
       "4  unknown        31.38  \n",
       "5  unknown        30.26  \n",
       "6        E        29.80  \n",
       "7        E        28.91  \n",
       "8        E        28.32  \n",
       "9  unknown        28.31  "
      ]
     },
     "execution_count": 16,
     "metadata": {},
     "output_type": "execute_result"
    }
   ],
   "source": [
    "games.head(10) #посмотрим 10 строк таблицы после всех преобразований "
   ]
  },
  {
   "cell_type": "markdown",
   "metadata": {},
   "source": [
    "#### Вывод:\n",
    "1. Название столбцов приведены к праильному виду.\n",
    "2. В столбцах Year_of_Release и Rating заполнены  пропущенные значения. \n",
    "3. Изменены типы данных в столбцах user_score и year_of_release.\n",
    "\n",
    "Данные готовы к дальнейшему анализу. "
   ]
  },
  {
   "cell_type": "markdown",
   "metadata": {},
   "source": [
    "### Исследовательский анализ данных"
   ]
  },
  {
   "cell_type": "markdown",
   "metadata": {},
   "source": [
    "3.1 Посмотрите, сколько игр выпускалось в разные годы. Важны ли данные за все периоды?"
   ]
  },
  {
   "cell_type": "code",
   "execution_count": 17,
   "metadata": {},
   "outputs": [
    {
     "data": {
      "text/plain": [
       "<AxesSubplot:xlabel='year_of_release'>"
      ]
     },
     "execution_count": 17,
     "metadata": {},
     "output_type": "execute_result"
    },
    {
     "data": {
      "image/png": "[encoded data removed]",
      "text/plain": [
       "<Figure size 432x288 with 1 Axes>"
      ]
     },
     "metadata": {
      "needs_background": "light"
     },
     "output_type": "display_data"
    }
   ],
   "source": [
    "games.groupby('year_of_release').agg({'year_of_release': 'count'}).plot()"
   ]
  },
  {
   "cell_type": "markdown",
   "metadata": {},
   "source": [
    "Вывод: по графику можно сделать вывод, что длинный хвост из 80-х и 90-х годов неважен для анализа 2016 года и его можно не учитывать в анализе. "
   ]
  },
  {
   "cell_type": "markdown",
   "metadata": {},
   "source": [
    "3.2 Посмотрите, как менялись продажи по платформам. Выберите платформы с наибольшими суммарными продажами и постройте распределение по годам. За какой характерный срок появляются новые и исчезают старые платформы"
   ]
  },
  {
   "cell_type": "code",
   "execution_count": 18,
   "metadata": {},
   "outputs": [
    {
     "data": {
      "image/png": "[encoded data removed]",
      "text/plain": [
       "<Figure size 1080x360 with 1 Axes>"
      ]
     },
     "metadata": {
      "needs_background": "light"
     },
     "output_type": "display_data"
    }
   ],
   "source": [
    "top_10 = games.groupby('platform').agg({'total_sales': 'sum'}).sort_values(by = 'total_sales').tail(10).index\n",
    "games.query('platform in @top_10').pivot_table(index = 'year_of_release', columns = 'platform',\n",
    "                                              values = 'total_sales', aggfunc = 'sum').plot(figsize = (15, 5));"
   ]
  },
  {
   "cell_type": "code",
   "execution_count": 19,
   "metadata": {},
   "outputs": [
    {
     "data": {
      "text/plain": [
       "year_of_release    3.043478\n",
       "dtype: float64"
      ]
     },
     "execution_count": 19,
     "metadata": {},
     "output_type": "execute_result"
    }
   ],
   "source": [
    "#минимальные значимые продажи в миллионах \n",
    "min_sales = 10\n",
    "#суммарные продажи в год выше порога \n",
    "report = games.groupby(['platform', 'year_of_release']).agg({'total_sales': 'sum'}).query('total_sales > @min_sales')\n",
    "# среднее число лет выше порога продаж, деленное на 2 (потому что половину жизни платформа падает)\n",
    "report.reset_index().groupby('platform').agg({'year_of_release': 'nunique'}).mean() / 2"
   ]
  },
  {
   "cell_type": "markdown",
   "metadata": {},
   "source": [
    "3.3. Возьмите данные за соответствующий актуальный период. Актуальный период определите самостоятельно в результате исследования предыдущих вопросов. Основной фактор — эти данные помогут построить прогноз на 2017 год.\n"
   ]
  },
  {
   "cell_type": "code",
   "execution_count": 20,
   "metadata": {},
   "outputs": [
    {
     "data": {
      "text/html": [
       "<div>\n",
       "<style scoped>\n",
       "    .dataframe tbody tr th:only-of-type {\n",
       "        vertical-align: middle;\n",
       "    }\n",
       "\n",
       "    .dataframe tbody tr th {\n",
       "        vertical-align: top;\n",
       "    }\n",
       "\n",
       "    .dataframe thead th {\n",
       "        text-align: right;\n",
       "    }\n",
       "</style>\n",
       "<table border=\"1\" class=\"dataframe\">\n",
       "  <thead>\n",
       "    <tr style=\"text-align: right;\">\n",
       "      <th></th>\n",
       "      <th>name</th>\n",
       "      <th>platform</th>\n",
       "      <th>year_of_release</th>\n",
       "      <th>genre</th>\n",
       "      <th>na_sales</th>\n",
       "      <th>eu_sales</th>\n",
       "      <th>jp_sales</th>\n",
       "      <th>other_sales</th>\n",
       "      <th>critic_score</th>\n",
       "      <th>user_score</th>\n",
       "      <th>rating</th>\n",
       "      <th>total_sales</th>\n",
       "    </tr>\n",
       "  </thead>\n",
       "  <tbody>\n",
       "    <tr>\n",
       "      <th>31</th>\n",
       "      <td>Call of Duty: Black Ops 3</td>\n",
       "      <td>PS4</td>\n",
       "      <td>2015</td>\n",
       "      <td>Shooter</td>\n",
       "      <td>6.03</td>\n",
       "      <td>5.86</td>\n",
       "      <td>0.36</td>\n",
       "      <td>2.38</td>\n",
       "      <td>NaN</td>\n",
       "      <td>NaN</td>\n",
       "      <td>unknown</td>\n",
       "      <td>14.63</td>\n",
       "    </tr>\n",
       "    <tr>\n",
       "      <th>42</th>\n",
       "      <td>Grand Theft Auto V</td>\n",
       "      <td>PS4</td>\n",
       "      <td>2014</td>\n",
       "      <td>Action</td>\n",
       "      <td>3.96</td>\n",
       "      <td>6.31</td>\n",
       "      <td>0.38</td>\n",
       "      <td>1.97</td>\n",
       "      <td>9.7</td>\n",
       "      <td>8.3</td>\n",
       "      <td>M</td>\n",
       "      <td>12.62</td>\n",
       "    </tr>\n",
       "    <tr>\n",
       "      <th>47</th>\n",
       "      <td>Pokemon Omega Ruby/Pokemon Alpha Sapphire</td>\n",
       "      <td>3DS</td>\n",
       "      <td>2014</td>\n",
       "      <td>Role-Playing</td>\n",
       "      <td>4.35</td>\n",
       "      <td>3.49</td>\n",
       "      <td>3.10</td>\n",
       "      <td>0.74</td>\n",
       "      <td>NaN</td>\n",
       "      <td>NaN</td>\n",
       "      <td>unknown</td>\n",
       "      <td>11.68</td>\n",
       "    </tr>\n",
       "    <tr>\n",
       "      <th>77</th>\n",
       "      <td>FIFA 16</td>\n",
       "      <td>PS4</td>\n",
       "      <td>2015</td>\n",
       "      <td>Sports</td>\n",
       "      <td>1.12</td>\n",
       "      <td>6.12</td>\n",
       "      <td>0.06</td>\n",
       "      <td>1.28</td>\n",
       "      <td>8.2</td>\n",
       "      <td>4.3</td>\n",
       "      <td>E</td>\n",
       "      <td>8.58</td>\n",
       "    </tr>\n",
       "    <tr>\n",
       "      <th>87</th>\n",
       "      <td>Star Wars Battlefront (2015)</td>\n",
       "      <td>PS4</td>\n",
       "      <td>2015</td>\n",
       "      <td>Shooter</td>\n",
       "      <td>2.99</td>\n",
       "      <td>3.49</td>\n",
       "      <td>0.22</td>\n",
       "      <td>1.28</td>\n",
       "      <td>NaN</td>\n",
       "      <td>NaN</td>\n",
       "      <td>unknown</td>\n",
       "      <td>7.98</td>\n",
       "    </tr>\n",
       "    <tr>\n",
       "      <th>...</th>\n",
       "      <td>...</td>\n",
       "      <td>...</td>\n",
       "      <td>...</td>\n",
       "      <td>...</td>\n",
       "      <td>...</td>\n",
       "      <td>...</td>\n",
       "      <td>...</td>\n",
       "      <td>...</td>\n",
       "      <td>...</td>\n",
       "      <td>...</td>\n",
       "      <td>...</td>\n",
       "      <td>...</td>\n",
       "    </tr>\n",
       "    <tr>\n",
       "      <th>16703</th>\n",
       "      <td>Strawberry Nauts</td>\n",
       "      <td>PSV</td>\n",
       "      <td>2016</td>\n",
       "      <td>Adventure</td>\n",
       "      <td>0.00</td>\n",
       "      <td>0.00</td>\n",
       "      <td>0.01</td>\n",
       "      <td>0.00</td>\n",
       "      <td>NaN</td>\n",
       "      <td>NaN</td>\n",
       "      <td>unknown</td>\n",
       "      <td>0.01</td>\n",
       "    </tr>\n",
       "    <tr>\n",
       "      <th>16707</th>\n",
       "      <td>Aiyoku no Eustia</td>\n",
       "      <td>PSV</td>\n",
       "      <td>2014</td>\n",
       "      <td>Misc</td>\n",
       "      <td>0.00</td>\n",
       "      <td>0.00</td>\n",
       "      <td>0.01</td>\n",
       "      <td>0.00</td>\n",
       "      <td>NaN</td>\n",
       "      <td>NaN</td>\n",
       "      <td>unknown</td>\n",
       "      <td>0.01</td>\n",
       "    </tr>\n",
       "    <tr>\n",
       "      <th>16710</th>\n",
       "      <td>Samurai Warriors: Sanada Maru</td>\n",
       "      <td>PS3</td>\n",
       "      <td>2016</td>\n",
       "      <td>Action</td>\n",
       "      <td>0.00</td>\n",
       "      <td>0.00</td>\n",
       "      <td>0.01</td>\n",
       "      <td>0.00</td>\n",
       "      <td>NaN</td>\n",
       "      <td>NaN</td>\n",
       "      <td>unknown</td>\n",
       "      <td>0.01</td>\n",
       "    </tr>\n",
       "    <tr>\n",
       "      <th>16712</th>\n",
       "      <td>Haitaka no Psychedelica</td>\n",
       "      <td>PSV</td>\n",
       "      <td>2016</td>\n",
       "      <td>Adventure</td>\n",
       "      <td>0.00</td>\n",
       "      <td>0.00</td>\n",
       "      <td>0.01</td>\n",
       "      <td>0.00</td>\n",
       "      <td>NaN</td>\n",
       "      <td>NaN</td>\n",
       "      <td>unknown</td>\n",
       "      <td>0.01</td>\n",
       "    </tr>\n",
       "    <tr>\n",
       "      <th>16714</th>\n",
       "      <td>Winning Post 8 2016</td>\n",
       "      <td>PSV</td>\n",
       "      <td>2016</td>\n",
       "      <td>Simulation</td>\n",
       "      <td>0.00</td>\n",
       "      <td>0.00</td>\n",
       "      <td>0.01</td>\n",
       "      <td>0.00</td>\n",
       "      <td>NaN</td>\n",
       "      <td>NaN</td>\n",
       "      <td>unknown</td>\n",
       "      <td>0.01</td>\n",
       "    </tr>\n",
       "  </tbody>\n",
       "</table>\n",
       "<p>1689 rows × 12 columns</p>\n",
       "</div>"
      ],
      "text/plain": [
       "                                            name platform  year_of_release  \\\n",
       "31                     Call of Duty: Black Ops 3      PS4             2015   \n",
       "42                            Grand Theft Auto V      PS4             2014   \n",
       "47     Pokemon Omega Ruby/Pokemon Alpha Sapphire      3DS             2014   \n",
       "77                                       FIFA 16      PS4             2015   \n",
       "87                  Star Wars Battlefront (2015)      PS4             2015   \n",
       "...                                          ...      ...              ...   \n",
       "16703                           Strawberry Nauts      PSV             2016   \n",
       "16707                           Aiyoku no Eustia      PSV             2014   \n",
       "16710              Samurai Warriors: Sanada Maru      PS3             2016   \n",
       "16712                    Haitaka no Psychedelica      PSV             2016   \n",
       "16714                        Winning Post 8 2016      PSV             2016   \n",
       "\n",
       "              genre  na_sales  eu_sales  jp_sales  other_sales  critic_score  \\\n",
       "31          Shooter      6.03      5.86      0.36         2.38           NaN   \n",
       "42           Action      3.96      6.31      0.38         1.97           9.7   \n",
       "47     Role-Playing      4.35      3.49      3.10         0.74           NaN   \n",
       "77           Sports      1.12      6.12      0.06         1.28           8.2   \n",
       "87          Shooter      2.99      3.49      0.22         1.28           NaN   \n",
       "...             ...       ...       ...       ...          ...           ...   \n",
       "16703     Adventure      0.00      0.00      0.01         0.00           NaN   \n",
       "16707          Misc      0.00      0.00      0.01         0.00           NaN   \n",
       "16710        Action      0.00      0.00      0.01         0.00           NaN   \n",
       "16712     Adventure      0.00      0.00      0.01         0.00           NaN   \n",
       "16714    Simulation      0.00      0.00      0.01         0.00           NaN   \n",
       "\n",
       "       user_score   rating  total_sales  \n",
       "31            NaN  unknown        14.63  \n",
       "42            8.3        M        12.62  \n",
       "47            NaN  unknown        11.68  \n",
       "77            4.3        E         8.58  \n",
       "87            NaN  unknown         7.98  \n",
       "...           ...      ...          ...  \n",
       "16703         NaN  unknown         0.01  \n",
       "16707         NaN  unknown         0.01  \n",
       "16710         NaN  unknown         0.01  \n",
       "16712         NaN  unknown         0.01  \n",
       "16714         NaN  unknown         0.01  \n",
       "\n",
       "[1689 rows x 12 columns]"
      ]
     },
     "execution_count": 20,
     "metadata": {},
     "output_type": "execute_result"
    }
   ],
   "source": [
    "# в результате исследования предыдущих вопросов делаем вывод, что актуальные период = 3 года. Отфильтруем данные. \n",
    "new_games = games.query('year_of_release >= 2014')\n",
    "new_games"
   ]
  },
  {
   "cell_type": "markdown",
   "metadata": {},
   "source": [
    "3.4 Какие платформы лидируют по продажам, растут или падают? Выберите несколько потенциально прибыльных платформ."
   ]
  },
  {
   "cell_type": "code",
   "execution_count": 21,
   "metadata": {},
   "outputs": [
    {
     "data": {
      "image/png": "[encoded data removed]",
      "text/plain": [
       "<Figure size 1080x360 with 1 Axes>"
      ]
     },
     "metadata": {
      "needs_background": "light"
     },
     "output_type": "display_data"
    }
   ],
   "source": [
    "# выберем 5 лидирующие платформы в актуальном периоде \n",
    "top_5 = new_games.groupby('platform').agg({'total_sales': 'sum'}).sort_values(by = 'total_sales').tail(5).index\n",
    "new_games.query('platform in @top_5').pivot_table(index = 'year_of_release', columns = 'platform',\n",
    "                                              values = 'total_sales', aggfunc = 'sum').plot(figsize = (15, 5));"
   ]
  },
  {
   "cell_type": "markdown",
   "metadata": {},
   "source": [
    "Вывод: можно сделать вывод, что самое перспективной платформой является PS4. "
   ]
  },
  {
   "cell_type": "markdown",
   "metadata": {},
   "source": [
    "3.5 Постройте график «ящик с усами» по глобальным продажам игр в разбивке по платформам. Опишите результат."
   ]
  },
  {
   "cell_type": "code",
   "execution_count": 22,
   "metadata": {
    "scrolled": true
   },
   "outputs": [
    {
     "data": {
      "text/plain": [
       "(0.0, 10.0)"
      ]
     },
     "execution_count": 22,
     "metadata": {},
     "output_type": "execute_result"
    },
    {
     "data": {
      "image/png": "[encoded data removed]",
      "text/plain": [
       "<Figure size 432x288 with 1 Axes>"
      ]
     },
     "metadata": {
      "needs_background": "light"
     },
     "output_type": "display_data"
    }
   ],
   "source": [
    "new_games.boxplot('total_sales', by = 'platform')\n",
    "plt.ylim(0, 10)\n",
    "                                            "
   ]
  },
  {
   "cell_type": "code",
   "execution_count": 23,
   "metadata": {},
   "outputs": [
    {
     "data": {
      "text/plain": [
       "(0.0, 1.6)"
      ]
     },
     "execution_count": 23,
     "metadata": {},
     "output_type": "execute_result"
    },
    {
     "data": {
      "image/png": "[encoded data removed]",
      "text/plain": [
       "<Figure size 432x288 with 1 Axes>"
      ]
     },
     "metadata": {
      "needs_background": "light"
     },
     "output_type": "display_data"
    }
   ],
   "source": [
    "new_games.boxplot('total_sales', by = 'platform')\n",
    "plt.ylim(0, 1.6)"
   ]
  },
  {
   "cell_type": "markdown",
   "metadata": {},
   "source": [
    "Вывод: по графику можно заметить, что наиболее популярные платформы это PS4, XOne. Такое же распределение мы видели на графике.  "
   ]
  },
  {
   "cell_type": "markdown",
   "metadata": {},
   "source": [
    "3.6 Посмотрите, как влияют на продажи внутри одной популярной платформы отзывы пользователей и критиков. Постройте диаграмму рассеяния и посчитайте корреляцию между отзывами и продажами. Сформулируйте выводы. Соотнесите выводы с продажами игр на других платформах."
   ]
  },
  {
   "cell_type": "markdown",
   "metadata": {},
   "source": [
    "Возьмем две наиболее популярные платформы PS4 и XOne, построим для них диаграммы рассеяния и посчитаем корреляцию между отзывами и продажами.  "
   ]
  },
  {
   "cell_type": "code",
   "execution_count": 24,
   "metadata": {},
   "outputs": [
    {
     "name": "stdout",
     "output_type": "stream",
     "text": [
      "0.4026614106810408\n",
      "-0.04013158973738033\n"
     ]
    },
    {
     "data": {
      "image/png": "[encoded data removed]",
      "text/plain": [
       "<Figure size 432x288 with 1 Axes>"
      ]
     },
     "metadata": {
      "needs_background": "light"
     },
     "output_type": "display_data"
    },
    {
     "data": {
      "image/png": "[encoded data removed]",
      "text/plain": [
       "<Figure size 432x288 with 1 Axes>"
      ]
     },
     "metadata": {
      "needs_background": "light"
     },
     "output_type": "display_data"
    }
   ],
   "source": [
    "#возьмем популярную платформу PS4 и посмотрим как влияют на продажи отзывы пользователей и критиков\n",
    "print(new_games.query('platform == \"PS4\"')['total_sales'].corr(new_games.query('platform == \"PS4\"')['critic_score']))\n",
    "new_games.query('platform == \"PS4\"').plot(x = 'total_sales', y = 'critic_score', kind = 'scatter');\n",
    "print(new_games.query('platform == \"PS4\"')['total_sales'].corr(new_games.query('platform == \"PS4\"')['user_score']))\n",
    "new_games.query('platform == \"PS4\"').plot(x = 'total_sales', y = 'user_score', kind = 'scatter');"
   ]
  },
  {
   "cell_type": "code",
   "execution_count": 25,
   "metadata": {},
   "outputs": [
    {
     "name": "stdout",
     "output_type": "stream",
     "text": [
      "0.42867694370333204\n",
      "-0.07038393161528515\n"
     ]
    },
    {
     "data": {
      "image/png": "[encoded data removed]",
      "text/plain": [
       "<Figure size 432x288 with 1 Axes>"
      ]
     },
     "metadata": {
      "needs_background": "light"
     },
     "output_type": "display_data"
    },
    {
     "data": {
      "image/png": "[encoded data removed]",
      "text/plain": [
       "<Figure size 432x288 with 1 Axes>"
      ]
     },
     "metadata": {
      "needs_background": "light"
     },
     "output_type": "display_data"
    }
   ],
   "source": [
    "#платформа XOne \n",
    "print(new_games.query('platform == \"XOne\"')['total_sales'].corr(new_games.query('platform == \"XOne\"')['critic_score']))\n",
    "new_games.query('platform == \"XOne\"').plot(x = 'total_sales', y = 'critic_score', kind = 'scatter');\n",
    "print(new_games.query('platform == \"XOne\"')['total_sales'].corr(new_games.query('platform == \"XOne\"')['user_score']))\n",
    "new_games.query('platform == \"XOne\"').plot(x = 'total_sales', y = 'user_score', kind = 'scatter');"
   ]
  },
  {
   "cell_type": "markdown",
   "metadata": {},
   "source": [
    "Вывод: Исходя из графиков и значений коэффициентов корреляции можно сделать вывод, что по обеим платформам (PS4 и XOne) - корреляция между продажами и отзывами критиков - средняя положительная. То есть можно заметить рост продаж у игр с высокими оценками критиков. \n",
    "\n",
    "Корреляция между отзывами пользователей и продажами не выявлена. "
   ]
  },
  {
   "cell_type": "markdown",
   "metadata": {},
   "source": [
    "3.7 Посмотрите на общее распределение игр по жанрам. Что можно сказать о самых прибыльных жанрах? Выделяются ли жанры с высокими и низкими продажами?"
   ]
  },
  {
   "cell_type": "code",
   "execution_count": 26,
   "metadata": {},
   "outputs": [
    {
     "data": {
      "text/html": [
       "<div>\n",
       "<style scoped>\n",
       "    .dataframe tbody tr th:only-of-type {\n",
       "        vertical-align: middle;\n",
       "    }\n",
       "\n",
       "    .dataframe tbody tr th {\n",
       "        vertical-align: top;\n",
       "    }\n",
       "\n",
       "    .dataframe thead th {\n",
       "        text-align: right;\n",
       "    }\n",
       "</style>\n",
       "<table border=\"1\" class=\"dataframe\">\n",
       "  <thead>\n",
       "    <tr style=\"text-align: right;\">\n",
       "      <th></th>\n",
       "      <th>name</th>\n",
       "      <th>total_sales</th>\n",
       "    </tr>\n",
       "    <tr>\n",
       "      <th>genre</th>\n",
       "      <th></th>\n",
       "      <th></th>\n",
       "    </tr>\n",
       "  </thead>\n",
       "  <tbody>\n",
       "    <tr>\n",
       "      <th>Action</th>\n",
       "      <td>619</td>\n",
       "      <td>0.090</td>\n",
       "    </tr>\n",
       "    <tr>\n",
       "      <th>Role-Playing</th>\n",
       "      <td>221</td>\n",
       "      <td>0.110</td>\n",
       "    </tr>\n",
       "    <tr>\n",
       "      <th>Adventure</th>\n",
       "      <td>185</td>\n",
       "      <td>0.030</td>\n",
       "    </tr>\n",
       "    <tr>\n",
       "      <th>Sports</th>\n",
       "      <td>161</td>\n",
       "      <td>0.180</td>\n",
       "    </tr>\n",
       "    <tr>\n",
       "      <th>Shooter</th>\n",
       "      <td>128</td>\n",
       "      <td>0.515</td>\n",
       "    </tr>\n",
       "    <tr>\n",
       "      <th>Misc</th>\n",
       "      <td>113</td>\n",
       "      <td>0.090</td>\n",
       "    </tr>\n",
       "    <tr>\n",
       "      <th>Racing</th>\n",
       "      <td>69</td>\n",
       "      <td>0.090</td>\n",
       "    </tr>\n",
       "    <tr>\n",
       "      <th>Fighting</th>\n",
       "      <td>60</td>\n",
       "      <td>0.125</td>\n",
       "    </tr>\n",
       "    <tr>\n",
       "      <th>Simulation</th>\n",
       "      <td>44</td>\n",
       "      <td>0.100</td>\n",
       "    </tr>\n",
       "    <tr>\n",
       "      <th>Platform</th>\n",
       "      <td>38</td>\n",
       "      <td>0.140</td>\n",
       "    </tr>\n",
       "    <tr>\n",
       "      <th>Strategy</th>\n",
       "      <td>37</td>\n",
       "      <td>0.060</td>\n",
       "    </tr>\n",
       "    <tr>\n",
       "      <th>Puzzle</th>\n",
       "      <td>14</td>\n",
       "      <td>0.045</td>\n",
       "    </tr>\n",
       "  </tbody>\n",
       "</table>\n",
       "</div>"
      ],
      "text/plain": [
       "              name  total_sales\n",
       "genre                          \n",
       "Action         619        0.090\n",
       "Role-Playing   221        0.110\n",
       "Adventure      185        0.030\n",
       "Sports         161        0.180\n",
       "Shooter        128        0.515\n",
       "Misc           113        0.090\n",
       "Racing          69        0.090\n",
       "Fighting        60        0.125\n",
       "Simulation      44        0.100\n",
       "Platform        38        0.140\n",
       "Strategy        37        0.060\n",
       "Puzzle          14        0.045"
      ]
     },
     "execution_count": 26,
     "metadata": {},
     "output_type": "execute_result"
    }
   ],
   "source": [
    "new_games.groupby('genre').agg({'name': 'count', 'total_sales': 'median'}).sort_values(by='name', ascending=False)"
   ]
  },
  {
   "cell_type": "markdown",
   "metadata": {},
   "source": [
    "Вывод: Жанры с высокими продажами - Shooter, Sports, Fighting, Platform, Role-Playing.  Неожидано низкое значение медианы, хотя игр в таком жанре большое кол-во - Action и Adventure. "
   ]
  },
  {
   "cell_type": "markdown",
   "metadata": {},
   "source": [
    "### Портрет пользователя каждого региона"
   ]
  },
  {
   "cell_type": "code",
   "execution_count": 27,
   "metadata": {},
   "outputs": [
    {
     "data": {
      "text/html": [
       "<div>\n",
       "<style scoped>\n",
       "    .dataframe tbody tr th:only-of-type {\n",
       "        vertical-align: middle;\n",
       "    }\n",
       "\n",
       "    .dataframe tbody tr th {\n",
       "        vertical-align: top;\n",
       "    }\n",
       "\n",
       "    .dataframe thead th {\n",
       "        text-align: right;\n",
       "    }\n",
       "</style>\n",
       "<table border=\"1\" class=\"dataframe\">\n",
       "  <thead>\n",
       "    <tr style=\"text-align: right;\">\n",
       "      <th></th>\n",
       "      <th>name</th>\n",
       "      <th>na_sales</th>\n",
       "      <th>eu_sales</th>\n",
       "      <th>jp_sales</th>\n",
       "      <th>total_sales</th>\n",
       "    </tr>\n",
       "    <tr>\n",
       "      <th>platform</th>\n",
       "      <th></th>\n",
       "      <th></th>\n",
       "      <th></th>\n",
       "      <th></th>\n",
       "      <th></th>\n",
       "    </tr>\n",
       "  </thead>\n",
       "  <tbody>\n",
       "    <tr>\n",
       "      <th>PS4</th>\n",
       "      <td>376</td>\n",
       "      <td>98.61</td>\n",
       "      <td>130.04</td>\n",
       "      <td>15.02</td>\n",
       "      <td>288.15</td>\n",
       "    </tr>\n",
       "    <tr>\n",
       "      <th>PSV</th>\n",
       "      <td>295</td>\n",
       "      <td>2.52</td>\n",
       "      <td>3.53</td>\n",
       "      <td>14.54</td>\n",
       "      <td>22.40</td>\n",
       "    </tr>\n",
       "    <tr>\n",
       "      <th>XOne</th>\n",
       "      <td>228</td>\n",
       "      <td>81.27</td>\n",
       "      <td>46.25</td>\n",
       "      <td>0.32</td>\n",
       "      <td>140.36</td>\n",
       "    </tr>\n",
       "    <tr>\n",
       "      <th>PS3</th>\n",
       "      <td>219</td>\n",
       "      <td>22.05</td>\n",
       "      <td>25.54</td>\n",
       "      <td>11.22</td>\n",
       "      <td>68.18</td>\n",
       "    </tr>\n",
       "    <tr>\n",
       "      <th>3DS</th>\n",
       "      <td>212</td>\n",
       "      <td>22.64</td>\n",
       "      <td>16.12</td>\n",
       "      <td>44.24</td>\n",
       "      <td>86.68</td>\n",
       "    </tr>\n",
       "    <tr>\n",
       "      <th>PC</th>\n",
       "      <td>151</td>\n",
       "      <td>7.23</td>\n",
       "      <td>17.97</td>\n",
       "      <td>0.00</td>\n",
       "      <td>27.05</td>\n",
       "    </tr>\n",
       "    <tr>\n",
       "      <th>X360</th>\n",
       "      <td>111</td>\n",
       "      <td>28.30</td>\n",
       "      <td>15.49</td>\n",
       "      <td>0.08</td>\n",
       "      <td>48.22</td>\n",
       "    </tr>\n",
       "    <tr>\n",
       "      <th>WiiU</th>\n",
       "      <td>73</td>\n",
       "      <td>19.36</td>\n",
       "      <td>13.15</td>\n",
       "      <td>7.31</td>\n",
       "      <td>42.98</td>\n",
       "    </tr>\n",
       "    <tr>\n",
       "      <th>PSP</th>\n",
       "      <td>13</td>\n",
       "      <td>0.00</td>\n",
       "      <td>0.00</td>\n",
       "      <td>0.36</td>\n",
       "      <td>0.36</td>\n",
       "    </tr>\n",
       "    <tr>\n",
       "      <th>Wii</th>\n",
       "      <td>11</td>\n",
       "      <td>2.08</td>\n",
       "      <td>2.59</td>\n",
       "      <td>0.00</td>\n",
       "      <td>5.07</td>\n",
       "    </tr>\n",
       "  </tbody>\n",
       "</table>\n",
       "</div>"
      ],
      "text/plain": [
       "          name  na_sales  eu_sales  jp_sales  total_sales\n",
       "platform                                                 \n",
       "PS4        376     98.61    130.04     15.02       288.15\n",
       "PSV        295      2.52      3.53     14.54        22.40\n",
       "XOne       228     81.27     46.25      0.32       140.36\n",
       "PS3        219     22.05     25.54     11.22        68.18\n",
       "3DS        212     22.64     16.12     44.24        86.68\n",
       "PC         151      7.23     17.97      0.00        27.05\n",
       "X360       111     28.30     15.49      0.08        48.22\n",
       "WiiU        73     19.36     13.15      7.31        42.98\n",
       "PSP         13      0.00      0.00      0.36         0.36\n",
       "Wii         11      2.08      2.59      0.00         5.07"
      ]
     },
     "execution_count": 27,
     "metadata": {},
     "output_type": "execute_result"
    }
   ],
   "source": [
    "# таблица с продажами игр на каждой платформе в каждом регионе\n",
    "new_games.groupby('platform').agg({'name': 'count', \n",
    "                                   'na_sales': 'sum', \n",
    "                                   'eu_sales': 'sum', \n",
    "                                   'jp_sales': 'sum', \n",
    "                                   'total_sales': 'sum'}).sort_values(by='name', ascending=False)"
   ]
  },
  {
   "cell_type": "markdown",
   "metadata": {},
   "source": [
    "Вывод: \n",
    "1. ТОП5 платформ Северной Америки - PS4, XOne, 3DS, PS3, X360.\n",
    "2. ТОП5 платформ Европы - PS4, XOne, PS3, PC, 3DS. \n",
    "3. ТОП5 платформ Японии - 3DS, PS4, PSV, PS3, WiiU. "
   ]
  },
  {
   "cell_type": "markdown",
   "metadata": {},
   "source": [
    "Ниже для каждого региона посчитаны доли продаж на самых популярных платформах."
   ]
  },
  {
   "cell_type": "code",
   "execution_count": 28,
   "metadata": {},
   "outputs": [
    {
     "data": {
      "text/html": [
       "<div>\n",
       "<style scoped>\n",
       "    .dataframe tbody tr th:only-of-type {\n",
       "        vertical-align: middle;\n",
       "    }\n",
       "\n",
       "    .dataframe tbody tr th {\n",
       "        vertical-align: top;\n",
       "    }\n",
       "\n",
       "    .dataframe thead th {\n",
       "        text-align: right;\n",
       "    }\n",
       "</style>\n",
       "<table border=\"1\" class=\"dataframe\">\n",
       "  <thead>\n",
       "    <tr style=\"text-align: right;\">\n",
       "      <th></th>\n",
       "      <th>sum</th>\n",
       "      <th>top_sum</th>\n",
       "      <th>%</th>\n",
       "      <th>100%</th>\n",
       "    </tr>\n",
       "    <tr>\n",
       "      <th>platform</th>\n",
       "      <th></th>\n",
       "      <th></th>\n",
       "      <th></th>\n",
       "      <th></th>\n",
       "    </tr>\n",
       "  </thead>\n",
       "  <tbody>\n",
       "    <tr>\n",
       "      <th>PS4</th>\n",
       "      <td>98.61</td>\n",
       "      <td>252.87</td>\n",
       "      <td>38.996322</td>\n",
       "      <td>100.0</td>\n",
       "    </tr>\n",
       "    <tr>\n",
       "      <th>XOne</th>\n",
       "      <td>81.27</td>\n",
       "      <td>252.87</td>\n",
       "      <td>32.139044</td>\n",
       "      <td>100.0</td>\n",
       "    </tr>\n",
       "    <tr>\n",
       "      <th>X360</th>\n",
       "      <td>28.30</td>\n",
       "      <td>252.87</td>\n",
       "      <td>11.191521</td>\n",
       "      <td>100.0</td>\n",
       "    </tr>\n",
       "    <tr>\n",
       "      <th>3DS</th>\n",
       "      <td>22.64</td>\n",
       "      <td>252.87</td>\n",
       "      <td>8.953217</td>\n",
       "      <td>100.0</td>\n",
       "    </tr>\n",
       "    <tr>\n",
       "      <th>PS3</th>\n",
       "      <td>22.05</td>\n",
       "      <td>252.87</td>\n",
       "      <td>8.719896</td>\n",
       "      <td>100.0</td>\n",
       "    </tr>\n",
       "  </tbody>\n",
       "</table>\n",
       "</div>"
      ],
      "text/plain": [
       "            sum  top_sum          %   100%\n",
       "platform                                  \n",
       "PS4       98.61   252.87  38.996322  100.0\n",
       "XOne      81.27   252.87  32.139044  100.0\n",
       "X360      28.30   252.87  11.191521  100.0\n",
       "3DS       22.64   252.87   8.953217  100.0\n",
       "PS3       22.05   252.87   8.719896  100.0"
      ]
     },
     "execution_count": 28,
     "metadata": {},
     "output_type": "execute_result"
    }
   ],
   "source": [
    "#строим сводную таблицу методом .pivot_table(), с группировкой по платформам в рамках региона Северная Америка,\n",
    "#применяем функцию aggfunc() к значениям: сумма продаж выпускаемых игр в одном регионе \n",
    "report_games_na = new_games.pivot_table(index = 'platform', values = 'na_sales', aggfunc ={'sum'})\n",
    "report_games_na.sort_values(by = 'sum', ascending = False).head(5)\n",
    " \n",
    "#срез для пяти топ-платформ в Северной Америке\n",
    "top_na_sales = report_games_na.query('platform in [\"X360\", \"PS4\",\"PS3\",\"XOne\", \"3DS\"]')\n",
    " \n",
    "#доля продаж для каждой из топ-пяти платформ в регионе Северная Америка\n",
    "top_na_sales['top_sum'] = top_na_sales['sum'].sum()#общая сумма продаж пяти самых популярных платформ в Северной Америке\n",
    "top_na_sales['%'] = (top_na_sales['sum']/top_na_sales['top_sum'] * 100)\n",
    "top_na_sales['100%'] = top_na_sales['%'].sum()\n",
    "top_na_sales.sort_values(by = '%', ascending = False)"
   ]
  },
  {
   "cell_type": "code",
   "execution_count": 29,
   "metadata": {},
   "outputs": [
    {
     "data": {
      "image/png": "[encoded data removed]",
      "text/plain": [
       "<Figure size 432x288 with 1 Axes>"
      ]
     },
     "metadata": {},
     "output_type": "display_data"
    }
   ],
   "source": [
    "labels = top_na_sales.index\n",
    "sizes = top_na_sales['sum']\n",
    "\n",
    "fig1, ax1 = plt.subplots()\n",
    "ax1.pie(sizes, labels=labels)\n",
    "ax1.axis('equal')  \n",
    "plt.show()"
   ]
  },
  {
   "cell_type": "code",
   "execution_count": 30,
   "metadata": {},
   "outputs": [
    {
     "data": {
      "text/html": [
       "<div>\n",
       "<style scoped>\n",
       "    .dataframe tbody tr th:only-of-type {\n",
       "        vertical-align: middle;\n",
       "    }\n",
       "\n",
       "    .dataframe tbody tr th {\n",
       "        vertical-align: top;\n",
       "    }\n",
       "\n",
       "    .dataframe thead th {\n",
       "        text-align: right;\n",
       "    }\n",
       "</style>\n",
       "<table border=\"1\" class=\"dataframe\">\n",
       "  <thead>\n",
       "    <tr style=\"text-align: right;\">\n",
       "      <th></th>\n",
       "      <th>sum</th>\n",
       "      <th>top_sum</th>\n",
       "      <th>%</th>\n",
       "      <th>100%</th>\n",
       "    </tr>\n",
       "    <tr>\n",
       "      <th>platform</th>\n",
       "      <th></th>\n",
       "      <th></th>\n",
       "      <th></th>\n",
       "      <th></th>\n",
       "    </tr>\n",
       "  </thead>\n",
       "  <tbody>\n",
       "    <tr>\n",
       "      <th>PS4</th>\n",
       "      <td>130.04</td>\n",
       "      <td>235.92</td>\n",
       "      <td>55.120380</td>\n",
       "      <td>100.0</td>\n",
       "    </tr>\n",
       "    <tr>\n",
       "      <th>XOne</th>\n",
       "      <td>46.25</td>\n",
       "      <td>235.92</td>\n",
       "      <td>19.604103</td>\n",
       "      <td>100.0</td>\n",
       "    </tr>\n",
       "    <tr>\n",
       "      <th>PS3</th>\n",
       "      <td>25.54</td>\n",
       "      <td>235.92</td>\n",
       "      <td>10.825704</td>\n",
       "      <td>100.0</td>\n",
       "    </tr>\n",
       "    <tr>\n",
       "      <th>PC</th>\n",
       "      <td>17.97</td>\n",
       "      <td>235.92</td>\n",
       "      <td>7.616989</td>\n",
       "      <td>100.0</td>\n",
       "    </tr>\n",
       "    <tr>\n",
       "      <th>3DS</th>\n",
       "      <td>16.12</td>\n",
       "      <td>235.92</td>\n",
       "      <td>6.832825</td>\n",
       "      <td>100.0</td>\n",
       "    </tr>\n",
       "  </tbody>\n",
       "</table>\n",
       "</div>"
      ],
      "text/plain": [
       "             sum  top_sum          %   100%\n",
       "platform                                   \n",
       "PS4       130.04   235.92  55.120380  100.0\n",
       "XOne       46.25   235.92  19.604103  100.0\n",
       "PS3        25.54   235.92  10.825704  100.0\n",
       "PC         17.97   235.92   7.616989  100.0\n",
       "3DS        16.12   235.92   6.832825  100.0"
      ]
     },
     "execution_count": 30,
     "metadata": {},
     "output_type": "execute_result"
    }
   ],
   "source": [
    "# для Европы \n",
    "report_games_eu = new_games.pivot_table(index = 'platform', values = 'eu_sales', aggfunc ={'sum'})\n",
    "report_games_eu.sort_values(by = 'sum', ascending = False).head(5)\n",
    "top_eu_sales = report_games_eu.query('platform in [\"XOne\", \"PS4\",\"PS3\",\"PC\", \"3DS\"]') \n",
    "top_eu_sales['top_sum'] = top_eu_sales['sum'].sum()\n",
    "top_eu_sales['%'] = (top_eu_sales['sum']/top_eu_sales['top_sum'] * 100)\n",
    "top_eu_sales['100%'] = top_eu_sales['%'].sum()\n",
    "top_eu_sales.sort_values(by = '%', ascending = False)"
   ]
  },
  {
   "cell_type": "code",
   "execution_count": 31,
   "metadata": {},
   "outputs": [
    {
     "data": {
      "text/html": [
       "<div>\n",
       "<style scoped>\n",
       "    .dataframe tbody tr th:only-of-type {\n",
       "        vertical-align: middle;\n",
       "    }\n",
       "\n",
       "    .dataframe tbody tr th {\n",
       "        vertical-align: top;\n",
       "    }\n",
       "\n",
       "    .dataframe thead th {\n",
       "        text-align: right;\n",
       "    }\n",
       "</style>\n",
       "<table border=\"1\" class=\"dataframe\">\n",
       "  <thead>\n",
       "    <tr style=\"text-align: right;\">\n",
       "      <th></th>\n",
       "      <th>sum</th>\n",
       "      <th>top_sum</th>\n",
       "      <th>%</th>\n",
       "      <th>100%</th>\n",
       "    </tr>\n",
       "    <tr>\n",
       "      <th>platform</th>\n",
       "      <th></th>\n",
       "      <th></th>\n",
       "      <th></th>\n",
       "      <th></th>\n",
       "    </tr>\n",
       "  </thead>\n",
       "  <tbody>\n",
       "    <tr>\n",
       "      <th>3DS</th>\n",
       "      <td>44.24</td>\n",
       "      <td>92.33</td>\n",
       "      <td>47.915087</td>\n",
       "      <td>100.0</td>\n",
       "    </tr>\n",
       "    <tr>\n",
       "      <th>PS4</th>\n",
       "      <td>15.02</td>\n",
       "      <td>92.33</td>\n",
       "      <td>16.267735</td>\n",
       "      <td>100.0</td>\n",
       "    </tr>\n",
       "    <tr>\n",
       "      <th>PSV</th>\n",
       "      <td>14.54</td>\n",
       "      <td>92.33</td>\n",
       "      <td>15.747861</td>\n",
       "      <td>100.0</td>\n",
       "    </tr>\n",
       "    <tr>\n",
       "      <th>PS3</th>\n",
       "      <td>11.22</td>\n",
       "      <td>92.33</td>\n",
       "      <td>12.152063</td>\n",
       "      <td>100.0</td>\n",
       "    </tr>\n",
       "    <tr>\n",
       "      <th>WiiU</th>\n",
       "      <td>7.31</td>\n",
       "      <td>92.33</td>\n",
       "      <td>7.917253</td>\n",
       "      <td>100.0</td>\n",
       "    </tr>\n",
       "  </tbody>\n",
       "</table>\n",
       "</div>"
      ],
      "text/plain": [
       "            sum  top_sum          %   100%\n",
       "platform                                  \n",
       "3DS       44.24    92.33  47.915087  100.0\n",
       "PS4       15.02    92.33  16.267735  100.0\n",
       "PSV       14.54    92.33  15.747861  100.0\n",
       "PS3       11.22    92.33  12.152063  100.0\n",
       "WiiU       7.31    92.33   7.917253  100.0"
      ]
     },
     "execution_count": 31,
     "metadata": {},
     "output_type": "execute_result"
    }
   ],
   "source": [
    "# для Японии \n",
    "report_games_jp = new_games.pivot_table(index = 'platform', values = 'jp_sales', aggfunc ={'sum'})\n",
    "report_games_jp.sort_values(by = 'sum', ascending = False).head(5)\n",
    "top_jp_sales = report_games_jp.query('platform in [\"PSV\", \"PS4\",\"PS3\",\"WiiU\", \"3DS\"]') \n",
    "top_jp_sales['top_sum'] = top_jp_sales['sum'].sum()\n",
    "top_jp_sales['%'] = (top_jp_sales['sum']/top_jp_sales['top_sum'] * 100)\n",
    "top_jp_sales['100%'] = top_jp_sales['%'].sum()\n",
    "top_jp_sales.sort_values(by = '%', ascending = False)"
   ]
  },
  {
   "cell_type": "code",
   "execution_count": 32,
   "metadata": {},
   "outputs": [
    {
     "data": {
      "text/html": [
       "<div>\n",
       "<style scoped>\n",
       "    .dataframe tbody tr th:only-of-type {\n",
       "        vertical-align: middle;\n",
       "    }\n",
       "\n",
       "    .dataframe tbody tr th {\n",
       "        vertical-align: top;\n",
       "    }\n",
       "\n",
       "    .dataframe thead th {\n",
       "        text-align: right;\n",
       "    }\n",
       "</style>\n",
       "<table border=\"1\" class=\"dataframe\">\n",
       "  <thead>\n",
       "    <tr style=\"text-align: right;\">\n",
       "      <th></th>\n",
       "      <th>name</th>\n",
       "      <th>na_sales</th>\n",
       "      <th>eu_sales</th>\n",
       "      <th>jp_sales</th>\n",
       "      <th>total_sales</th>\n",
       "    </tr>\n",
       "    <tr>\n",
       "      <th>genre</th>\n",
       "      <th></th>\n",
       "      <th></th>\n",
       "      <th></th>\n",
       "      <th></th>\n",
       "      <th></th>\n",
       "    </tr>\n",
       "  </thead>\n",
       "  <tbody>\n",
       "    <tr>\n",
       "      <th>Action</th>\n",
       "      <td>619</td>\n",
       "      <td>72.53</td>\n",
       "      <td>74.68</td>\n",
       "      <td>29.58</td>\n",
       "      <td>199.36</td>\n",
       "    </tr>\n",
       "    <tr>\n",
       "      <th>Role-Playing</th>\n",
       "      <td>221</td>\n",
       "      <td>33.47</td>\n",
       "      <td>28.17</td>\n",
       "      <td>31.16</td>\n",
       "      <td>101.44</td>\n",
       "    </tr>\n",
       "    <tr>\n",
       "      <th>Adventure</th>\n",
       "      <td>185</td>\n",
       "      <td>5.64</td>\n",
       "      <td>6.49</td>\n",
       "      <td>3.60</td>\n",
       "      <td>17.55</td>\n",
       "    </tr>\n",
       "    <tr>\n",
       "      <th>Sports</th>\n",
       "      <td>161</td>\n",
       "      <td>46.13</td>\n",
       "      <td>45.73</td>\n",
       "      <td>3.26</td>\n",
       "      <td>109.48</td>\n",
       "    </tr>\n",
       "    <tr>\n",
       "      <th>Shooter</th>\n",
       "      <td>128</td>\n",
       "      <td>79.02</td>\n",
       "      <td>65.52</td>\n",
       "      <td>4.87</td>\n",
       "      <td>170.94</td>\n",
       "    </tr>\n",
       "    <tr>\n",
       "      <th>Misc</th>\n",
       "      <td>113</td>\n",
       "      <td>15.05</td>\n",
       "      <td>12.86</td>\n",
       "      <td>5.61</td>\n",
       "      <td>37.55</td>\n",
       "    </tr>\n",
       "    <tr>\n",
       "      <th>Racing</th>\n",
       "      <td>69</td>\n",
       "      <td>8.74</td>\n",
       "      <td>14.13</td>\n",
       "      <td>1.76</td>\n",
       "      <td>27.52</td>\n",
       "    </tr>\n",
       "    <tr>\n",
       "      <th>Fighting</th>\n",
       "      <td>60</td>\n",
       "      <td>12.43</td>\n",
       "      <td>6.69</td>\n",
       "      <td>6.37</td>\n",
       "      <td>28.22</td>\n",
       "    </tr>\n",
       "    <tr>\n",
       "      <th>Simulation</th>\n",
       "      <td>44</td>\n",
       "      <td>2.63</td>\n",
       "      <td>7.30</td>\n",
       "      <td>2.31</td>\n",
       "      <td>13.13</td>\n",
       "    </tr>\n",
       "    <tr>\n",
       "      <th>Platform</th>\n",
       "      <td>38</td>\n",
       "      <td>6.79</td>\n",
       "      <td>6.80</td>\n",
       "      <td>2.69</td>\n",
       "      <td>18.09</td>\n",
       "    </tr>\n",
       "    <tr>\n",
       "      <th>Strategy</th>\n",
       "      <td>37</td>\n",
       "      <td>0.98</td>\n",
       "      <td>1.79</td>\n",
       "      <td>0.95</td>\n",
       "      <td>3.96</td>\n",
       "    </tr>\n",
       "    <tr>\n",
       "      <th>Puzzle</th>\n",
       "      <td>14</td>\n",
       "      <td>0.65</td>\n",
       "      <td>0.52</td>\n",
       "      <td>0.93</td>\n",
       "      <td>2.21</td>\n",
       "    </tr>\n",
       "  </tbody>\n",
       "</table>\n",
       "</div>"
      ],
      "text/plain": [
       "              name  na_sales  eu_sales  jp_sales  total_sales\n",
       "genre                                                        \n",
       "Action         619     72.53     74.68     29.58       199.36\n",
       "Role-Playing   221     33.47     28.17     31.16       101.44\n",
       "Adventure      185      5.64      6.49      3.60        17.55\n",
       "Sports         161     46.13     45.73      3.26       109.48\n",
       "Shooter        128     79.02     65.52      4.87       170.94\n",
       "Misc           113     15.05     12.86      5.61        37.55\n",
       "Racing          69      8.74     14.13      1.76        27.52\n",
       "Fighting        60     12.43      6.69      6.37        28.22\n",
       "Simulation      44      2.63      7.30      2.31        13.13\n",
       "Platform        38      6.79      6.80      2.69        18.09\n",
       "Strategy        37      0.98      1.79      0.95         3.96\n",
       "Puzzle          14      0.65      0.52      0.93         2.21"
      ]
     },
     "execution_count": 32,
     "metadata": {},
     "output_type": "execute_result"
    }
   ],
   "source": [
    "# таблица с самыми популярными жанрами в каждом регионе\n",
    "new_games.groupby('genre').agg({'name': 'count', 'na_sales': 'sum', 'eu_sales': 'sum', 'jp_sales': 'sum', 'total_sales': 'sum'}).sort_values(by='name', ascending=False)"
   ]
  },
  {
   "cell_type": "markdown",
   "metadata": {},
   "source": [
    "Выводы: \n",
    "1. ТОП5 популярных жанров в Северной Америке - Shooter, Action, Sports, Playing, Misc. \n",
    "2. ТОП5 популярных жанров в Европе - Action, Shooter, Sports, Role-Playing, Racing.\n",
    "3. ТОП5 популярных жанров в Японии - Role-Playing, Action, Fighting, Misc, Shooter. "
   ]
  },
  {
   "cell_type": "markdown",
   "metadata": {},
   "source": [
    "### Проверка гипотез"
   ]
  },
  {
   "cell_type": "markdown",
   "metadata": {},
   "source": [
    "1. Средние пользовательские рейтинги платформ Xbox One и PC одинаковые;\n",
    "2. Средние пользовательские рейтинги жанров Action (англ. «действие», экшен-игры) и Sports (англ. «спортивные соревнования») разные."
   ]
  },
  {
   "cell_type": "markdown",
   "metadata": {},
   "source": [
    "#### Гипотеза 1. Средние пользовательские рейтинги платформ Xbox One и PC одинаковые;"
   ]
  },
  {
   "cell_type": "markdown",
   "metadata": {},
   "source": [
    "Нулевая гипотеза: Средние пользовательские рейтинги платформ Xbox One и PC различаются. \n",
    "\n",
    "Альтернативная гипотеза: Средние пользовательские рейтинги платформ Xbox One и PC одинаковые."
   ]
  },
  {
   "cell_type": "code",
   "execution_count": 33,
   "metadata": {},
   "outputs": [
    {
     "name": "stdout",
     "output_type": "stream",
     "text": [
      "p-значение:  0.10450648833224654\n",
      "Не получилось отвергнуть нулевую гипотезу\n"
     ]
    }
   ],
   "source": [
    "alpha = .05\n",
    "results = st.ttest_ind(new_games.query('platform == \"XOne\"')['user_score'].dropna(), \n",
    "                       new_games.query('platform == \"PC\"')['user_score'].dropna()\n",
    "                      )\n",
    "print('p-значение: ', results.pvalue)\n",
    " \n",
    "if results.pvalue < alpha:\n",
    "    print(\"Отвергаем нулевую гипотезу\")\n",
    "else:\n",
    "    print(\"Не получилось отвергнуть нулевую гипотезу\") \n"
   ]
  },
  {
   "cell_type": "markdown",
   "metadata": {},
   "source": [
    "Вывод: Средние пользовательские рейтинги платформ Xbox One и PC различаются. "
   ]
  },
  {
   "cell_type": "markdown",
   "metadata": {},
   "source": [
    "#### Гипотеза 2. Средние пользовательские рейтинги жанров Action (англ. «действие», экшен-игры) и Sports (англ. «спортивные соревнования») разные."
   ]
  },
  {
   "cell_type": "markdown",
   "metadata": {},
   "source": [
    "Нулевая гипотеза: Средние пользовательские рейтинги жанров Action и Sports одинаковые.\n",
    "\n",
    "Альтернативная гипотеза: Средние пользовательские рейтинги жанров Action и Sports разные."
   ]
  },
  {
   "cell_type": "code",
   "execution_count": 34,
   "metadata": {},
   "outputs": [
    {
     "name": "stdout",
     "output_type": "stream",
     "text": [
      "p-значение:  2.871146400695882e-19\n",
      "Отвергаем нулевую гипотезу\n"
     ]
    }
   ],
   "source": [
    "alpha = .05\n",
    "results = st.ttest_ind(new_games.query('genre == \"Action\"')['user_score'].dropna(), \n",
    "                       new_games.query('genre == \"Sports\"')['user_score'].dropna()\n",
    "                      )\n",
    "print('p-значение: ', results.pvalue)\n",
    " \n",
    "if results.pvalue < alpha:\n",
    "    print(\"Отвергаем нулевую гипотезу\")\n",
    "else:\n",
    "    print(\"Не получилось отвергнуть нулевую гипотезу\") "
   ]
  },
  {
   "cell_type": "markdown",
   "metadata": {},
   "source": [
    "Вывод: Средние пользовательские рейтинги жанров Action и Sports разные."
   ]
  },
  {
   "cell_type": "markdown",
   "metadata": {},
   "source": [
    "### Общие выводы "
   ]
  },
  {
   "cell_type": "markdown",
   "metadata": {},
   "source": [
    "Анализ был выполнен для интернет-магазина «Стримчик», который продаёт по всему миру компьютерные игры. \n",
    "\n",
    "**Входные данные** —  исторические данные о продажах игр, оценки пользователей и экспертов, жанры и платформы. \n",
    "\n",
    "**Результаты исследования** позволят сделать ставку на потенциально популярный продукт и спланировать рекламные кампании.\n",
    "\n",
    "**Цель исследования** :\n",
    "1. Провести исследовательский анализ данных.\n",
    "2. Составить портрет пользователя каждого региона.\n",
    "3. Проверить 2 гипотезы: \n",
    "- Средние пользовательские рейтинги платформ Xbox One и PC одинаковые;\n",
    "- Средние пользовательские рейтинги жанров Action (англ. «действие», экшенигры) и Sports (англ. «спортивные соревнования») разные.\n",
    "\n",
    "Основное исследование прошло в 5 этапов:\n",
    "##### Изучение общей информации о данных.\n",
    "На данном этапе мы изучили общую информацию о данных в таблицах и увидели, с чем предстоит иметь дело. В каждой строке таблицы представлены данные об определенной игре. Общая информация (название, жанр и тд), а также информация о продажах, оценки(пользователей, критиков) и рейтинг ESRB .\n",
    "\n",
    "##### Предобработка данных. \n",
    "На втором этапе мы подготовили данные ддля дальнейшего анализа. А именно:\n",
    "1. Название столбцов приведены к праильному виду.\n",
    "2. В столбцах Year_of_Release и Rating заполнены пропущенные значения.\n",
    "3. Изменены типы данных в столбцах user_score и year_of_release.\n",
    "\n",
    "##### Анализ данных \n",
    "На третьем этапе мы проанализировали данные, краткие итоги представлены ниже.\n",
    "1. Сделан вывод, что длинный хвост из 80-х и 90-х годов неважен для анализа 2016 года и его можно не учитывать в анализе.\n",
    "2. Определен актуальный период для анализа - 3 года.\n",
    "3. Определены ТОП3 потенциально прибыльных платформы - PS4, XOne и 3DS. Самой перспективной платформой является PS4.\n",
    "4. Построенм график «ящик с усами» по глобальным продажам игр в разбивке по платформам. \n",
    "5. Корреляция между продажами и отзывами критиков - средняя положительная. То есть можно заметить рост продаж у игр с высокими оценками критиков. Корреляция между отзывами пользователей и продажами не выявлена.\n",
    "6. Определены жанры с высокими продажами - Shooter, Sports, Fighting, Role-Playing. Неожидано низкое значение медианы, хотя игр в таком жанре большое кол-во - Action и Adventure.\n",
    "\n",
    "\n",
    "#### Составление портрета пользователя каждого региона\n",
    "1. ТОП5 платформ Северной Америки - PS4, XOne, 3DS, PS3, X360. ТОП5 популярных жанров - Shooter, Action, Sports, Playing, Misc.\n",
    "2. ТОП5 платформ Европы - PS4, XOne, PS3, PC, 3DS. ТОП5 популярных жанров - Action, Shooter, Sports, Role-Playing, Racing.\n",
    "3. ТОП5 платформ Японии - 3DS, PS4, PSV, PS3, WiiU. ТОП5 популярных жанров - Role-Playing, Action, Fighting, Misc, Shooter.\n",
    "\n",
    "##### Проверка гипотез \n",
    "На четвертом этапе с помощью тестов мы проверили 2 гипотезы и сделали следующие выводы: \n",
    "1. Средние пользовательские рейтинги платформ Xbox One и PC различаются. \n",
    "2. Средние пользовательские рейтинги жанров Action и Sports разные.\n",
    "\n",
    "##### Итоговый вывод\n",
    "Исходя из результатов проведенного анализа интернет-магазину «Стримчик» на 2017 год можно рекомендовать следующее: \n",
    "1. Самая популярная платформа, на которую стоит делать ставки - PS4. \n",
    "2. Наиболее прибыльные и популярные жанры в Северной Америке и Еворпе - Shooter и Sports. В Японии - Role-Playing и Fighting. "
   ]
  }
 ],
 "metadata": {
  "ExecuteTimeLog": [
   {
    "duration": 7,
    "start_time": "2022-04-15T03:54:42.088Z"
   },
   {
    "duration": 405,
    "start_time": "2022-04-15T03:54:42.780Z"
   },
   {
    "duration": 173,
    "start_time": "2022-04-15T03:54:43.208Z"
   },
   {
    "duration": 51,
    "start_time": "2022-04-15T03:55:40.600Z"
   },
   {
    "duration": 20,
    "start_time": "2022-04-15T03:55:42.136Z"
   },
   {
    "duration": 13,
    "start_time": "2022-04-15T03:55:44.644Z"
   },
   {
    "duration": 9,
    "start_time": "2022-04-15T03:56:06.272Z"
   },
   {
    "duration": 7,
    "start_time": "2022-04-15T03:56:41.037Z"
   },
   {
    "duration": 4,
    "start_time": "2022-04-15T03:57:08.961Z"
   },
   {
    "duration": 2,
    "start_time": "2022-04-15T03:59:42.969Z"
   },
   {
    "duration": 5,
    "start_time": "2022-04-15T03:59:43.377Z"
   },
   {
    "duration": 4,
    "start_time": "2022-04-15T03:59:43.949Z"
   },
   {
    "duration": 6,
    "start_time": "2022-04-15T03:59:50.829Z"
   },
   {
    "duration": 9,
    "start_time": "2022-04-15T03:59:56.101Z"
   },
   {
    "duration": 6,
    "start_time": "2022-04-15T04:00:03.429Z"
   },
   {
    "duration": 6,
    "start_time": "2022-04-15T04:00:09.777Z"
   },
   {
    "duration": 4,
    "start_time": "2022-04-15T04:00:15.457Z"
   },
   {
    "duration": 13,
    "start_time": "2022-04-15T04:00:21.625Z"
   },
   {
    "duration": 7,
    "start_time": "2022-04-25T04:22:24.013Z"
   },
   {
    "duration": 422,
    "start_time": "2022-04-25T04:22:24.022Z"
   },
   {
    "duration": 37,
    "start_time": "2022-04-25T04:22:24.445Z"
   },
   {
    "duration": 20,
    "start_time": "2022-04-25T04:22:24.484Z"
   },
   {
    "duration": 19,
    "start_time": "2022-04-25T04:22:24.505Z"
   },
   {
    "duration": 9,
    "start_time": "2022-04-25T04:22:24.525Z"
   },
   {
    "duration": 4,
    "start_time": "2022-04-25T04:22:24.555Z"
   },
   {
    "duration": 8,
    "start_time": "2022-04-25T04:22:24.560Z"
   },
   {
    "duration": 12,
    "start_time": "2022-04-25T04:22:24.570Z"
   },
   {
    "duration": 10,
    "start_time": "2022-04-25T04:22:24.583Z"
   },
   {
    "duration": 8,
    "start_time": "2022-04-25T04:22:24.594Z"
   },
   {
    "duration": 14,
    "start_time": "2022-04-25T04:22:24.604Z"
   },
   {
    "duration": 6,
    "start_time": "2022-04-25T04:22:24.619Z"
   },
   {
    "duration": 22,
    "start_time": "2022-04-25T04:22:24.627Z"
   },
   {
    "duration": 9,
    "start_time": "2022-04-25T04:22:24.650Z"
   },
   {
    "duration": 22,
    "start_time": "2022-04-25T04:22:24.660Z"
   },
   {
    "duration": 7699,
    "start_time": "2022-04-25T04:22:24.683Z"
   },
   {
    "duration": 240,
    "start_time": "2022-04-25T04:22:51.801Z"
   },
   {
    "duration": 7,
    "start_time": "2022-04-25T04:27:09.457Z"
   },
   {
    "duration": 21,
    "start_time": "2022-04-25T04:27:17.413Z"
   },
   {
    "duration": 75,
    "start_time": "2022-04-25T04:38:23.269Z"
   },
   {
    "duration": 15,
    "start_time": "2022-04-25T04:38:33.745Z"
   },
   {
    "duration": 251,
    "start_time": "2022-04-25T04:43:01.868Z"
   },
   {
    "duration": 6,
    "start_time": "2022-04-25T04:49:15.437Z"
   },
   {
    "duration": 22,
    "start_time": "2022-04-25T04:49:21.284Z"
   },
   {
    "duration": 122,
    "start_time": "2022-04-25T04:54:23.444Z"
   },
   {
    "duration": 132,
    "start_time": "2022-04-25T04:55:39.212Z"
   },
   {
    "duration": 166,
    "start_time": "2022-04-25T04:59:34.668Z"
   },
   {
    "duration": 181,
    "start_time": "2022-04-25T05:00:16.741Z"
   },
   {
    "duration": 166,
    "start_time": "2022-04-25T05:00:24.700Z"
   },
   {
    "duration": 144,
    "start_time": "2022-04-25T05:05:08.528Z"
   },
   {
    "duration": 3,
    "start_time": "2022-04-25T05:05:45.531Z"
   },
   {
    "duration": 5,
    "start_time": "2022-04-25T05:05:45.536Z"
   },
   {
    "duration": 44,
    "start_time": "2022-04-25T05:05:45.543Z"
   },
   {
    "duration": 14,
    "start_time": "2022-04-25T05:05:45.589Z"
   },
   {
    "duration": 16,
    "start_time": "2022-04-25T05:05:45.606Z"
   },
   {
    "duration": 8,
    "start_time": "2022-04-25T05:05:45.623Z"
   },
   {
    "duration": 23,
    "start_time": "2022-04-25T05:05:45.633Z"
   },
   {
    "duration": 4,
    "start_time": "2022-04-25T05:05:45.658Z"
   },
   {
    "duration": 8,
    "start_time": "2022-04-25T05:05:45.663Z"
   },
   {
    "duration": 12,
    "start_time": "2022-04-25T05:05:45.673Z"
   },
   {
    "duration": 9,
    "start_time": "2022-04-25T05:05:45.686Z"
   },
   {
    "duration": 15,
    "start_time": "2022-04-25T05:05:45.696Z"
   },
   {
    "duration": 7,
    "start_time": "2022-04-25T05:05:45.712Z"
   },
   {
    "duration": 11,
    "start_time": "2022-04-25T05:05:45.721Z"
   },
   {
    "duration": 7,
    "start_time": "2022-04-25T05:05:45.733Z"
   },
   {
    "duration": 21,
    "start_time": "2022-04-25T05:05:45.741Z"
   },
   {
    "duration": 138,
    "start_time": "2022-04-25T05:05:45.764Z"
   },
   {
    "duration": 238,
    "start_time": "2022-04-25T05:05:45.903Z"
   },
   {
    "duration": 24,
    "start_time": "2022-04-25T05:05:46.142Z"
   },
   {
    "duration": 19,
    "start_time": "2022-04-25T05:05:46.168Z"
   },
   {
    "duration": 179,
    "start_time": "2022-04-25T05:05:46.189Z"
   },
   {
    "duration": 144,
    "start_time": "2022-04-25T05:05:46.370Z"
   },
   {
    "duration": 131,
    "start_time": "2022-04-25T05:05:46.515Z"
   },
   {
    "duration": 3,
    "start_time": "2022-04-25T05:23:24.003Z"
   },
   {
    "duration": 2,
    "start_time": "2022-04-25T05:23:45.179Z"
   },
   {
    "duration": 2,
    "start_time": "2022-04-25T05:24:38.023Z"
   },
   {
    "duration": 5,
    "start_time": "2022-04-25T05:25:46.663Z"
   },
   {
    "duration": 10,
    "start_time": "2022-04-25T05:28:03.038Z"
   },
   {
    "duration": 10,
    "start_time": "2022-04-25T05:28:11.395Z"
   },
   {
    "duration": 14,
    "start_time": "2022-04-25T05:28:58.931Z"
   },
   {
    "duration": 408,
    "start_time": "2022-04-25T05:29:14.271Z"
   },
   {
    "duration": 5,
    "start_time": "2022-04-25T05:29:37.102Z"
   },
   {
    "duration": 7,
    "start_time": "2022-04-25T05:29:39.027Z"
   },
   {
    "duration": 30,
    "start_time": "2022-04-25T05:30:34.831Z"
   },
   {
    "duration": 144,
    "start_time": "2022-04-25T05:32:14.283Z"
   },
   {
    "duration": 9,
    "start_time": "2022-04-25T05:32:25.507Z"
   },
   {
    "duration": 559,
    "start_time": "2022-04-25T05:33:19.323Z"
   },
   {
    "duration": 2,
    "start_time": "2022-04-25T05:33:22.979Z"
   },
   {
    "duration": 16,
    "start_time": "2022-04-25T05:33:22.983Z"
   },
   {
    "duration": 49,
    "start_time": "2022-04-25T05:33:23.001Z"
   },
   {
    "duration": 16,
    "start_time": "2022-04-25T05:33:23.052Z"
   },
   {
    "duration": 27,
    "start_time": "2022-04-25T05:33:23.070Z"
   },
   {
    "duration": 17,
    "start_time": "2022-04-25T05:33:23.099Z"
   },
   {
    "duration": 3,
    "start_time": "2022-04-25T05:33:23.118Z"
   },
   {
    "duration": 5,
    "start_time": "2022-04-25T05:33:23.123Z"
   },
   {
    "duration": 11,
    "start_time": "2022-04-25T05:33:23.130Z"
   },
   {
    "duration": 7,
    "start_time": "2022-04-25T05:33:23.142Z"
   },
   {
    "duration": 6,
    "start_time": "2022-04-25T05:33:23.155Z"
   },
   {
    "duration": 9,
    "start_time": "2022-04-25T05:33:23.163Z"
   },
   {
    "duration": 7,
    "start_time": "2022-04-25T05:33:23.173Z"
   },
   {
    "duration": 4,
    "start_time": "2022-04-25T05:33:23.181Z"
   },
   {
    "duration": 7,
    "start_time": "2022-04-25T05:33:23.186Z"
   },
   {
    "duration": 16,
    "start_time": "2022-04-25T05:33:23.195Z"
   },
   {
    "duration": 157,
    "start_time": "2022-04-25T05:33:23.212Z"
   },
   {
    "duration": 237,
    "start_time": "2022-04-25T05:33:23.370Z"
   },
   {
    "duration": 17,
    "start_time": "2022-04-25T05:33:23.608Z"
   },
   {
    "duration": 35,
    "start_time": "2022-04-25T05:33:23.626Z"
   },
   {
    "duration": 180,
    "start_time": "2022-04-25T05:33:23.663Z"
   },
   {
    "duration": 147,
    "start_time": "2022-04-25T05:33:23.844Z"
   },
   {
    "duration": 128,
    "start_time": "2022-04-25T05:33:23.993Z"
   },
   {
    "duration": 42,
    "start_time": "2022-04-25T05:33:24.122Z"
   },
   {
    "duration": 2,
    "start_time": "2022-04-25T05:34:24.703Z"
   },
   {
    "duration": 145,
    "start_time": "2022-04-25T05:35:18.870Z"
   },
   {
    "duration": 8,
    "start_time": "2022-04-25T05:35:30.859Z"
   },
   {
    "duration": 8,
    "start_time": "2022-04-25T05:35:56.822Z"
   },
   {
    "duration": 6,
    "start_time": "2022-04-25T05:36:08.514Z"
   },
   {
    "duration": 9,
    "start_time": "2022-04-25T05:36:12.011Z"
   },
   {
    "duration": 5,
    "start_time": "2022-04-25T05:36:18.571Z"
   },
   {
    "duration": 8,
    "start_time": "2022-04-25T05:36:20.599Z"
   },
   {
    "duration": 8,
    "start_time": "2022-04-25T05:37:48.414Z"
   },
   {
    "duration": 9,
    "start_time": "2022-04-25T05:37:54.826Z"
   },
   {
    "duration": 9,
    "start_time": "2022-04-25T05:37:56.035Z"
   },
   {
    "duration": 10,
    "start_time": "2022-04-25T05:38:08.862Z"
   },
   {
    "duration": 8,
    "start_time": "2022-04-25T05:38:09.907Z"
   },
   {
    "duration": 140,
    "start_time": "2022-04-25T05:38:23.414Z"
   },
   {
    "duration": 10,
    "start_time": "2022-04-25T05:38:30.994Z"
   },
   {
    "duration": 9,
    "start_time": "2022-04-25T05:41:57.795Z"
   },
   {
    "duration": 140,
    "start_time": "2022-04-25T05:42:14.794Z"
   },
   {
    "duration": 162,
    "start_time": "2022-04-25T05:55:25.610Z"
   },
   {
    "duration": 179,
    "start_time": "2022-04-25T05:55:34.862Z"
   },
   {
    "duration": 134,
    "start_time": "2022-04-25T05:55:54.894Z"
   },
   {
    "duration": 122,
    "start_time": "2022-04-25T07:43:58.502Z"
   },
   {
    "duration": 17,
    "start_time": "2022-04-25T07:44:24.821Z"
   },
   {
    "duration": 128,
    "start_time": "2022-04-25T07:46:12.890Z"
   },
   {
    "duration": 2240,
    "start_time": "2022-04-25T07:48:09.934Z"
   },
   {
    "duration": 2300,
    "start_time": "2022-04-25T07:48:24.086Z"
   },
   {
    "duration": 9,
    "start_time": "2022-04-25T07:49:46.214Z"
   },
   {
    "duration": 2514,
    "start_time": "2022-04-25T07:49:50.602Z"
   },
   {
    "duration": 125,
    "start_time": "2022-04-25T07:53:23.562Z"
   },
   {
    "duration": 136,
    "start_time": "2022-04-25T07:53:39.634Z"
   },
   {
    "duration": 118,
    "start_time": "2022-04-25T07:53:55.738Z"
   },
   {
    "duration": 135,
    "start_time": "2022-04-25T07:54:07.786Z"
   },
   {
    "duration": 3,
    "start_time": "2022-04-25T07:56:07.862Z"
   },
   {
    "duration": 11,
    "start_time": "2022-04-25T07:56:21.541Z"
   },
   {
    "duration": 11,
    "start_time": "2022-04-25T07:57:14.685Z"
   },
   {
    "duration": 10,
    "start_time": "2022-04-25T07:57:33.738Z"
   },
   {
    "duration": 14,
    "start_time": "2022-04-25T07:57:42.525Z"
   },
   {
    "duration": 11,
    "start_time": "2022-04-25T08:03:31.413Z"
   },
   {
    "duration": 26,
    "start_time": "2022-04-25T08:05:00.382Z"
   },
   {
    "duration": 25,
    "start_time": "2022-04-25T08:09:08.929Z"
   },
   {
    "duration": 24,
    "start_time": "2022-04-25T08:09:53.373Z"
   },
   {
    "duration": 26,
    "start_time": "2022-04-25T08:10:14.501Z"
   },
   {
    "duration": 26,
    "start_time": "2022-04-25T08:10:44.105Z"
   },
   {
    "duration": 24,
    "start_time": "2022-04-25T08:11:55.757Z"
   },
   {
    "duration": 24,
    "start_time": "2022-04-25T08:12:40.989Z"
   },
   {
    "duration": 13,
    "start_time": "2022-04-25T08:13:30.937Z"
   },
   {
    "duration": 14,
    "start_time": "2022-04-25T08:13:47.462Z"
   },
   {
    "duration": 17,
    "start_time": "2022-04-25T08:14:21.805Z"
   },
   {
    "duration": 9,
    "start_time": "2022-04-25T08:17:44.677Z"
   },
   {
    "duration": 17,
    "start_time": "2022-04-25T08:18:23.560Z"
   },
   {
    "duration": 15,
    "start_time": "2022-04-25T08:19:45.760Z"
   },
   {
    "duration": 24,
    "start_time": "2022-04-25T08:22:55.892Z"
   },
   {
    "duration": 26,
    "start_time": "2022-04-25T08:24:03.244Z"
   },
   {
    "duration": 25,
    "start_time": "2022-04-25T08:24:27.324Z"
   },
   {
    "duration": 143,
    "start_time": "2022-04-25T08:28:44.656Z"
   },
   {
    "duration": 153,
    "start_time": "2022-04-25T08:28:50.655Z"
   },
   {
    "duration": 16,
    "start_time": "2022-04-25T08:30:55.608Z"
   },
   {
    "duration": 142,
    "start_time": "2022-04-25T08:31:01.496Z"
   },
   {
    "duration": 135,
    "start_time": "2022-04-25T08:46:07.484Z"
   },
   {
    "duration": 141,
    "start_time": "2022-04-25T08:46:25.464Z"
   },
   {
    "duration": 187,
    "start_time": "2022-04-25T08:46:48.192Z"
   },
   {
    "duration": 198,
    "start_time": "2022-04-25T08:47:20.616Z"
   },
   {
    "duration": 201,
    "start_time": "2022-04-25T08:47:25.876Z"
   },
   {
    "duration": 191,
    "start_time": "2022-04-25T08:48:51.076Z"
   },
   {
    "duration": 254,
    "start_time": "2022-04-25T08:54:30.400Z"
   },
   {
    "duration": 247,
    "start_time": "2022-04-25T08:55:13.308Z"
   },
   {
    "duration": 247,
    "start_time": "2022-04-25T08:57:05.652Z"
   },
   {
    "duration": 90,
    "start_time": "2022-05-01T10:43:24.434Z"
   },
   {
    "duration": 8,
    "start_time": "2022-05-04T03:35:04.612Z"
   },
   {
    "duration": 1267,
    "start_time": "2022-05-04T03:35:05.952Z"
   },
   {
    "duration": 38,
    "start_time": "2022-05-04T03:35:07.221Z"
   },
   {
    "duration": 21,
    "start_time": "2022-05-04T03:35:09.304Z"
   },
   {
    "duration": 16,
    "start_time": "2022-05-04T03:35:11.061Z"
   },
   {
    "duration": 10,
    "start_time": "2022-05-04T03:35:20.232Z"
   },
   {
    "duration": 5,
    "start_time": "2022-05-04T03:35:32.244Z"
   },
   {
    "duration": 3,
    "start_time": "2022-05-04T03:35:37.828Z"
   },
   {
    "duration": 7,
    "start_time": "2022-05-04T03:35:38.212Z"
   },
   {
    "duration": 5,
    "start_time": "2022-05-04T03:35:38.696Z"
   },
   {
    "duration": 7,
    "start_time": "2022-05-04T03:35:42.268Z"
   },
   {
    "duration": 9,
    "start_time": "2022-05-04T03:35:47.584Z"
   },
   {
    "duration": 7,
    "start_time": "2022-05-04T03:35:55.768Z"
   },
   {
    "duration": 5,
    "start_time": "2022-05-04T03:36:00.108Z"
   },
   {
    "duration": 5,
    "start_time": "2022-05-04T03:36:19.088Z"
   },
   {
    "duration": 61,
    "start_time": "2022-05-04T03:37:07.065Z"
   },
   {
    "duration": 18,
    "start_time": "2022-05-04T03:37:17.644Z"
   },
   {
    "duration": 167,
    "start_time": "2022-05-04T03:37:29.464Z"
   },
   {
    "duration": 276,
    "start_time": "2022-05-04T03:37:45.800Z"
   },
   {
    "duration": 17,
    "start_time": "2022-05-04T03:37:50.760Z"
   },
   {
    "duration": 24,
    "start_time": "2022-05-04T03:37:52.248Z"
   },
   {
    "duration": 221,
    "start_time": "2022-05-04T03:38:02.200Z"
   },
   {
    "duration": 228,
    "start_time": "2022-05-04T03:38:04.608Z"
   },
   {
    "duration": 234,
    "start_time": "2022-05-04T03:38:38.161Z"
   },
   {
    "duration": 213,
    "start_time": "2022-05-04T03:38:49.188Z"
   },
   {
    "duration": 285,
    "start_time": "2022-05-04T03:38:54.936Z"
   },
   {
    "duration": 220,
    "start_time": "2022-05-04T03:39:06.528Z"
   },
   {
    "duration": 238,
    "start_time": "2022-05-04T03:39:20.336Z"
   },
   {
    "duration": 215,
    "start_time": "2022-05-04T03:39:29.908Z"
   },
   {
    "duration": 220,
    "start_time": "2022-05-04T03:39:40.256Z"
   },
   {
    "duration": 233,
    "start_time": "2022-05-04T03:39:48.596Z"
   },
   {
    "duration": 320,
    "start_time": "2022-05-04T03:40:01.732Z"
   },
   {
    "duration": 236,
    "start_time": "2022-05-04T03:40:11.460Z"
   },
   {
    "duration": 72,
    "start_time": "2022-05-04T03:42:12.000Z"
   },
   {
    "duration": 301,
    "start_time": "2022-05-04T03:43:18.068Z"
   },
   {
    "duration": 284,
    "start_time": "2022-05-04T03:43:24.084Z"
   },
   {
    "duration": 12,
    "start_time": "2022-05-04T03:43:32.324Z"
   },
   {
    "duration": 13,
    "start_time": "2022-05-04T03:44:24.159Z"
   },
   {
    "duration": 16,
    "start_time": "2022-05-04T03:48:36.968Z"
   },
   {
    "duration": 26,
    "start_time": "2022-05-04T03:48:54.240Z"
   },
   {
    "duration": 55,
    "start_time": "2022-05-04T03:49:47.528Z"
   },
   {
    "duration": 27,
    "start_time": "2022-05-04T03:50:10.096Z"
   },
   {
    "duration": 26,
    "start_time": "2022-05-04T03:50:11.320Z"
   },
   {
    "duration": 19,
    "start_time": "2022-05-04T03:50:13.995Z"
   },
   {
    "duration": 11,
    "start_time": "2022-05-04T03:50:24.571Z"
   },
   {
    "duration": 11,
    "start_time": "2022-05-04T03:50:29.791Z"
   },
   {
    "duration": 63,
    "start_time": "2022-05-04T03:59:44.723Z"
   },
   {
    "duration": 59,
    "start_time": "2022-05-04T04:01:02.448Z"
   },
   {
    "duration": 13,
    "start_time": "2022-05-04T19:56:46.311Z"
   },
   {
    "duration": 1358,
    "start_time": "2022-05-04T19:56:46.326Z"
   },
   {
    "duration": 51,
    "start_time": "2022-05-04T19:56:47.687Z"
   },
   {
    "duration": 47,
    "start_time": "2022-05-04T19:56:47.741Z"
   },
   {
    "duration": 24,
    "start_time": "2022-05-04T19:56:47.790Z"
   },
   {
    "duration": 15,
    "start_time": "2022-05-04T19:56:47.816Z"
   },
   {
    "duration": 16,
    "start_time": "2022-05-04T19:56:47.834Z"
   },
   {
    "duration": 4,
    "start_time": "2022-05-04T19:56:47.873Z"
   },
   {
    "duration": 16,
    "start_time": "2022-05-04T19:56:47.879Z"
   },
   {
    "duration": 10,
    "start_time": "2022-05-04T19:56:47.899Z"
   },
   {
    "duration": 20,
    "start_time": "2022-05-04T19:56:47.912Z"
   },
   {
    "duration": 14,
    "start_time": "2022-05-04T19:56:47.935Z"
   },
   {
    "duration": 24,
    "start_time": "2022-05-04T19:56:47.951Z"
   },
   {
    "duration": 5,
    "start_time": "2022-05-04T19:56:47.977Z"
   },
   {
    "duration": 10,
    "start_time": "2022-05-04T19:56:47.984Z"
   },
   {
    "duration": 28,
    "start_time": "2022-05-04T19:56:47.996Z"
   },
   {
    "duration": 352,
    "start_time": "2022-05-04T19:56:48.026Z"
   },
   {
    "duration": 302,
    "start_time": "2022-05-04T19:56:48.380Z"
   },
   {
    "duration": 26,
    "start_time": "2022-05-04T19:56:48.685Z"
   },
   {
    "duration": 37,
    "start_time": "2022-05-04T19:56:48.713Z"
   },
   {
    "duration": 300,
    "start_time": "2022-05-04T19:56:48.752Z"
   },
   {
    "duration": 272,
    "start_time": "2022-05-04T19:56:49.055Z"
   },
   {
    "duration": 240,
    "start_time": "2022-05-04T19:56:49.329Z"
   },
   {
    "duration": 309,
    "start_time": "2022-05-04T19:56:49.574Z"
   },
   {
    "duration": 347,
    "start_time": "2022-05-04T19:56:49.885Z"
   },
   {
    "duration": 17,
    "start_time": "2022-05-04T19:56:50.234Z"
   },
   {
    "duration": 44,
    "start_time": "2022-05-04T19:56:50.254Z"
   },
   {
    "duration": 29,
    "start_time": "2022-05-04T19:56:50.301Z"
   },
   {
    "duration": 182,
    "start_time": "2022-05-04T19:58:22.794Z"
   },
   {
    "duration": 341,
    "start_time": "2022-05-04T19:58:48.163Z"
   },
   {
    "duration": 109,
    "start_time": "2022-05-04T19:59:07.825Z"
   },
   {
    "duration": 75,
    "start_time": "2022-05-04T19:59:35.579Z"
   },
   {
    "duration": 11,
    "start_time": "2022-09-26T09:46:14.173Z"
   },
   {
    "duration": 1139,
    "start_time": "2022-09-26T09:46:14.186Z"
   },
   {
    "duration": 92,
    "start_time": "2022-09-26T09:46:15.326Z"
   },
   {
    "duration": 20,
    "start_time": "2022-09-26T09:46:15.420Z"
   },
   {
    "duration": 13,
    "start_time": "2022-09-26T09:46:15.441Z"
   },
   {
    "duration": 9,
    "start_time": "2022-09-26T09:46:15.455Z"
   },
   {
    "duration": 11,
    "start_time": "2022-09-26T09:46:15.465Z"
   },
   {
    "duration": 6,
    "start_time": "2022-09-26T09:46:15.477Z"
   },
   {
    "duration": 25,
    "start_time": "2022-09-26T09:46:15.485Z"
   },
   {
    "duration": 4,
    "start_time": "2022-09-26T09:46:15.513Z"
   },
   {
    "duration": 10,
    "start_time": "2022-09-26T09:46:15.518Z"
   },
   {
    "duration": 8,
    "start_time": "2022-09-26T09:46:15.530Z"
   },
   {
    "duration": 9,
    "start_time": "2022-09-26T09:46:15.540Z"
   },
   {
    "duration": 7,
    "start_time": "2022-09-26T09:46:15.551Z"
   },
   {
    "duration": 25,
    "start_time": "2022-09-26T09:46:15.560Z"
   },
   {
    "duration": 38,
    "start_time": "2022-09-26T09:46:15.587Z"
   },
   {
    "duration": 166,
    "start_time": "2022-09-26T09:46:15.626Z"
   },
   {
    "duration": 250,
    "start_time": "2022-09-26T09:46:15.794Z"
   },
   {
    "duration": 18,
    "start_time": "2022-09-26T09:46:16.045Z"
   },
   {
    "duration": 22,
    "start_time": "2022-09-26T09:46:16.064Z"
   },
   {
    "duration": 229,
    "start_time": "2022-09-26T09:46:16.087Z"
   },
   {
    "duration": 207,
    "start_time": "2022-09-26T09:46:16.318Z"
   },
   {
    "duration": 224,
    "start_time": "2022-09-26T09:46:16.527Z"
   },
   {
    "duration": 286,
    "start_time": "2022-09-26T09:46:16.753Z"
   },
   {
    "duration": 301,
    "start_time": "2022-09-26T09:46:17.041Z"
   },
   {
    "duration": 12,
    "start_time": "2022-09-26T09:46:17.343Z"
   },
   {
    "duration": 50,
    "start_time": "2022-09-26T09:46:17.362Z"
   },
   {
    "duration": 24,
    "start_time": "2022-09-26T09:46:17.415Z"
   },
   {
    "duration": 144,
    "start_time": "2022-09-26T09:46:17.440Z"
   },
   {
    "duration": 35,
    "start_time": "2022-09-26T09:46:17.585Z"
   },
   {
    "duration": 45,
    "start_time": "2022-09-26T09:46:17.622Z"
   },
   {
    "duration": 42,
    "start_time": "2022-09-26T09:46:17.669Z"
   },
   {
    "duration": 17,
    "start_time": "2022-09-26T09:46:17.712Z"
   },
   {
    "duration": 17,
    "start_time": "2022-09-26T09:46:17.731Z"
   }
  ],
  "kernelspec": {
   "display_name": "Python 3 (ipykernel)",
   "language": "python",
   "name": "python3"
  },
  "language_info": {
   "codemirror_mode": {
    "name": "ipython",
    "version": 3
   },
   "file_extension": ".py",
   "mimetype": "text/x-python",
   "name": "python",
   "nbconvert_exporter": "python",
   "pygments_lexer": "ipython3",
   "version": "3.9.5"
  },
  "toc": {
   "base_numbering": 1,
   "nav_menu": {},
   "number_sections": true,
   "sideBar": true,
   "skip_h1_title": true,
   "title_cell": "Table of Contents",
   "title_sidebar": "Contents",
   "toc_cell": false,
   "toc_position": {},
   "toc_section_display": true,
   "toc_window_display": false
  }
 },
 "nbformat": 4,
 "nbformat_minor": 2
}
