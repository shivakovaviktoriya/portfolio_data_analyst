{
 "cells": [
  {
   "cell_type": "markdown",
   "metadata": {},
   "source": [
    "# Исследование тарифов сотовой связи.\n",
    "\n",
    "### Описание проекта\n",
    "Вы аналитик компании «Мегалайн» — федерального оператора сотовой связи. Клиентам предлагают два тарифных плана: «Смарт» и «Ультра». Чтобы скорректировать рекламный бюджет, коммерческий департамент хочет понять, какой тариф приносит больше денег.\n",
    "\n",
    "**Входные данные** —  данные 500 пользователей «Мегалайна»: кто они, откуда, каким тарифом пользуются, сколько звонков и сообщений каждый отправил за 2018 год.\n",
    "\n",
    "**Цель исследования** — проанализировать поведение клиентов и сделать вывод — какой тариф лучше.\n",
    "\n",
    "**Гипотезы для проверки:**\n",
    "1. средняя выручка пользователей тарифов «Ультра» и «Смарт» различаются;\n",
    "2. средняя выручка пользователей из Москвы отличается от выручки пользователей из других регионов.\n",
    "\n",
    "**Описание тарифов**\n",
    "1. Тариф «Смарт»\n",
    "- Ежемесячная плата: 550 рублей\n",
    "- Включено 500 минут разговора, 50 сообщений и 15 Гб интернет-трафика\n",
    "- Стоимость услуг сверх тарифного пакета: минута разговора: 3 рубля, сообщение: 3 рубля, 1 Гб интернет-трафика: 200 рублей\n",
    "\n",
    "2. Тариф «Ультра»\n",
    "- Ежемесячная плата: 1950 рублей\n",
    "- Включено 3000 минут разговора, 1000 сообщений и 30 Гб интернет-трафика\n",
    "- Стоимость услуг сверх тарифного пакета: минута разговора: 1 рубль, сообщение: 1 рубль, 1 Гб интернет-трафика: 150 рублей\n",
    "\n",
    "**Примечание:**\n",
    "- «Мегалайн» всегда округляет секунды до минут, а мегабайты — до гигабайт. Каждый звонок округляется отдельно: даже если он длился всего 1 секунду, будет засчитан как 1 минута.\n",
    "- Для веб-трафика отдельные сессии не считаются. Вместо этого общая сумма за месяц округляется в бо́льшую сторону. Если абонент использует 1025 мегабайт в этом месяце, с него возьмут плату за 2 гигабайта.\n",
    "\n",
    "\n",
    "\n",
    "**Ход исследования**\n",
    "\n",
    "Путь к файлам:\n",
    "- /datasets/calls.csv\n",
    "- /datasets/internet.csv\n",
    "- /datasets/messages.csv\n",
    "- /datasets/tariffs.csv\n",
    "- /datasets/users.csv\n",
    "\n",
    "Исследование пройдет в **5 этапов:**\n",
    "1. Изучение общей информации о данных.\n",
    "2. Предобработка данных.\n",
    "3. Анализ данных.\n",
    "4. Проверка гипотез.\n",
    "5. Общие выводы. "
   ]
  },
  {
   "cell_type": "markdown",
   "metadata": {},
   "source": [
    "### Обзор данных."
   ]
  },
  {
   "cell_type": "code",
   "execution_count": 1,
   "metadata": {},
   "outputs": [],
   "source": [
    "#проигнорируем предупреждения\n",
    "import warnings\n",
    "warnings.filterwarnings('ignore')"
   ]
  },
  {
   "cell_type": "code",
   "execution_count": 2,
   "metadata": {},
   "outputs": [],
   "source": [
    "# импорт библиотек\n",
    "import pandas as pd\n",
    "import math\n",
    "import seaborn as sns\n",
    "import matplotlib.pyplot as plt\n",
    "import numpy as np \n",
    "from scipy import stats as st"
   ]
  },
  {
   "cell_type": "code",
   "execution_count": 3,
   "metadata": {},
   "outputs": [],
   "source": [
    "# чтение файлов с данными и их сохранение\n",
    "calls = pd.read_csv('/datasets/calls.csv')\n",
    "internet = pd.read_csv('/datasets/internet.csv')\n",
    "messages = pd.read_csv('/datasets/messages.csv') \n",
    "tariffs = pd.read_csv('/datasets/tariffs.csv')\n",
    "users = pd.read_csv('/datasets/users.csv')"
   ]
  },
  {
   "cell_type": "code",
   "execution_count": 4,
   "metadata": {},
   "outputs": [
    {
     "data": {
      "text/html": [
       "<div>\n",
       "<style scoped>\n",
       "    .dataframe tbody tr th:only-of-type {\n",
       "        vertical-align: middle;\n",
       "    }\n",
       "\n",
       "    .dataframe tbody tr th {\n",
       "        vertical-align: top;\n",
       "    }\n",
       "\n",
       "    .dataframe thead th {\n",
       "        text-align: right;\n",
       "    }\n",
       "</style>\n",
       "<table border=\"1\" class=\"dataframe\">\n",
       "  <thead>\n",
       "    <tr style=\"text-align: right;\">\n",
       "      <th></th>\n",
       "      <th>id</th>\n",
       "      <th>call_date</th>\n",
       "      <th>duration</th>\n",
       "      <th>user_id</th>\n",
       "    </tr>\n",
       "  </thead>\n",
       "  <tbody>\n",
       "    <tr>\n",
       "      <th>0</th>\n",
       "      <td>1000_0</td>\n",
       "      <td>2018-07-25</td>\n",
       "      <td>0.00</td>\n",
       "      <td>1000</td>\n",
       "    </tr>\n",
       "    <tr>\n",
       "      <th>1</th>\n",
       "      <td>1000_1</td>\n",
       "      <td>2018-08-17</td>\n",
       "      <td>0.00</td>\n",
       "      <td>1000</td>\n",
       "    </tr>\n",
       "    <tr>\n",
       "      <th>2</th>\n",
       "      <td>1000_2</td>\n",
       "      <td>2018-06-11</td>\n",
       "      <td>2.85</td>\n",
       "      <td>1000</td>\n",
       "    </tr>\n",
       "    <tr>\n",
       "      <th>3</th>\n",
       "      <td>1000_3</td>\n",
       "      <td>2018-09-21</td>\n",
       "      <td>13.80</td>\n",
       "      <td>1000</td>\n",
       "    </tr>\n",
       "    <tr>\n",
       "      <th>4</th>\n",
       "      <td>1000_4</td>\n",
       "      <td>2018-12-15</td>\n",
       "      <td>5.18</td>\n",
       "      <td>1000</td>\n",
       "    </tr>\n",
       "  </tbody>\n",
       "</table>\n",
       "</div>"
      ],
      "text/plain": [
       "       id   call_date  duration  user_id\n",
       "0  1000_0  2018-07-25      0.00     1000\n",
       "1  1000_1  2018-08-17      0.00     1000\n",
       "2  1000_2  2018-06-11      2.85     1000\n",
       "3  1000_3  2018-09-21     13.80     1000\n",
       "4  1000_4  2018-12-15      5.18     1000"
      ]
     },
     "execution_count": 4,
     "metadata": {},
     "output_type": "execute_result"
    }
   ],
   "source": [
    "calls.head()"
   ]
  },
  {
   "cell_type": "code",
   "execution_count": 5,
   "metadata": {},
   "outputs": [
    {
     "data": {
      "text/html": [
       "<div>\n",
       "<style scoped>\n",
       "    .dataframe tbody tr th:only-of-type {\n",
       "        vertical-align: middle;\n",
       "    }\n",
       "\n",
       "    .dataframe tbody tr th {\n",
       "        vertical-align: top;\n",
       "    }\n",
       "\n",
       "    .dataframe thead th {\n",
       "        text-align: right;\n",
       "    }\n",
       "</style>\n",
       "<table border=\"1\" class=\"dataframe\">\n",
       "  <thead>\n",
       "    <tr style=\"text-align: right;\">\n",
       "      <th></th>\n",
       "      <th>Unnamed: 0</th>\n",
       "      <th>id</th>\n",
       "      <th>mb_used</th>\n",
       "      <th>session_date</th>\n",
       "      <th>user_id</th>\n",
       "    </tr>\n",
       "  </thead>\n",
       "  <tbody>\n",
       "    <tr>\n",
       "      <th>0</th>\n",
       "      <td>0</td>\n",
       "      <td>1000_0</td>\n",
       "      <td>112.95</td>\n",
       "      <td>2018-11-25</td>\n",
       "      <td>1000</td>\n",
       "    </tr>\n",
       "    <tr>\n",
       "      <th>1</th>\n",
       "      <td>1</td>\n",
       "      <td>1000_1</td>\n",
       "      <td>1052.81</td>\n",
       "      <td>2018-09-07</td>\n",
       "      <td>1000</td>\n",
       "    </tr>\n",
       "    <tr>\n",
       "      <th>2</th>\n",
       "      <td>2</td>\n",
       "      <td>1000_2</td>\n",
       "      <td>1197.26</td>\n",
       "      <td>2018-06-25</td>\n",
       "      <td>1000</td>\n",
       "    </tr>\n",
       "    <tr>\n",
       "      <th>3</th>\n",
       "      <td>3</td>\n",
       "      <td>1000_3</td>\n",
       "      <td>550.27</td>\n",
       "      <td>2018-08-22</td>\n",
       "      <td>1000</td>\n",
       "    </tr>\n",
       "    <tr>\n",
       "      <th>4</th>\n",
       "      <td>4</td>\n",
       "      <td>1000_4</td>\n",
       "      <td>302.56</td>\n",
       "      <td>2018-09-24</td>\n",
       "      <td>1000</td>\n",
       "    </tr>\n",
       "  </tbody>\n",
       "</table>\n",
       "</div>"
      ],
      "text/plain": [
       "   Unnamed: 0      id  mb_used session_date  user_id\n",
       "0           0  1000_0   112.95   2018-11-25     1000\n",
       "1           1  1000_1  1052.81   2018-09-07     1000\n",
       "2           2  1000_2  1197.26   2018-06-25     1000\n",
       "3           3  1000_3   550.27   2018-08-22     1000\n",
       "4           4  1000_4   302.56   2018-09-24     1000"
      ]
     },
     "execution_count": 5,
     "metadata": {},
     "output_type": "execute_result"
    }
   ],
   "source": [
    "internet.head()"
   ]
  },
  {
   "cell_type": "code",
   "execution_count": 6,
   "id": "491fe89c",
   "metadata": {
    "scrolled": true
   },
   "outputs": [
    {
     "data": {
      "text/html": [
       "<div>\n",
       "<style scoped>\n",
       "    .dataframe tbody tr th:only-of-type {\n",
       "        vertical-align: middle;\n",
       "    }\n",
       "\n",
       "    .dataframe tbody tr th {\n",
       "        vertical-align: top;\n",
       "    }\n",
       "\n",
       "    .dataframe thead th {\n",
       "        text-align: right;\n",
       "    }\n",
       "</style>\n",
       "<table border=\"1\" class=\"dataframe\">\n",
       "  <thead>\n",
       "    <tr style=\"text-align: right;\">\n",
       "      <th></th>\n",
       "      <th>user_id</th>\n",
       "      <th>age</th>\n",
       "      <th>churn_date</th>\n",
       "      <th>city</th>\n",
       "      <th>first_name</th>\n",
       "      <th>last_name</th>\n",
       "      <th>reg_date</th>\n",
       "      <th>tariff</th>\n",
       "    </tr>\n",
       "  </thead>\n",
       "  <tbody>\n",
       "    <tr>\n",
       "      <th>0</th>\n",
       "      <td>1000</td>\n",
       "      <td>52</td>\n",
       "      <td>NaN</td>\n",
       "      <td>Краснодар</td>\n",
       "      <td>Рафаил</td>\n",
       "      <td>Верещагин</td>\n",
       "      <td>2018-05-25</td>\n",
       "      <td>ultra</td>\n",
       "    </tr>\n",
       "    <tr>\n",
       "      <th>1</th>\n",
       "      <td>1001</td>\n",
       "      <td>41</td>\n",
       "      <td>NaN</td>\n",
       "      <td>Москва</td>\n",
       "      <td>Иван</td>\n",
       "      <td>Ежов</td>\n",
       "      <td>2018-11-01</td>\n",
       "      <td>smart</td>\n",
       "    </tr>\n",
       "    <tr>\n",
       "      <th>2</th>\n",
       "      <td>1002</td>\n",
       "      <td>59</td>\n",
       "      <td>NaN</td>\n",
       "      <td>Стерлитамак</td>\n",
       "      <td>Евгений</td>\n",
       "      <td>Абрамович</td>\n",
       "      <td>2018-06-17</td>\n",
       "      <td>smart</td>\n",
       "    </tr>\n",
       "    <tr>\n",
       "      <th>3</th>\n",
       "      <td>1003</td>\n",
       "      <td>23</td>\n",
       "      <td>NaN</td>\n",
       "      <td>Москва</td>\n",
       "      <td>Белла</td>\n",
       "      <td>Белякова</td>\n",
       "      <td>2018-08-17</td>\n",
       "      <td>ultra</td>\n",
       "    </tr>\n",
       "    <tr>\n",
       "      <th>4</th>\n",
       "      <td>1004</td>\n",
       "      <td>68</td>\n",
       "      <td>NaN</td>\n",
       "      <td>Новокузнецк</td>\n",
       "      <td>Татьяна</td>\n",
       "      <td>Авдеенко</td>\n",
       "      <td>2018-05-14</td>\n",
       "      <td>ultra</td>\n",
       "    </tr>\n",
       "  </tbody>\n",
       "</table>\n",
       "</div>"
      ],
      "text/plain": [
       "   user_id  age churn_date         city first_name  last_name    reg_date  \\\n",
       "0     1000   52        NaN    Краснодар     Рафаил  Верещагин  2018-05-25   \n",
       "1     1001   41        NaN       Москва       Иван       Ежов  2018-11-01   \n",
       "2     1002   59        NaN  Стерлитамак    Евгений  Абрамович  2018-06-17   \n",
       "3     1003   23        NaN       Москва      Белла   Белякова  2018-08-17   \n",
       "4     1004   68        NaN  Новокузнецк    Татьяна   Авдеенко  2018-05-14   \n",
       "\n",
       "  tariff  \n",
       "0  ultra  \n",
       "1  smart  \n",
       "2  smart  \n",
       "3  ultra  \n",
       "4  ultra  "
      ]
     },
     "execution_count": 6,
     "metadata": {},
     "output_type": "execute_result"
    }
   ],
   "source": [
    "users.head()"
   ]
  },
  {
   "cell_type": "code",
   "execution_count": 7,
   "metadata": {},
   "outputs": [
    {
     "data": {
      "text/html": [
       "<div>\n",
       "<style scoped>\n",
       "    .dataframe tbody tr th:only-of-type {\n",
       "        vertical-align: middle;\n",
       "    }\n",
       "\n",
       "    .dataframe tbody tr th {\n",
       "        vertical-align: top;\n",
       "    }\n",
       "\n",
       "    .dataframe thead th {\n",
       "        text-align: right;\n",
       "    }\n",
       "</style>\n",
       "<table border=\"1\" class=\"dataframe\">\n",
       "  <thead>\n",
       "    <tr style=\"text-align: right;\">\n",
       "      <th></th>\n",
       "      <th>id</th>\n",
       "      <th>message_date</th>\n",
       "      <th>user_id</th>\n",
       "    </tr>\n",
       "  </thead>\n",
       "  <tbody>\n",
       "    <tr>\n",
       "      <th>0</th>\n",
       "      <td>1000_0</td>\n",
       "      <td>2018-06-27</td>\n",
       "      <td>1000</td>\n",
       "    </tr>\n",
       "    <tr>\n",
       "      <th>1</th>\n",
       "      <td>1000_1</td>\n",
       "      <td>2018-10-08</td>\n",
       "      <td>1000</td>\n",
       "    </tr>\n",
       "    <tr>\n",
       "      <th>2</th>\n",
       "      <td>1000_2</td>\n",
       "      <td>2018-08-04</td>\n",
       "      <td>1000</td>\n",
       "    </tr>\n",
       "    <tr>\n",
       "      <th>3</th>\n",
       "      <td>1000_3</td>\n",
       "      <td>2018-06-16</td>\n",
       "      <td>1000</td>\n",
       "    </tr>\n",
       "    <tr>\n",
       "      <th>4</th>\n",
       "      <td>1000_4</td>\n",
       "      <td>2018-12-05</td>\n",
       "      <td>1000</td>\n",
       "    </tr>\n",
       "  </tbody>\n",
       "</table>\n",
       "</div>"
      ],
      "text/plain": [
       "       id message_date  user_id\n",
       "0  1000_0   2018-06-27     1000\n",
       "1  1000_1   2018-10-08     1000\n",
       "2  1000_2   2018-08-04     1000\n",
       "3  1000_3   2018-06-16     1000\n",
       "4  1000_4   2018-12-05     1000"
      ]
     },
     "execution_count": 7,
     "metadata": {},
     "output_type": "execute_result"
    }
   ],
   "source": [
    "messages.head()"
   ]
  },
  {
   "cell_type": "code",
   "execution_count": 8,
   "metadata": {
    "scrolled": true
   },
   "outputs": [
    {
     "data": {
      "text/html": [
       "<div>\n",
       "<style scoped>\n",
       "    .dataframe tbody tr th:only-of-type {\n",
       "        vertical-align: middle;\n",
       "    }\n",
       "\n",
       "    .dataframe tbody tr th {\n",
       "        vertical-align: top;\n",
       "    }\n",
       "\n",
       "    .dataframe thead th {\n",
       "        text-align: right;\n",
       "    }\n",
       "</style>\n",
       "<table border=\"1\" class=\"dataframe\">\n",
       "  <thead>\n",
       "    <tr style=\"text-align: right;\">\n",
       "      <th></th>\n",
       "      <th>messages_included</th>\n",
       "      <th>mb_per_month_included</th>\n",
       "      <th>minutes_included</th>\n",
       "      <th>rub_monthly_fee</th>\n",
       "      <th>rub_per_gb</th>\n",
       "      <th>rub_per_message</th>\n",
       "      <th>rub_per_minute</th>\n",
       "      <th>tariff_name</th>\n",
       "    </tr>\n",
       "  </thead>\n",
       "  <tbody>\n",
       "    <tr>\n",
       "      <th>0</th>\n",
       "      <td>50</td>\n",
       "      <td>15360</td>\n",
       "      <td>500</td>\n",
       "      <td>550</td>\n",
       "      <td>200</td>\n",
       "      <td>3</td>\n",
       "      <td>3</td>\n",
       "      <td>smart</td>\n",
       "    </tr>\n",
       "    <tr>\n",
       "      <th>1</th>\n",
       "      <td>1000</td>\n",
       "      <td>30720</td>\n",
       "      <td>3000</td>\n",
       "      <td>1950</td>\n",
       "      <td>150</td>\n",
       "      <td>1</td>\n",
       "      <td>1</td>\n",
       "      <td>ultra</td>\n",
       "    </tr>\n",
       "  </tbody>\n",
       "</table>\n",
       "</div>"
      ],
      "text/plain": [
       "   messages_included  mb_per_month_included  minutes_included  \\\n",
       "0                 50                  15360               500   \n",
       "1               1000                  30720              3000   \n",
       "\n",
       "   rub_monthly_fee  rub_per_gb  rub_per_message  rub_per_minute tariff_name  \n",
       "0              550         200                3               3       smart  \n",
       "1             1950         150                1               1       ultra  "
      ]
     },
     "execution_count": 8,
     "metadata": {},
     "output_type": "execute_result"
    }
   ],
   "source": [
    "tariffs"
   ]
  },
  {
   "cell_type": "code",
   "execution_count": 9,
   "metadata": {},
   "outputs": [],
   "source": [
    "#добавим в каждую таблицу столбец с номером месяца из соответствующей колонки с датой каждой таблицы\n",
    "calls['month'] = pd.DatetimeIndex(calls['call_date']).month \n",
    "internet['month'] = pd.DatetimeIndex(internet['session_date']).month \n",
    "users['month'] = pd.DatetimeIndex(users['reg_date']).month \n",
    "messages['month'] = pd.DatetimeIndex(messages['message_date']).month "
   ]
  },
  {
   "cell_type": "code",
   "execution_count": 10,
   "metadata": {},
   "outputs": [
    {
     "data": {
      "text/html": [
       "<div>\n",
       "<style scoped>\n",
       "    .dataframe tbody tr th:only-of-type {\n",
       "        vertical-align: middle;\n",
       "    }\n",
       "\n",
       "    .dataframe tbody tr th {\n",
       "        vertical-align: top;\n",
       "    }\n",
       "\n",
       "    .dataframe thead th {\n",
       "        text-align: right;\n",
       "    }\n",
       "</style>\n",
       "<table border=\"1\" class=\"dataframe\">\n",
       "  <thead>\n",
       "    <tr style=\"text-align: right;\">\n",
       "      <th></th>\n",
       "      <th>user_id</th>\n",
       "      <th>month_x</th>\n",
       "      <th>duration</th>\n",
       "      <th>mb_used</th>\n",
       "      <th>messages</th>\n",
       "      <th>age</th>\n",
       "      <th>churn_date</th>\n",
       "      <th>city</th>\n",
       "      <th>first_name</th>\n",
       "      <th>last_name</th>\n",
       "      <th>...</th>\n",
       "      <th>tariff</th>\n",
       "      <th>month_y</th>\n",
       "      <th>messages_included</th>\n",
       "      <th>mb_per_month_included</th>\n",
       "      <th>minutes_included</th>\n",
       "      <th>rub_monthly_fee</th>\n",
       "      <th>rub_per_gb</th>\n",
       "      <th>rub_per_message</th>\n",
       "      <th>rub_per_minute</th>\n",
       "      <th>tariff_name</th>\n",
       "    </tr>\n",
       "  </thead>\n",
       "  <tbody>\n",
       "    <tr>\n",
       "      <th>0</th>\n",
       "      <td>1000</td>\n",
       "      <td>5</td>\n",
       "      <td>150.06</td>\n",
       "      <td>2253.49</td>\n",
       "      <td>22.0</td>\n",
       "      <td>52</td>\n",
       "      <td>NaN</td>\n",
       "      <td>Краснодар</td>\n",
       "      <td>Рафаил</td>\n",
       "      <td>Верещагин</td>\n",
       "      <td>...</td>\n",
       "      <td>ultra</td>\n",
       "      <td>5</td>\n",
       "      <td>1000</td>\n",
       "      <td>30720</td>\n",
       "      <td>3000</td>\n",
       "      <td>1950</td>\n",
       "      <td>150</td>\n",
       "      <td>1</td>\n",
       "      <td>1</td>\n",
       "      <td>ultra</td>\n",
       "    </tr>\n",
       "    <tr>\n",
       "      <th>1</th>\n",
       "      <td>1000</td>\n",
       "      <td>6</td>\n",
       "      <td>158.90</td>\n",
       "      <td>23233.77</td>\n",
       "      <td>60.0</td>\n",
       "      <td>52</td>\n",
       "      <td>NaN</td>\n",
       "      <td>Краснодар</td>\n",
       "      <td>Рафаил</td>\n",
       "      <td>Верещагин</td>\n",
       "      <td>...</td>\n",
       "      <td>ultra</td>\n",
       "      <td>5</td>\n",
       "      <td>1000</td>\n",
       "      <td>30720</td>\n",
       "      <td>3000</td>\n",
       "      <td>1950</td>\n",
       "      <td>150</td>\n",
       "      <td>1</td>\n",
       "      <td>1</td>\n",
       "      <td>ultra</td>\n",
       "    </tr>\n",
       "    <tr>\n",
       "      <th>2</th>\n",
       "      <td>1000</td>\n",
       "      <td>7</td>\n",
       "      <td>318.80</td>\n",
       "      <td>14003.64</td>\n",
       "      <td>75.0</td>\n",
       "      <td>52</td>\n",
       "      <td>NaN</td>\n",
       "      <td>Краснодар</td>\n",
       "      <td>Рафаил</td>\n",
       "      <td>Верещагин</td>\n",
       "      <td>...</td>\n",
       "      <td>ultra</td>\n",
       "      <td>5</td>\n",
       "      <td>1000</td>\n",
       "      <td>30720</td>\n",
       "      <td>3000</td>\n",
       "      <td>1950</td>\n",
       "      <td>150</td>\n",
       "      <td>1</td>\n",
       "      <td>1</td>\n",
       "      <td>ultra</td>\n",
       "    </tr>\n",
       "    <tr>\n",
       "      <th>3</th>\n",
       "      <td>1000</td>\n",
       "      <td>8</td>\n",
       "      <td>389.87</td>\n",
       "      <td>14055.93</td>\n",
       "      <td>81.0</td>\n",
       "      <td>52</td>\n",
       "      <td>NaN</td>\n",
       "      <td>Краснодар</td>\n",
       "      <td>Рафаил</td>\n",
       "      <td>Верещагин</td>\n",
       "      <td>...</td>\n",
       "      <td>ultra</td>\n",
       "      <td>5</td>\n",
       "      <td>1000</td>\n",
       "      <td>30720</td>\n",
       "      <td>3000</td>\n",
       "      <td>1950</td>\n",
       "      <td>150</td>\n",
       "      <td>1</td>\n",
       "      <td>1</td>\n",
       "      <td>ultra</td>\n",
       "    </tr>\n",
       "    <tr>\n",
       "      <th>4</th>\n",
       "      <td>1000</td>\n",
       "      <td>9</td>\n",
       "      <td>440.14</td>\n",
       "      <td>14568.91</td>\n",
       "      <td>57.0</td>\n",
       "      <td>52</td>\n",
       "      <td>NaN</td>\n",
       "      <td>Краснодар</td>\n",
       "      <td>Рафаил</td>\n",
       "      <td>Верещагин</td>\n",
       "      <td>...</td>\n",
       "      <td>ultra</td>\n",
       "      <td>5</td>\n",
       "      <td>1000</td>\n",
       "      <td>30720</td>\n",
       "      <td>3000</td>\n",
       "      <td>1950</td>\n",
       "      <td>150</td>\n",
       "      <td>1</td>\n",
       "      <td>1</td>\n",
       "      <td>ultra</td>\n",
       "    </tr>\n",
       "  </tbody>\n",
       "</table>\n",
       "<p>5 rows × 21 columns</p>\n",
       "</div>"
      ],
      "text/plain": [
       "   user_id  month_x  duration   mb_used  messages  age churn_date       city  \\\n",
       "0     1000        5    150.06   2253.49      22.0   52        NaN  Краснодар   \n",
       "1     1000        6    158.90  23233.77      60.0   52        NaN  Краснодар   \n",
       "2     1000        7    318.80  14003.64      75.0   52        NaN  Краснодар   \n",
       "3     1000        8    389.87  14055.93      81.0   52        NaN  Краснодар   \n",
       "4     1000        9    440.14  14568.91      57.0   52        NaN  Краснодар   \n",
       "\n",
       "  first_name  last_name  ... tariff month_y  messages_included  \\\n",
       "0     Рафаил  Верещагин  ...  ultra       5               1000   \n",
       "1     Рафаил  Верещагин  ...  ultra       5               1000   \n",
       "2     Рафаил  Верещагин  ...  ultra       5               1000   \n",
       "3     Рафаил  Верещагин  ...  ultra       5               1000   \n",
       "4     Рафаил  Верещагин  ...  ultra       5               1000   \n",
       "\n",
       "   mb_per_month_included  minutes_included  rub_monthly_fee  rub_per_gb  \\\n",
       "0                  30720              3000             1950         150   \n",
       "1                  30720              3000             1950         150   \n",
       "2                  30720              3000             1950         150   \n",
       "3                  30720              3000             1950         150   \n",
       "4                  30720              3000             1950         150   \n",
       "\n",
       "   rub_per_message  rub_per_minute  tariff_name  \n",
       "0                1               1        ultra  \n",
       "1                1               1        ultra  \n",
       "2                1               1        ultra  \n",
       "3                1               1        ultra  \n",
       "4                1               1        ultra  \n",
       "\n",
       "[5 rows x 21 columns]"
      ]
     },
     "execution_count": 10,
     "metadata": {},
     "output_type": "execute_result"
    }
   ],
   "source": [
    "#объединим данные в сводную таблицу по идентификатору пользователя и месяцу\n",
    "\n",
    "calls = calls.groupby(['user_id', 'month']).agg({'duration': 'sum'}).reset_index()\n",
    "internet = internet.groupby(['user_id', 'month']).agg({'mb_used': 'sum'}).reset_index()\n",
    "messages = messages.groupby(['user_id', 'month']).agg({'id': 'count'}).rename(columns = {'id': 'messages'}).reset_index()\n",
    "\n",
    "report = calls.merge(internet, on = ['user_id', 'month'], how = 'outer')\\\n",
    "              .merge(messages, on = ['user_id', 'month'], how = 'outer').fillna(0)\n",
    "report = report.merge(users, on = 'user_id', how = 'left').merge(tariffs, left_on = 'tariff', \n",
    "                                                                 right_on = 'tariff_name', how = 'left')\n",
    "report.head()"
   ]
  },
  {
   "cell_type": "code",
   "execution_count": 11,
   "metadata": {},
   "outputs": [
    {
     "name": "stdout",
     "output_type": "stream",
     "text": [
      "<class 'pandas.core.frame.DataFrame'>\n",
      "Int64Index: 3214 entries, 0 to 3213\n",
      "Data columns (total 21 columns):\n",
      " #   Column                 Non-Null Count  Dtype  \n",
      "---  ------                 --------------  -----  \n",
      " 0   user_id                3214 non-null   int64  \n",
      " 1   month_x                3214 non-null   int64  \n",
      " 2   duration               3214 non-null   float64\n",
      " 3   mb_used                3214 non-null   float64\n",
      " 4   messages               3214 non-null   float64\n",
      " 5   age                    3214 non-null   int64  \n",
      " 6   churn_date             187 non-null    object \n",
      " 7   city                   3214 non-null   object \n",
      " 8   first_name             3214 non-null   object \n",
      " 9   last_name              3214 non-null   object \n",
      " 10  reg_date               3214 non-null   object \n",
      " 11  tariff                 3214 non-null   object \n",
      " 12  month_y                3214 non-null   int64  \n",
      " 13  messages_included      3214 non-null   int64  \n",
      " 14  mb_per_month_included  3214 non-null   int64  \n",
      " 15  minutes_included       3214 non-null   int64  \n",
      " 16  rub_monthly_fee        3214 non-null   int64  \n",
      " 17  rub_per_gb             3214 non-null   int64  \n",
      " 18  rub_per_message        3214 non-null   int64  \n",
      " 19  rub_per_minute         3214 non-null   int64  \n",
      " 20  tariff_name            3214 non-null   object \n",
      "dtypes: float64(3), int64(11), object(7)\n",
      "memory usage: 552.4+ KB\n"
     ]
    }
   ],
   "source": [
    "# получение общей информации о данных в новой сводной таблице\n",
    "report.info() "
   ]
  },
  {
   "cell_type": "markdown",
   "metadata": {},
   "source": [
    "Итак, в таблице 21 столбец. \n",
    "Типы данных в столбцах — float, int и object.\n",
    "\n",
    "- user_id — уникальный идентификатор пользователя\n",
    "- first_name — имя пользователя\n",
    "- last_name — фамилия пользователя\n",
    "- age — возраст пользователя (годы)\n",
    "- reg_date — дата подключения тарифа (день, месяц, год)\n",
    "- churn_date — дата прекращения пользования тарифом (если значение пропущено, то тариф ещё действовал на момент выгрузки данных)\n",
    "- city — город проживания пользователя\n",
    "- tarif — название тарифного плана\n",
    "- messages - кол-во отправдленных сообщений каждым пользователем помесячно \n",
    "- duration — длительность звонков каждого пользователя в минутах помесячно \n",
    "- mb_used — объём потраченного интернет-трафика каждого пользователя (в мегабайтах) помесячно \n",
    "- tariff_name — название тарифа\n",
    "- rub_monthly_fee — ежемесячная абонентская плата в рублях\n",
    "- minutes_included — количество минут разговора в месяц, включённых в абонентскую плату\n",
    "- messages_included — количество сообщений в месяц, включённых в абонентскую плату\n",
    "- mb_per_month_included — объём интернет-трафика, включённого в абонентскую плату (в мегабайтах)\n",
    "- rub_per_minute — стоимость минуты разговора сверх тарифного пакета (например, если в тарифе 100 минут разговора в месяц, то со 101 минуты будет взиматься плата)\n",
    "- rub_per_message — стоимость отправки сообщения сверх тарифного пакета\n",
    "- rub_per_gb — стоимость дополнительного гигабайта интернет-трафика сверх тарифного пакета (1 гигабайт = 1024 мегабайта)"
   ]
  },
  {
   "cell_type": "code",
   "execution_count": 12,
   "metadata": {},
   "outputs": [
    {
     "data": {
      "text/plain": [
       "user_id                     0\n",
       "month_x                     0\n",
       "duration                    0\n",
       "mb_used                     0\n",
       "messages                    0\n",
       "age                         0\n",
       "churn_date               3027\n",
       "city                        0\n",
       "first_name                  0\n",
       "last_name                   0\n",
       "reg_date                    0\n",
       "tariff                      0\n",
       "month_y                     0\n",
       "messages_included           0\n",
       "mb_per_month_included       0\n",
       "minutes_included            0\n",
       "rub_monthly_fee             0\n",
       "rub_per_gb                  0\n",
       "rub_per_message             0\n",
       "rub_per_minute              0\n",
       "tariff_name                 0\n",
       "dtype: int64"
      ]
     },
     "metadata": {},
     "output_type": "display_data"
    }
   ],
   "source": [
    "# подсчёт пропусков \n",
    "display(report.isna().sum())"
   ]
  },
  {
   "cell_type": "markdown",
   "metadata": {},
   "source": [
    "Пропуски только в столбце churn_date (дата прекращения пользования тарифом), но их заполнять не надо, так как значит на момент выгрузки тариф еще действовал. "
   ]
  },
  {
   "cell_type": "markdown",
   "metadata": {},
   "source": [
    "#### Вывод: На данном этапе мы изучили общую информацию о данных. Объеденили данные в сводную таблицу для удобства работы с данными. "
   ]
  },
  {
   "cell_type": "markdown",
   "metadata": {},
   "source": [
    "### Подготовка данных."
   ]
  },
  {
   "cell_type": "code",
   "execution_count": 13,
   "metadata": {},
   "outputs": [],
   "source": [
    "#переведем использованные Mb трафика в Gb и округлим в большую сторону \n",
    "report['mb_used'] = (report['mb_used'] / 1024)\n",
    "report['mb_per_month_included'] = (report['mb_per_month_included'] / 1024)"
   ]
  },
  {
   "cell_type": "code",
   "execution_count": 14,
   "metadata": {},
   "outputs": [
    {
     "name": "stdout",
     "output_type": "stream",
     "text": [
      "CPU times: user 434 µs, sys: 138 µs, total: 572 µs\n",
      "Wall time: 586 µs\n"
     ]
    }
   ],
   "source": [
    "%%time\n",
    "report['mb_used'] = report['mb_used'].apply(pd.np.ceil) "
   ]
  },
  {
   "cell_type": "code",
   "execution_count": 15,
   "metadata": {},
   "outputs": [
    {
     "name": "stdout",
     "output_type": "stream",
     "text": [
      "CPU times: user 381 µs, sys: 121 µs, total: 502 µs\n",
      "Wall time: 512 µs\n"
     ]
    }
   ],
   "source": [
    "%%time\n",
    "report['mb_used'] = np.ceil(report['mb_used'])"
   ]
  },
  {
   "cell_type": "code",
   "execution_count": 16,
   "metadata": {},
   "outputs": [
    {
     "data": {
      "text/html": [
       "<div>\n",
       "<style scoped>\n",
       "    .dataframe tbody tr th:only-of-type {\n",
       "        vertical-align: middle;\n",
       "    }\n",
       "\n",
       "    .dataframe tbody tr th {\n",
       "        vertical-align: top;\n",
       "    }\n",
       "\n",
       "    .dataframe thead th {\n",
       "        text-align: right;\n",
       "    }\n",
       "</style>\n",
       "<table border=\"1\" class=\"dataframe\">\n",
       "  <thead>\n",
       "    <tr style=\"text-align: right;\">\n",
       "      <th></th>\n",
       "      <th>user_id</th>\n",
       "      <th>month_x</th>\n",
       "      <th>duration</th>\n",
       "      <th>mb_used</th>\n",
       "      <th>messages</th>\n",
       "      <th>age</th>\n",
       "      <th>churn_date</th>\n",
       "      <th>city</th>\n",
       "      <th>first_name</th>\n",
       "      <th>last_name</th>\n",
       "      <th>...</th>\n",
       "      <th>tariff</th>\n",
       "      <th>month_y</th>\n",
       "      <th>messages_included</th>\n",
       "      <th>mb_per_month_included</th>\n",
       "      <th>minutes_included</th>\n",
       "      <th>rub_monthly_fee</th>\n",
       "      <th>rub_per_gb</th>\n",
       "      <th>rub_per_message</th>\n",
       "      <th>rub_per_minute</th>\n",
       "      <th>tariff_name</th>\n",
       "    </tr>\n",
       "  </thead>\n",
       "  <tbody>\n",
       "    <tr>\n",
       "      <th>0</th>\n",
       "      <td>1000</td>\n",
       "      <td>5</td>\n",
       "      <td>151.0</td>\n",
       "      <td>3.0</td>\n",
       "      <td>22.0</td>\n",
       "      <td>52</td>\n",
       "      <td>NaN</td>\n",
       "      <td>Краснодар</td>\n",
       "      <td>Рафаил</td>\n",
       "      <td>Верещагин</td>\n",
       "      <td>...</td>\n",
       "      <td>ultra</td>\n",
       "      <td>5</td>\n",
       "      <td>1000</td>\n",
       "      <td>30.0</td>\n",
       "      <td>3000</td>\n",
       "      <td>1950</td>\n",
       "      <td>150</td>\n",
       "      <td>1</td>\n",
       "      <td>1</td>\n",
       "      <td>ultra</td>\n",
       "    </tr>\n",
       "    <tr>\n",
       "      <th>1</th>\n",
       "      <td>1000</td>\n",
       "      <td>6</td>\n",
       "      <td>159.0</td>\n",
       "      <td>23.0</td>\n",
       "      <td>60.0</td>\n",
       "      <td>52</td>\n",
       "      <td>NaN</td>\n",
       "      <td>Краснодар</td>\n",
       "      <td>Рафаил</td>\n",
       "      <td>Верещагин</td>\n",
       "      <td>...</td>\n",
       "      <td>ultra</td>\n",
       "      <td>5</td>\n",
       "      <td>1000</td>\n",
       "      <td>30.0</td>\n",
       "      <td>3000</td>\n",
       "      <td>1950</td>\n",
       "      <td>150</td>\n",
       "      <td>1</td>\n",
       "      <td>1</td>\n",
       "      <td>ultra</td>\n",
       "    </tr>\n",
       "    <tr>\n",
       "      <th>2</th>\n",
       "      <td>1000</td>\n",
       "      <td>7</td>\n",
       "      <td>319.0</td>\n",
       "      <td>14.0</td>\n",
       "      <td>75.0</td>\n",
       "      <td>52</td>\n",
       "      <td>NaN</td>\n",
       "      <td>Краснодар</td>\n",
       "      <td>Рафаил</td>\n",
       "      <td>Верещагин</td>\n",
       "      <td>...</td>\n",
       "      <td>ultra</td>\n",
       "      <td>5</td>\n",
       "      <td>1000</td>\n",
       "      <td>30.0</td>\n",
       "      <td>3000</td>\n",
       "      <td>1950</td>\n",
       "      <td>150</td>\n",
       "      <td>1</td>\n",
       "      <td>1</td>\n",
       "      <td>ultra</td>\n",
       "    </tr>\n",
       "    <tr>\n",
       "      <th>3</th>\n",
       "      <td>1000</td>\n",
       "      <td>8</td>\n",
       "      <td>390.0</td>\n",
       "      <td>14.0</td>\n",
       "      <td>81.0</td>\n",
       "      <td>52</td>\n",
       "      <td>NaN</td>\n",
       "      <td>Краснодар</td>\n",
       "      <td>Рафаил</td>\n",
       "      <td>Верещагин</td>\n",
       "      <td>...</td>\n",
       "      <td>ultra</td>\n",
       "      <td>5</td>\n",
       "      <td>1000</td>\n",
       "      <td>30.0</td>\n",
       "      <td>3000</td>\n",
       "      <td>1950</td>\n",
       "      <td>150</td>\n",
       "      <td>1</td>\n",
       "      <td>1</td>\n",
       "      <td>ultra</td>\n",
       "    </tr>\n",
       "    <tr>\n",
       "      <th>4</th>\n",
       "      <td>1000</td>\n",
       "      <td>9</td>\n",
       "      <td>441.0</td>\n",
       "      <td>15.0</td>\n",
       "      <td>57.0</td>\n",
       "      <td>52</td>\n",
       "      <td>NaN</td>\n",
       "      <td>Краснодар</td>\n",
       "      <td>Рафаил</td>\n",
       "      <td>Верещагин</td>\n",
       "      <td>...</td>\n",
       "      <td>ultra</td>\n",
       "      <td>5</td>\n",
       "      <td>1000</td>\n",
       "      <td>30.0</td>\n",
       "      <td>3000</td>\n",
       "      <td>1950</td>\n",
       "      <td>150</td>\n",
       "      <td>1</td>\n",
       "      <td>1</td>\n",
       "      <td>ultra</td>\n",
       "    </tr>\n",
       "    <tr>\n",
       "      <th>5</th>\n",
       "      <td>1000</td>\n",
       "      <td>10</td>\n",
       "      <td>329.0</td>\n",
       "      <td>15.0</td>\n",
       "      <td>73.0</td>\n",
       "      <td>52</td>\n",
       "      <td>NaN</td>\n",
       "      <td>Краснодар</td>\n",
       "      <td>Рафаил</td>\n",
       "      <td>Верещагин</td>\n",
       "      <td>...</td>\n",
       "      <td>ultra</td>\n",
       "      <td>5</td>\n",
       "      <td>1000</td>\n",
       "      <td>30.0</td>\n",
       "      <td>3000</td>\n",
       "      <td>1950</td>\n",
       "      <td>150</td>\n",
       "      <td>1</td>\n",
       "      <td>1</td>\n",
       "      <td>ultra</td>\n",
       "    </tr>\n",
       "    <tr>\n",
       "      <th>6</th>\n",
       "      <td>1000</td>\n",
       "      <td>11</td>\n",
       "      <td>320.0</td>\n",
       "      <td>15.0</td>\n",
       "      <td>58.0</td>\n",
       "      <td>52</td>\n",
       "      <td>NaN</td>\n",
       "      <td>Краснодар</td>\n",
       "      <td>Рафаил</td>\n",
       "      <td>Верещагин</td>\n",
       "      <td>...</td>\n",
       "      <td>ultra</td>\n",
       "      <td>5</td>\n",
       "      <td>1000</td>\n",
       "      <td>30.0</td>\n",
       "      <td>3000</td>\n",
       "      <td>1950</td>\n",
       "      <td>150</td>\n",
       "      <td>1</td>\n",
       "      <td>1</td>\n",
       "      <td>ultra</td>\n",
       "    </tr>\n",
       "    <tr>\n",
       "      <th>7</th>\n",
       "      <td>1000</td>\n",
       "      <td>12</td>\n",
       "      <td>313.0</td>\n",
       "      <td>10.0</td>\n",
       "      <td>70.0</td>\n",
       "      <td>52</td>\n",
       "      <td>NaN</td>\n",
       "      <td>Краснодар</td>\n",
       "      <td>Рафаил</td>\n",
       "      <td>Верещагин</td>\n",
       "      <td>...</td>\n",
       "      <td>ultra</td>\n",
       "      <td>5</td>\n",
       "      <td>1000</td>\n",
       "      <td>30.0</td>\n",
       "      <td>3000</td>\n",
       "      <td>1950</td>\n",
       "      <td>150</td>\n",
       "      <td>1</td>\n",
       "      <td>1</td>\n",
       "      <td>ultra</td>\n",
       "    </tr>\n",
       "    <tr>\n",
       "      <th>8</th>\n",
       "      <td>1001</td>\n",
       "      <td>11</td>\n",
       "      <td>409.0</td>\n",
       "      <td>18.0</td>\n",
       "      <td>0.0</td>\n",
       "      <td>41</td>\n",
       "      <td>NaN</td>\n",
       "      <td>Москва</td>\n",
       "      <td>Иван</td>\n",
       "      <td>Ежов</td>\n",
       "      <td>...</td>\n",
       "      <td>smart</td>\n",
       "      <td>11</td>\n",
       "      <td>50</td>\n",
       "      <td>15.0</td>\n",
       "      <td>500</td>\n",
       "      <td>550</td>\n",
       "      <td>200</td>\n",
       "      <td>3</td>\n",
       "      <td>3</td>\n",
       "      <td>smart</td>\n",
       "    </tr>\n",
       "    <tr>\n",
       "      <th>9</th>\n",
       "      <td>1001</td>\n",
       "      <td>12</td>\n",
       "      <td>392.0</td>\n",
       "      <td>14.0</td>\n",
       "      <td>0.0</td>\n",
       "      <td>41</td>\n",
       "      <td>NaN</td>\n",
       "      <td>Москва</td>\n",
       "      <td>Иван</td>\n",
       "      <td>Ежов</td>\n",
       "      <td>...</td>\n",
       "      <td>smart</td>\n",
       "      <td>11</td>\n",
       "      <td>50</td>\n",
       "      <td>15.0</td>\n",
       "      <td>500</td>\n",
       "      <td>550</td>\n",
       "      <td>200</td>\n",
       "      <td>3</td>\n",
       "      <td>3</td>\n",
       "      <td>smart</td>\n",
       "    </tr>\n",
       "  </tbody>\n",
       "</table>\n",
       "<p>10 rows × 21 columns</p>\n",
       "</div>"
      ],
      "text/plain": [
       "   user_id  month_x  duration  mb_used  messages  age churn_date       city  \\\n",
       "0     1000        5     151.0      3.0      22.0   52        NaN  Краснодар   \n",
       "1     1000        6     159.0     23.0      60.0   52        NaN  Краснодар   \n",
       "2     1000        7     319.0     14.0      75.0   52        NaN  Краснодар   \n",
       "3     1000        8     390.0     14.0      81.0   52        NaN  Краснодар   \n",
       "4     1000        9     441.0     15.0      57.0   52        NaN  Краснодар   \n",
       "5     1000       10     329.0     15.0      73.0   52        NaN  Краснодар   \n",
       "6     1000       11     320.0     15.0      58.0   52        NaN  Краснодар   \n",
       "7     1000       12     313.0     10.0      70.0   52        NaN  Краснодар   \n",
       "8     1001       11     409.0     18.0       0.0   41        NaN     Москва   \n",
       "9     1001       12     392.0     14.0       0.0   41        NaN     Москва   \n",
       "\n",
       "  first_name  last_name  ... tariff month_y  messages_included  \\\n",
       "0     Рафаил  Верещагин  ...  ultra       5               1000   \n",
       "1     Рафаил  Верещагин  ...  ultra       5               1000   \n",
       "2     Рафаил  Верещагин  ...  ultra       5               1000   \n",
       "3     Рафаил  Верещагин  ...  ultra       5               1000   \n",
       "4     Рафаил  Верещагин  ...  ultra       5               1000   \n",
       "5     Рафаил  Верещагин  ...  ultra       5               1000   \n",
       "6     Рафаил  Верещагин  ...  ultra       5               1000   \n",
       "7     Рафаил  Верещагин  ...  ultra       5               1000   \n",
       "8       Иван       Ежов  ...  smart      11                 50   \n",
       "9       Иван       Ежов  ...  smart      11                 50   \n",
       "\n",
       "   mb_per_month_included  minutes_included  rub_monthly_fee  rub_per_gb  \\\n",
       "0                   30.0              3000             1950         150   \n",
       "1                   30.0              3000             1950         150   \n",
       "2                   30.0              3000             1950         150   \n",
       "3                   30.0              3000             1950         150   \n",
       "4                   30.0              3000             1950         150   \n",
       "5                   30.0              3000             1950         150   \n",
       "6                   30.0              3000             1950         150   \n",
       "7                   30.0              3000             1950         150   \n",
       "8                   15.0               500              550         200   \n",
       "9                   15.0               500              550         200   \n",
       "\n",
       "   rub_per_message  rub_per_minute  tariff_name  \n",
       "0                1               1        ultra  \n",
       "1                1               1        ultra  \n",
       "2                1               1        ultra  \n",
       "3                1               1        ultra  \n",
       "4                1               1        ultra  \n",
       "5                1               1        ultra  \n",
       "6                1               1        ultra  \n",
       "7                1               1        ultra  \n",
       "8                3               3        smart  \n",
       "9                3               3        smart  \n",
       "\n",
       "[10 rows x 21 columns]"
      ]
     },
     "execution_count": 16,
     "metadata": {},
     "output_type": "execute_result"
    }
   ],
   "source": [
    "#округлим использованные минуты в большую сторону \n",
    "report['duration'] = report['duration'].apply(pd.np.ceil)\n",
    "\n",
    "report.head(10) #проверка результата "
   ]
  },
  {
   "cell_type": "code",
   "execution_count": 17,
   "metadata": {},
   "outputs": [],
   "source": [
    "#напишем функцию для расчета месечной выручки с каждого пользователя и добавим сумму в соответствующий новый столбец\n",
    "def revenue(row):\n",
    "    pay_min = 0\n",
    "    pay_message = 0\n",
    "    pay_internet = 0\n",
    "    if (row['duration'] - row['minutes_included']) > 0:\n",
    "        pay_min = (row['duration'] - row['minutes_included']) * row['rub_per_minute']\n",
    "    if (row['mb_used'] - row['mb_per_month_included']) > 0:\n",
    "        pay_internet = (row['mb_used'] - row['mb_per_month_included']) * row['rub_per_gb']\n",
    "    if (row['messages'] - row['messages_included']) > 0:\n",
    "        pay_message = (row['messages'] - row['messages_included']) * row['rub_per_message']\n",
    "    result = pay_min + pay_message + pay_internet + row['rub_monthly_fee']\n",
    "    return result"
   ]
  },
  {
   "cell_type": "code",
   "execution_count": 18,
   "metadata": {},
   "outputs": [],
   "source": [
    "report['revenue_per_month'] = report.apply(revenue, axis=1)"
   ]
  },
  {
   "cell_type": "code",
   "execution_count": 19,
   "metadata": {},
   "outputs": [
    {
     "data": {
      "text/html": [
       "<div>\n",
       "<style scoped>\n",
       "    .dataframe tbody tr th:only-of-type {\n",
       "        vertical-align: middle;\n",
       "    }\n",
       "\n",
       "    .dataframe tbody tr th {\n",
       "        vertical-align: top;\n",
       "    }\n",
       "\n",
       "    .dataframe thead th {\n",
       "        text-align: right;\n",
       "    }\n",
       "</style>\n",
       "<table border=\"1\" class=\"dataframe\">\n",
       "  <thead>\n",
       "    <tr style=\"text-align: right;\">\n",
       "      <th></th>\n",
       "      <th>user_id</th>\n",
       "      <th>month_x</th>\n",
       "      <th>duration</th>\n",
       "      <th>mb_used</th>\n",
       "      <th>messages</th>\n",
       "      <th>age</th>\n",
       "      <th>churn_date</th>\n",
       "      <th>city</th>\n",
       "      <th>first_name</th>\n",
       "      <th>last_name</th>\n",
       "      <th>...</th>\n",
       "      <th>month_y</th>\n",
       "      <th>messages_included</th>\n",
       "      <th>mb_per_month_included</th>\n",
       "      <th>minutes_included</th>\n",
       "      <th>rub_monthly_fee</th>\n",
       "      <th>rub_per_gb</th>\n",
       "      <th>rub_per_message</th>\n",
       "      <th>rub_per_minute</th>\n",
       "      <th>tariff_name</th>\n",
       "      <th>revenue_per_month</th>\n",
       "    </tr>\n",
       "  </thead>\n",
       "  <tbody>\n",
       "    <tr>\n",
       "      <th>0</th>\n",
       "      <td>1000</td>\n",
       "      <td>5</td>\n",
       "      <td>151.0</td>\n",
       "      <td>3.0</td>\n",
       "      <td>22.0</td>\n",
       "      <td>52</td>\n",
       "      <td>NaN</td>\n",
       "      <td>Краснодар</td>\n",
       "      <td>Рафаил</td>\n",
       "      <td>Верещагин</td>\n",
       "      <td>...</td>\n",
       "      <td>5</td>\n",
       "      <td>1000</td>\n",
       "      <td>30.0</td>\n",
       "      <td>3000</td>\n",
       "      <td>1950</td>\n",
       "      <td>150</td>\n",
       "      <td>1</td>\n",
       "      <td>1</td>\n",
       "      <td>ultra</td>\n",
       "      <td>1950.0</td>\n",
       "    </tr>\n",
       "    <tr>\n",
       "      <th>1</th>\n",
       "      <td>1000</td>\n",
       "      <td>6</td>\n",
       "      <td>159.0</td>\n",
       "      <td>23.0</td>\n",
       "      <td>60.0</td>\n",
       "      <td>52</td>\n",
       "      <td>NaN</td>\n",
       "      <td>Краснодар</td>\n",
       "      <td>Рафаил</td>\n",
       "      <td>Верещагин</td>\n",
       "      <td>...</td>\n",
       "      <td>5</td>\n",
       "      <td>1000</td>\n",
       "      <td>30.0</td>\n",
       "      <td>3000</td>\n",
       "      <td>1950</td>\n",
       "      <td>150</td>\n",
       "      <td>1</td>\n",
       "      <td>1</td>\n",
       "      <td>ultra</td>\n",
       "      <td>1950.0</td>\n",
       "    </tr>\n",
       "    <tr>\n",
       "      <th>2</th>\n",
       "      <td>1000</td>\n",
       "      <td>7</td>\n",
       "      <td>319.0</td>\n",
       "      <td>14.0</td>\n",
       "      <td>75.0</td>\n",
       "      <td>52</td>\n",
       "      <td>NaN</td>\n",
       "      <td>Краснодар</td>\n",
       "      <td>Рафаил</td>\n",
       "      <td>Верещагин</td>\n",
       "      <td>...</td>\n",
       "      <td>5</td>\n",
       "      <td>1000</td>\n",
       "      <td>30.0</td>\n",
       "      <td>3000</td>\n",
       "      <td>1950</td>\n",
       "      <td>150</td>\n",
       "      <td>1</td>\n",
       "      <td>1</td>\n",
       "      <td>ultra</td>\n",
       "      <td>1950.0</td>\n",
       "    </tr>\n",
       "    <tr>\n",
       "      <th>3</th>\n",
       "      <td>1000</td>\n",
       "      <td>8</td>\n",
       "      <td>390.0</td>\n",
       "      <td>14.0</td>\n",
       "      <td>81.0</td>\n",
       "      <td>52</td>\n",
       "      <td>NaN</td>\n",
       "      <td>Краснодар</td>\n",
       "      <td>Рафаил</td>\n",
       "      <td>Верещагин</td>\n",
       "      <td>...</td>\n",
       "      <td>5</td>\n",
       "      <td>1000</td>\n",
       "      <td>30.0</td>\n",
       "      <td>3000</td>\n",
       "      <td>1950</td>\n",
       "      <td>150</td>\n",
       "      <td>1</td>\n",
       "      <td>1</td>\n",
       "      <td>ultra</td>\n",
       "      <td>1950.0</td>\n",
       "    </tr>\n",
       "    <tr>\n",
       "      <th>4</th>\n",
       "      <td>1000</td>\n",
       "      <td>9</td>\n",
       "      <td>441.0</td>\n",
       "      <td>15.0</td>\n",
       "      <td>57.0</td>\n",
       "      <td>52</td>\n",
       "      <td>NaN</td>\n",
       "      <td>Краснодар</td>\n",
       "      <td>Рафаил</td>\n",
       "      <td>Верещагин</td>\n",
       "      <td>...</td>\n",
       "      <td>5</td>\n",
       "      <td>1000</td>\n",
       "      <td>30.0</td>\n",
       "      <td>3000</td>\n",
       "      <td>1950</td>\n",
       "      <td>150</td>\n",
       "      <td>1</td>\n",
       "      <td>1</td>\n",
       "      <td>ultra</td>\n",
       "      <td>1950.0</td>\n",
       "    </tr>\n",
       "  </tbody>\n",
       "</table>\n",
       "<p>5 rows × 22 columns</p>\n",
       "</div>"
      ],
      "text/plain": [
       "   user_id  month_x  duration  mb_used  messages  age churn_date       city  \\\n",
       "0     1000        5     151.0      3.0      22.0   52        NaN  Краснодар   \n",
       "1     1000        6     159.0     23.0      60.0   52        NaN  Краснодар   \n",
       "2     1000        7     319.0     14.0      75.0   52        NaN  Краснодар   \n",
       "3     1000        8     390.0     14.0      81.0   52        NaN  Краснодар   \n",
       "4     1000        9     441.0     15.0      57.0   52        NaN  Краснодар   \n",
       "\n",
       "  first_name  last_name  ... month_y messages_included  mb_per_month_included  \\\n",
       "0     Рафаил  Верещагин  ...       5              1000                   30.0   \n",
       "1     Рафаил  Верещагин  ...       5              1000                   30.0   \n",
       "2     Рафаил  Верещагин  ...       5              1000                   30.0   \n",
       "3     Рафаил  Верещагин  ...       5              1000                   30.0   \n",
       "4     Рафаил  Верещагин  ...       5              1000                   30.0   \n",
       "\n",
       "   minutes_included  rub_monthly_fee  rub_per_gb  rub_per_message  \\\n",
       "0              3000             1950         150                1   \n",
       "1              3000             1950         150                1   \n",
       "2              3000             1950         150                1   \n",
       "3              3000             1950         150                1   \n",
       "4              3000             1950         150                1   \n",
       "\n",
       "   rub_per_minute  tariff_name  revenue_per_month  \n",
       "0               1        ultra             1950.0  \n",
       "1               1        ultra             1950.0  \n",
       "2               1        ultra             1950.0  \n",
       "3               1        ultra             1950.0  \n",
       "4               1        ultra             1950.0  \n",
       "\n",
       "[5 rows x 22 columns]"
      ]
     },
     "execution_count": 19,
     "metadata": {},
     "output_type": "execute_result"
    }
   ],
   "source": [
    "report.head() #проверка результата "
   ]
  },
  {
   "cell_type": "code",
   "execution_count": 20,
   "metadata": {},
   "outputs": [
    {
     "data": {
      "text/html": [
       "<div>\n",
       "<style scoped>\n",
       "    .dataframe tbody tr th:only-of-type {\n",
       "        vertical-align: middle;\n",
       "    }\n",
       "\n",
       "    .dataframe tbody tr th {\n",
       "        vertical-align: top;\n",
       "    }\n",
       "\n",
       "    .dataframe thead th {\n",
       "        text-align: right;\n",
       "    }\n",
       "</style>\n",
       "<table border=\"1\" class=\"dataframe\">\n",
       "  <thead>\n",
       "    <tr style=\"text-align: right;\">\n",
       "      <th></th>\n",
       "      <th>user_id</th>\n",
       "      <th>month_x</th>\n",
       "      <th>duration</th>\n",
       "      <th>mb_used</th>\n",
       "      <th>messages</th>\n",
       "      <th>age</th>\n",
       "      <th>churn_date</th>\n",
       "      <th>city</th>\n",
       "      <th>first_name</th>\n",
       "      <th>last_name</th>\n",
       "      <th>...</th>\n",
       "      <th>month_y</th>\n",
       "      <th>messages_included</th>\n",
       "      <th>mb_per_month_included</th>\n",
       "      <th>minutes_included</th>\n",
       "      <th>rub_monthly_fee</th>\n",
       "      <th>rub_per_gb</th>\n",
       "      <th>rub_per_message</th>\n",
       "      <th>rub_per_minute</th>\n",
       "      <th>tariff_name</th>\n",
       "      <th>revenue_per_month</th>\n",
       "    </tr>\n",
       "  </thead>\n",
       "  <tbody>\n",
       "    <tr>\n",
       "      <th>3209</th>\n",
       "      <td>1489</td>\n",
       "      <td>8</td>\n",
       "      <td>0.0</td>\n",
       "      <td>11.0</td>\n",
       "      <td>17.0</td>\n",
       "      <td>35</td>\n",
       "      <td>NaN</td>\n",
       "      <td>Санкт-Петербург</td>\n",
       "      <td>Павел</td>\n",
       "      <td>Гончаров</td>\n",
       "      <td>...</td>\n",
       "      <td>8</td>\n",
       "      <td>50</td>\n",
       "      <td>15.0</td>\n",
       "      <td>500</td>\n",
       "      <td>550</td>\n",
       "      <td>200</td>\n",
       "      <td>3</td>\n",
       "      <td>3</td>\n",
       "      <td>smart</td>\n",
       "      <td>550.0</td>\n",
       "    </tr>\n",
       "    <tr>\n",
       "      <th>3210</th>\n",
       "      <td>1489</td>\n",
       "      <td>9</td>\n",
       "      <td>0.0</td>\n",
       "      <td>17.0</td>\n",
       "      <td>32.0</td>\n",
       "      <td>35</td>\n",
       "      <td>NaN</td>\n",
       "      <td>Санкт-Петербург</td>\n",
       "      <td>Павел</td>\n",
       "      <td>Гончаров</td>\n",
       "      <td>...</td>\n",
       "      <td>8</td>\n",
       "      <td>50</td>\n",
       "      <td>15.0</td>\n",
       "      <td>500</td>\n",
       "      <td>550</td>\n",
       "      <td>200</td>\n",
       "      <td>3</td>\n",
       "      <td>3</td>\n",
       "      <td>smart</td>\n",
       "      <td>950.0</td>\n",
       "    </tr>\n",
       "    <tr>\n",
       "      <th>3211</th>\n",
       "      <td>1489</td>\n",
       "      <td>10</td>\n",
       "      <td>0.0</td>\n",
       "      <td>20.0</td>\n",
       "      <td>21.0</td>\n",
       "      <td>35</td>\n",
       "      <td>NaN</td>\n",
       "      <td>Санкт-Петербург</td>\n",
       "      <td>Павел</td>\n",
       "      <td>Гончаров</td>\n",
       "      <td>...</td>\n",
       "      <td>8</td>\n",
       "      <td>50</td>\n",
       "      <td>15.0</td>\n",
       "      <td>500</td>\n",
       "      <td>550</td>\n",
       "      <td>200</td>\n",
       "      <td>3</td>\n",
       "      <td>3</td>\n",
       "      <td>smart</td>\n",
       "      <td>1550.0</td>\n",
       "    </tr>\n",
       "    <tr>\n",
       "      <th>3212</th>\n",
       "      <td>1489</td>\n",
       "      <td>11</td>\n",
       "      <td>0.0</td>\n",
       "      <td>18.0</td>\n",
       "      <td>20.0</td>\n",
       "      <td>35</td>\n",
       "      <td>NaN</td>\n",
       "      <td>Санкт-Петербург</td>\n",
       "      <td>Павел</td>\n",
       "      <td>Гончаров</td>\n",
       "      <td>...</td>\n",
       "      <td>8</td>\n",
       "      <td>50</td>\n",
       "      <td>15.0</td>\n",
       "      <td>500</td>\n",
       "      <td>550</td>\n",
       "      <td>200</td>\n",
       "      <td>3</td>\n",
       "      <td>3</td>\n",
       "      <td>smart</td>\n",
       "      <td>1150.0</td>\n",
       "    </tr>\n",
       "    <tr>\n",
       "      <th>3213</th>\n",
       "      <td>1489</td>\n",
       "      <td>12</td>\n",
       "      <td>0.0</td>\n",
       "      <td>17.0</td>\n",
       "      <td>35.0</td>\n",
       "      <td>35</td>\n",
       "      <td>NaN</td>\n",
       "      <td>Санкт-Петербург</td>\n",
       "      <td>Павел</td>\n",
       "      <td>Гончаров</td>\n",
       "      <td>...</td>\n",
       "      <td>8</td>\n",
       "      <td>50</td>\n",
       "      <td>15.0</td>\n",
       "      <td>500</td>\n",
       "      <td>550</td>\n",
       "      <td>200</td>\n",
       "      <td>3</td>\n",
       "      <td>3</td>\n",
       "      <td>smart</td>\n",
       "      <td>950.0</td>\n",
       "    </tr>\n",
       "  </tbody>\n",
       "</table>\n",
       "<p>5 rows × 22 columns</p>\n",
       "</div>"
      ],
      "text/plain": [
       "      user_id  month_x  duration  mb_used  messages  age churn_date  \\\n",
       "3209     1489        8       0.0     11.0      17.0   35        NaN   \n",
       "3210     1489        9       0.0     17.0      32.0   35        NaN   \n",
       "3211     1489       10       0.0     20.0      21.0   35        NaN   \n",
       "3212     1489       11       0.0     18.0      20.0   35        NaN   \n",
       "3213     1489       12       0.0     17.0      35.0   35        NaN   \n",
       "\n",
       "                 city first_name last_name  ... month_y messages_included  \\\n",
       "3209  Санкт-Петербург      Павел  Гончаров  ...       8                50   \n",
       "3210  Санкт-Петербург      Павел  Гончаров  ...       8                50   \n",
       "3211  Санкт-Петербург      Павел  Гончаров  ...       8                50   \n",
       "3212  Санкт-Петербург      Павел  Гончаров  ...       8                50   \n",
       "3213  Санкт-Петербург      Павел  Гончаров  ...       8                50   \n",
       "\n",
       "      mb_per_month_included  minutes_included  rub_monthly_fee  rub_per_gb  \\\n",
       "3209                   15.0               500              550         200   \n",
       "3210                   15.0               500              550         200   \n",
       "3211                   15.0               500              550         200   \n",
       "3212                   15.0               500              550         200   \n",
       "3213                   15.0               500              550         200   \n",
       "\n",
       "      rub_per_message  rub_per_minute  tariff_name  revenue_per_month  \n",
       "3209                3               3        smart              550.0  \n",
       "3210                3               3        smart              950.0  \n",
       "3211                3               3        smart             1550.0  \n",
       "3212                3               3        smart             1150.0  \n",
       "3213                3               3        smart              950.0  \n",
       "\n",
       "[5 rows x 22 columns]"
      ]
     },
     "execution_count": 20,
     "metadata": {},
     "output_type": "execute_result"
    }
   ],
   "source": [
    "report.tail() #проверка результата "
   ]
  },
  {
   "cell_type": "markdown",
   "metadata": {},
   "source": [
    "#### Вывод: На данном этапе мы подготовили данные для дальнейшего анализа. Добавили необходимый столбец с месячной выручкой, перевели данные о минутах разговоров и использованном трафике в нужные ед. измерения, а также округлили согласно правилам компании «Мегалайн». "
   ]
  },
  {
   "cell_type": "markdown",
   "metadata": {},
   "source": [
    "### Анализ данных."
   ]
  },
  {
   "cell_type": "markdown",
   "metadata": {},
   "source": [
    "Проанализируем поведение клиентов оператора, исходя из выборки. \n",
    "- Сколько минут разговора, сколько сообщений и какой объём интернет-трафика требуется пользователям каждого тарифа в месяц? \n",
    "- Посчитаем среднее количество, дисперсию и стандартное отклонение. \n",
    "- Построим гистограммы. Опишем распределения."
   ]
  },
  {
   "cell_type": "code",
   "execution_count": 21,
   "metadata": {},
   "outputs": [],
   "source": [
    "#сформируем 2 выборки данных по используемому тарифам: Смарт или Ультра\n",
    "smart = report[report['tariff_name'] == 'smart']\n",
    "ultra = report[report['tariff_name'] == 'ultra']"
   ]
  },
  {
   "cell_type": "code",
   "execution_count": 22,
   "metadata": {},
   "outputs": [
    {
     "data": {
      "text/html": [
       "<style  type=\"text/css\" >\n",
       "</style><table id=\"T_9a378_\" ><thead>    <tr>        <th class=\"blank level0\" ></th>        <th class=\"col_heading level0 col0\" colspan=\"3\">duration</th>        <th class=\"col_heading level0 col3\" colspan=\"3\">mb_used</th>        <th class=\"col_heading level0 col6\" colspan=\"3\">messages</th>    </tr>    <tr>        <th class=\"blank level1\" ></th>        <th class=\"col_heading level1 col0\" >var</th>        <th class=\"col_heading level1 col1\" >mean</th>        <th class=\"col_heading level1 col2\" >std</th>        <th class=\"col_heading level1 col3\" >var</th>        <th class=\"col_heading level1 col4\" >mean</th>        <th class=\"col_heading level1 col5\" >std</th>        <th class=\"col_heading level1 col6\" >var</th>        <th class=\"col_heading level1 col7\" >mean</th>        <th class=\"col_heading level1 col8\" >std</th>    </tr>    <tr>        <th class=\"index_name level0\" >tariff</th>        <th class=\"blank\" ></th>        <th class=\"blank\" ></th>        <th class=\"blank\" ></th>        <th class=\"blank\" ></th>        <th class=\"blank\" ></th>        <th class=\"blank\" ></th>        <th class=\"blank\" ></th>        <th class=\"blank\" ></th>        <th class=\"blank\" ></th>    </tr></thead><tbody>\n",
       "                <tr>\n",
       "                        <th id=\"T_9a378_level0_row0\" class=\"row_heading level0 row0\" >smart</th>\n",
       "                        <td id=\"T_9a378_row0_col0\" class=\"data row0 col0\" >32393</td>\n",
       "                        <td id=\"T_9a378_row0_col1\" class=\"data row0 col1\" >395</td>\n",
       "                        <td id=\"T_9a378_row0_col2\" class=\"data row0 col2\" >180</td>\n",
       "                        <td id=\"T_9a378_row0_col3\" class=\"data row0 col3\" >33</td>\n",
       "                        <td id=\"T_9a378_row0_col4\" class=\"data row0 col4\" >16</td>\n",
       "                        <td id=\"T_9a378_row0_col5\" class=\"data row0 col5\" >6</td>\n",
       "                        <td id=\"T_9a378_row0_col6\" class=\"data row0 col6\" >797</td>\n",
       "                        <td id=\"T_9a378_row0_col7\" class=\"data row0 col7\" >33</td>\n",
       "                        <td id=\"T_9a378_row0_col8\" class=\"data row0 col8\" >28</td>\n",
       "            </tr>\n",
       "            <tr>\n",
       "                        <th id=\"T_9a378_level0_row1\" class=\"row_heading level0 row1\" >ultra</th>\n",
       "                        <td id=\"T_9a378_row1_col0\" class=\"data row1 col0\" >89958</td>\n",
       "                        <td id=\"T_9a378_row1_col1\" class=\"data row1 col1\" >498</td>\n",
       "                        <td id=\"T_9a378_row1_col2\" class=\"data row1 col2\" >300</td>\n",
       "                        <td id=\"T_9a378_row1_col3\" class=\"data row1 col3\" >97</td>\n",
       "                        <td id=\"T_9a378_row1_col4\" class=\"data row1 col4\" >19</td>\n",
       "                        <td id=\"T_9a378_row1_col5\" class=\"data row1 col5\" >10</td>\n",
       "                        <td id=\"T_9a378_row1_col6\" class=\"data row1 col6\" >2285</td>\n",
       "                        <td id=\"T_9a378_row1_col7\" class=\"data row1 col7\" >49</td>\n",
       "                        <td id=\"T_9a378_row1_col8\" class=\"data row1 col8\" >48</td>\n",
       "            </tr>\n",
       "    </tbody></table>"
      ],
      "text/plain": [
       "<pandas.io.formats.style.Styler at 0x7fcd1378f520>"
      ]
     },
     "execution_count": 22,
     "metadata": {},
     "output_type": "execute_result"
    }
   ],
   "source": [
    "#сгруппируем данные по тарифу и для кадого тарифа посчитаем среднее количество, дисперсию и стандартное отклонение для звонков, интернет трафика и сообщений \n",
    "report.groupby('tariff')[['duration', 'mb_used', 'messages']].agg({'mean', 'var', 'std'}).style.format('{:.0f}')"
   ]
  },
  {
   "cell_type": "code",
   "execution_count": 23,
   "metadata": {},
   "outputs": [
    {
     "data": {
      "text/html": [
       "<style  type=\"text/css\" >\n",
       "</style><table id=\"T_cfca2_\" ><thead>    <tr>        <th class=\"blank level0\" ></th>        <th class=\"col_heading level0 col0\" colspan=\"3\">duration</th>        <th class=\"col_heading level0 col3\" colspan=\"3\">mb_used</th>        <th class=\"col_heading level0 col6\" colspan=\"3\">messages</th>    </tr>    <tr>        <th class=\"blank level1\" ></th>        <th class=\"col_heading level1 col0\" >var</th>        <th class=\"col_heading level1 col1\" >mean</th>        <th class=\"col_heading level1 col2\" >std</th>        <th class=\"col_heading level1 col3\" >var</th>        <th class=\"col_heading level1 col4\" >mean</th>        <th class=\"col_heading level1 col5\" >std</th>        <th class=\"col_heading level1 col6\" >var</th>        <th class=\"col_heading level1 col7\" >mean</th>        <th class=\"col_heading level1 col8\" >std</th>    </tr>    <tr>        <th class=\"index_name level0\" >tariff</th>        <th class=\"blank\" ></th>        <th class=\"blank\" ></th>        <th class=\"blank\" ></th>        <th class=\"blank\" ></th>        <th class=\"blank\" ></th>        <th class=\"blank\" ></th>        <th class=\"blank\" ></th>        <th class=\"blank\" ></th>        <th class=\"blank\" ></th>    </tr></thead><tbody>\n",
       "                <tr>\n",
       "                        <th id=\"T_cfca2_level0_row0\" class=\"row_heading level0 row0\" >smart</th>\n",
       "                        <td id=\"T_cfca2_row0_col0\" class=\"data row0 col0\" >32393</td>\n",
       "                        <td id=\"T_cfca2_row0_col1\" class=\"data row0 col1\" >395</td>\n",
       "                        <td id=\"T_cfca2_row0_col2\" class=\"data row0 col2\" >180</td>\n",
       "                        <td id=\"T_cfca2_row0_col3\" class=\"data row0 col3\" >33</td>\n",
       "                        <td id=\"T_cfca2_row0_col4\" class=\"data row0 col4\" >16</td>\n",
       "                        <td id=\"T_cfca2_row0_col5\" class=\"data row0 col5\" >6</td>\n",
       "                        <td id=\"T_cfca2_row0_col6\" class=\"data row0 col6\" >797</td>\n",
       "                        <td id=\"T_cfca2_row0_col7\" class=\"data row0 col7\" >33</td>\n",
       "                        <td id=\"T_cfca2_row0_col8\" class=\"data row0 col8\" >28</td>\n",
       "            </tr>\n",
       "            <tr>\n",
       "                        <th id=\"T_cfca2_level0_row1\" class=\"row_heading level0 row1\" >ultra</th>\n",
       "                        <td id=\"T_cfca2_row1_col0\" class=\"data row1 col0\" >89958</td>\n",
       "                        <td id=\"T_cfca2_row1_col1\" class=\"data row1 col1\" >498</td>\n",
       "                        <td id=\"T_cfca2_row1_col2\" class=\"data row1 col2\" >300</td>\n",
       "                        <td id=\"T_cfca2_row1_col3\" class=\"data row1 col3\" >97</td>\n",
       "                        <td id=\"T_cfca2_row1_col4\" class=\"data row1 col4\" >19</td>\n",
       "                        <td id=\"T_cfca2_row1_col5\" class=\"data row1 col5\" >10</td>\n",
       "                        <td id=\"T_cfca2_row1_col6\" class=\"data row1 col6\" >2285</td>\n",
       "                        <td id=\"T_cfca2_row1_col7\" class=\"data row1 col7\" >49</td>\n",
       "                        <td id=\"T_cfca2_row1_col8\" class=\"data row1 col8\" >48</td>\n",
       "            </tr>\n",
       "    </tbody></table>"
      ],
      "text/plain": [
       "<pandas.io.formats.style.Styler at 0x7fcd1362abb0>"
      ]
     },
     "execution_count": 23,
     "metadata": {},
     "output_type": "execute_result"
    }
   ],
   "source": [
    "report.groupby('tariff')[['duration', 'mb_used',\n",
    "                          'messages',]].agg({'mean', 'var', 'std'}).style.format('{:.0f}')"
   ]
  },
  {
   "cell_type": "code",
   "execution_count": 24,
   "metadata": {},
   "outputs": [
    {
     "data": {
      "image/png": "[encoded data removed]",
      "text/plain": [
       "<Figure size 1080x504 with 3 Axes>"
      ]
     },
     "metadata": {
      "needs_background": "light"
     },
     "output_type": "display_data"
    }
   ],
   "source": [
    "#построим гистограммы\n",
    "params = ['duration', 'mb_used', 'messages']\n",
    "col_count, row_count = 2, 2 #число рядов и столбцов в сетке графиктов \n",
    "\n",
    "plt.figure(figsize = (15, 7))\n",
    "for i, param in enumerate(params):\n",
    "    for tariff in report['tariff'].unique():\n",
    "        current = report.query('tariff == @tariff')\n",
    "        sns.distplot(current[param], label = tariff,\n",
    "                    ax = plt.subplot(row_count, col_count, i + 1)) #задаем положение графика в сетке, i + 1 - порядковый номер графика \n",
    "        plt.title(param)\n",
    "\n",
    "plt.suptitle('Распределение параметров с разбивкой по тарифам')\n",
    "plt.tight_layout()"
   ]
  },
  {
   "cell_type": "markdown",
   "metadata": {},
   "source": [
    "#### Вывод: \n",
    "\n",
    "1. Пользователям тарифа \"Смарт\" требуется в среднем в месяц 395 минут, 16 Гб интернет-трафика и 33 сообщения. \n",
    "2. Пользователям тарифа \"Ультра\" требуется в среднем в месяц 498 минут, 19 Гб интернет-трафика и 49 сообщений. \n",
    "3. Таким образом, пользователи тарифа \"Ультра\" тратят на 21% больше минут, на 16% больше трафика и на 33% больше сообщений, чем пользователи тарифа \"Смарт\". \n"
   ]
  },
  {
   "cell_type": "code",
   "execution_count": 25,
   "metadata": {},
   "outputs": [
    {
     "data": {
      "text/html": [
       "<div>\n",
       "<style scoped>\n",
       "    .dataframe tbody tr th:only-of-type {\n",
       "        vertical-align: middle;\n",
       "    }\n",
       "\n",
       "    .dataframe tbody tr th {\n",
       "        vertical-align: top;\n",
       "    }\n",
       "\n",
       "    .dataframe thead th {\n",
       "        text-align: right;\n",
       "    }\n",
       "</style>\n",
       "<table border=\"1\" class=\"dataframe\">\n",
       "  <thead>\n",
       "    <tr style=\"text-align: right;\">\n",
       "      <th></th>\n",
       "      <th>duration</th>\n",
       "      <th>mb_used</th>\n",
       "      <th>messages</th>\n",
       "    </tr>\n",
       "    <tr>\n",
       "      <th>tariff</th>\n",
       "      <th></th>\n",
       "      <th></th>\n",
       "      <th></th>\n",
       "    </tr>\n",
       "  </thead>\n",
       "  <tbody>\n",
       "    <tr>\n",
       "      <th>smart</th>\n",
       "      <td>394.922387</td>\n",
       "      <td>16.328847</td>\n",
       "      <td>33.384029</td>\n",
       "    </tr>\n",
       "    <tr>\n",
       "      <th>ultra</th>\n",
       "      <td>497.547208</td>\n",
       "      <td>19.494416</td>\n",
       "      <td>49.363452</td>\n",
       "    </tr>\n",
       "  </tbody>\n",
       "</table>\n",
       "</div>"
      ],
      "text/plain": [
       "          duration    mb_used   messages\n",
       "tariff                                  \n",
       "smart   394.922387  16.328847  33.384029\n",
       "ultra   497.547208  19.494416  49.363452"
      ]
     },
     "execution_count": 25,
     "metadata": {},
     "output_type": "execute_result"
    }
   ],
   "source": [
    "xx = report.groupby('tariff').agg({'duration':'mean', 'mb_used':'mean', 'messages':'mean'})\n",
    "xx"
   ]
  },
  {
   "cell_type": "code",
   "execution_count": 26,
   "metadata": {},
   "outputs": [
    {
     "data": {
      "text/plain": [
       "duration    20.626148\n",
       "mb_used     16.238338\n",
       "messages    32.370960\n",
       "dtype: float64"
      ]
     },
     "execution_count": 26,
     "metadata": {},
     "output_type": "execute_result"
    }
   ],
   "source": [
    "(1 - xx.loc['smart']/xx.loc['ultra'])*100"
   ]
  },
  {
   "cell_type": "markdown",
   "metadata": {},
   "source": [
    "### Проверка гипотез."
   ]
  },
  {
   "cell_type": "markdown",
   "metadata": {},
   "source": [
    "- Гипотеза 1. средняя выручка пользователей тарифов «Ультра» и «Смарт» различаются;\n",
    "- Гипотеза 2. средняя выручка пользователей из Москвы отличается от выручки пользователей из других регионов."
   ]
  },
  {
   "cell_type": "code",
   "execution_count": 27,
   "metadata": {},
   "outputs": [],
   "source": [
    "alpha = .05 # критический уровень статистической значимости\n",
    "# если p-value окажется меньше него - отвегнем гипотезу"
   ]
  },
  {
   "cell_type": "markdown",
   "metadata": {},
   "source": [
    "#### Гипотеза 1. Cредняя выручка пользователей тарифов «Ультра» и «Смарт» различаются."
   ]
  },
  {
   "cell_type": "markdown",
   "metadata": {},
   "source": [
    "Нулевая гипотеза: Cредняя выручка пользователей тарифов «Ультра» и «Смарт» равна.\n",
    "\n",
    "Альтернативная гипотеза: Cредняя выручка пользователей тарифов «Ультра» и «Смарт» различается."
   ]
  },
  {
   "cell_type": "code",
   "execution_count": 28,
   "metadata": {},
   "outputs": [
    {
     "name": "stdout",
     "output_type": "stream",
     "text": [
      "p-значение:  1.513773301175091e-178\n",
      "Отвергаем нулевую гипотезу\n"
     ]
    }
   ],
   "source": [
    "results = st.ttest_ind(\n",
    "    ultra['revenue_per_month'], \n",
    "    smart['revenue_per_month'])\n",
    "\n",
    "print('p-значение: ', results.pvalue)\n",
    "\n",
    "if results.pvalue < alpha:\n",
    "    print(\"Отвергаем нулевую гипотезу\")\n",
    "else:\n",
    "    print(\"Не получилось отвергнуть нулевую гипотезу\") "
   ]
  },
  {
   "cell_type": "markdown",
   "metadata": {},
   "source": [
    "Вывод: \n",
    "Согласно проведенному тесту, мы принимаем за истину альтернативную гипотезу - Cредняя выручка пользователей тарифов «Ультра» и «Смарт» различается."
   ]
  },
  {
   "cell_type": "markdown",
   "metadata": {},
   "source": [
    "#### Гипотеза 2. Средняя выручка пользователей из Москвы отличается от выручки пользователей из других регионов."
   ]
  },
  {
   "cell_type": "markdown",
   "metadata": {},
   "source": [
    "Нулевая гипотеза: Средняя выручка пользователей из Москвы равна средней выручке пользователей из других регионов.\n",
    "\n",
    "Альтернативная гипотеза: Средняя выручка пользователей из Москвы не равна средней выручке пользователей из других регионов."
   ]
  },
  {
   "cell_type": "code",
   "execution_count": 29,
   "metadata": {},
   "outputs": [],
   "source": [
    "#сформируем 2 выборки: пользователи из Москвы и все остальные пользователи из регионов \n",
    "msk = report[report['city'] == 'Москва'] \n",
    "region = report[report['city'] != 'Москва'] "
   ]
  },
  {
   "cell_type": "code",
   "execution_count": 30,
   "metadata": {},
   "outputs": [
    {
     "name": "stdout",
     "output_type": "stream",
     "text": [
      "p-значение:  0.4836504757759247\n",
      "Не получилось отвергнуть нулевую гипотезу\n"
     ]
    }
   ],
   "source": [
    "results = st.ttest_ind(\n",
    "    msk['revenue_per_month'], \n",
    "    region['revenue_per_month'])\n",
    "\n",
    "print('p-значение: ', results.pvalue)\n",
    "\n",
    "if results.pvalue < alpha:\n",
    "    print(\"Отвергаем нулевую гипотезу\")\n",
    "else:\n",
    "    print(\"Не получилось отвергнуть нулевую гипотезу\") "
   ]
  },
  {
   "cell_type": "markdown",
   "metadata": {},
   "source": [
    "Вывод:\n",
    "Отвергнуть нулевую гипотезу, что средняя выручка пользователей из Москвы равна средней выручке пользователей из других городов не удалось, следовательно, принимаем ее за истину. "
   ]
  },
  {
   "cell_type": "markdown",
   "metadata": {},
   "source": [
    "### Общий вывод"
   ]
  },
  {
   "cell_type": "markdown",
   "metadata": {},
   "source": [
    "Входные данные — данные 500 пользователей «Мегалайна»: кто они, откуда, каким тарифом пользуются, сколько звонков и сообщений каждый отправил за 2018 год.\n",
    "\n",
    "Цель исследования — скорректировать рекламный бюджет, выяснить, какой тариф приносит больше денег.\n",
    "\n",
    "Гипотезы для проверки:\n",
    "\n",
    "1. средняя выручка пользователей тарифов «Ультра» и «Смарт» различаются;\n",
    "2. средняя выручка пользователей из Москвы отличается от выручки пользователей из других регионов.\n",
    "\n",
    "Основное исследование прошло в 5 этапов:\n",
    "\n",
    "##### 1. Изучение общей информации о данных.\n",
    "На данном этапе мы изучили общую информацию о данных в таблицах и увидели, с чем предстоит иметь дело.\n",
    "- Мы объеденили данные в сводную таблицу для удобства работы с данными.\n",
    "- В двух столбцах (days_employed и total_income) были пропущенны значения.\n",
    "- Пропуски присутствовали только в столбце churn_date (дата прекращения пользования тарифом), но их заполнять не надо, так как значит на момент выгрузки тариф еще действовал.\n",
    "\n",
    "##### 2.  Предобработка данных.\n",
    "На втором этапе мы подготовили данные ддля дальнейшего анализа. А именно:\n",
    "- перевели использованные Mb трафика в Gb и округлили в большую сторону\n",
    "- округлили использованные минуты в большую сторону \n",
    "- посчитали и добавили в новый столбец данные с месячной выручкой по каждому клиенту \n",
    "\n",
    "##### 3. Анализ данных \n",
    "На третьем этапе мы проанализировали поведение клиентов оператора, исходя из выборки: \n",
    "1. Сколько минут разговора, сколько сообщений и какой объём интернет-трафика требуется пользователям каждого тарифа в месяц?\n",
    "2. Посчитали среднее количество, дисперсию и стандартное отклонение.\n",
    "3. Построили гистограммы. \n",
    "\n",
    "##### 4. Проверка гипотез.\n",
    "На четвертом этапе с помощью тестов мы проверили 2 гипотезы и сделали следующие выводы:\n",
    "- Средняя выручка пользователей тарифов «Ультра» и «Смарт» различается.\n",
    "- Средняя выручка пользователей из Москвы не отличается от выручки пользователей из других регионов.\n",
    "\n",
    "\n",
    "##### 5. Общий вывод\n",
    "Исходя из проведенного t-теста, можно сделать вывод, что преспективнее тот тариф, у которого средняя выручка выше - то есть тариф \"Ультра\".\n"
   ]
  }
 ],
 "metadata": {
  "ExecuteTimeLog": [
   {
    "duration": 7,
    "start_time": "2022-03-28T03:41:46.409Z"
   },
   {
    "duration": 1279,
    "start_time": "2022-03-28T03:41:47.046Z"
   },
   {
    "duration": 371,
    "start_time": "2022-03-28T03:41:48.893Z"
   },
   {
    "duration": 15,
    "start_time": "2022-03-28T03:41:57.141Z"
   },
   {
    "duration": 9,
    "start_time": "2022-03-28T03:42:05.117Z"
   },
   {
    "duration": 10,
    "start_time": "2022-03-28T03:42:12.382Z"
   },
   {
    "duration": 8,
    "start_time": "2022-03-28T03:42:21.966Z"
   },
   {
    "duration": 8,
    "start_time": "2022-03-28T03:42:29.749Z"
   },
   {
    "duration": 7,
    "start_time": "2022-03-28T03:42:35.018Z"
   },
   {
    "duration": 107,
    "start_time": "2022-03-28T03:42:47.177Z"
   },
   {
    "duration": 86,
    "start_time": "2022-03-28T03:43:00.650Z"
   },
   {
    "duration": 14,
    "start_time": "2022-03-28T03:43:18.549Z"
   },
   {
    "duration": 114,
    "start_time": "2022-03-28T03:43:30.213Z"
   },
   {
    "duration": 8,
    "start_time": "2022-03-28T03:43:44.321Z"
   },
   {
    "duration": 6,
    "start_time": "2022-03-28T03:47:23.169Z"
   },
   {
    "duration": 4,
    "start_time": "2022-03-28T03:47:28.869Z"
   },
   {
    "duration": 23,
    "start_time": "2022-03-28T03:47:34.173Z"
   },
   {
    "duration": 5,
    "start_time": "2022-03-28T03:47:48.393Z"
   },
   {
    "duration": 89,
    "start_time": "2022-03-28T03:47:54.425Z"
   },
   {
    "duration": 23,
    "start_time": "2022-03-28T03:48:07.405Z"
   },
   {
    "duration": 20,
    "start_time": "2022-03-28T03:49:28.418Z"
   },
   {
    "duration": 5,
    "start_time": "2022-03-28T03:49:41.418Z"
   },
   {
    "duration": 48,
    "start_time": "2022-03-28T03:49:50.346Z"
   },
   {
    "duration": 897,
    "start_time": "2022-03-28T03:50:03.573Z"
   },
   {
    "duration": 3,
    "start_time": "2022-03-28T03:51:16.101Z"
   },
   {
    "duration": 113,
    "start_time": "2022-03-28T03:51:41.430Z"
   },
   {
    "duration": 5,
    "start_time": "2022-03-28T03:51:55.450Z"
   },
   {
    "duration": 7,
    "start_time": "2022-03-28T03:52:53.425Z"
   },
   {
    "duration": 5,
    "start_time": "2022-03-28T03:52:59.725Z"
   },
   {
    "duration": 130,
    "start_time": "2022-03-28T08:23:38.575Z"
   },
   {
    "duration": 185,
    "start_time": "2022-03-28T08:24:13.164Z"
   },
   {
    "duration": 11,
    "start_time": "2022-03-28T08:25:42.627Z"
   },
   {
    "duration": 7,
    "start_time": "2022-04-07T17:16:16.745Z"
   },
   {
    "duration": 1032,
    "start_time": "2022-04-07T17:16:16.754Z"
   },
   {
    "duration": 310,
    "start_time": "2022-04-07T17:16:17.787Z"
   },
   {
    "duration": 10,
    "start_time": "2022-04-07T17:16:18.098Z"
   },
   {
    "duration": 7,
    "start_time": "2022-04-07T17:16:18.109Z"
   },
   {
    "duration": 9,
    "start_time": "2022-04-07T17:16:18.117Z"
   },
   {
    "duration": 21,
    "start_time": "2022-04-07T17:16:18.127Z"
   },
   {
    "duration": 9,
    "start_time": "2022-04-07T17:16:18.149Z"
   },
   {
    "duration": 104,
    "start_time": "2022-04-07T17:16:18.160Z"
   },
   {
    "duration": 66,
    "start_time": "2022-04-07T17:16:18.265Z"
   },
   {
    "duration": 12,
    "start_time": "2022-04-07T17:16:18.333Z"
   },
   {
    "duration": 6,
    "start_time": "2022-04-07T17:16:18.347Z"
   },
   {
    "duration": 6,
    "start_time": "2022-04-07T17:16:18.355Z"
   },
   {
    "duration": 3,
    "start_time": "2022-04-07T17:16:18.362Z"
   },
   {
    "duration": 20,
    "start_time": "2022-04-07T17:16:18.366Z"
   },
   {
    "duration": 3,
    "start_time": "2022-04-07T17:16:18.388Z"
   },
   {
    "duration": 116,
    "start_time": "2022-04-07T17:16:18.393Z"
   },
   {
    "duration": 19,
    "start_time": "2022-04-07T17:16:18.511Z"
   },
   {
    "duration": 5,
    "start_time": "2022-04-07T17:16:18.532Z"
   },
   {
    "duration": 49,
    "start_time": "2022-04-07T17:16:18.539Z"
   },
   {
    "duration": 757,
    "start_time": "2022-04-07T17:16:18.589Z"
   },
   {
    "duration": 3,
    "start_time": "2022-04-07T17:16:19.347Z"
   },
   {
    "duration": 8,
    "start_time": "2022-04-07T17:16:19.351Z"
   },
   {
    "duration": 5,
    "start_time": "2022-04-07T17:16:19.362Z"
   },
   {
    "duration": 4,
    "start_time": "2022-04-07T17:16:19.368Z"
   },
   {
    "duration": 11,
    "start_time": "2022-04-07T20:09:51.217Z"
   },
   {
    "duration": 4,
    "start_time": "2022-04-07T20:15:24.922Z"
   },
   {
    "duration": 4,
    "start_time": "2022-04-07T20:15:47.424Z"
   },
   {
    "duration": 125,
    "start_time": "2022-04-07T20:17:57.899Z"
   },
   {
    "duration": 19,
    "start_time": "2022-04-07T20:21:39.769Z"
   },
   {
    "duration": 143,
    "start_time": "2022-04-07T20:22:27.778Z"
   },
   {
    "duration": 14,
    "start_time": "2022-04-07T20:27:55.411Z"
   },
   {
    "duration": 134,
    "start_time": "2022-04-07T20:32:57.157Z"
   },
   {
    "duration": 4,
    "start_time": "2022-04-07T20:34:07.457Z"
   },
   {
    "duration": 3,
    "start_time": "2022-04-07T20:34:15.967Z"
   },
   {
    "duration": 3,
    "start_time": "2022-04-07T20:47:52.248Z"
   },
   {
    "duration": 4,
    "start_time": "2022-04-07T20:48:23.994Z"
   },
   {
    "duration": 4,
    "start_time": "2022-04-07T20:49:17.416Z"
   },
   {
    "duration": 16,
    "start_time": "2022-04-07T21:11:10.208Z"
   },
   {
    "duration": 7,
    "start_time": "2022-04-07T21:21:25.564Z"
   },
   {
    "duration": 1031,
    "start_time": "2022-04-07T21:21:25.572Z"
   },
   {
    "duration": 325,
    "start_time": "2022-04-07T21:21:26.605Z"
   },
   {
    "duration": 13,
    "start_time": "2022-04-07T21:21:26.932Z"
   },
   {
    "duration": 9,
    "start_time": "2022-04-07T21:21:26.947Z"
   },
   {
    "duration": 9,
    "start_time": "2022-04-07T21:21:26.958Z"
   },
   {
    "duration": 7,
    "start_time": "2022-04-07T21:21:26.969Z"
   },
   {
    "duration": 9,
    "start_time": "2022-04-07T21:21:26.978Z"
   },
   {
    "duration": 131,
    "start_time": "2022-04-07T21:21:26.989Z"
   },
   {
    "duration": 73,
    "start_time": "2022-04-07T21:21:27.122Z"
   },
   {
    "duration": 12,
    "start_time": "2022-04-07T21:21:27.197Z"
   },
   {
    "duration": 23,
    "start_time": "2022-04-07T21:21:27.211Z"
   },
   {
    "duration": 7,
    "start_time": "2022-04-07T21:21:27.235Z"
   },
   {
    "duration": 4,
    "start_time": "2022-04-07T21:21:27.243Z"
   },
   {
    "duration": 5,
    "start_time": "2022-04-07T21:21:27.249Z"
   },
   {
    "duration": 24,
    "start_time": "2022-04-07T21:21:27.255Z"
   },
   {
    "duration": 3,
    "start_time": "2022-04-07T21:21:27.281Z"
   },
   {
    "duration": 111,
    "start_time": "2022-04-07T21:21:27.286Z"
   },
   {
    "duration": 19,
    "start_time": "2022-04-07T21:21:27.399Z"
   },
   {
    "duration": 18,
    "start_time": "2022-04-07T21:21:27.430Z"
   },
   {
    "duration": 5,
    "start_time": "2022-04-07T21:21:27.450Z"
   },
   {
    "duration": 45,
    "start_time": "2022-04-07T21:21:27.456Z"
   },
   {
    "duration": 35,
    "start_time": "2022-04-07T21:21:27.503Z"
   },
   {
    "duration": 749,
    "start_time": "2022-04-07T21:21:27.540Z"
   },
   {
    "duration": 3,
    "start_time": "2022-04-07T21:21:28.290Z"
   },
   {
    "duration": 7,
    "start_time": "2022-04-07T21:21:28.294Z"
   },
   {
    "duration": 8,
    "start_time": "2022-04-07T21:21:28.302Z"
   },
   {
    "duration": 22,
    "start_time": "2022-04-07T21:21:28.311Z"
   },
   {
    "duration": 8,
    "start_time": "2022-04-13T04:16:21.099Z"
   },
   {
    "duration": 1307,
    "start_time": "2022-04-13T04:16:21.110Z"
   },
   {
    "duration": 391,
    "start_time": "2022-04-13T04:16:22.419Z"
   },
   {
    "duration": 14,
    "start_time": "2022-04-13T04:16:22.813Z"
   },
   {
    "duration": 8,
    "start_time": "2022-04-13T04:16:22.829Z"
   },
   {
    "duration": 12,
    "start_time": "2022-04-13T04:16:22.839Z"
   },
   {
    "duration": 8,
    "start_time": "2022-04-13T04:16:22.853Z"
   },
   {
    "duration": 9,
    "start_time": "2022-04-13T04:16:22.863Z"
   },
   {
    "duration": 161,
    "start_time": "2022-04-13T04:16:22.873Z"
   },
   {
    "duration": 94,
    "start_time": "2022-04-13T04:16:23.037Z"
   },
   {
    "duration": 15,
    "start_time": "2022-04-13T04:16:23.133Z"
   },
   {
    "duration": 8,
    "start_time": "2022-04-13T04:16:23.150Z"
   },
   {
    "duration": 7,
    "start_time": "2022-04-13T04:16:23.160Z"
   },
   {
    "duration": 8,
    "start_time": "2022-04-13T04:16:23.169Z"
   },
   {
    "duration": 33,
    "start_time": "2022-04-13T04:16:23.179Z"
   },
   {
    "duration": 27,
    "start_time": "2022-04-13T04:16:23.214Z"
   },
   {
    "duration": 5,
    "start_time": "2022-04-13T04:16:23.242Z"
   },
   {
    "duration": 126,
    "start_time": "2022-04-13T04:16:23.249Z"
   },
   {
    "duration": 22,
    "start_time": "2022-04-13T04:16:23.377Z"
   },
   {
    "duration": 23,
    "start_time": "2022-04-13T04:16:23.407Z"
   },
   {
    "duration": 6,
    "start_time": "2022-04-13T04:16:23.432Z"
   },
   {
    "duration": 73,
    "start_time": "2022-04-13T04:16:23.440Z"
   },
   {
    "duration": 18,
    "start_time": "2022-04-13T04:16:23.515Z"
   },
   {
    "duration": 1054,
    "start_time": "2022-04-13T04:16:23.534Z"
   },
   {
    "duration": 4,
    "start_time": "2022-04-13T04:16:24.590Z"
   },
   {
    "duration": 9,
    "start_time": "2022-04-13T04:16:24.595Z"
   },
   {
    "duration": 6,
    "start_time": "2022-04-13T04:16:24.606Z"
   },
   {
    "duration": 5,
    "start_time": "2022-04-13T04:16:24.615Z"
   },
   {
    "duration": 103,
    "start_time": "2022-04-13T04:36:50.030Z"
   },
   {
    "duration": 4,
    "start_time": "2022-04-13T04:38:04.137Z"
   },
   {
    "duration": 4,
    "start_time": "2022-04-13T04:38:15.821Z"
   },
   {
    "duration": 5,
    "start_time": "2022-04-13T04:40:11.429Z"
   },
   {
    "duration": 5,
    "start_time": "2022-04-13T04:40:26.945Z"
   },
   {
    "duration": 8,
    "start_time": "2022-04-13T19:24:59.222Z"
   },
   {
    "duration": 1409,
    "start_time": "2022-04-13T19:24:59.232Z"
   },
   {
    "duration": 412,
    "start_time": "2022-04-13T19:25:00.643Z"
   },
   {
    "duration": 20,
    "start_time": "2022-04-13T19:25:01.057Z"
   },
   {
    "duration": 23,
    "start_time": "2022-04-13T19:25:01.079Z"
   },
   {
    "duration": 40,
    "start_time": "2022-04-13T19:25:01.104Z"
   },
   {
    "duration": 45,
    "start_time": "2022-04-13T19:25:01.146Z"
   },
   {
    "duration": 33,
    "start_time": "2022-04-13T19:25:01.193Z"
   },
   {
    "duration": 168,
    "start_time": "2022-04-13T19:25:01.228Z"
   },
   {
    "duration": 97,
    "start_time": "2022-04-13T19:25:01.399Z"
   },
   {
    "duration": 12,
    "start_time": "2022-04-13T19:25:01.498Z"
   },
   {
    "duration": 26,
    "start_time": "2022-04-13T19:25:01.512Z"
   },
   {
    "duration": 35,
    "start_time": "2022-04-13T19:25:01.540Z"
   },
   {
    "duration": 20,
    "start_time": "2022-04-13T19:25:01.577Z"
   },
   {
    "duration": 31,
    "start_time": "2022-04-13T19:25:01.599Z"
   },
   {
    "duration": 64,
    "start_time": "2022-04-13T19:25:01.632Z"
   },
   {
    "duration": 16,
    "start_time": "2022-04-13T19:25:01.698Z"
   },
   {
    "duration": 114,
    "start_time": "2022-04-13T19:25:01.716Z"
   },
   {
    "duration": 23,
    "start_time": "2022-04-13T19:25:01.831Z"
   },
   {
    "duration": 44,
    "start_time": "2022-04-13T19:25:01.856Z"
   },
   {
    "duration": 14,
    "start_time": "2022-04-13T19:25:01.903Z"
   },
   {
    "duration": 75,
    "start_time": "2022-04-13T19:25:01.919Z"
   },
   {
    "duration": 19,
    "start_time": "2022-04-13T19:25:01.996Z"
   },
   {
    "duration": 910,
    "start_time": "2022-04-13T19:25:02.017Z"
   },
   {
    "duration": 2,
    "start_time": "2022-04-13T19:25:02.929Z"
   },
   {
    "duration": 48,
    "start_time": "2022-04-13T19:25:02.933Z"
   },
   {
    "duration": 7,
    "start_time": "2022-04-13T19:25:02.983Z"
   },
   {
    "duration": 4,
    "start_time": "2022-04-13T19:25:02.994Z"
   },
   {
    "duration": 34,
    "start_time": "2022-04-13T19:34:43.160Z"
   },
   {
    "duration": 7,
    "start_time": "2022-04-13T19:35:01.570Z"
   },
   {
    "duration": 105,
    "start_time": "2022-04-13T19:36:57.252Z"
   },
   {
    "duration": 25,
    "start_time": "2022-04-13T19:37:07.268Z"
   },
   {
    "duration": 17,
    "start_time": "2022-04-13T19:37:28.168Z"
   },
   {
    "duration": 25,
    "start_time": "2022-04-13T19:38:02.560Z"
   },
   {
    "duration": 35,
    "start_time": "2022-04-13T19:39:06.172Z"
   },
   {
    "duration": 20,
    "start_time": "2022-04-13T19:39:26.383Z"
   },
   {
    "duration": 15,
    "start_time": "2022-04-13T19:46:02.620Z"
   },
   {
    "duration": 26,
    "start_time": "2022-04-13T19:47:00.877Z"
   },
   {
    "duration": 27,
    "start_time": "2022-04-13T19:47:56.266Z"
   },
   {
    "duration": 17,
    "start_time": "2022-04-13T19:48:17.997Z"
   },
   {
    "duration": 20,
    "start_time": "2022-04-13T19:48:34.911Z"
   },
   {
    "duration": 35,
    "start_time": "2022-04-13T19:49:29.874Z"
   },
   {
    "duration": 38,
    "start_time": "2022-04-13T19:49:57.932Z"
   },
   {
    "duration": 23,
    "start_time": "2022-04-13T19:50:10.974Z"
   },
   {
    "duration": 21,
    "start_time": "2022-04-13T19:50:21.190Z"
   },
   {
    "duration": 26,
    "start_time": "2022-04-13T19:51:09.082Z"
   },
   {
    "duration": 30,
    "start_time": "2022-04-13T19:52:27.250Z"
   },
   {
    "duration": 9,
    "start_time": "2022-04-13T19:53:46.083Z"
   },
   {
    "duration": 11,
    "start_time": "2022-04-13T19:54:08.170Z"
   },
   {
    "duration": 18,
    "start_time": "2022-04-13T19:54:47.345Z"
   },
   {
    "duration": 2182,
    "start_time": "2022-04-13T19:54:52.166Z"
   },
   {
    "duration": 9,
    "start_time": "2022-04-13T19:55:01.089Z"
   },
   {
    "duration": 9,
    "start_time": "2022-04-13T19:55:16.642Z"
   },
   {
    "duration": 11,
    "start_time": "2022-04-13T19:55:32.743Z"
   },
   {
    "duration": 11,
    "start_time": "2022-04-13T19:55:55.809Z"
   },
   {
    "duration": 6,
    "start_time": "2022-04-13T19:56:07.312Z"
   },
   {
    "duration": 6,
    "start_time": "2022-04-13T19:56:21.373Z"
   },
   {
    "duration": 3,
    "start_time": "2022-04-13T19:56:44.911Z"
   },
   {
    "duration": 3,
    "start_time": "2022-04-13T19:56:51.405Z"
   },
   {
    "duration": 4,
    "start_time": "2022-04-13T19:57:14.488Z"
   },
   {
    "duration": 4,
    "start_time": "2022-04-13T19:57:26.573Z"
   },
   {
    "duration": 4,
    "start_time": "2022-04-13T19:57:31.262Z"
   },
   {
    "duration": 6,
    "start_time": "2022-04-13T19:57:41.526Z"
   },
   {
    "duration": 6,
    "start_time": "2022-04-13T19:57:53.271Z"
   },
   {
    "duration": 6,
    "start_time": "2022-04-13T19:58:00.812Z"
   },
   {
    "duration": 6,
    "start_time": "2022-04-13T19:58:12.308Z"
   },
   {
    "duration": 129,
    "start_time": "2022-04-13T20:07:03.928Z"
   },
   {
    "duration": 5,
    "start_time": "2022-04-13T20:11:21.862Z"
   },
   {
    "duration": 4,
    "start_time": "2022-04-13T20:11:22.766Z"
   },
   {
    "duration": 8,
    "start_time": "2022-04-13T20:16:52.404Z"
   },
   {
    "duration": 1244,
    "start_time": "2022-04-13T20:16:52.413Z"
   },
   {
    "duration": 340,
    "start_time": "2022-04-13T20:16:53.659Z"
   },
   {
    "duration": 12,
    "start_time": "2022-04-13T20:16:54.001Z"
   },
   {
    "duration": 8,
    "start_time": "2022-04-13T20:16:54.014Z"
   },
   {
    "duration": 11,
    "start_time": "2022-04-13T20:16:54.023Z"
   },
   {
    "duration": 8,
    "start_time": "2022-04-13T20:16:54.035Z"
   },
   {
    "duration": 8,
    "start_time": "2022-04-13T20:16:54.044Z"
   },
   {
    "duration": 107,
    "start_time": "2022-04-13T20:16:54.055Z"
   },
   {
    "duration": 77,
    "start_time": "2022-04-13T20:16:54.165Z"
   },
   {
    "duration": 22,
    "start_time": "2022-04-13T20:16:54.243Z"
   },
   {
    "duration": 7,
    "start_time": "2022-04-13T20:16:54.266Z"
   },
   {
    "duration": 9,
    "start_time": "2022-04-13T20:16:54.274Z"
   },
   {
    "duration": 4,
    "start_time": "2022-04-13T20:16:54.285Z"
   },
   {
    "duration": 7,
    "start_time": "2022-04-13T20:16:54.290Z"
   },
   {
    "duration": 21,
    "start_time": "2022-04-13T20:16:54.298Z"
   },
   {
    "duration": 4,
    "start_time": "2022-04-13T20:16:54.320Z"
   },
   {
    "duration": 89,
    "start_time": "2022-04-13T20:16:54.354Z"
   },
   {
    "duration": 27,
    "start_time": "2022-04-13T20:16:54.445Z"
   },
   {
    "duration": 18,
    "start_time": "2022-04-13T20:16:54.473Z"
   },
   {
    "duration": 6,
    "start_time": "2022-04-13T20:16:54.492Z"
   },
   {
    "duration": 68,
    "start_time": "2022-04-13T20:16:54.499Z"
   },
   {
    "duration": 15,
    "start_time": "2022-04-13T20:16:54.568Z"
   },
   {
    "duration": 763,
    "start_time": "2022-04-13T20:16:54.584Z"
   },
   {
    "duration": 12,
    "start_time": "2022-04-13T20:16:55.349Z"
   },
   {
    "duration": 9,
    "start_time": "2022-04-13T20:16:55.362Z"
   },
   {
    "duration": 4,
    "start_time": "2022-04-13T20:16:55.373Z"
   },
   {
    "duration": 5,
    "start_time": "2022-04-13T20:16:55.380Z"
   },
   {
    "duration": 8,
    "start_time": "2022-04-13T20:16:55.386Z"
   },
   {
    "duration": 9,
    "start_time": "2022-04-13T20:16:55.396Z"
   },
   {
    "duration": 7,
    "start_time": "2022-09-26T09:43:24.055Z"
   },
   {
    "duration": 1154,
    "start_time": "2022-09-26T09:43:24.064Z"
   },
   {
    "duration": 923,
    "start_time": "2022-09-26T09:43:25.220Z"
   },
   {
    "duration": 12,
    "start_time": "2022-09-26T09:43:26.144Z"
   },
   {
    "duration": 8,
    "start_time": "2022-09-26T09:43:26.157Z"
   },
   {
    "duration": 31,
    "start_time": "2022-09-26T09:43:26.166Z"
   },
   {
    "duration": 29,
    "start_time": "2022-09-26T09:43:26.198Z"
   },
   {
    "duration": 22,
    "start_time": "2022-09-26T09:43:26.229Z"
   },
   {
    "duration": 114,
    "start_time": "2022-09-26T09:43:26.252Z"
   },
   {
    "duration": 77,
    "start_time": "2022-09-26T09:43:26.368Z"
   },
   {
    "duration": 12,
    "start_time": "2022-09-26T09:43:26.447Z"
   },
   {
    "duration": 20,
    "start_time": "2022-09-26T09:43:26.461Z"
   },
   {
    "duration": 10,
    "start_time": "2022-09-26T09:43:26.482Z"
   },
   {
    "duration": 7,
    "start_time": "2022-09-26T09:43:26.493Z"
   },
   {
    "duration": 18,
    "start_time": "2022-09-26T09:43:26.502Z"
   },
   {
    "duration": 27,
    "start_time": "2022-09-26T09:43:26.521Z"
   },
   {
    "duration": 4,
    "start_time": "2022-09-26T09:43:26.550Z"
   },
   {
    "duration": 116,
    "start_time": "2022-09-26T09:43:26.556Z"
   },
   {
    "duration": 20,
    "start_time": "2022-09-26T09:43:26.673Z"
   },
   {
    "duration": 25,
    "start_time": "2022-09-26T09:43:26.695Z"
   },
   {
    "duration": 5,
    "start_time": "2022-09-26T09:43:26.721Z"
   },
   {
    "duration": 55,
    "start_time": "2022-09-26T09:43:26.728Z"
   },
   {
    "duration": 28,
    "start_time": "2022-09-26T09:43:26.784Z"
   },
   {
    "duration": 782,
    "start_time": "2022-09-26T09:43:26.813Z"
   },
   {
    "duration": 15,
    "start_time": "2022-09-26T09:43:27.597Z"
   },
   {
    "duration": 7,
    "start_time": "2022-09-26T09:43:27.614Z"
   },
   {
    "duration": 11,
    "start_time": "2022-09-26T09:43:27.622Z"
   },
   {
    "duration": 9,
    "start_time": "2022-09-26T09:43:27.634Z"
   },
   {
    "duration": 19,
    "start_time": "2022-09-26T09:43:27.647Z"
   },
   {
    "duration": 17,
    "start_time": "2022-09-26T09:43:27.668Z"
   }
  ],
  "kernelspec": {
   "display_name": "Python 3 (ipykernel)",
   "language": "python",
   "name": "python3"
  },
  "language_info": {
   "codemirror_mode": {
    "name": "ipython",
    "version": 3
   },
   "file_extension": ".py",
   "mimetype": "text/x-python",
   "name": "python",
   "nbconvert_exporter": "python",
   "pygments_lexer": "ipython3",
   "version": "3.9.5"
  },
  "toc": {
   "base_numbering": 1,
   "nav_menu": {},
   "number_sections": true,
   "sideBar": true,
   "skip_h1_title": true,
   "title_cell": "Table of Contents",
   "title_sidebar": "Contents",
   "toc_cell": false,
   "toc_position": {},
   "toc_section_display": true,
   "toc_window_display": false
  }
 },
 "nbformat": 4,
 "nbformat_minor": 2
}
