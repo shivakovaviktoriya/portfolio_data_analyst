{
 "cells": [
  {
   "cell_type": "markdown",
   "metadata": {
    "toc": true
   },
   "source": [
    "<h1>Содержание<span class=\"tocSkip\"></span></h1>\n",
    "<div class=\"toc\"><ul class=\"toc-item\"><li><span><a href=\"#Изучение-данных-из-файла\" data-toc-modified-id=\"Изучение-данных-из-файла-1\"><span class=\"toc-item-num\">1&nbsp;&nbsp;</span>Изучение данных из файла</a></span><ul class=\"toc-item\"><li><span><a href=\"#Вывод\" data-toc-modified-id=\"Вывод-1.1\"><span class=\"toc-item-num\">1.1&nbsp;&nbsp;</span>Вывод</a></span></li></ul></li><li><span><a href=\"#Предобработка-данных\" data-toc-modified-id=\"Предобработка-данных-2\"><span class=\"toc-item-num\">2&nbsp;&nbsp;</span>Предобработка данных</a></span><ul class=\"toc-item\"><li><ul class=\"toc-item\"><li><span><a href=\"#Вывод:\" data-toc-modified-id=\"Вывод:-2.0.1\"><span class=\"toc-item-num\">2.0.1&nbsp;&nbsp;</span>Вывод:</a></span></li></ul></li></ul></li><li><span><a href=\"#Расчёты-и-добавление-результатов-в-таблицу\" data-toc-modified-id=\"Расчёты-и-добавление-результатов-в-таблицу-3\"><span class=\"toc-item-num\">3&nbsp;&nbsp;</span>Расчёты и добавление результатов в таблицу</a></span></li><li><span><a href=\"#Исследовательский-анализ-данных\" data-toc-modified-id=\"Исследовательский-анализ-данных-4\"><span class=\"toc-item-num\">4&nbsp;&nbsp;</span>Исследовательский анализ данных</a></span></li><li><span><a href=\"#Общий-вывод\" data-toc-modified-id=\"Общий-вывод-5\"><span class=\"toc-item-num\">5&nbsp;&nbsp;</span>Общий вывод</a></span><ul class=\"toc-item\"><li><ul class=\"toc-item\"><li><span><a href=\"#Изучение-общей-информации-о-данных.\" data-toc-modified-id=\"Изучение-общей-информации-о-данных.-5.0.1\"><span class=\"toc-item-num\">5.0.1&nbsp;&nbsp;</span>Изучение общей информации о данных.</a></span></li><li><span><a href=\"#Предобработка-данных.\" data-toc-modified-id=\"Предобработка-данных.-5.0.2\"><span class=\"toc-item-num\">5.0.2&nbsp;&nbsp;</span>Предобработка данных.</a></span></li><li><span><a href=\"#Расчет-и-добавление-данных-в-таблицу.\" data-toc-modified-id=\"Расчет-и-добавление-данных-в-таблицу.-5.0.3\"><span class=\"toc-item-num\">5.0.3&nbsp;&nbsp;</span>Расчет и добавление данных в таблицу.</a></span></li><li><span><a href=\"#Исследовательский-анализ-данных\" data-toc-modified-id=\"Исследовательский-анализ-данных-5.0.4\"><span class=\"toc-item-num\">5.0.4&nbsp;&nbsp;</span>Исследовательский анализ данных</a></span></li><li><span><a href=\"#Общий-вывод\" data-toc-modified-id=\"Общий-вывод-5.0.5\"><span class=\"toc-item-num\">5.0.5&nbsp;&nbsp;</span>Общий вывод</a></span></li></ul></li></ul></li></ul></div>"
   ]
  },
  {
   "cell_type": "markdown",
   "metadata": {},
   "source": [
    "# Исследование объявлений о продаже квартир\n",
    "\n",
    "В вашем распоряжении данные сервиса Яндекc Недвижимость — архив объявлений о продаже квартир в Санкт-Петербурге и соседних населённых пунктах за несколько лет. Нужно научиться определять рыночную стоимость объектов недвижимости. Ваша задача — установить параметры. Это позволит построить автоматизированную систему: она отследит аномалии и мошенническую деятельность. \n",
    "\n",
    "По каждой квартире на продажу доступны два вида данных. Первые вписаны пользователем, вторые получены автоматически на основе картографических данных. Например, расстояние до центра, аэропорта, ближайшего парка и водоёма. "
   ]
  },
  {
   "cell_type": "markdown",
   "metadata": {},
   "source": [
    "## Изучение данных из файла"
   ]
  },
  {
   "cell_type": "code",
   "execution_count": 49,
   "metadata": {},
   "outputs": [],
   "source": [
    "import warnings\n",
    "warnings.filterwarnings('ignore')"
   ]
  },
  {
   "cell_type": "code",
   "execution_count": 50,
   "metadata": {},
   "outputs": [],
   "source": [
    "# импорт библиотек\n",
    "import pandas as pd\n",
    "import matplotlib.pyplot as plt  "
   ]
  },
  {
   "cell_type": "code",
   "execution_count": 51,
   "metadata": {},
   "outputs": [],
   "source": [
    "# чтение файла с данными и сохранение в df\n",
    "# изначально данные склеились в одну строку вместо того, чтобы разбиться по колонкам. \n",
    "# это произошло из-за разделителей в формате csv. Для разделения был использован параметр sep.\n",
    "df = pd.read_csv('/datasets/real_estate_data.csv', sep = '\\t')"
   ]
  },
  {
   "cell_type": "code",
   "execution_count": 52,
   "metadata": {
    "scrolled": true
   },
   "outputs": [
    {
     "data": {
      "text/html": [
       "<div>\n",
       "<style scoped>\n",
       "    .dataframe tbody tr th:only-of-type {\n",
       "        vertical-align: middle;\n",
       "    }\n",
       "\n",
       "    .dataframe tbody tr th {\n",
       "        vertical-align: top;\n",
       "    }\n",
       "\n",
       "    .dataframe thead th {\n",
       "        text-align: right;\n",
       "    }\n",
       "</style>\n",
       "<table border=\"1\" class=\"dataframe\">\n",
       "  <thead>\n",
       "    <tr style=\"text-align: right;\">\n",
       "      <th></th>\n",
       "      <th>total_images</th>\n",
       "      <th>last_price</th>\n",
       "      <th>total_area</th>\n",
       "      <th>first_day_exposition</th>\n",
       "      <th>rooms</th>\n",
       "      <th>ceiling_height</th>\n",
       "      <th>floors_total</th>\n",
       "      <th>living_area</th>\n",
       "      <th>floor</th>\n",
       "      <th>is_apartment</th>\n",
       "      <th>...</th>\n",
       "      <th>kitchen_area</th>\n",
       "      <th>balcony</th>\n",
       "      <th>locality_name</th>\n",
       "      <th>airports_nearest</th>\n",
       "      <th>cityCenters_nearest</th>\n",
       "      <th>parks_around3000</th>\n",
       "      <th>parks_nearest</th>\n",
       "      <th>ponds_around3000</th>\n",
       "      <th>ponds_nearest</th>\n",
       "      <th>days_exposition</th>\n",
       "    </tr>\n",
       "  </thead>\n",
       "  <tbody>\n",
       "    <tr>\n",
       "      <th>0</th>\n",
       "      <td>20</td>\n",
       "      <td>13000000.0</td>\n",
       "      <td>108.00</td>\n",
       "      <td>2019-03-07T00:00:00</td>\n",
       "      <td>3</td>\n",
       "      <td>2.70</td>\n",
       "      <td>16.0</td>\n",
       "      <td>51.00</td>\n",
       "      <td>8</td>\n",
       "      <td>NaN</td>\n",
       "      <td>...</td>\n",
       "      <td>25.00</td>\n",
       "      <td>NaN</td>\n",
       "      <td>Санкт-Петербург</td>\n",
       "      <td>18863.0</td>\n",
       "      <td>16028.0</td>\n",
       "      <td>1.0</td>\n",
       "      <td>482.0</td>\n",
       "      <td>2.0</td>\n",
       "      <td>755.0</td>\n",
       "      <td>NaN</td>\n",
       "    </tr>\n",
       "    <tr>\n",
       "      <th>1</th>\n",
       "      <td>7</td>\n",
       "      <td>3350000.0</td>\n",
       "      <td>40.40</td>\n",
       "      <td>2018-12-04T00:00:00</td>\n",
       "      <td>1</td>\n",
       "      <td>NaN</td>\n",
       "      <td>11.0</td>\n",
       "      <td>18.60</td>\n",
       "      <td>1</td>\n",
       "      <td>NaN</td>\n",
       "      <td>...</td>\n",
       "      <td>11.00</td>\n",
       "      <td>2.0</td>\n",
       "      <td>посёлок Шушары</td>\n",
       "      <td>12817.0</td>\n",
       "      <td>18603.0</td>\n",
       "      <td>0.0</td>\n",
       "      <td>NaN</td>\n",
       "      <td>0.0</td>\n",
       "      <td>NaN</td>\n",
       "      <td>81.0</td>\n",
       "    </tr>\n",
       "    <tr>\n",
       "      <th>2</th>\n",
       "      <td>10</td>\n",
       "      <td>5196000.0</td>\n",
       "      <td>56.00</td>\n",
       "      <td>2015-08-20T00:00:00</td>\n",
       "      <td>2</td>\n",
       "      <td>NaN</td>\n",
       "      <td>5.0</td>\n",
       "      <td>34.30</td>\n",
       "      <td>4</td>\n",
       "      <td>NaN</td>\n",
       "      <td>...</td>\n",
       "      <td>8.30</td>\n",
       "      <td>0.0</td>\n",
       "      <td>Санкт-Петербург</td>\n",
       "      <td>21741.0</td>\n",
       "      <td>13933.0</td>\n",
       "      <td>1.0</td>\n",
       "      <td>90.0</td>\n",
       "      <td>2.0</td>\n",
       "      <td>574.0</td>\n",
       "      <td>558.0</td>\n",
       "    </tr>\n",
       "    <tr>\n",
       "      <th>3</th>\n",
       "      <td>0</td>\n",
       "      <td>64900000.0</td>\n",
       "      <td>159.00</td>\n",
       "      <td>2015-07-24T00:00:00</td>\n",
       "      <td>3</td>\n",
       "      <td>NaN</td>\n",
       "      <td>14.0</td>\n",
       "      <td>NaN</td>\n",
       "      <td>9</td>\n",
       "      <td>NaN</td>\n",
       "      <td>...</td>\n",
       "      <td>NaN</td>\n",
       "      <td>0.0</td>\n",
       "      <td>Санкт-Петербург</td>\n",
       "      <td>28098.0</td>\n",
       "      <td>6800.0</td>\n",
       "      <td>2.0</td>\n",
       "      <td>84.0</td>\n",
       "      <td>3.0</td>\n",
       "      <td>234.0</td>\n",
       "      <td>424.0</td>\n",
       "    </tr>\n",
       "    <tr>\n",
       "      <th>4</th>\n",
       "      <td>2</td>\n",
       "      <td>10000000.0</td>\n",
       "      <td>100.00</td>\n",
       "      <td>2018-06-19T00:00:00</td>\n",
       "      <td>2</td>\n",
       "      <td>3.03</td>\n",
       "      <td>14.0</td>\n",
       "      <td>32.00</td>\n",
       "      <td>13</td>\n",
       "      <td>NaN</td>\n",
       "      <td>...</td>\n",
       "      <td>41.00</td>\n",
       "      <td>NaN</td>\n",
       "      <td>Санкт-Петербург</td>\n",
       "      <td>31856.0</td>\n",
       "      <td>8098.0</td>\n",
       "      <td>2.0</td>\n",
       "      <td>112.0</td>\n",
       "      <td>1.0</td>\n",
       "      <td>48.0</td>\n",
       "      <td>121.0</td>\n",
       "    </tr>\n",
       "    <tr>\n",
       "      <th>5</th>\n",
       "      <td>10</td>\n",
       "      <td>2890000.0</td>\n",
       "      <td>30.40</td>\n",
       "      <td>2018-09-10T00:00:00</td>\n",
       "      <td>1</td>\n",
       "      <td>NaN</td>\n",
       "      <td>12.0</td>\n",
       "      <td>14.40</td>\n",
       "      <td>5</td>\n",
       "      <td>NaN</td>\n",
       "      <td>...</td>\n",
       "      <td>9.10</td>\n",
       "      <td>NaN</td>\n",
       "      <td>городской посёлок Янино-1</td>\n",
       "      <td>NaN</td>\n",
       "      <td>NaN</td>\n",
       "      <td>NaN</td>\n",
       "      <td>NaN</td>\n",
       "      <td>NaN</td>\n",
       "      <td>NaN</td>\n",
       "      <td>55.0</td>\n",
       "    </tr>\n",
       "    <tr>\n",
       "      <th>6</th>\n",
       "      <td>6</td>\n",
       "      <td>3700000.0</td>\n",
       "      <td>37.30</td>\n",
       "      <td>2017-11-02T00:00:00</td>\n",
       "      <td>1</td>\n",
       "      <td>NaN</td>\n",
       "      <td>26.0</td>\n",
       "      <td>10.60</td>\n",
       "      <td>6</td>\n",
       "      <td>NaN</td>\n",
       "      <td>...</td>\n",
       "      <td>14.40</td>\n",
       "      <td>1.0</td>\n",
       "      <td>посёлок Парголово</td>\n",
       "      <td>52996.0</td>\n",
       "      <td>19143.0</td>\n",
       "      <td>0.0</td>\n",
       "      <td>NaN</td>\n",
       "      <td>0.0</td>\n",
       "      <td>NaN</td>\n",
       "      <td>155.0</td>\n",
       "    </tr>\n",
       "    <tr>\n",
       "      <th>7</th>\n",
       "      <td>5</td>\n",
       "      <td>7915000.0</td>\n",
       "      <td>71.60</td>\n",
       "      <td>2019-04-18T00:00:00</td>\n",
       "      <td>2</td>\n",
       "      <td>NaN</td>\n",
       "      <td>24.0</td>\n",
       "      <td>NaN</td>\n",
       "      <td>22</td>\n",
       "      <td>NaN</td>\n",
       "      <td>...</td>\n",
       "      <td>18.90</td>\n",
       "      <td>2.0</td>\n",
       "      <td>Санкт-Петербург</td>\n",
       "      <td>23982.0</td>\n",
       "      <td>11634.0</td>\n",
       "      <td>0.0</td>\n",
       "      <td>NaN</td>\n",
       "      <td>0.0</td>\n",
       "      <td>NaN</td>\n",
       "      <td>NaN</td>\n",
       "    </tr>\n",
       "    <tr>\n",
       "      <th>8</th>\n",
       "      <td>20</td>\n",
       "      <td>2900000.0</td>\n",
       "      <td>33.16</td>\n",
       "      <td>2018-05-23T00:00:00</td>\n",
       "      <td>1</td>\n",
       "      <td>NaN</td>\n",
       "      <td>27.0</td>\n",
       "      <td>15.43</td>\n",
       "      <td>26</td>\n",
       "      <td>NaN</td>\n",
       "      <td>...</td>\n",
       "      <td>8.81</td>\n",
       "      <td>NaN</td>\n",
       "      <td>посёлок Мурино</td>\n",
       "      <td>NaN</td>\n",
       "      <td>NaN</td>\n",
       "      <td>NaN</td>\n",
       "      <td>NaN</td>\n",
       "      <td>NaN</td>\n",
       "      <td>NaN</td>\n",
       "      <td>189.0</td>\n",
       "    </tr>\n",
       "    <tr>\n",
       "      <th>9</th>\n",
       "      <td>18</td>\n",
       "      <td>5400000.0</td>\n",
       "      <td>61.00</td>\n",
       "      <td>2017-02-26T00:00:00</td>\n",
       "      <td>3</td>\n",
       "      <td>2.50</td>\n",
       "      <td>9.0</td>\n",
       "      <td>43.60</td>\n",
       "      <td>7</td>\n",
       "      <td>NaN</td>\n",
       "      <td>...</td>\n",
       "      <td>6.50</td>\n",
       "      <td>2.0</td>\n",
       "      <td>Санкт-Петербург</td>\n",
       "      <td>50898.0</td>\n",
       "      <td>15008.0</td>\n",
       "      <td>0.0</td>\n",
       "      <td>NaN</td>\n",
       "      <td>0.0</td>\n",
       "      <td>NaN</td>\n",
       "      <td>289.0</td>\n",
       "    </tr>\n",
       "  </tbody>\n",
       "</table>\n",
       "<p>10 rows × 22 columns</p>\n",
       "</div>"
      ],
      "text/plain": [
       "   total_images  last_price  total_area first_day_exposition  rooms  \\\n",
       "0            20  13000000.0      108.00  2019-03-07T00:00:00      3   \n",
       "1             7   3350000.0       40.40  2018-12-04T00:00:00      1   \n",
       "2            10   5196000.0       56.00  2015-08-20T00:00:00      2   \n",
       "3             0  64900000.0      159.00  2015-07-24T00:00:00      3   \n",
       "4             2  10000000.0      100.00  2018-06-19T00:00:00      2   \n",
       "5            10   2890000.0       30.40  2018-09-10T00:00:00      1   \n",
       "6             6   3700000.0       37.30  2017-11-02T00:00:00      1   \n",
       "7             5   7915000.0       71.60  2019-04-18T00:00:00      2   \n",
       "8            20   2900000.0       33.16  2018-05-23T00:00:00      1   \n",
       "9            18   5400000.0       61.00  2017-02-26T00:00:00      3   \n",
       "\n",
       "   ceiling_height  floors_total  living_area  floor is_apartment  ...  \\\n",
       "0            2.70          16.0        51.00      8          NaN  ...   \n",
       "1             NaN          11.0        18.60      1          NaN  ...   \n",
       "2             NaN           5.0        34.30      4          NaN  ...   \n",
       "3             NaN          14.0          NaN      9          NaN  ...   \n",
       "4            3.03          14.0        32.00     13          NaN  ...   \n",
       "5             NaN          12.0        14.40      5          NaN  ...   \n",
       "6             NaN          26.0        10.60      6          NaN  ...   \n",
       "7             NaN          24.0          NaN     22          NaN  ...   \n",
       "8             NaN          27.0        15.43     26          NaN  ...   \n",
       "9            2.50           9.0        43.60      7          NaN  ...   \n",
       "\n",
       "   kitchen_area  balcony              locality_name  airports_nearest  \\\n",
       "0         25.00      NaN            Санкт-Петербург           18863.0   \n",
       "1         11.00      2.0             посёлок Шушары           12817.0   \n",
       "2          8.30      0.0            Санкт-Петербург           21741.0   \n",
       "3           NaN      0.0            Санкт-Петербург           28098.0   \n",
       "4         41.00      NaN            Санкт-Петербург           31856.0   \n",
       "5          9.10      NaN  городской посёлок Янино-1               NaN   \n",
       "6         14.40      1.0          посёлок Парголово           52996.0   \n",
       "7         18.90      2.0            Санкт-Петербург           23982.0   \n",
       "8          8.81      NaN             посёлок Мурино               NaN   \n",
       "9          6.50      2.0            Санкт-Петербург           50898.0   \n",
       "\n",
       "  cityCenters_nearest  parks_around3000  parks_nearest  ponds_around3000  \\\n",
       "0             16028.0               1.0          482.0               2.0   \n",
       "1             18603.0               0.0            NaN               0.0   \n",
       "2             13933.0               1.0           90.0               2.0   \n",
       "3              6800.0               2.0           84.0               3.0   \n",
       "4              8098.0               2.0          112.0               1.0   \n",
       "5                 NaN               NaN            NaN               NaN   \n",
       "6             19143.0               0.0            NaN               0.0   \n",
       "7             11634.0               0.0            NaN               0.0   \n",
       "8                 NaN               NaN            NaN               NaN   \n",
       "9             15008.0               0.0            NaN               0.0   \n",
       "\n",
       "   ponds_nearest  days_exposition  \n",
       "0          755.0              NaN  \n",
       "1            NaN             81.0  \n",
       "2          574.0            558.0  \n",
       "3          234.0            424.0  \n",
       "4           48.0            121.0  \n",
       "5            NaN             55.0  \n",
       "6            NaN            155.0  \n",
       "7            NaN              NaN  \n",
       "8            NaN            189.0  \n",
       "9            NaN            289.0  \n",
       "\n",
       "[10 rows x 22 columns]"
      ]
     },
     "execution_count": 52,
     "metadata": {},
     "output_type": "execute_result"
    }
   ],
   "source": [
    "# получение первых 10 строк таблицы df\n",
    "df.head(10)"
   ]
  },
  {
   "cell_type": "code",
   "execution_count": 53,
   "metadata": {},
   "outputs": [
    {
     "name": "stdout",
     "output_type": "stream",
     "text": [
      "<class 'pandas.core.frame.DataFrame'>\n",
      "RangeIndex: 23699 entries, 0 to 23698\n",
      "Data columns (total 22 columns):\n",
      " #   Column                Non-Null Count  Dtype  \n",
      "---  ------                --------------  -----  \n",
      " 0   total_images          23699 non-null  int64  \n",
      " 1   last_price            23699 non-null  float64\n",
      " 2   total_area            23699 non-null  float64\n",
      " 3   first_day_exposition  23699 non-null  object \n",
      " 4   rooms                 23699 non-null  int64  \n",
      " 5   ceiling_height        14504 non-null  float64\n",
      " 6   floors_total          23613 non-null  float64\n",
      " 7   living_area           21796 non-null  float64\n",
      " 8   floor                 23699 non-null  int64  \n",
      " 9   is_apartment          2775 non-null   object \n",
      " 10  studio                23699 non-null  bool   \n",
      " 11  open_plan             23699 non-null  bool   \n",
      " 12  kitchen_area          21421 non-null  float64\n",
      " 13  balcony               12180 non-null  float64\n",
      " 14  locality_name         23650 non-null  object \n",
      " 15  airports_nearest      18157 non-null  float64\n",
      " 16  cityCenters_nearest   18180 non-null  float64\n",
      " 17  parks_around3000      18181 non-null  float64\n",
      " 18  parks_nearest         8079 non-null   float64\n",
      " 19  ponds_around3000      18181 non-null  float64\n",
      " 20  ponds_nearest         9110 non-null   float64\n",
      " 21  days_exposition       20518 non-null  float64\n",
      "dtypes: bool(2), float64(14), int64(3), object(3)\n",
      "memory usage: 3.7+ MB\n"
     ]
    }
   ],
   "source": [
    "# получение общей информации о данных в таблице df\n",
    "df.info()"
   ]
  },
  {
   "cell_type": "markdown",
   "metadata": {},
   "source": [
    "### Вывод"
   ]
  },
  {
   "cell_type": "markdown",
   "metadata": {},
   "source": [
    "Итак, в таблице 22 столбца. Типы данных в столбцах — float, int, bool и object.\n",
    "* airports_nearest — расстояние до ближайшего аэропорта в метрах (м)\n",
    "* balcony — число балконов\n",
    "* ceiling_height — высота потолков (м)\n",
    "* cityCenters_nearest — расстояние до центра города (м)\n",
    "* days_exposition — сколько дней было размещено объявление (от публикации до снятия)\n",
    "* first_day_exposition — дата публикации\n",
    "* floor — этаж\n",
    "* floors_total — всего этажей в доме\n",
    "* is_apartment — апартаменты (булев тип)\n",
    "* kitchen_area — площадь кухни в квадратных метрах (м²)\n",
    "* last_price — цена на момент снятия с публикации\n",
    "* living_area — жилая площадь в квадратных метрах (м²)\n",
    "* locality_name — название населённого пункта\n",
    "* open_plan — свободная планировка (булев тип)\n",
    "* parks_around3000 — число парков в радиусе 3 км\n",
    "* parks_nearest — расстояние до ближайшего парка (м)\n",
    "* ponds_around3000 — число водоёмов в радиусе 3 км\n",
    "* ponds_nearest — расстояние до ближайшего водоёма (м)\n",
    "* rooms — число комнат\n",
    "* studio — квартира-студия (булев тип)\n",
    "* total_area — площадь квартиры в квадратных метрах (м²)\n",
    "* total_images — число фотографий квартиры в объявлении\n",
    "\n",
    "**Выводы:**\n",
    "1. По каждой квартире на продажу доступны два вида данных. Первые вписаны пользователем, вторые — получены автоматически на основе картографических данных. Например, расстояние до центра, аэропорта, ближайшего парка и водоёма.\n",
    "2. В названиях колонок нарушения стиля нет. \n",
    "3. В столбцах: ceiling_height(высота потолков), floors_total(всего этажей в доме), living_area(жилая площадь), is_apartment(аппартаменты), kitchen_area(площадь кухни), balcony(число балконов), locality_name(название населенного пункта), airports_nearest(расстояние до аэропорта), cityCenters_nearest(расстояние до центра города), parks_around3000(число парков в радиусе 3 км), parks_nearest(расстояние до ближайшего парка), ponds_around3000(число водоёмов в радиусе 3 км), ponds_nearest(расстояние до ближайшего водоёма), days_exposition(сколько дней было размещено объявление) - есть пропущенные значения."
   ]
  },
  {
   "cell_type": "markdown",
   "metadata": {},
   "source": [
    "## Предобработка данных"
   ]
  },
  {
   "cell_type": "code",
   "execution_count": 54,
   "metadata": {},
   "outputs": [
    {
     "data": {
      "text/plain": [
       "total_images                0\n",
       "last_price                  0\n",
       "total_area                  0\n",
       "first_day_exposition        0\n",
       "rooms                       0\n",
       "ceiling_height           9195\n",
       "floors_total               86\n",
       "living_area              1903\n",
       "floor                       0\n",
       "is_apartment            20924\n",
       "studio                      0\n",
       "open_plan                   0\n",
       "kitchen_area             2278\n",
       "balcony                 11519\n",
       "locality_name              49\n",
       "airports_nearest         5542\n",
       "cityCenters_nearest      5519\n",
       "parks_around3000         5518\n",
       "parks_nearest           15620\n",
       "ponds_around3000         5518\n",
       "ponds_nearest           14589\n",
       "days_exposition          3181\n",
       "dtype: int64"
      ]
     },
     "metadata": {},
     "output_type": "display_data"
    }
   ],
   "source": [
    "# подсчёт пропусков\n",
    "display(df.isna().sum())"
   ]
  },
  {
   "cell_type": "markdown",
   "metadata": {},
   "source": [
    "Изучим столбцы, в которых пропущены значения и посмотртим, можем ли мы их заполнить. \n",
    "* ceiling_height(высота потолков) - 9195 пропусков,  лучше заполнить медианами с группировкой по населенным пунктам.  \n",
    "* floors_total(всего этажей в доме) - 86 порпусков,  лучше заполнить медианами с группировкой по населенным пунктам.\n",
    "* living_area(жилая площадь) - 1903 пропуска,  лучше заполнить медианами с группировкой по населенным пунктам.\n",
    "* is_apartment(аппартаменты) - 20924 пропуска, логичнее всего заполнить пропуски значением False. \n",
    "* kitchen_area(площадь кухни) - 2278 пропусков,  лучше заполнить медианами с группировкой по населенным пунктам. \n",
    "* balcony(число балконов) - 11519 пропусков, скорее всего пропущены значения там, где балконов нет, можно заполнить нулями 0.  \n",
    "* locality_name(название населенного пункта) - 49 пропусков, логичной замены нет, пропущенных значений меньше 1%, поэтому эти строки можно удалить.\n",
    "* airports_nearest(расстояние до аэропорта) - 5542 пропуска,  лучше заполнить медианами с группировкой по населенным пунктам.  \n",
    "* cityCenters_nearest(расстояние до центра города) - 5519 пропусков,  лучше заполнить медианами с группировкой по населенным пунктам. \n",
    "* parks_around3000(число парков в радиусе 3 км) - 5518 пропусков,  лучше заполнить медианами с группировкой по населенным пунктам.  \n",
    "* parks_nearest(расстояние до ближайшего парка) - 15620 пропусков,  лучше заполнить медианами с группировкой по населенным пунктам.\n",
    "* ponds_around3000(число водоёмов в радиусе 3 км) - 5518 пропусков, лучше заполнить медианами с группировкой по населенным пунктам.\n",
    "* ponds_nearest(расстояние до ближайшего водоёма) - 14589 пропусков,  лучше заполнить медианами с группировкой по населенным пунктам. \n",
    "* days_exposition(сколько дней было размещено объявление) - 3181 пропусков, логичной замены нет, лучше пока оставить пустыми. "
   ]
  },
  {
   "cell_type": "code",
   "execution_count": 55,
   "metadata": {},
   "outputs": [
    {
     "data": {
      "text/plain": [
       "total_images                0\n",
       "last_price                  0\n",
       "total_area                  0\n",
       "first_day_exposition        0\n",
       "rooms                       0\n",
       "ceiling_height           9160\n",
       "floors_total               85\n",
       "living_area              1898\n",
       "floor                       0\n",
       "is_apartment                0\n",
       "studio                      0\n",
       "open_plan                   0\n",
       "kitchen_area             2269\n",
       "balcony                     0\n",
       "locality_name               0\n",
       "airports_nearest         5534\n",
       "cityCenters_nearest      5511\n",
       "parks_around3000         5510\n",
       "parks_nearest           15586\n",
       "ponds_around3000         5510\n",
       "ponds_nearest           14565\n",
       "days_exposition          3180\n",
       "dtype: int64"
      ]
     },
     "metadata": {},
     "output_type": "display_data"
    }
   ],
   "source": [
    "df = df.dropna(subset=['locality_name']) #удаляем строки с пустыми значениями в столбце locality_name\n",
    "df['is_apartment'] = df['is_apartment'].fillna(False) #заменяем пустые значения в столбце is_apartment значением False\n",
    "df['balcony'] = df['balcony'].fillna(0) #заменяем пустые значения в столбце balcony значением 0.\n",
    "display(df.isna().sum()) #проверяем результат. Теперь осталось заполнить остальные пропуски медаианными значениями. "
   ]
  },
  {
   "cell_type": "code",
   "execution_count": 56,
   "metadata": {
    "scrolled": true
   },
   "outputs": [
    {
     "data": {
      "text/plain": [
       "total_images               0\n",
       "last_price                 0\n",
       "total_area                 0\n",
       "first_day_exposition       0\n",
       "rooms                      0\n",
       "ceiling_height             0\n",
       "floors_total               0\n",
       "living_area                0\n",
       "floor                      0\n",
       "is_apartment               0\n",
       "studio                     0\n",
       "open_plan                  0\n",
       "kitchen_area               0\n",
       "balcony                    0\n",
       "locality_name              0\n",
       "airports_nearest           0\n",
       "cityCenters_nearest        0\n",
       "parks_around3000           0\n",
       "parks_nearest              0\n",
       "ponds_around3000           0\n",
       "ponds_nearest              0\n",
       "days_exposition         3180\n",
       "dtype: int64"
      ]
     },
     "metadata": {},
     "output_type": "display_data"
    }
   ],
   "source": [
    "#напишем функцию для заполнения пропусков медианой с группировкой по населенному пункту\n",
    "def fill_nans(group_param, fill_param):\n",
    "    for height in df[group_param].unique():\n",
    "       median = df.loc[df[group_param] == height, fill_param].median()\n",
    "       df.loc[(df[fill_param].isna()) & (df[group_param] == height), fill_param] = median\n",
    "        \n",
    "#некоторые значения не могут быть заполнены медианой по местоположению, поскольку о них нет данных, \n",
    "#такие пропуски заполним медианным значением по всему столбцу целиком        \n",
    "       df.loc[df['ceiling_height'].isna(), fill_param] = df[fill_param].median()\n",
    "       df.loc[df['living_area'].isna(), fill_param] = df[fill_param].median()\n",
    "       df.loc[df['kitchen_area'].isna(), fill_param] = df[fill_param].median()\n",
    "       df.loc[df['airports_nearest'].isna(), fill_param] = df[fill_param].median()\n",
    "       df.loc[df['cityCenters_nearest'].isna(), fill_param] = df[fill_param].median()\n",
    "       df.loc[df['parks_around3000'].isna(), fill_param] = df[fill_param].median()\n",
    "       df.loc[df['parks_nearest'].isna(), fill_param] = df[fill_param].median()\n",
    "       df.loc[df['ponds_around3000'].isna(), fill_param] = df[fill_param].median()\n",
    "       df.loc[df['ponds_nearest'].isna(), fill_param] = df[fill_param].median()\n",
    "    \n",
    "#вызываем функцию для каждого столбца с пустыми значениями \n",
    "fill_nans('locality_name', 'ceiling_height')\n",
    "fill_nans('locality_name', 'floors_total')\n",
    "fill_nans('locality_name', 'living_area')\n",
    "fill_nans('locality_name', 'kitchen_area')\n",
    "fill_nans('locality_name', 'airports_nearest')\n",
    "fill_nans('locality_name', 'cityCenters_nearest')\n",
    "fill_nans('locality_name', 'parks_around3000')\n",
    "fill_nans('locality_name', 'parks_nearest')\n",
    "fill_nans('locality_name', 'ponds_around3000')\n",
    "fill_nans('locality_name', 'ponds_nearest')         \n",
    "display(df.isna().sum()) #проверка результата "
   ]
  },
  {
   "cell_type": "code",
   "execution_count": 57,
   "metadata": {},
   "outputs": [
    {
     "data": {
      "image/png": "[encoded data removed]",
      "text/plain": [
       "<Figure size 432x288 with 1 Axes>"
      ]
     },
     "metadata": {
      "needs_background": "light"
     },
     "output_type": "display_data"
    }
   ],
   "source": [
    "test = pd.read_csv('/datasets/real_estate_data.csv', sep = '\\t')\n",
    "test['first_day_exposition'] = pd.to_datetime(df['first_day_exposition'])\n",
    "test['days_exposition_missing'] = test['days_exposition'].isna().astype(int)\n",
    "#суммируем и строим график\n",
    "test.groupby('first_day_exposition').agg({'days_exposition_missing': 'sum'}).plot()\n",
    "plt.xlabel('День размещения объявления'), plt.ylabel('Количество объявлений')\n",
    "plt.title('Распределение объявлений\\nбез days_exposition')\n",
    "plt.show()"
   ]
  },
  {
   "cell_type": "markdown",
   "metadata": {},
   "source": [
    "Число пропусков растет к концу наблюдаемого периода. Видимо пропуски означают незакрытые объявления. Будем считать, что дата выгрузки данных равна последнему дню наблюдений. Пропуски в этом столбце заполнять не будем. "
   ]
  },
  {
   "cell_type": "code",
   "execution_count": 58,
   "metadata": {},
   "outputs": [],
   "source": [
    "#заменим вещественный тип данных в столбцах: floors_total, balcony, parks_around3000, ponds_around3000 на целочисленный\n",
    "df['floors_total'] = df['floors_total'].astype('int')\n",
    "df['balcony'] = df['balcony'].astype('int')\n",
    "df['parks_around3000'] = df['parks_around3000'].astype('int')\n",
    "df['ponds_around3000'] = df['ponds_around3000'].astype('int')\n"
   ]
  },
  {
   "cell_type": "code",
   "execution_count": 59,
   "metadata": {},
   "outputs": [
    {
     "name": "stdout",
     "output_type": "stream",
     "text": [
      "<class 'pandas.core.frame.DataFrame'>\n",
      "Int64Index: 23650 entries, 0 to 23698\n",
      "Data columns (total 22 columns):\n",
      " #   Column                Non-Null Count  Dtype  \n",
      "---  ------                --------------  -----  \n",
      " 0   total_images          23650 non-null  int64  \n",
      " 1   last_price            23650 non-null  float64\n",
      " 2   total_area            23650 non-null  float64\n",
      " 3   first_day_exposition  23650 non-null  object \n",
      " 4   rooms                 23650 non-null  int64  \n",
      " 5   ceiling_height        23650 non-null  float64\n",
      " 6   floors_total          23650 non-null  int64  \n",
      " 7   living_area           23650 non-null  float64\n",
      " 8   floor                 23650 non-null  int64  \n",
      " 9   is_apartment          23650 non-null  bool   \n",
      " 10  studio                23650 non-null  bool   \n",
      " 11  open_plan             23650 non-null  bool   \n",
      " 12  kitchen_area          23650 non-null  float64\n",
      " 13  balcony               23650 non-null  int64  \n",
      " 14  locality_name         23650 non-null  object \n",
      " 15  airports_nearest      23650 non-null  float64\n",
      " 16  cityCenters_nearest   23650 non-null  float64\n",
      " 17  parks_around3000      23650 non-null  int64  \n",
      " 18  parks_nearest         23650 non-null  float64\n",
      " 19  ponds_around3000      23650 non-null  int64  \n",
      " 20  ponds_nearest         23650 non-null  float64\n",
      " 21  days_exposition       20470 non-null  float64\n",
      "dtypes: bool(3), float64(10), int64(7), object(2)\n",
      "memory usage: 4.2+ MB\n"
     ]
    }
   ],
   "source": [
    "df.info() #итоговая проверка всех изменений"
   ]
  },
  {
   "cell_type": "code",
   "execution_count": 60,
   "metadata": {},
   "outputs": [
    {
     "data": {
      "text/plain": [
       "0"
      ]
     },
     "execution_count": 60,
     "metadata": {},
     "output_type": "execute_result"
    }
   ],
   "source": [
    "df.duplicated().sum() #посчитаем явные дубликаты,их нет"
   ]
  },
  {
   "cell_type": "markdown",
   "metadata": {},
   "source": [
    "#### Вывод: \n",
    "На этапе предобработки данных были выявлены и обработаны пропущенные значения, а именно:\n",
    "- удалены строки с пустыми значениями в столбце locality_name\n",
    "- заменены пустые значения в столбце is_apartment значением False\n",
    "- заменены пустые значения в столбце balcony значением 0.\n",
    "- остальные пропуски заполнены медаианными значениями. \n",
    "- проанализированы пропуски в столбце days_exposition, установлено, что дата выгрузки данных равна последнему дню наблюдений, поэтому пропуски в этом столбце было принято решение не заполнять.\n",
    "\n",
    "Таким образом, данные готовы к дальнейшему анализу. \n",
    "    "
   ]
  },
  {
   "cell_type": "markdown",
   "metadata": {},
   "source": [
    "## Расчёты и добавление результатов в таблицу"
   ]
  },
  {
   "cell_type": "code",
   "execution_count": 61,
   "metadata": {},
   "outputs": [],
   "source": [
    "# добавляем в таблицу цену квадратного метра\n",
    "df['price_square_meter'] = df['last_price'] / df['total_area']\n",
    "# добавляем в таблицу соотношение жилой и общей площади\n",
    "df['living_total'] = df['living_area'] / df['total_area']\n",
    "# добавляем в таблицу соотношение отношение площади кухни к общей\n",
    "df['kitchen_total'] = df['kitchen_area'] / df['total_area']"
   ]
  },
  {
   "cell_type": "code",
   "execution_count": 62,
   "metadata": {},
   "outputs": [],
   "source": [
    "#добавляем в таблицу день недели, месяц и год публикации объявления\n",
    "df['day'] = pd.DatetimeIndex(df['first_day_exposition']).weekday\n",
    "df['month'] = pd.DatetimeIndex(df['first_day_exposition']).month\n",
    "df['year'] = pd.DatetimeIndex(df['first_day_exposition']).year"
   ]
  },
  {
   "cell_type": "code",
   "execution_count": 63,
   "metadata": {},
   "outputs": [
    {
     "data": {
      "text/html": [
       "<div>\n",
       "<style scoped>\n",
       "    .dataframe tbody tr th:only-of-type {\n",
       "        vertical-align: middle;\n",
       "    }\n",
       "\n",
       "    .dataframe tbody tr th {\n",
       "        vertical-align: top;\n",
       "    }\n",
       "\n",
       "    .dataframe thead th {\n",
       "        text-align: right;\n",
       "    }\n",
       "</style>\n",
       "<table border=\"1\" class=\"dataframe\">\n",
       "  <thead>\n",
       "    <tr style=\"text-align: right;\">\n",
       "      <th></th>\n",
       "      <th>total_images</th>\n",
       "      <th>last_price</th>\n",
       "      <th>total_area</th>\n",
       "      <th>first_day_exposition</th>\n",
       "      <th>rooms</th>\n",
       "      <th>ceiling_height</th>\n",
       "      <th>floors_total</th>\n",
       "      <th>living_area</th>\n",
       "      <th>floor</th>\n",
       "      <th>is_apartment</th>\n",
       "      <th>...</th>\n",
       "      <th>ponds_around3000</th>\n",
       "      <th>ponds_nearest</th>\n",
       "      <th>days_exposition</th>\n",
       "      <th>price_square_meter</th>\n",
       "      <th>living_total</th>\n",
       "      <th>kitchen_total</th>\n",
       "      <th>day</th>\n",
       "      <th>month</th>\n",
       "      <th>year</th>\n",
       "      <th>floor_category</th>\n",
       "    </tr>\n",
       "  </thead>\n",
       "  <tbody>\n",
       "    <tr>\n",
       "      <th>0</th>\n",
       "      <td>20</td>\n",
       "      <td>13000000.0</td>\n",
       "      <td>108.00</td>\n",
       "      <td>2019-03-07T00:00:00</td>\n",
       "      <td>3</td>\n",
       "      <td>2.70</td>\n",
       "      <td>16</td>\n",
       "      <td>51.0</td>\n",
       "      <td>8</td>\n",
       "      <td>False</td>\n",
       "      <td>...</td>\n",
       "      <td>2</td>\n",
       "      <td>755.0</td>\n",
       "      <td>NaN</td>\n",
       "      <td>120370.370370</td>\n",
       "      <td>0.472222</td>\n",
       "      <td>0.231481</td>\n",
       "      <td>3</td>\n",
       "      <td>3</td>\n",
       "      <td>2019</td>\n",
       "      <td>другой</td>\n",
       "    </tr>\n",
       "    <tr>\n",
       "      <th>1</th>\n",
       "      <td>7</td>\n",
       "      <td>3350000.0</td>\n",
       "      <td>40.40</td>\n",
       "      <td>2018-12-04T00:00:00</td>\n",
       "      <td>1</td>\n",
       "      <td>2.70</td>\n",
       "      <td>9</td>\n",
       "      <td>31.0</td>\n",
       "      <td>1</td>\n",
       "      <td>False</td>\n",
       "      <td>...</td>\n",
       "      <td>1</td>\n",
       "      <td>503.0</td>\n",
       "      <td>81.0</td>\n",
       "      <td>82920.792079</td>\n",
       "      <td>0.767327</td>\n",
       "      <td>0.238119</td>\n",
       "      <td>1</td>\n",
       "      <td>12</td>\n",
       "      <td>2018</td>\n",
       "      <td>первый</td>\n",
       "    </tr>\n",
       "    <tr>\n",
       "      <th>2</th>\n",
       "      <td>10</td>\n",
       "      <td>5196000.0</td>\n",
       "      <td>56.00</td>\n",
       "      <td>2015-08-20T00:00:00</td>\n",
       "      <td>2</td>\n",
       "      <td>2.70</td>\n",
       "      <td>5</td>\n",
       "      <td>34.3</td>\n",
       "      <td>4</td>\n",
       "      <td>False</td>\n",
       "      <td>...</td>\n",
       "      <td>2</td>\n",
       "      <td>574.0</td>\n",
       "      <td>558.0</td>\n",
       "      <td>92785.714286</td>\n",
       "      <td>0.612500</td>\n",
       "      <td>0.148214</td>\n",
       "      <td>3</td>\n",
       "      <td>8</td>\n",
       "      <td>2015</td>\n",
       "      <td>другой</td>\n",
       "    </tr>\n",
       "    <tr>\n",
       "      <th>3</th>\n",
       "      <td>0</td>\n",
       "      <td>64900000.0</td>\n",
       "      <td>159.00</td>\n",
       "      <td>2015-07-24T00:00:00</td>\n",
       "      <td>3</td>\n",
       "      <td>2.70</td>\n",
       "      <td>9</td>\n",
       "      <td>31.0</td>\n",
       "      <td>9</td>\n",
       "      <td>False</td>\n",
       "      <td>...</td>\n",
       "      <td>3</td>\n",
       "      <td>234.0</td>\n",
       "      <td>424.0</td>\n",
       "      <td>408176.100629</td>\n",
       "      <td>0.194969</td>\n",
       "      <td>0.062264</td>\n",
       "      <td>4</td>\n",
       "      <td>7</td>\n",
       "      <td>2015</td>\n",
       "      <td>последний</td>\n",
       "    </tr>\n",
       "    <tr>\n",
       "      <th>4</th>\n",
       "      <td>2</td>\n",
       "      <td>10000000.0</td>\n",
       "      <td>100.00</td>\n",
       "      <td>2018-06-19T00:00:00</td>\n",
       "      <td>2</td>\n",
       "      <td>3.03</td>\n",
       "      <td>14</td>\n",
       "      <td>32.0</td>\n",
       "      <td>13</td>\n",
       "      <td>False</td>\n",
       "      <td>...</td>\n",
       "      <td>1</td>\n",
       "      <td>48.0</td>\n",
       "      <td>121.0</td>\n",
       "      <td>100000.000000</td>\n",
       "      <td>0.320000</td>\n",
       "      <td>0.410000</td>\n",
       "      <td>1</td>\n",
       "      <td>6</td>\n",
       "      <td>2018</td>\n",
       "      <td>другой</td>\n",
       "    </tr>\n",
       "    <tr>\n",
       "      <th>5</th>\n",
       "      <td>10</td>\n",
       "      <td>2890000.0</td>\n",
       "      <td>30.40</td>\n",
       "      <td>2018-09-10T00:00:00</td>\n",
       "      <td>1</td>\n",
       "      <td>2.70</td>\n",
       "      <td>9</td>\n",
       "      <td>31.0</td>\n",
       "      <td>5</td>\n",
       "      <td>False</td>\n",
       "      <td>...</td>\n",
       "      <td>1</td>\n",
       "      <td>503.0</td>\n",
       "      <td>55.0</td>\n",
       "      <td>95065.789474</td>\n",
       "      <td>1.019737</td>\n",
       "      <td>0.316447</td>\n",
       "      <td>0</td>\n",
       "      <td>9</td>\n",
       "      <td>2018</td>\n",
       "      <td>другой</td>\n",
       "    </tr>\n",
       "    <tr>\n",
       "      <th>6</th>\n",
       "      <td>6</td>\n",
       "      <td>3700000.0</td>\n",
       "      <td>37.30</td>\n",
       "      <td>2017-11-02T00:00:00</td>\n",
       "      <td>1</td>\n",
       "      <td>2.70</td>\n",
       "      <td>9</td>\n",
       "      <td>31.0</td>\n",
       "      <td>6</td>\n",
       "      <td>False</td>\n",
       "      <td>...</td>\n",
       "      <td>1</td>\n",
       "      <td>503.0</td>\n",
       "      <td>155.0</td>\n",
       "      <td>99195.710456</td>\n",
       "      <td>0.831099</td>\n",
       "      <td>0.257909</td>\n",
       "      <td>3</td>\n",
       "      <td>11</td>\n",
       "      <td>2017</td>\n",
       "      <td>другой</td>\n",
       "    </tr>\n",
       "    <tr>\n",
       "      <th>7</th>\n",
       "      <td>5</td>\n",
       "      <td>7915000.0</td>\n",
       "      <td>71.60</td>\n",
       "      <td>2019-04-18T00:00:00</td>\n",
       "      <td>2</td>\n",
       "      <td>2.70</td>\n",
       "      <td>9</td>\n",
       "      <td>31.0</td>\n",
       "      <td>22</td>\n",
       "      <td>False</td>\n",
       "      <td>...</td>\n",
       "      <td>1</td>\n",
       "      <td>503.0</td>\n",
       "      <td>NaN</td>\n",
       "      <td>110544.692737</td>\n",
       "      <td>0.432961</td>\n",
       "      <td>0.134358</td>\n",
       "      <td>3</td>\n",
       "      <td>4</td>\n",
       "      <td>2019</td>\n",
       "      <td>другой</td>\n",
       "    </tr>\n",
       "    <tr>\n",
       "      <th>8</th>\n",
       "      <td>20</td>\n",
       "      <td>2900000.0</td>\n",
       "      <td>33.16</td>\n",
       "      <td>2018-05-23T00:00:00</td>\n",
       "      <td>1</td>\n",
       "      <td>2.70</td>\n",
       "      <td>9</td>\n",
       "      <td>31.0</td>\n",
       "      <td>26</td>\n",
       "      <td>False</td>\n",
       "      <td>...</td>\n",
       "      <td>1</td>\n",
       "      <td>503.0</td>\n",
       "      <td>189.0</td>\n",
       "      <td>87454.764777</td>\n",
       "      <td>0.934861</td>\n",
       "      <td>0.290109</td>\n",
       "      <td>2</td>\n",
       "      <td>5</td>\n",
       "      <td>2018</td>\n",
       "      <td>другой</td>\n",
       "    </tr>\n",
       "    <tr>\n",
       "      <th>9</th>\n",
       "      <td>18</td>\n",
       "      <td>5400000.0</td>\n",
       "      <td>61.00</td>\n",
       "      <td>2017-02-26T00:00:00</td>\n",
       "      <td>3</td>\n",
       "      <td>2.70</td>\n",
       "      <td>9</td>\n",
       "      <td>31.0</td>\n",
       "      <td>7</td>\n",
       "      <td>False</td>\n",
       "      <td>...</td>\n",
       "      <td>1</td>\n",
       "      <td>503.0</td>\n",
       "      <td>289.0</td>\n",
       "      <td>88524.590164</td>\n",
       "      <td>0.508197</td>\n",
       "      <td>0.157705</td>\n",
       "      <td>6</td>\n",
       "      <td>2</td>\n",
       "      <td>2017</td>\n",
       "      <td>другой</td>\n",
       "    </tr>\n",
       "  </tbody>\n",
       "</table>\n",
       "<p>10 rows × 29 columns</p>\n",
       "</div>"
      ],
      "text/plain": [
       "   total_images  last_price  total_area first_day_exposition  rooms  \\\n",
       "0            20  13000000.0      108.00  2019-03-07T00:00:00      3   \n",
       "1             7   3350000.0       40.40  2018-12-04T00:00:00      1   \n",
       "2            10   5196000.0       56.00  2015-08-20T00:00:00      2   \n",
       "3             0  64900000.0      159.00  2015-07-24T00:00:00      3   \n",
       "4             2  10000000.0      100.00  2018-06-19T00:00:00      2   \n",
       "5            10   2890000.0       30.40  2018-09-10T00:00:00      1   \n",
       "6             6   3700000.0       37.30  2017-11-02T00:00:00      1   \n",
       "7             5   7915000.0       71.60  2019-04-18T00:00:00      2   \n",
       "8            20   2900000.0       33.16  2018-05-23T00:00:00      1   \n",
       "9            18   5400000.0       61.00  2017-02-26T00:00:00      3   \n",
       "\n",
       "   ceiling_height  floors_total  living_area  floor  is_apartment  ...  \\\n",
       "0            2.70            16         51.0      8         False  ...   \n",
       "1            2.70             9         31.0      1         False  ...   \n",
       "2            2.70             5         34.3      4         False  ...   \n",
       "3            2.70             9         31.0      9         False  ...   \n",
       "4            3.03            14         32.0     13         False  ...   \n",
       "5            2.70             9         31.0      5         False  ...   \n",
       "6            2.70             9         31.0      6         False  ...   \n",
       "7            2.70             9         31.0     22         False  ...   \n",
       "8            2.70             9         31.0     26         False  ...   \n",
       "9            2.70             9         31.0      7         False  ...   \n",
       "\n",
       "   ponds_around3000  ponds_nearest  days_exposition  price_square_meter  \\\n",
       "0                 2          755.0              NaN       120370.370370   \n",
       "1                 1          503.0             81.0        82920.792079   \n",
       "2                 2          574.0            558.0        92785.714286   \n",
       "3                 3          234.0            424.0       408176.100629   \n",
       "4                 1           48.0            121.0       100000.000000   \n",
       "5                 1          503.0             55.0        95065.789474   \n",
       "6                 1          503.0            155.0        99195.710456   \n",
       "7                 1          503.0              NaN       110544.692737   \n",
       "8                 1          503.0            189.0        87454.764777   \n",
       "9                 1          503.0            289.0        88524.590164   \n",
       "\n",
       "  living_total  kitchen_total  day  month  year  floor_category  \n",
       "0     0.472222       0.231481    3      3  2019          другой  \n",
       "1     0.767327       0.238119    1     12  2018          первый  \n",
       "2     0.612500       0.148214    3      8  2015          другой  \n",
       "3     0.194969       0.062264    4      7  2015       последний  \n",
       "4     0.320000       0.410000    1      6  2018          другой  \n",
       "5     1.019737       0.316447    0      9  2018          другой  \n",
       "6     0.831099       0.257909    3     11  2017          другой  \n",
       "7     0.432961       0.134358    3      4  2019          другой  \n",
       "8     0.934861       0.290109    2      5  2018          другой  \n",
       "9     0.508197       0.157705    6      2  2017          другой  \n",
       "\n",
       "[10 rows x 29 columns]"
      ]
     },
     "execution_count": 63,
     "metadata": {},
     "output_type": "execute_result"
    }
   ],
   "source": [
    "#добавляем в таблицу этаж квартиры; варианты — первый, последний, другой\n",
    "def floor_category(row):\n",
    "    if row['floor'] == 1: return 'первый'\n",
    "    if row['floor'] == row['floors_total']: return 'последний'\n",
    "    return 'другой'\n",
    "df['floor_category'] = df.apply(floor_category, axis = 1) \n",
    "\n",
    "df.head(10) #выведем 10 строк таблицы после всех преобразований и посмотрим результат"
   ]
  },
  {
   "cell_type": "markdown",
   "metadata": {},
   "source": [
    "## Исследовательский анализ данных"
   ]
  },
  {
   "cell_type": "markdown",
   "metadata": {},
   "source": [
    "Изучим следующие параметры: площадь, цена, число комнат, высота потолков. Построим гистограммы для каждого параметра.\n"
   ]
  },
  {
   "cell_type": "markdown",
   "metadata": {},
   "source": [
    "***4.1 Гистограммы***\n",
    "\n",
    "Построим гистограммы для каждогопарметра"
   ]
  },
  {
   "cell_type": "code",
   "execution_count": 64,
   "metadata": {
    "scrolled": false
   },
   "outputs": [
    {
     "data": {
      "text/plain": [
       "<AxesSubplot:>"
      ]
     },
     "execution_count": 64,
     "metadata": {},
     "output_type": "execute_result"
    },
    {
     "data": {
      "image/png": "[encoded data removed]",
      "text/plain": [
       "<Figure size 432x288 with 1 Axes>"
      ]
     },
     "metadata": {
      "needs_background": "light"
     },
     "output_type": "display_data"
    }
   ],
   "source": [
    "plt.ylim(0, 2500)\n",
    "plt.xlim(0, 300) \n",
    "df['total_area'].hist(bins=100, range=(0, 400))"
   ]
  },
  {
   "cell_type": "markdown",
   "metadata": {},
   "source": [
    "Вывод: В большинстве случаев площадь квартир равна 50кв.м. Прмежуток основной массы 25-100 кв.м. \n",
    "Есть выбросы около 300кв.м."
   ]
  },
  {
   "cell_type": "code",
   "execution_count": 65,
   "metadata": {},
   "outputs": [
    {
     "data": {
      "text/plain": [
       "<AxesSubplot:>"
      ]
     },
     "execution_count": 65,
     "metadata": {},
     "output_type": "execute_result"
    },
    {
     "data": {
      "image/png": "[encoded data removed]",
      "text/plain": [
       "<Figure size 432x288 with 1 Axes>"
      ]
     },
     "metadata": {
      "needs_background": "light"
     },
     "output_type": "display_data"
    }
   ],
   "source": [
    "df['last_price'].hist(bins=100,range=(0, 20000000))"
   ]
  },
  {
   "cell_type": "markdown",
   "metadata": {},
   "source": [
    "Вывод: По графику нельзя сделать определенных выводов. Все данные состредоточены около 0. "
   ]
  },
  {
   "cell_type": "code",
   "execution_count": 66,
   "metadata": {},
   "outputs": [
    {
     "data": {
      "text/plain": [
       "<AxesSubplot:>"
      ]
     },
     "execution_count": 66,
     "metadata": {},
     "output_type": "execute_result"
    },
    {
     "data": {
      "image/png": "[encoded data removed]",
      "text/plain": [
       "<Figure size 432x288 with 1 Axes>"
      ]
     },
     "metadata": {
      "needs_background": "light"
     },
     "output_type": "display_data"
    }
   ],
   "source": [
    "df['ceiling_height'].hist(bins=20, range=(1, 5))"
   ]
  },
  {
   "cell_type": "markdown",
   "metadata": {},
   "source": [
    "Вывод: По графику нельзя сделать определенных выводов. Все данные состредоточены около 0."
   ]
  },
  {
   "cell_type": "code",
   "execution_count": 67,
   "metadata": {
    "scrolled": true
   },
   "outputs": [
    {
     "data": {
      "text/plain": [
       "<AxesSubplot:>"
      ]
     },
     "execution_count": 67,
     "metadata": {},
     "output_type": "execute_result"
    },
    {
     "data": {
      "image/png": "[encoded data removed]",
      "text/plain": [
       "<Figure size 432x288 with 1 Axes>"
      ]
     },
     "metadata": {
      "needs_background": "light"
     },
     "output_type": "display_data"
    }
   ],
   "source": [
    "plt.xlim(0, 20)\n",
    "df['rooms'].hist(bins=20)"
   ]
  },
  {
   "cell_type": "markdown",
   "metadata": {},
   "source": [
    "Вывод: В основном преобладают квартиры с 1 или 2 комнатами. Самые редкие квартиры с количеством комнат больше 8. "
   ]
  },
  {
   "cell_type": "markdown",
   "metadata": {},
   "source": [
    "**4.2 Диаграммы размаха**"
   ]
  },
  {
   "cell_type": "code",
   "execution_count": 68,
   "metadata": {},
   "outputs": [],
   "source": [
    "#сформирум сводные таблицы по изучаемым параметрам и цене за кв.м. \n",
    "df_total_area = df.pivot_table(index='price_square_meter', values='total_area') \n",
    "df_last_price = df.pivot_table(index='price_square_meter', values='last_price') \n",
    "df_ceiling_height = df.pivot_table(index='price_square_meter', values='ceiling_height') \n",
    "df_rooms = df.pivot_table(index='price_square_meter', values='rooms') "
   ]
  },
  {
   "cell_type": "code",
   "execution_count": 69,
   "metadata": {},
   "outputs": [
    {
     "data": {
      "text/plain": [
       "<AxesSubplot:>"
      ]
     },
     "execution_count": 69,
     "metadata": {},
     "output_type": "execute_result"
    },
    {
     "data": {
      "image/png": "[encoded data removed]",
      "text/plain": [
       "<Figure size 432x288 with 1 Axes>"
      ]
     },
     "metadata": {
      "needs_background": "light"
     },
     "output_type": "display_data"
    }
   ],
   "source": [
    "\n",
    "df_total_area.boxplot()"
   ]
  },
  {
   "cell_type": "markdown",
   "metadata": {},
   "source": [
    "Вывод: Среднее значение площади 50 кв.м. "
   ]
  },
  {
   "cell_type": "code",
   "execution_count": 70,
   "metadata": {
    "scrolled": true
   },
   "outputs": [
    {
     "data": {
      "text/plain": [
       "<AxesSubplot:>"
      ]
     },
     "execution_count": 70,
     "metadata": {},
     "output_type": "execute_result"
    },
    {
     "data": {
      "image/png": "[encoded data removed]",
      "text/plain": [
       "<Figure size 432x288 with 1 Axes>"
      ]
     },
     "metadata": {
      "needs_background": "light"
     },
     "output_type": "display_data"
    }
   ],
   "source": [
    "\n",
    "df_last_price.boxplot()\n"
   ]
  },
  {
   "cell_type": "markdown",
   "metadata": {},
   "source": [
    "Вывод: В среднем разброс цен 1 - 2 млн. руб. Выброс - 8 млн. "
   ]
  },
  {
   "cell_type": "code",
   "execution_count": 71,
   "metadata": {},
   "outputs": [
    {
     "data": {
      "text/plain": [
       "<AxesSubplot:>"
      ]
     },
     "execution_count": 71,
     "metadata": {},
     "output_type": "execute_result"
    },
    {
     "data": {
      "image/png": "[encoded data removed]",
      "text/plain": [
       "<Figure size 432x288 with 1 Axes>"
      ]
     },
     "metadata": {
      "needs_background": "light"
     },
     "output_type": "display_data"
    }
   ],
   "source": [
    "plt.ylim(0, 20)\n",
    "df_ceiling_height.boxplot()"
   ]
  },
  {
   "cell_type": "markdown",
   "metadata": {},
   "source": [
    "Вывод: Высота потолков в среднем 2,5 м. Выброс - 13 м."
   ]
  },
  {
   "cell_type": "code",
   "execution_count": 72,
   "metadata": {
    "scrolled": true
   },
   "outputs": [
    {
     "data": {
      "text/plain": [
       "<AxesSubplot:>"
      ]
     },
     "execution_count": 72,
     "metadata": {},
     "output_type": "execute_result"
    },
    {
     "data": {
      "image/png": "[encoded data removed]",
      "text/plain": [
       "<Figure size 432x288 with 1 Axes>"
      ]
     },
     "metadata": {
      "needs_background": "light"
     },
     "output_type": "display_data"
    }
   ],
   "source": [
    "df_rooms.boxplot()"
   ]
  },
  {
   "cell_type": "markdown",
   "metadata": {},
   "source": [
    "Вывод: в среднем представлены 2-комнатные квартиры. Аномальные значения - более 7 комнат. "
   ]
  },
  {
   "cell_type": "markdown",
   "metadata": {},
   "source": [
    "**4.3 Описание describe**"
   ]
  },
  {
   "cell_type": "code",
   "execution_count": 73,
   "metadata": {},
   "outputs": [
    {
     "data": {
      "text/html": [
       "<div>\n",
       "<style scoped>\n",
       "    .dataframe tbody tr th:only-of-type {\n",
       "        vertical-align: middle;\n",
       "    }\n",
       "\n",
       "    .dataframe tbody tr th {\n",
       "        vertical-align: top;\n",
       "    }\n",
       "\n",
       "    .dataframe thead th {\n",
       "        text-align: right;\n",
       "    }\n",
       "</style>\n",
       "<table border=\"1\" class=\"dataframe\">\n",
       "  <thead>\n",
       "    <tr style=\"text-align: right;\">\n",
       "      <th></th>\n",
       "      <th>total_area</th>\n",
       "    </tr>\n",
       "  </thead>\n",
       "  <tbody>\n",
       "    <tr>\n",
       "      <th>count</th>\n",
       "      <td>14947.000000</td>\n",
       "    </tr>\n",
       "    <tr>\n",
       "      <th>mean</th>\n",
       "      <td>63.863744</td>\n",
       "    </tr>\n",
       "    <tr>\n",
       "      <th>std</th>\n",
       "      <td>37.919868</td>\n",
       "    </tr>\n",
       "    <tr>\n",
       "      <th>min</th>\n",
       "      <td>13.000000</td>\n",
       "    </tr>\n",
       "    <tr>\n",
       "      <th>25%</th>\n",
       "      <td>43.000000</td>\n",
       "    </tr>\n",
       "    <tr>\n",
       "      <th>50%</th>\n",
       "      <td>55.200000</td>\n",
       "    </tr>\n",
       "    <tr>\n",
       "      <th>75%</th>\n",
       "      <td>72.687500</td>\n",
       "    </tr>\n",
       "    <tr>\n",
       "      <th>max</th>\n",
       "      <td>900.000000</td>\n",
       "    </tr>\n",
       "  </tbody>\n",
       "</table>\n",
       "</div>"
      ],
      "text/plain": [
       "         total_area\n",
       "count  14947.000000\n",
       "mean      63.863744\n",
       "std       37.919868\n",
       "min       13.000000\n",
       "25%       43.000000\n",
       "50%       55.200000\n",
       "75%       72.687500\n",
       "max      900.000000"
      ]
     },
     "execution_count": 73,
     "metadata": {},
     "output_type": "execute_result"
    }
   ],
   "source": [
    "df_total_area.describe()"
   ]
  },
  {
   "cell_type": "markdown",
   "metadata": {},
   "source": [
    "Вывод: средняя площадь 63 кв.м, Минимальная 13 кв.м. , стандартное отклонение 37, 9.\n",
    "    "
   ]
  },
  {
   "cell_type": "code",
   "execution_count": 74,
   "metadata": {},
   "outputs": [
    {
     "data": {
      "text/html": [
       "<div>\n",
       "<style scoped>\n",
       "    .dataframe tbody tr th:only-of-type {\n",
       "        vertical-align: middle;\n",
       "    }\n",
       "\n",
       "    .dataframe tbody tr th {\n",
       "        vertical-align: top;\n",
       "    }\n",
       "\n",
       "    .dataframe thead th {\n",
       "        text-align: right;\n",
       "    }\n",
       "</style>\n",
       "<table border=\"1\" class=\"dataframe\">\n",
       "  <thead>\n",
       "    <tr style=\"text-align: right;\">\n",
       "      <th></th>\n",
       "      <th>last_price</th>\n",
       "    </tr>\n",
       "  </thead>\n",
       "  <tbody>\n",
       "    <tr>\n",
       "      <th>count</th>\n",
       "      <td>1.494700e+04</td>\n",
       "    </tr>\n",
       "    <tr>\n",
       "      <th>mean</th>\n",
       "      <td>7.294717e+06</td>\n",
       "    </tr>\n",
       "    <tr>\n",
       "      <th>std</th>\n",
       "      <td>1.314933e+07</td>\n",
       "    </tr>\n",
       "    <tr>\n",
       "      <th>min</th>\n",
       "      <td>1.219000e+04</td>\n",
       "    </tr>\n",
       "    <tr>\n",
       "      <th>25%</th>\n",
       "      <td>3.570000e+06</td>\n",
       "    </tr>\n",
       "    <tr>\n",
       "      <th>50%</th>\n",
       "      <td>4.970000e+06</td>\n",
       "    </tr>\n",
       "    <tr>\n",
       "      <th>75%</th>\n",
       "      <td>7.400000e+06</td>\n",
       "    </tr>\n",
       "    <tr>\n",
       "      <th>max</th>\n",
       "      <td>7.630000e+08</td>\n",
       "    </tr>\n",
       "  </tbody>\n",
       "</table>\n",
       "</div>"
      ],
      "text/plain": [
       "         last_price\n",
       "count  1.494700e+04\n",
       "mean   7.294717e+06\n",
       "std    1.314933e+07\n",
       "min    1.219000e+04\n",
       "25%    3.570000e+06\n",
       "50%    4.970000e+06\n",
       "75%    7.400000e+06\n",
       "max    7.630000e+08"
      ]
     },
     "execution_count": 74,
     "metadata": {},
     "output_type": "execute_result"
    }
   ],
   "source": [
    "df_last_price.describe()"
   ]
  },
  {
   "cell_type": "markdown",
   "metadata": {},
   "source": [
    "Вывод: средняя цена 7 млн., миимальная 1,2 млн, стандартное отклонение 1,3 млн. "
   ]
  },
  {
   "cell_type": "code",
   "execution_count": 75,
   "metadata": {},
   "outputs": [
    {
     "data": {
      "text/html": [
       "<div>\n",
       "<style scoped>\n",
       "    .dataframe tbody tr th:only-of-type {\n",
       "        vertical-align: middle;\n",
       "    }\n",
       "\n",
       "    .dataframe tbody tr th {\n",
       "        vertical-align: top;\n",
       "    }\n",
       "\n",
       "    .dataframe thead th {\n",
       "        text-align: right;\n",
       "    }\n",
       "</style>\n",
       "<table border=\"1\" class=\"dataframe\">\n",
       "  <thead>\n",
       "    <tr style=\"text-align: right;\">\n",
       "      <th></th>\n",
       "      <th>ceiling_height</th>\n",
       "    </tr>\n",
       "  </thead>\n",
       "  <tbody>\n",
       "    <tr>\n",
       "      <th>count</th>\n",
       "      <td>14947.000000</td>\n",
       "    </tr>\n",
       "    <tr>\n",
       "      <th>mean</th>\n",
       "      <td>2.729823</td>\n",
       "    </tr>\n",
       "    <tr>\n",
       "      <th>std</th>\n",
       "      <td>0.812770</td>\n",
       "    </tr>\n",
       "    <tr>\n",
       "      <th>min</th>\n",
       "      <td>2.000000</td>\n",
       "    </tr>\n",
       "    <tr>\n",
       "      <th>25%</th>\n",
       "      <td>2.700000</td>\n",
       "    </tr>\n",
       "    <tr>\n",
       "      <th>50%</th>\n",
       "      <td>2.700000</td>\n",
       "    </tr>\n",
       "    <tr>\n",
       "      <th>75%</th>\n",
       "      <td>2.700000</td>\n",
       "    </tr>\n",
       "    <tr>\n",
       "      <th>max</th>\n",
       "      <td>100.000000</td>\n",
       "    </tr>\n",
       "  </tbody>\n",
       "</table>\n",
       "</div>"
      ],
      "text/plain": [
       "       ceiling_height\n",
       "count    14947.000000\n",
       "mean         2.729823\n",
       "std          0.812770\n",
       "min          2.000000\n",
       "25%          2.700000\n",
       "50%          2.700000\n",
       "75%          2.700000\n",
       "max        100.000000"
      ]
     },
     "execution_count": 75,
     "metadata": {},
     "output_type": "execute_result"
    }
   ],
   "source": [
    "df_ceiling_height.describe()"
   ]
  },
  {
   "cell_type": "markdown",
   "metadata": {},
   "source": [
    "Вывод: средняя высота 2,7 м., миимальная 2 м, стандартное отклонение 0,8."
   ]
  },
  {
   "cell_type": "code",
   "execution_count": 76,
   "metadata": {},
   "outputs": [
    {
     "data": {
      "text/html": [
       "<div>\n",
       "<style scoped>\n",
       "    .dataframe tbody tr th:only-of-type {\n",
       "        vertical-align: middle;\n",
       "    }\n",
       "\n",
       "    .dataframe tbody tr th {\n",
       "        vertical-align: top;\n",
       "    }\n",
       "\n",
       "    .dataframe thead th {\n",
       "        text-align: right;\n",
       "    }\n",
       "</style>\n",
       "<table border=\"1\" class=\"dataframe\">\n",
       "  <thead>\n",
       "    <tr style=\"text-align: right;\">\n",
       "      <th></th>\n",
       "      <th>rooms</th>\n",
       "    </tr>\n",
       "  </thead>\n",
       "  <tbody>\n",
       "    <tr>\n",
       "      <th>count</th>\n",
       "      <td>14947.000000</td>\n",
       "    </tr>\n",
       "    <tr>\n",
       "      <th>mean</th>\n",
       "      <td>2.157985</td>\n",
       "    </tr>\n",
       "    <tr>\n",
       "      <th>std</th>\n",
       "      <td>1.057358</td>\n",
       "    </tr>\n",
       "    <tr>\n",
       "      <th>min</th>\n",
       "      <td>0.000000</td>\n",
       "    </tr>\n",
       "    <tr>\n",
       "      <th>25%</th>\n",
       "      <td>1.000000</td>\n",
       "    </tr>\n",
       "    <tr>\n",
       "      <th>50%</th>\n",
       "      <td>2.000000</td>\n",
       "    </tr>\n",
       "    <tr>\n",
       "      <th>75%</th>\n",
       "      <td>3.000000</td>\n",
       "    </tr>\n",
       "    <tr>\n",
       "      <th>max</th>\n",
       "      <td>19.000000</td>\n",
       "    </tr>\n",
       "  </tbody>\n",
       "</table>\n",
       "</div>"
      ],
      "text/plain": [
       "              rooms\n",
       "count  14947.000000\n",
       "mean       2.157985\n",
       "std        1.057358\n",
       "min        0.000000\n",
       "25%        1.000000\n",
       "50%        2.000000\n",
       "75%        3.000000\n",
       "max       19.000000"
      ]
     },
     "execution_count": 76,
     "metadata": {},
     "output_type": "execute_result"
    }
   ],
   "source": [
    "df_rooms.describe()"
   ]
  },
  {
   "cell_type": "markdown",
   "metadata": {},
   "source": [
    "Вывод: среднее кол-во комнат 2., миимальное значение 0, стандартное отклонение 1."
   ]
  },
  {
   "cell_type": "markdown",
   "metadata": {},
   "source": [
    "**4.4 Изучим время продажи квартиры.**"
   ]
  },
  {
   "cell_type": "code",
   "execution_count": 77,
   "metadata": {},
   "outputs": [
    {
     "data": {
      "text/plain": [
       "<AxesSubplot:>"
      ]
     },
     "execution_count": 77,
     "metadata": {},
     "output_type": "execute_result"
    },
    {
     "data": {
      "image/png": "[encoded data removed]",
      "text/plain": [
       "<Figure size 432x288 with 1 Axes>"
      ]
     },
     "metadata": {
      "needs_background": "light"
     },
     "output_type": "display_data"
    }
   ],
   "source": [
    "df['days_exposition'].plot(kind = 'box', ylim=(0, 1600),grid=True)"
   ]
  },
  {
   "cell_type": "code",
   "execution_count": 78,
   "metadata": {},
   "outputs": [
    {
     "data": {
      "text/plain": [
       "count    20470.000000\n",
       "mean       180.753200\n",
       "std        219.777916\n",
       "min          1.000000\n",
       "25%         45.000000\n",
       "50%         95.000000\n",
       "75%        231.000000\n",
       "max       1580.000000\n",
       "Name: days_exposition, dtype: float64"
      ]
     },
     "execution_count": 78,
     "metadata": {},
     "output_type": "execute_result"
    }
   ],
   "source": [
    "df['days_exposition'].describe()"
   ]
  },
  {
   "cell_type": "markdown",
   "metadata": {},
   "source": [
    "- Среднее значение равно 180 дней\n",
    "- Медиана равна 95 дней.\n",
    "- Минимальное значение 1 день\n",
    "- Максимальное значение 1580 дней.\n",
    "- Аномальные значение - больше 500 дней. Это необычно долгиепродажи. (по графику это верхнее знаение усов) \n",
    "- Можно считать, что продажи прошли очень быстро, если прошли от 1 до 45 дней.\n"
   ]
  },
  {
   "cell_type": "markdown",
   "metadata": {},
   "source": [
    "**4.5 Уберем редкие и выбивающиеся значения.**"
   ]
  },
  {
   "cell_type": "code",
   "execution_count": 79,
   "metadata": {},
   "outputs": [],
   "source": [
    "#создаем новую таблицу с отфильтрованным данными.(убираем аномальные значения, которые выявили в предыдущих пунктах)\n",
    "filtered_df = df.query('0 < rooms < 7 and 0 < total_area < 100 and 2 < ceiling_height < 3 and 1 < days_exposition < 500')"
   ]
  },
  {
   "cell_type": "code",
   "execution_count": 80,
   "metadata": {
    "scrolled": true
   },
   "outputs": [
    {
     "data": {
      "text/html": [
       "<div>\n",
       "<style scoped>\n",
       "    .dataframe tbody tr th:only-of-type {\n",
       "        vertical-align: middle;\n",
       "    }\n",
       "\n",
       "    .dataframe tbody tr th {\n",
       "        vertical-align: top;\n",
       "    }\n",
       "\n",
       "    .dataframe thead th {\n",
       "        text-align: right;\n",
       "    }\n",
       "</style>\n",
       "<table border=\"1\" class=\"dataframe\">\n",
       "  <thead>\n",
       "    <tr style=\"text-align: right;\">\n",
       "      <th></th>\n",
       "      <th>total_images</th>\n",
       "      <th>last_price</th>\n",
       "      <th>total_area</th>\n",
       "      <th>first_day_exposition</th>\n",
       "      <th>rooms</th>\n",
       "      <th>ceiling_height</th>\n",
       "      <th>floors_total</th>\n",
       "      <th>living_area</th>\n",
       "      <th>floor</th>\n",
       "      <th>is_apartment</th>\n",
       "      <th>...</th>\n",
       "      <th>ponds_around3000</th>\n",
       "      <th>ponds_nearest</th>\n",
       "      <th>days_exposition</th>\n",
       "      <th>price_square_meter</th>\n",
       "      <th>living_total</th>\n",
       "      <th>kitchen_total</th>\n",
       "      <th>day</th>\n",
       "      <th>month</th>\n",
       "      <th>year</th>\n",
       "      <th>floor_category</th>\n",
       "    </tr>\n",
       "  </thead>\n",
       "  <tbody>\n",
       "    <tr>\n",
       "      <th>1</th>\n",
       "      <td>7</td>\n",
       "      <td>3350000.0</td>\n",
       "      <td>40.40</td>\n",
       "      <td>2018-12-04T00:00:00</td>\n",
       "      <td>1</td>\n",
       "      <td>2.70</td>\n",
       "      <td>9</td>\n",
       "      <td>31.0</td>\n",
       "      <td>1</td>\n",
       "      <td>False</td>\n",
       "      <td>...</td>\n",
       "      <td>1</td>\n",
       "      <td>503.0</td>\n",
       "      <td>81.0</td>\n",
       "      <td>82920.792079</td>\n",
       "      <td>0.767327</td>\n",
       "      <td>0.238119</td>\n",
       "      <td>1</td>\n",
       "      <td>12</td>\n",
       "      <td>2018</td>\n",
       "      <td>первый</td>\n",
       "    </tr>\n",
       "    <tr>\n",
       "      <th>5</th>\n",
       "      <td>10</td>\n",
       "      <td>2890000.0</td>\n",
       "      <td>30.40</td>\n",
       "      <td>2018-09-10T00:00:00</td>\n",
       "      <td>1</td>\n",
       "      <td>2.70</td>\n",
       "      <td>9</td>\n",
       "      <td>31.0</td>\n",
       "      <td>5</td>\n",
       "      <td>False</td>\n",
       "      <td>...</td>\n",
       "      <td>1</td>\n",
       "      <td>503.0</td>\n",
       "      <td>55.0</td>\n",
       "      <td>95065.789474</td>\n",
       "      <td>1.019737</td>\n",
       "      <td>0.316447</td>\n",
       "      <td>0</td>\n",
       "      <td>9</td>\n",
       "      <td>2018</td>\n",
       "      <td>другой</td>\n",
       "    </tr>\n",
       "    <tr>\n",
       "      <th>6</th>\n",
       "      <td>6</td>\n",
       "      <td>3700000.0</td>\n",
       "      <td>37.30</td>\n",
       "      <td>2017-11-02T00:00:00</td>\n",
       "      <td>1</td>\n",
       "      <td>2.70</td>\n",
       "      <td>9</td>\n",
       "      <td>31.0</td>\n",
       "      <td>6</td>\n",
       "      <td>False</td>\n",
       "      <td>...</td>\n",
       "      <td>1</td>\n",
       "      <td>503.0</td>\n",
       "      <td>155.0</td>\n",
       "      <td>99195.710456</td>\n",
       "      <td>0.831099</td>\n",
       "      <td>0.257909</td>\n",
       "      <td>3</td>\n",
       "      <td>11</td>\n",
       "      <td>2017</td>\n",
       "      <td>другой</td>\n",
       "    </tr>\n",
       "    <tr>\n",
       "      <th>8</th>\n",
       "      <td>20</td>\n",
       "      <td>2900000.0</td>\n",
       "      <td>33.16</td>\n",
       "      <td>2018-05-23T00:00:00</td>\n",
       "      <td>1</td>\n",
       "      <td>2.70</td>\n",
       "      <td>9</td>\n",
       "      <td>31.0</td>\n",
       "      <td>26</td>\n",
       "      <td>False</td>\n",
       "      <td>...</td>\n",
       "      <td>1</td>\n",
       "      <td>503.0</td>\n",
       "      <td>189.0</td>\n",
       "      <td>87454.764777</td>\n",
       "      <td>0.934861</td>\n",
       "      <td>0.290109</td>\n",
       "      <td>2</td>\n",
       "      <td>5</td>\n",
       "      <td>2018</td>\n",
       "      <td>другой</td>\n",
       "    </tr>\n",
       "    <tr>\n",
       "      <th>9</th>\n",
       "      <td>18</td>\n",
       "      <td>5400000.0</td>\n",
       "      <td>61.00</td>\n",
       "      <td>2017-02-26T00:00:00</td>\n",
       "      <td>3</td>\n",
       "      <td>2.70</td>\n",
       "      <td>9</td>\n",
       "      <td>31.0</td>\n",
       "      <td>7</td>\n",
       "      <td>False</td>\n",
       "      <td>...</td>\n",
       "      <td>1</td>\n",
       "      <td>503.0</td>\n",
       "      <td>289.0</td>\n",
       "      <td>88524.590164</td>\n",
       "      <td>0.508197</td>\n",
       "      <td>0.157705</td>\n",
       "      <td>6</td>\n",
       "      <td>2</td>\n",
       "      <td>2017</td>\n",
       "      <td>другой</td>\n",
       "    </tr>\n",
       "    <tr>\n",
       "      <th>...</th>\n",
       "      <td>...</td>\n",
       "      <td>...</td>\n",
       "      <td>...</td>\n",
       "      <td>...</td>\n",
       "      <td>...</td>\n",
       "      <td>...</td>\n",
       "      <td>...</td>\n",
       "      <td>...</td>\n",
       "      <td>...</td>\n",
       "      <td>...</td>\n",
       "      <td>...</td>\n",
       "      <td>...</td>\n",
       "      <td>...</td>\n",
       "      <td>...</td>\n",
       "      <td>...</td>\n",
       "      <td>...</td>\n",
       "      <td>...</td>\n",
       "      <td>...</td>\n",
       "      <td>...</td>\n",
       "      <td>...</td>\n",
       "      <td>...</td>\n",
       "    </tr>\n",
       "    <tr>\n",
       "      <th>23689</th>\n",
       "      <td>13</td>\n",
       "      <td>3550000.0</td>\n",
       "      <td>35.30</td>\n",
       "      <td>2018-02-28T00:00:00</td>\n",
       "      <td>1</td>\n",
       "      <td>2.86</td>\n",
       "      <td>15</td>\n",
       "      <td>16.3</td>\n",
       "      <td>4</td>\n",
       "      <td>False</td>\n",
       "      <td>...</td>\n",
       "      <td>2</td>\n",
       "      <td>652.0</td>\n",
       "      <td>29.0</td>\n",
       "      <td>100566.572238</td>\n",
       "      <td>0.461756</td>\n",
       "      <td>0.257790</td>\n",
       "      <td>2</td>\n",
       "      <td>2</td>\n",
       "      <td>2018</td>\n",
       "      <td>другой</td>\n",
       "    </tr>\n",
       "    <tr>\n",
       "      <th>23690</th>\n",
       "      <td>3</td>\n",
       "      <td>5500000.0</td>\n",
       "      <td>52.00</td>\n",
       "      <td>2018-07-19T00:00:00</td>\n",
       "      <td>2</td>\n",
       "      <td>2.70</td>\n",
       "      <td>9</td>\n",
       "      <td>31.0</td>\n",
       "      <td>2</td>\n",
       "      <td>False</td>\n",
       "      <td>...</td>\n",
       "      <td>1</td>\n",
       "      <td>503.0</td>\n",
       "      <td>15.0</td>\n",
       "      <td>105769.230769</td>\n",
       "      <td>0.596154</td>\n",
       "      <td>0.185000</td>\n",
       "      <td>3</td>\n",
       "      <td>7</td>\n",
       "      <td>2018</td>\n",
       "      <td>другой</td>\n",
       "    </tr>\n",
       "    <tr>\n",
       "      <th>23692</th>\n",
       "      <td>2</td>\n",
       "      <td>1350000.0</td>\n",
       "      <td>30.00</td>\n",
       "      <td>2017-07-07T00:00:00</td>\n",
       "      <td>1</td>\n",
       "      <td>2.70</td>\n",
       "      <td>9</td>\n",
       "      <td>31.0</td>\n",
       "      <td>4</td>\n",
       "      <td>False</td>\n",
       "      <td>...</td>\n",
       "      <td>1</td>\n",
       "      <td>503.0</td>\n",
       "      <td>413.0</td>\n",
       "      <td>45000.000000</td>\n",
       "      <td>1.033333</td>\n",
       "      <td>0.320667</td>\n",
       "      <td>4</td>\n",
       "      <td>7</td>\n",
       "      <td>2017</td>\n",
       "      <td>другой</td>\n",
       "    </tr>\n",
       "    <tr>\n",
       "      <th>23693</th>\n",
       "      <td>9</td>\n",
       "      <td>4600000.0</td>\n",
       "      <td>62.40</td>\n",
       "      <td>2016-08-05T00:00:00</td>\n",
       "      <td>3</td>\n",
       "      <td>2.60</td>\n",
       "      <td>9</td>\n",
       "      <td>40.0</td>\n",
       "      <td>8</td>\n",
       "      <td>False</td>\n",
       "      <td>...</td>\n",
       "      <td>1</td>\n",
       "      <td>675.0</td>\n",
       "      <td>239.0</td>\n",
       "      <td>73717.948718</td>\n",
       "      <td>0.641026</td>\n",
       "      <td>0.128205</td>\n",
       "      <td>4</td>\n",
       "      <td>8</td>\n",
       "      <td>2016</td>\n",
       "      <td>другой</td>\n",
       "    </tr>\n",
       "    <tr>\n",
       "      <th>23695</th>\n",
       "      <td>14</td>\n",
       "      <td>3100000.0</td>\n",
       "      <td>59.00</td>\n",
       "      <td>2018-01-15T00:00:00</td>\n",
       "      <td>3</td>\n",
       "      <td>2.70</td>\n",
       "      <td>9</td>\n",
       "      <td>31.0</td>\n",
       "      <td>4</td>\n",
       "      <td>False</td>\n",
       "      <td>...</td>\n",
       "      <td>1</td>\n",
       "      <td>503.0</td>\n",
       "      <td>45.0</td>\n",
       "      <td>52542.372881</td>\n",
       "      <td>0.525424</td>\n",
       "      <td>0.163051</td>\n",
       "      <td>0</td>\n",
       "      <td>1</td>\n",
       "      <td>2018</td>\n",
       "      <td>другой</td>\n",
       "    </tr>\n",
       "  </tbody>\n",
       "</table>\n",
       "<p>16918 rows × 29 columns</p>\n",
       "</div>"
      ],
      "text/plain": [
       "       total_images  last_price  total_area first_day_exposition  rooms  \\\n",
       "1                 7   3350000.0       40.40  2018-12-04T00:00:00      1   \n",
       "5                10   2890000.0       30.40  2018-09-10T00:00:00      1   \n",
       "6                 6   3700000.0       37.30  2017-11-02T00:00:00      1   \n",
       "8                20   2900000.0       33.16  2018-05-23T00:00:00      1   \n",
       "9                18   5400000.0       61.00  2017-02-26T00:00:00      3   \n",
       "...             ...         ...         ...                  ...    ...   \n",
       "23689            13   3550000.0       35.30  2018-02-28T00:00:00      1   \n",
       "23690             3   5500000.0       52.00  2018-07-19T00:00:00      2   \n",
       "23692             2   1350000.0       30.00  2017-07-07T00:00:00      1   \n",
       "23693             9   4600000.0       62.40  2016-08-05T00:00:00      3   \n",
       "23695            14   3100000.0       59.00  2018-01-15T00:00:00      3   \n",
       "\n",
       "       ceiling_height  floors_total  living_area  floor  is_apartment  ...  \\\n",
       "1                2.70             9         31.0      1         False  ...   \n",
       "5                2.70             9         31.0      5         False  ...   \n",
       "6                2.70             9         31.0      6         False  ...   \n",
       "8                2.70             9         31.0     26         False  ...   \n",
       "9                2.70             9         31.0      7         False  ...   \n",
       "...               ...           ...          ...    ...           ...  ...   \n",
       "23689            2.86            15         16.3      4         False  ...   \n",
       "23690            2.70             9         31.0      2         False  ...   \n",
       "23692            2.70             9         31.0      4         False  ...   \n",
       "23693            2.60             9         40.0      8         False  ...   \n",
       "23695            2.70             9         31.0      4         False  ...   \n",
       "\n",
       "       ponds_around3000  ponds_nearest  days_exposition  price_square_meter  \\\n",
       "1                     1          503.0             81.0        82920.792079   \n",
       "5                     1          503.0             55.0        95065.789474   \n",
       "6                     1          503.0            155.0        99195.710456   \n",
       "8                     1          503.0            189.0        87454.764777   \n",
       "9                     1          503.0            289.0        88524.590164   \n",
       "...                 ...            ...              ...                 ...   \n",
       "23689                 2          652.0             29.0       100566.572238   \n",
       "23690                 1          503.0             15.0       105769.230769   \n",
       "23692                 1          503.0            413.0        45000.000000   \n",
       "23693                 1          675.0            239.0        73717.948718   \n",
       "23695                 1          503.0             45.0        52542.372881   \n",
       "\n",
       "      living_total  kitchen_total  day  month  year  floor_category  \n",
       "1         0.767327       0.238119    1     12  2018          первый  \n",
       "5         1.019737       0.316447    0      9  2018          другой  \n",
       "6         0.831099       0.257909    3     11  2017          другой  \n",
       "8         0.934861       0.290109    2      5  2018          другой  \n",
       "9         0.508197       0.157705    6      2  2017          другой  \n",
       "...            ...            ...  ...    ...   ...             ...  \n",
       "23689     0.461756       0.257790    2      2  2018          другой  \n",
       "23690     0.596154       0.185000    3      7  2018          другой  \n",
       "23692     1.033333       0.320667    4      7  2017          другой  \n",
       "23693     0.641026       0.128205    4      8  2016          другой  \n",
       "23695     0.525424       0.163051    0      1  2018          другой  \n",
       "\n",
       "[16918 rows x 29 columns]"
      ]
     },
     "execution_count": 80,
     "metadata": {},
     "output_type": "execute_result"
    }
   ],
   "source": [
    "filtered_df"
   ]
  },
  {
   "cell_type": "code",
   "execution_count": 81,
   "metadata": {},
   "outputs": [
    {
     "data": {
      "text/html": [
       "<div>\n",
       "<style scoped>\n",
       "    .dataframe tbody tr th:only-of-type {\n",
       "        vertical-align: middle;\n",
       "    }\n",
       "\n",
       "    .dataframe tbody tr th {\n",
       "        vertical-align: top;\n",
       "    }\n",
       "\n",
       "    .dataframe thead th {\n",
       "        text-align: right;\n",
       "    }\n",
       "</style>\n",
       "<table border=\"1\" class=\"dataframe\">\n",
       "  <thead>\n",
       "    <tr style=\"text-align: right;\">\n",
       "      <th></th>\n",
       "      <th>total_images</th>\n",
       "      <th>last_price</th>\n",
       "      <th>total_area</th>\n",
       "      <th>rooms</th>\n",
       "      <th>ceiling_height</th>\n",
       "      <th>floors_total</th>\n",
       "      <th>living_area</th>\n",
       "      <th>floor</th>\n",
       "      <th>kitchen_area</th>\n",
       "      <th>balcony</th>\n",
       "      <th>...</th>\n",
       "      <th>parks_nearest</th>\n",
       "      <th>ponds_around3000</th>\n",
       "      <th>ponds_nearest</th>\n",
       "      <th>days_exposition</th>\n",
       "      <th>price_square_meter</th>\n",
       "      <th>living_total</th>\n",
       "      <th>kitchen_total</th>\n",
       "      <th>day</th>\n",
       "      <th>month</th>\n",
       "      <th>year</th>\n",
       "    </tr>\n",
       "  </thead>\n",
       "  <tbody>\n",
       "    <tr>\n",
       "      <th>count</th>\n",
       "      <td>16918.000000</td>\n",
       "      <td>1.691800e+04</td>\n",
       "      <td>16918.000000</td>\n",
       "      <td>16918.000000</td>\n",
       "      <td>16918.000000</td>\n",
       "      <td>16918.000000</td>\n",
       "      <td>16918.000000</td>\n",
       "      <td>16918.000000</td>\n",
       "      <td>16918.000000</td>\n",
       "      <td>16918.000000</td>\n",
       "      <td>...</td>\n",
       "      <td>16918.000000</td>\n",
       "      <td>16918.000000</td>\n",
       "      <td>16918.000000</td>\n",
       "      <td>16918.000000</td>\n",
       "      <td>16918.000000</td>\n",
       "      <td>16918.000000</td>\n",
       "      <td>16918.000000</td>\n",
       "      <td>16918.000000</td>\n",
       "      <td>16918.00000</td>\n",
       "      <td>16918.000000</td>\n",
       "    </tr>\n",
       "    <tr>\n",
       "      <th>mean</th>\n",
       "      <td>9.598889</td>\n",
       "      <td>4.821145e+06</td>\n",
       "      <td>51.660147</td>\n",
       "      <td>1.873685</td>\n",
       "      <td>2.693707</td>\n",
       "      <td>9.150136</td>\n",
       "      <td>30.869910</td>\n",
       "      <td>6.070103</td>\n",
       "      <td>9.637027</td>\n",
       "      <td>0.604563</td>\n",
       "      <td>...</td>\n",
       "      <td>469.121941</td>\n",
       "      <td>1.153210</td>\n",
       "      <td>515.934035</td>\n",
       "      <td>123.511644</td>\n",
       "      <td>93046.903475</td>\n",
       "      <td>0.650590</td>\n",
       "      <td>0.204347</td>\n",
       "      <td>2.590200</td>\n",
       "      <td>6.58949</td>\n",
       "      <td>2017.373094</td>\n",
       "    </tr>\n",
       "    <tr>\n",
       "      <th>std</th>\n",
       "      <td>5.566124</td>\n",
       "      <td>2.539062e+06</td>\n",
       "      <td>16.648934</td>\n",
       "      <td>0.839170</td>\n",
       "      <td>0.039521</td>\n",
       "      <td>2.095275</td>\n",
       "      <td>4.603848</td>\n",
       "      <td>4.968143</td>\n",
       "      <td>1.571012</td>\n",
       "      <td>0.939832</td>\n",
       "      <td>...</td>\n",
       "      <td>159.246796</td>\n",
       "      <td>0.461619</td>\n",
       "      <td>162.633253</td>\n",
       "      <td>117.316767</td>\n",
       "      <td>32365.308603</td>\n",
       "      <td>0.201523</td>\n",
       "      <td>0.066126</td>\n",
       "      <td>1.792905</td>\n",
       "      <td>3.48935</td>\n",
       "      <td>0.841842</td>\n",
       "    </tr>\n",
       "    <tr>\n",
       "      <th>min</th>\n",
       "      <td>0.000000</td>\n",
       "      <td>4.300000e+05</td>\n",
       "      <td>12.000000</td>\n",
       "      <td>1.000000</td>\n",
       "      <td>2.300000</td>\n",
       "      <td>1.000000</td>\n",
       "      <td>8.000000</td>\n",
       "      <td>1.000000</td>\n",
       "      <td>2.000000</td>\n",
       "      <td>0.000000</td>\n",
       "      <td>...</td>\n",
       "      <td>3.000000</td>\n",
       "      <td>1.000000</td>\n",
       "      <td>13.000000</td>\n",
       "      <td>2.000000</td>\n",
       "      <td>7962.962963</td>\n",
       "      <td>0.208333</td>\n",
       "      <td>0.060606</td>\n",
       "      <td>0.000000</td>\n",
       "      <td>1.00000</td>\n",
       "      <td>2015.000000</td>\n",
       "    </tr>\n",
       "    <tr>\n",
       "      <th>25%</th>\n",
       "      <td>6.000000</td>\n",
       "      <td>3.300000e+06</td>\n",
       "      <td>38.500000</td>\n",
       "      <td>1.000000</td>\n",
       "      <td>2.700000</td>\n",
       "      <td>9.000000</td>\n",
       "      <td>31.000000</td>\n",
       "      <td>2.000000</td>\n",
       "      <td>9.620000</td>\n",
       "      <td>0.000000</td>\n",
       "      <td>...</td>\n",
       "      <td>460.000000</td>\n",
       "      <td>1.000000</td>\n",
       "      <td>503.000000</td>\n",
       "      <td>40.000000</td>\n",
       "      <td>75000.000000</td>\n",
       "      <td>0.500000</td>\n",
       "      <td>0.153920</td>\n",
       "      <td>1.000000</td>\n",
       "      <td>3.00000</td>\n",
       "      <td>2017.000000</td>\n",
       "    </tr>\n",
       "    <tr>\n",
       "      <th>50%</th>\n",
       "      <td>9.000000</td>\n",
       "      <td>4.300000e+06</td>\n",
       "      <td>48.000000</td>\n",
       "      <td>2.000000</td>\n",
       "      <td>2.700000</td>\n",
       "      <td>9.000000</td>\n",
       "      <td>31.000000</td>\n",
       "      <td>5.000000</td>\n",
       "      <td>9.620000</td>\n",
       "      <td>0.000000</td>\n",
       "      <td>...</td>\n",
       "      <td>460.000000</td>\n",
       "      <td>1.000000</td>\n",
       "      <td>503.000000</td>\n",
       "      <td>80.000000</td>\n",
       "      <td>92473.118280</td>\n",
       "      <td>0.620000</td>\n",
       "      <td>0.196327</td>\n",
       "      <td>3.000000</td>\n",
       "      <td>7.00000</td>\n",
       "      <td>2017.000000</td>\n",
       "    </tr>\n",
       "    <tr>\n",
       "      <th>75%</th>\n",
       "      <td>13.000000</td>\n",
       "      <td>5.750000e+06</td>\n",
       "      <td>62.000000</td>\n",
       "      <td>2.000000</td>\n",
       "      <td>2.700000</td>\n",
       "      <td>9.000000</td>\n",
       "      <td>31.000000</td>\n",
       "      <td>8.000000</td>\n",
       "      <td>9.620000</td>\n",
       "      <td>1.000000</td>\n",
       "      <td>...</td>\n",
       "      <td>460.000000</td>\n",
       "      <td>1.000000</td>\n",
       "      <td>503.000000</td>\n",
       "      <td>175.000000</td>\n",
       "      <td>108910.891089</td>\n",
       "      <td>0.775000</td>\n",
       "      <td>0.247787</td>\n",
       "      <td>4.000000</td>\n",
       "      <td>10.00000</td>\n",
       "      <td>2018.000000</td>\n",
       "    </tr>\n",
       "    <tr>\n",
       "      <th>max</th>\n",
       "      <td>50.000000</td>\n",
       "      <td>3.974400e+07</td>\n",
       "      <td>99.900000</td>\n",
       "      <td>6.000000</td>\n",
       "      <td>2.980000</td>\n",
       "      <td>60.000000</td>\n",
       "      <td>80.000000</td>\n",
       "      <td>31.000000</td>\n",
       "      <td>37.000000</td>\n",
       "      <td>5.000000</td>\n",
       "      <td>...</td>\n",
       "      <td>3190.000000</td>\n",
       "      <td>3.000000</td>\n",
       "      <td>1344.000000</td>\n",
       "      <td>499.000000</td>\n",
       "      <td>640422.350472</td>\n",
       "      <td>2.583333</td>\n",
       "      <td>0.825000</td>\n",
       "      <td>6.000000</td>\n",
       "      <td>12.00000</td>\n",
       "      <td>2019.000000</td>\n",
       "    </tr>\n",
       "  </tbody>\n",
       "</table>\n",
       "<p>8 rows × 23 columns</p>\n",
       "</div>"
      ],
      "text/plain": [
       "       total_images    last_price    total_area         rooms  ceiling_height  \\\n",
       "count  16918.000000  1.691800e+04  16918.000000  16918.000000    16918.000000   \n",
       "mean       9.598889  4.821145e+06     51.660147      1.873685        2.693707   \n",
       "std        5.566124  2.539062e+06     16.648934      0.839170        0.039521   \n",
       "min        0.000000  4.300000e+05     12.000000      1.000000        2.300000   \n",
       "25%        6.000000  3.300000e+06     38.500000      1.000000        2.700000   \n",
       "50%        9.000000  4.300000e+06     48.000000      2.000000        2.700000   \n",
       "75%       13.000000  5.750000e+06     62.000000      2.000000        2.700000   \n",
       "max       50.000000  3.974400e+07     99.900000      6.000000        2.980000   \n",
       "\n",
       "       floors_total   living_area         floor  kitchen_area       balcony  \\\n",
       "count  16918.000000  16918.000000  16918.000000  16918.000000  16918.000000   \n",
       "mean       9.150136     30.869910      6.070103      9.637027      0.604563   \n",
       "std        2.095275      4.603848      4.968143      1.571012      0.939832   \n",
       "min        1.000000      8.000000      1.000000      2.000000      0.000000   \n",
       "25%        9.000000     31.000000      2.000000      9.620000      0.000000   \n",
       "50%        9.000000     31.000000      5.000000      9.620000      0.000000   \n",
       "75%        9.000000     31.000000      8.000000      9.620000      1.000000   \n",
       "max       60.000000     80.000000     31.000000     37.000000      5.000000   \n",
       "\n",
       "       ...  parks_nearest  ponds_around3000  ponds_nearest  days_exposition  \\\n",
       "count  ...   16918.000000      16918.000000   16918.000000     16918.000000   \n",
       "mean   ...     469.121941          1.153210     515.934035       123.511644   \n",
       "std    ...     159.246796          0.461619     162.633253       117.316767   \n",
       "min    ...       3.000000          1.000000      13.000000         2.000000   \n",
       "25%    ...     460.000000          1.000000     503.000000        40.000000   \n",
       "50%    ...     460.000000          1.000000     503.000000        80.000000   \n",
       "75%    ...     460.000000          1.000000     503.000000       175.000000   \n",
       "max    ...    3190.000000          3.000000    1344.000000       499.000000   \n",
       "\n",
       "       price_square_meter  living_total  kitchen_total           day  \\\n",
       "count        16918.000000  16918.000000   16918.000000  16918.000000   \n",
       "mean         93046.903475      0.650590       0.204347      2.590200   \n",
       "std          32365.308603      0.201523       0.066126      1.792905   \n",
       "min           7962.962963      0.208333       0.060606      0.000000   \n",
       "25%          75000.000000      0.500000       0.153920      1.000000   \n",
       "50%          92473.118280      0.620000       0.196327      3.000000   \n",
       "75%         108910.891089      0.775000       0.247787      4.000000   \n",
       "max         640422.350472      2.583333       0.825000      6.000000   \n",
       "\n",
       "             month          year  \n",
       "count  16918.00000  16918.000000  \n",
       "mean       6.58949   2017.373094  \n",
       "std        3.48935      0.841842  \n",
       "min        1.00000   2015.000000  \n",
       "25%        3.00000   2017.000000  \n",
       "50%        7.00000   2017.000000  \n",
       "75%       10.00000   2018.000000  \n",
       "max       12.00000   2019.000000  \n",
       "\n",
       "[8 rows x 23 columns]"
      ]
     },
     "execution_count": 81,
     "metadata": {},
     "output_type": "execute_result"
    }
   ],
   "source": [
    "filtered_df.describe()"
   ]
  },
  {
   "cell_type": "code",
   "execution_count": 82,
   "metadata": {},
   "outputs": [
    {
     "data": {
      "text/html": [
       "<div>\n",
       "<style scoped>\n",
       "    .dataframe tbody tr th:only-of-type {\n",
       "        vertical-align: middle;\n",
       "    }\n",
       "\n",
       "    .dataframe tbody tr th {\n",
       "        vertical-align: top;\n",
       "    }\n",
       "\n",
       "    .dataframe thead th {\n",
       "        text-align: right;\n",
       "    }\n",
       "</style>\n",
       "<table border=\"1\" class=\"dataframe\">\n",
       "  <thead>\n",
       "    <tr style=\"text-align: right;\">\n",
       "      <th></th>\n",
       "      <th>total_images</th>\n",
       "      <th>last_price</th>\n",
       "      <th>total_area</th>\n",
       "      <th>rooms</th>\n",
       "      <th>ceiling_height</th>\n",
       "      <th>floors_total</th>\n",
       "      <th>living_area</th>\n",
       "      <th>floor</th>\n",
       "      <th>kitchen_area</th>\n",
       "      <th>balcony</th>\n",
       "      <th>...</th>\n",
       "      <th>parks_nearest</th>\n",
       "      <th>ponds_around3000</th>\n",
       "      <th>ponds_nearest</th>\n",
       "      <th>days_exposition</th>\n",
       "      <th>price_square_meter</th>\n",
       "      <th>living_total</th>\n",
       "      <th>kitchen_total</th>\n",
       "      <th>day</th>\n",
       "      <th>month</th>\n",
       "      <th>year</th>\n",
       "    </tr>\n",
       "  </thead>\n",
       "  <tbody>\n",
       "    <tr>\n",
       "      <th>count</th>\n",
       "      <td>23650.000000</td>\n",
       "      <td>2.365000e+04</td>\n",
       "      <td>23650.000000</td>\n",
       "      <td>23650.000000</td>\n",
       "      <td>23650.000000</td>\n",
       "      <td>23650.000000</td>\n",
       "      <td>23650.000000</td>\n",
       "      <td>23650.000000</td>\n",
       "      <td>23650.000000</td>\n",
       "      <td>23650.000000</td>\n",
       "      <td>...</td>\n",
       "      <td>23650.000000</td>\n",
       "      <td>23650.000000</td>\n",
       "      <td>23650.000000</td>\n",
       "      <td>20470.000000</td>\n",
       "      <td>2.365000e+04</td>\n",
       "      <td>23650.000000</td>\n",
       "      <td>23650.000000</td>\n",
       "      <td>23650.000000</td>\n",
       "      <td>23650.000000</td>\n",
       "      <td>23650.000000</td>\n",
       "    </tr>\n",
       "    <tr>\n",
       "      <th>mean</th>\n",
       "      <td>9.862326</td>\n",
       "      <td>6.541127e+06</td>\n",
       "      <td>60.329069</td>\n",
       "      <td>2.070106</td>\n",
       "      <td>2.724391</td>\n",
       "      <td>9.031416</td>\n",
       "      <td>32.919423</td>\n",
       "      <td>5.893277</td>\n",
       "      <td>10.057529</td>\n",
       "      <td>0.591712</td>\n",
       "      <td>...</td>\n",
       "      <td>469.685116</td>\n",
       "      <td>1.206216</td>\n",
       "      <td>508.785159</td>\n",
       "      <td>180.753200</td>\n",
       "      <td>9.943225e+04</td>\n",
       "      <td>0.623638</td>\n",
       "      <td>0.194489</td>\n",
       "      <td>2.568710</td>\n",
       "      <td>6.401564</td>\n",
       "      <td>2017.370021</td>\n",
       "    </tr>\n",
       "    <tr>\n",
       "      <th>std</th>\n",
       "      <td>5.682278</td>\n",
       "      <td>1.089640e+07</td>\n",
       "      <td>35.661808</td>\n",
       "      <td>1.078620</td>\n",
       "      <td>0.691937</td>\n",
       "      <td>2.278318</td>\n",
       "      <td>12.775238</td>\n",
       "      <td>4.883317</td>\n",
       "      <td>3.343987</td>\n",
       "      <td>0.959662</td>\n",
       "      <td>...</td>\n",
       "      <td>179.278998</td>\n",
       "      <td>0.538559</td>\n",
       "      <td>172.354346</td>\n",
       "      <td>219.777916</td>\n",
       "      <td>5.033794e+04</td>\n",
       "      <td>0.217299</td>\n",
       "      <td>0.073372</td>\n",
       "      <td>1.788808</td>\n",
       "      <td>3.491418</td>\n",
       "      <td>1.037806</td>\n",
       "    </tr>\n",
       "    <tr>\n",
       "      <th>min</th>\n",
       "      <td>0.000000</td>\n",
       "      <td>1.219000e+04</td>\n",
       "      <td>12.000000</td>\n",
       "      <td>0.000000</td>\n",
       "      <td>1.000000</td>\n",
       "      <td>1.000000</td>\n",
       "      <td>3.000000</td>\n",
       "      <td>1.000000</td>\n",
       "      <td>2.000000</td>\n",
       "      <td>0.000000</td>\n",
       "      <td>...</td>\n",
       "      <td>3.000000</td>\n",
       "      <td>1.000000</td>\n",
       "      <td>13.000000</td>\n",
       "      <td>1.000000</td>\n",
       "      <td>1.118349e+02</td>\n",
       "      <td>0.021583</td>\n",
       "      <td>0.010689</td>\n",
       "      <td>0.000000</td>\n",
       "      <td>1.000000</td>\n",
       "      <td>2014.000000</td>\n",
       "    </tr>\n",
       "    <tr>\n",
       "      <th>25%</th>\n",
       "      <td>6.000000</td>\n",
       "      <td>3.400000e+06</td>\n",
       "      <td>40.000000</td>\n",
       "      <td>1.000000</td>\n",
       "      <td>2.700000</td>\n",
       "      <td>9.000000</td>\n",
       "      <td>31.000000</td>\n",
       "      <td>2.000000</td>\n",
       "      <td>9.620000</td>\n",
       "      <td>0.000000</td>\n",
       "      <td>...</td>\n",
       "      <td>460.000000</td>\n",
       "      <td>1.000000</td>\n",
       "      <td>503.000000</td>\n",
       "      <td>45.000000</td>\n",
       "      <td>7.661497e+04</td>\n",
       "      <td>0.476923</td>\n",
       "      <td>0.140029</td>\n",
       "      <td>1.000000</td>\n",
       "      <td>3.000000</td>\n",
       "      <td>2017.000000</td>\n",
       "    </tr>\n",
       "    <tr>\n",
       "      <th>50%</th>\n",
       "      <td>9.000000</td>\n",
       "      <td>4.650000e+06</td>\n",
       "      <td>52.000000</td>\n",
       "      <td>2.000000</td>\n",
       "      <td>2.700000</td>\n",
       "      <td>9.000000</td>\n",
       "      <td>31.000000</td>\n",
       "      <td>4.000000</td>\n",
       "      <td>9.620000</td>\n",
       "      <td>0.000000</td>\n",
       "      <td>...</td>\n",
       "      <td>460.000000</td>\n",
       "      <td>1.000000</td>\n",
       "      <td>503.000000</td>\n",
       "      <td>95.000000</td>\n",
       "      <td>9.500000e+04</td>\n",
       "      <td>0.597849</td>\n",
       "      <td>0.185000</td>\n",
       "      <td>3.000000</td>\n",
       "      <td>6.000000</td>\n",
       "      <td>2017.000000</td>\n",
       "    </tr>\n",
       "    <tr>\n",
       "      <th>75%</th>\n",
       "      <td>14.000000</td>\n",
       "      <td>6.799000e+06</td>\n",
       "      <td>69.700000</td>\n",
       "      <td>3.000000</td>\n",
       "      <td>2.700000</td>\n",
       "      <td>9.000000</td>\n",
       "      <td>31.000000</td>\n",
       "      <td>8.000000</td>\n",
       "      <td>9.620000</td>\n",
       "      <td>1.000000</td>\n",
       "      <td>...</td>\n",
       "      <td>460.000000</td>\n",
       "      <td>1.000000</td>\n",
       "      <td>503.000000</td>\n",
       "      <td>231.000000</td>\n",
       "      <td>1.142742e+05</td>\n",
       "      <td>0.745192</td>\n",
       "      <td>0.240500</td>\n",
       "      <td>4.000000</td>\n",
       "      <td>10.000000</td>\n",
       "      <td>2018.000000</td>\n",
       "    </tr>\n",
       "    <tr>\n",
       "      <th>max</th>\n",
       "      <td>50.000000</td>\n",
       "      <td>7.630000e+08</td>\n",
       "      <td>900.000000</td>\n",
       "      <td>19.000000</td>\n",
       "      <td>100.000000</td>\n",
       "      <td>60.000000</td>\n",
       "      <td>332.000000</td>\n",
       "      <td>33.000000</td>\n",
       "      <td>107.000000</td>\n",
       "      <td>5.000000</td>\n",
       "      <td>...</td>\n",
       "      <td>3190.000000</td>\n",
       "      <td>3.000000</td>\n",
       "      <td>1344.000000</td>\n",
       "      <td>1580.000000</td>\n",
       "      <td>1.907500e+06</td>\n",
       "      <td>2.583333</td>\n",
       "      <td>0.825000</td>\n",
       "      <td>6.000000</td>\n",
       "      <td>12.000000</td>\n",
       "      <td>2019.000000</td>\n",
       "    </tr>\n",
       "  </tbody>\n",
       "</table>\n",
       "<p>8 rows × 23 columns</p>\n",
       "</div>"
      ],
      "text/plain": [
       "       total_images    last_price    total_area         rooms  ceiling_height  \\\n",
       "count  23650.000000  2.365000e+04  23650.000000  23650.000000    23650.000000   \n",
       "mean       9.862326  6.541127e+06     60.329069      2.070106        2.724391   \n",
       "std        5.682278  1.089640e+07     35.661808      1.078620        0.691937   \n",
       "min        0.000000  1.219000e+04     12.000000      0.000000        1.000000   \n",
       "25%        6.000000  3.400000e+06     40.000000      1.000000        2.700000   \n",
       "50%        9.000000  4.650000e+06     52.000000      2.000000        2.700000   \n",
       "75%       14.000000  6.799000e+06     69.700000      3.000000        2.700000   \n",
       "max       50.000000  7.630000e+08    900.000000     19.000000      100.000000   \n",
       "\n",
       "       floors_total   living_area         floor  kitchen_area       balcony  \\\n",
       "count  23650.000000  23650.000000  23650.000000  23650.000000  23650.000000   \n",
       "mean       9.031416     32.919423      5.893277     10.057529      0.591712   \n",
       "std        2.278318     12.775238      4.883317      3.343987      0.959662   \n",
       "min        1.000000      3.000000      1.000000      2.000000      0.000000   \n",
       "25%        9.000000     31.000000      2.000000      9.620000      0.000000   \n",
       "50%        9.000000     31.000000      4.000000      9.620000      0.000000   \n",
       "75%        9.000000     31.000000      8.000000      9.620000      1.000000   \n",
       "max       60.000000    332.000000     33.000000    107.000000      5.000000   \n",
       "\n",
       "       ...  parks_nearest  ponds_around3000  ponds_nearest  days_exposition  \\\n",
       "count  ...   23650.000000      23650.000000   23650.000000     20470.000000   \n",
       "mean   ...     469.685116          1.206216     508.785159       180.753200   \n",
       "std    ...     179.278998          0.538559     172.354346       219.777916   \n",
       "min    ...       3.000000          1.000000      13.000000         1.000000   \n",
       "25%    ...     460.000000          1.000000     503.000000        45.000000   \n",
       "50%    ...     460.000000          1.000000     503.000000        95.000000   \n",
       "75%    ...     460.000000          1.000000     503.000000       231.000000   \n",
       "max    ...    3190.000000          3.000000    1344.000000      1580.000000   \n",
       "\n",
       "       price_square_meter  living_total  kitchen_total           day  \\\n",
       "count        2.365000e+04  23650.000000   23650.000000  23650.000000   \n",
       "mean         9.943225e+04      0.623638       0.194489      2.568710   \n",
       "std          5.033794e+04      0.217299       0.073372      1.788808   \n",
       "min          1.118349e+02      0.021583       0.010689      0.000000   \n",
       "25%          7.661497e+04      0.476923       0.140029      1.000000   \n",
       "50%          9.500000e+04      0.597849       0.185000      3.000000   \n",
       "75%          1.142742e+05      0.745192       0.240500      4.000000   \n",
       "max          1.907500e+06      2.583333       0.825000      6.000000   \n",
       "\n",
       "              month          year  \n",
       "count  23650.000000  23650.000000  \n",
       "mean       6.401564   2017.370021  \n",
       "std        3.491418      1.037806  \n",
       "min        1.000000   2014.000000  \n",
       "25%        3.000000   2017.000000  \n",
       "50%        6.000000   2017.000000  \n",
       "75%       10.000000   2018.000000  \n",
       "max       12.000000   2019.000000  \n",
       "\n",
       "[8 rows x 23 columns]"
      ]
     },
     "execution_count": 82,
     "metadata": {},
     "output_type": "execute_result"
    }
   ],
   "source": [
    "df.describe()"
   ]
  },
  {
   "cell_type": "markdown",
   "metadata": {},
   "source": [
    "Сравним характеристики исходного и фильтрованного набора данных. \n",
    "\n",
    "Выводы:\n",
    "1. Сохранилось 72% данных. Достаточно для анализа. \n",
    "2. Статистические характеристики (среднее, медиана) кардинально не изменились. \n",
    "\n",
    "Таким образом, измененный датасет существенно не изменился относительно изначального. Следовательно, его можно использовать в дальнейшем анализе. "
   ]
  },
  {
   "cell_type": "markdown",
   "metadata": {},
   "source": [
    "**4.6 Какие факторы больше всего влияют на стоимость квартиры? Изучим, зависит ли цена от площади, числа комнат, этажа (первого или последнего), удалённости от центра. Также изучим зависимость от даты размещения: дня недели, месяца и года.**"
   ]
  },
  {
   "cell_type": "code",
   "execution_count": 83,
   "metadata": {},
   "outputs": [
    {
     "data": {
      "text/plain": [
       "<AxesSubplot:xlabel='year'>"
      ]
     },
     "execution_count": 83,
     "metadata": {},
     "output_type": "execute_result"
    },
    {
     "data": {
      "image/png": "[encoded data removed]",
      "text/plain": [
       "<Figure size 432x288 with 1 Axes>"
      ]
     },
     "metadata": {
      "needs_background": "light"
     },
     "output_type": "display_data"
    }
   ],
   "source": [
    "#график зависмости цены квадратного метра от года размещения объявления \n",
    "filtered_df.groupby('year').agg({'price_square_meter': 'median'}).plot()"
   ]
  },
  {
   "cell_type": "markdown",
   "metadata": {},
   "source": [
    "Вывод: Начиная с 2015 года недвижимость цены на недвижимость растут. "
   ]
  },
  {
   "cell_type": "code",
   "execution_count": 84,
   "metadata": {
    "scrolled": true
   },
   "outputs": [
    {
     "data": {
      "text/plain": [
       "<AxesSubplot:xlabel='month'>"
      ]
     },
     "execution_count": 84,
     "metadata": {},
     "output_type": "execute_result"
    },
    {
     "data": {
      "image/png": "[encoded data removed]",
      "text/plain": [
       "<Figure size 432x288 with 1 Axes>"
      ]
     },
     "metadata": {
      "needs_background": "light"
     },
     "output_type": "display_data"
    }
   ],
   "source": [
    "#график зависмости цены квадратного метра от месяца размещения объявления \n",
    "filtered_df.groupby('month').agg({'price_square_meter': 'median'}).plot()"
   ]
  },
  {
   "cell_type": "markdown",
   "metadata": {},
   "source": [
    "Вывод: Пик высоких цен приходится на август. Самые низкие цены - в мае-июне и декабре. "
   ]
  },
  {
   "cell_type": "code",
   "execution_count": 85,
   "metadata": {},
   "outputs": [
    {
     "data": {
      "text/plain": [
       "<AxesSubplot:xlabel='day'>"
      ]
     },
     "execution_count": 85,
     "metadata": {},
     "output_type": "execute_result"
    },
    {
     "data": {
      "image/png": "[encoded data removed]",
      "text/plain": [
       "<Figure size 432x288 with 1 Axes>"
      ]
     },
     "metadata": {
      "needs_background": "light"
     },
     "output_type": "display_data"
    }
   ],
   "source": [
    "#график зависмости цены квадратного метра от дня размещения объявления \n",
    "filtered_df.groupby('day').agg({'price_square_meter': 'median'}).plot()"
   ]
  },
  {
   "cell_type": "markdown",
   "metadata": {},
   "source": [
    "Вывод: Пик высоких цен приходится на объявления, опубликованные в среду, далее к концу недели цена за кв.м. снижается."
   ]
  },
  {
   "cell_type": "code",
   "execution_count": 86,
   "metadata": {},
   "outputs": [
    {
     "data": {
      "text/plain": [
       "<AxesSubplot:xlabel='floor_category'>"
      ]
     },
     "execution_count": 86,
     "metadata": {},
     "output_type": "execute_result"
    },
    {
     "data": {
      "image/png": "[encoded data removed]",
      "text/plain": [
       "<Figure size 432x288 with 1 Axes>"
      ]
     },
     "metadata": {
      "needs_background": "light"
     },
     "output_type": "display_data"
    }
   ],
   "source": [
    "#график зависмости цены квадратного метра от этажа \n",
    "filtered_df.groupby('floor_category').agg({'price_square_meter': 'median'}).plot()"
   ]
  },
  {
   "cell_type": "markdown",
   "metadata": {},
   "source": [
    "Вывод: Квартиры на первом этаже дешевле остальных вариантов. "
   ]
  },
  {
   "cell_type": "code",
   "execution_count": 87,
   "metadata": {},
   "outputs": [
    {
     "data": {
      "text/plain": [
       "<AxesSubplot:xlabel='total_area'>"
      ]
     },
     "execution_count": 87,
     "metadata": {},
     "output_type": "execute_result"
    },
    {
     "data": {
      "image/png": "[encoded data removed]",
      "text/plain": [
       "<Figure size 432x288 with 1 Axes>"
      ]
     },
     "metadata": {
      "needs_background": "light"
     },
     "output_type": "display_data"
    }
   ],
   "source": [
    "#график зависмости цены квадратного метра от общей площади \n",
    "filtered_df.groupby('total_area').agg({'price_square_meter': 'median'}).plot()"
   ]
  },
  {
   "cell_type": "code",
   "execution_count": 88,
   "metadata": {},
   "outputs": [
    {
     "data": {
      "text/plain": [
       "0.02659166050667414"
      ]
     },
     "execution_count": 88,
     "metadata": {},
     "output_type": "execute_result"
    }
   ],
   "source": [
    "#посчитаем корреляцию Пирсона\n",
    "filtered_df['total_area'].corr(filtered_df['price_square_meter']) "
   ]
  },
  {
   "cell_type": "markdown",
   "metadata": {},
   "source": [
    "Вывод: Нет четкой зависимости между ценой и общей площадью. "
   ]
  },
  {
   "cell_type": "code",
   "execution_count": 89,
   "metadata": {
    "scrolled": true
   },
   "outputs": [
    {
     "data": {
      "text/plain": [
       "<AxesSubplot:xlabel='rooms'>"
      ]
     },
     "execution_count": 89,
     "metadata": {},
     "output_type": "execute_result"
    },
    {
     "data": {
      "image/png": "[encoded data removed]",
      "text/plain": [
       "<Figure size 432x288 with 1 Axes>"
      ]
     },
     "metadata": {
      "needs_background": "light"
     },
     "output_type": "display_data"
    }
   ],
   "source": [
    "#график зависмости цены квадратного метра от количества комнат \n",
    "filtered_df.groupby('rooms').agg({'price_square_meter': 'median'}).plot()"
   ]
  },
  {
   "cell_type": "code",
   "execution_count": 90,
   "metadata": {},
   "outputs": [
    {
     "data": {
      "text/plain": [
       "-0.16914981567917192"
      ]
     },
     "execution_count": 90,
     "metadata": {},
     "output_type": "execute_result"
    }
   ],
   "source": [
    "#посчитаем корреляцию Пирсона\n",
    "filtered_df['rooms'].corr(filtered_df['price_square_meter']) "
   ]
  },
  {
   "cell_type": "markdown",
   "metadata": {},
   "source": [
    "Вывод: По графику можно заметить, что однокомнатные квартиры дороже 2-5-комнатных. С 2 до 5 комнат идет спад цены за кв.м. Однако 6-комнатные квартиры резко растут в цене. "
   ]
  },
  {
   "cell_type": "code",
   "execution_count": 91,
   "metadata": {},
   "outputs": [
    {
     "data": {
      "text/plain": [
       "<AxesSubplot:xlabel='cityCenters_nearest'>"
      ]
     },
     "execution_count": 91,
     "metadata": {},
     "output_type": "execute_result"
    },
    {
     "data": {
      "image/png": "[encoded data removed]",
      "text/plain": [
       "<Figure size 432x288 with 1 Axes>"
      ]
     },
     "metadata": {
      "needs_background": "light"
     },
     "output_type": "display_data"
    }
   ],
   "source": [
    "#график зависмости цены квадратного метра от удаленности от центра города\n",
    "filtered_df.groupby('cityCenters_nearest').agg({'price_square_meter': 'median'}).plot()"
   ]
  },
  {
   "cell_type": "code",
   "execution_count": 92,
   "metadata": {},
   "outputs": [
    {
     "data": {
      "text/plain": [
       "-0.11108839219476074"
      ]
     },
     "execution_count": 92,
     "metadata": {},
     "output_type": "execute_result"
    }
   ],
   "source": [
    "#посчитаем корреляцию Пирсона\n",
    "filtered_df['cityCenters_nearest'].corr(filtered_df['price_square_meter']) "
   ]
  },
  {
   "cell_type": "markdown",
   "metadata": {},
   "source": [
    "Вывод: Чем ближе к центру, тем дороже цена за кв.м. "
   ]
  },
  {
   "cell_type": "markdown",
   "metadata": {},
   "source": [
    "**4.5 Выберем 10 населённых пунктов с наибольшим числом объявлений. Посчитаем среднюю цену квадратного метра в этих населённых пунктах. Выделим населённые пункты с самой высокой и низкой стоимостью жилья.**"
   ]
  },
  {
   "cell_type": "code",
   "execution_count": 93,
   "metadata": {
    "scrolled": false
   },
   "outputs": [
    {
     "data": {
      "text/html": [
       "<div>\n",
       "<style scoped>\n",
       "    .dataframe tbody tr th:only-of-type {\n",
       "        vertical-align: middle;\n",
       "    }\n",
       "\n",
       "    .dataframe tbody tr th {\n",
       "        vertical-align: top;\n",
       "    }\n",
       "\n",
       "    .dataframe thead th {\n",
       "        text-align: right;\n",
       "    }\n",
       "</style>\n",
       "<table border=\"1\" class=\"dataframe\">\n",
       "  <thead>\n",
       "    <tr style=\"text-align: right;\">\n",
       "      <th></th>\n",
       "      <th>count_ad</th>\n",
       "      <th>price_square_meter</th>\n",
       "    </tr>\n",
       "    <tr>\n",
       "      <th>locality_name</th>\n",
       "      <th></th>\n",
       "      <th></th>\n",
       "    </tr>\n",
       "  </thead>\n",
       "  <tbody>\n",
       "    <tr>\n",
       "      <th>Санкт-Петербург</th>\n",
       "      <td>10830</td>\n",
       "      <td>106656.134380</td>\n",
       "    </tr>\n",
       "    <tr>\n",
       "      <th>посёлок Мурино</th>\n",
       "      <td>459</td>\n",
       "      <td>85323.055413</td>\n",
       "    </tr>\n",
       "    <tr>\n",
       "      <th>посёлок Шушары</th>\n",
       "      <td>374</td>\n",
       "      <td>77717.748491</td>\n",
       "    </tr>\n",
       "    <tr>\n",
       "      <th>Всеволожск</th>\n",
       "      <td>300</td>\n",
       "      <td>68551.433597</td>\n",
       "    </tr>\n",
       "    <tr>\n",
       "      <th>Колпино</th>\n",
       "      <td>281</td>\n",
       "      <td>74780.299061</td>\n",
       "    </tr>\n",
       "    <tr>\n",
       "      <th>посёлок Парголово</th>\n",
       "      <td>280</td>\n",
       "      <td>89661.576678</td>\n",
       "    </tr>\n",
       "    <tr>\n",
       "      <th>Пушкин</th>\n",
       "      <td>252</td>\n",
       "      <td>99846.850768</td>\n",
       "    </tr>\n",
       "    <tr>\n",
       "      <th>деревня Кудрово</th>\n",
       "      <td>249</td>\n",
       "      <td>92330.000459</td>\n",
       "    </tr>\n",
       "    <tr>\n",
       "      <th>Гатчина</th>\n",
       "      <td>239</td>\n",
       "      <td>68224.658418</td>\n",
       "    </tr>\n",
       "    <tr>\n",
       "      <th>Выборг</th>\n",
       "      <td>186</td>\n",
       "      <td>57350.347050</td>\n",
       "    </tr>\n",
       "  </tbody>\n",
       "</table>\n",
       "</div>"
      ],
      "text/plain": [
       "                   count_ad  price_square_meter\n",
       "locality_name                                  \n",
       "Санкт-Петербург       10830       106656.134380\n",
       "посёлок Мурино          459        85323.055413\n",
       "посёлок Шушары          374        77717.748491\n",
       "Всеволожск              300        68551.433597\n",
       "Колпино                 281        74780.299061\n",
       "посёлок Парголово       280        89661.576678\n",
       "Пушкин                  252        99846.850768\n",
       "деревня Кудрово         249        92330.000459\n",
       "Гатчина                 239        68224.658418\n",
       "Выборг                  186        57350.347050"
      ]
     },
     "metadata": {},
     "output_type": "display_data"
    }
   ],
   "source": [
    "#с помощью сводной таблицы сгруппируем данные по столбцу с населенными пунктами\n",
    "#посчитаем кол-во значений в каждой группе и среднее значение стоимости за кв.м.\n",
    "#отсортируем полученные данные по убыванию \n",
    "df_locality_max = filtered_df.pivot_table(index='locality_name', values='price_square_meter', aggfunc=['count','mean'])\n",
    "df_locality_max.columns = ['count_ad', 'price_square_meter']\n",
    "df_locality_max = df_locality_max.sort_values(by=['count_ad'], ascending=False).head(10)\n",
    "display(df_locality_max)"
   ]
  },
  {
   "cell_type": "markdown",
   "metadata": {},
   "source": [
    "Вывод: По таблице можно сделать вывод, что самое дорогое жилье в Санкт-Петербурге, на втором месте Пушкин, на третьем деревня Кудрово. Самое дешевое жилье в городе Выборг, Гатчина и Всеволожск. "
   ]
  },
  {
   "cell_type": "markdown",
   "metadata": {},
   "source": [
    "**4.6 Изучим предложения квартир: для каждой квартиры есть информация о расстоянии до центра. Выделим квартиры в Санкт-Петербурге и выясним, какая область входит в центр.** \n"
   ]
  },
  {
   "cell_type": "code",
   "execution_count": 94,
   "metadata": {},
   "outputs": [
    {
     "data": {
      "text/plain": [
       "<AxesSubplot:xlabel='cityCenters_km'>"
      ]
     },
     "execution_count": 94,
     "metadata": {},
     "output_type": "execute_result"
    },
    {
     "data": {
      "image/png": "[encoded data removed]",
      "text/plain": [
       "<Figure size 432x288 with 1 Axes>"
      ]
     },
     "metadata": {
      "needs_background": "light"
     },
     "output_type": "display_data"
    }
   ],
   "source": [
    "#Создадим столбец с расстоянием до центра в километрах: округлим до целых значений. \n",
    "#После этого посчитаем среднюю цену для каждого километра. \n",
    "#Построим график: он должен показывать, как цена зависит от удалённости от центра. \n",
    "#Определим границу, где график сильно меняется, — это и будет центральная зона.\n",
    "\n",
    "filtered_df_spb = filtered_df.query('locality_name == \"Санкт-Петербург\"') #срез по Спб\n",
    "filtered_df_spb[['cityCenters_km']] = (filtered_df_spb[['cityCenters_nearest']]/1000).astype(int) #новый столбец с расстоянием до центра в км\n",
    "filtered_df_spb.pivot_table(index='cityCenters_km', values = 'price_square_meter', aggfunc = 'median').plot(grid=True)"
   ]
  },
  {
   "cell_type": "markdown",
   "metadata": {},
   "source": [
    "Вывод: по графику можно заметить, что спад цены начинается на уровне 7 км. Таким образом, можно считать, что квартиры с расстоянием до центра до 7 км - находятся в центральной зоне. А, если расстояние до центра больше 7 км, то это за пределами центральной зоны."
   ]
  },
  {
   "cell_type": "markdown",
   "metadata": {},
   "source": [
    "**4.7 Выделим сегмент квартир в центре. Проанализируем эту территорию и изучим следующие параметры: площадь, цена, число комнат, высота потолков. Также выделим факторы, которые влияют на стоимость квартиры.*** "
   ]
  },
  {
   "cell_type": "code",
   "execution_count": 95,
   "metadata": {},
   "outputs": [
    {
     "data": {
      "text/html": [
       "<div>\n",
       "<style scoped>\n",
       "    .dataframe tbody tr th:only-of-type {\n",
       "        vertical-align: middle;\n",
       "    }\n",
       "\n",
       "    .dataframe tbody tr th {\n",
       "        vertical-align: top;\n",
       "    }\n",
       "\n",
       "    .dataframe thead th {\n",
       "        text-align: right;\n",
       "    }\n",
       "</style>\n",
       "<table border=\"1\" class=\"dataframe\">\n",
       "  <thead>\n",
       "    <tr style=\"text-align: right;\">\n",
       "      <th></th>\n",
       "      <th>total_images</th>\n",
       "      <th>last_price</th>\n",
       "      <th>total_area</th>\n",
       "      <th>first_day_exposition</th>\n",
       "      <th>rooms</th>\n",
       "      <th>ceiling_height</th>\n",
       "      <th>floors_total</th>\n",
       "      <th>living_area</th>\n",
       "      <th>floor</th>\n",
       "      <th>is_apartment</th>\n",
       "      <th>...</th>\n",
       "      <th>ponds_nearest</th>\n",
       "      <th>days_exposition</th>\n",
       "      <th>price_square_meter</th>\n",
       "      <th>living_total</th>\n",
       "      <th>kitchen_total</th>\n",
       "      <th>day</th>\n",
       "      <th>month</th>\n",
       "      <th>year</th>\n",
       "      <th>floor_category</th>\n",
       "      <th>cityCenters_km</th>\n",
       "    </tr>\n",
       "  </thead>\n",
       "  <tbody>\n",
       "    <tr>\n",
       "      <th>24</th>\n",
       "      <td>8</td>\n",
       "      <td>6500000.0</td>\n",
       "      <td>97.2</td>\n",
       "      <td>2015-10-31T00:00:00</td>\n",
       "      <td>2</td>\n",
       "      <td>2.70</td>\n",
       "      <td>3</td>\n",
       "      <td>46.50</td>\n",
       "      <td>1</td>\n",
       "      <td>False</td>\n",
       "      <td>...</td>\n",
       "      <td>124.0</td>\n",
       "      <td>265.0</td>\n",
       "      <td>66872.427984</td>\n",
       "      <td>0.478395</td>\n",
       "      <td>0.201646</td>\n",
       "      <td>5</td>\n",
       "      <td>10</td>\n",
       "      <td>2015</td>\n",
       "      <td>первый</td>\n",
       "      <td>2</td>\n",
       "    </tr>\n",
       "    <tr>\n",
       "      <th>137</th>\n",
       "      <td>11</td>\n",
       "      <td>13310800.0</td>\n",
       "      <td>85.1</td>\n",
       "      <td>2018-01-01T00:00:00</td>\n",
       "      <td>2</td>\n",
       "      <td>2.70</td>\n",
       "      <td>10</td>\n",
       "      <td>31.52</td>\n",
       "      <td>5</td>\n",
       "      <td>False</td>\n",
       "      <td>...</td>\n",
       "      <td>133.0</td>\n",
       "      <td>340.0</td>\n",
       "      <td>156413.631022</td>\n",
       "      <td>0.370388</td>\n",
       "      <td>0.315511</td>\n",
       "      <td>0</td>\n",
       "      <td>1</td>\n",
       "      <td>2018</td>\n",
       "      <td>другой</td>\n",
       "      <td>4</td>\n",
       "    </tr>\n",
       "    <tr>\n",
       "      <th>291</th>\n",
       "      <td>10</td>\n",
       "      <td>5900000.0</td>\n",
       "      <td>70.0</td>\n",
       "      <td>2017-01-24T00:00:00</td>\n",
       "      <td>3</td>\n",
       "      <td>2.51</td>\n",
       "      <td>5</td>\n",
       "      <td>47.40</td>\n",
       "      <td>1</td>\n",
       "      <td>False</td>\n",
       "      <td>...</td>\n",
       "      <td>118.0</td>\n",
       "      <td>480.0</td>\n",
       "      <td>84285.714286</td>\n",
       "      <td>0.677143</td>\n",
       "      <td>0.114286</td>\n",
       "      <td>1</td>\n",
       "      <td>1</td>\n",
       "      <td>2017</td>\n",
       "      <td>первый</td>\n",
       "      <td>4</td>\n",
       "    </tr>\n",
       "    <tr>\n",
       "      <th>318</th>\n",
       "      <td>12</td>\n",
       "      <td>9990000.0</td>\n",
       "      <td>67.0</td>\n",
       "      <td>2017-07-10T00:00:00</td>\n",
       "      <td>1</td>\n",
       "      <td>2.84</td>\n",
       "      <td>9</td>\n",
       "      <td>37.00</td>\n",
       "      <td>7</td>\n",
       "      <td>False</td>\n",
       "      <td>...</td>\n",
       "      <td>713.0</td>\n",
       "      <td>50.0</td>\n",
       "      <td>149104.477612</td>\n",
       "      <td>0.552239</td>\n",
       "      <td>0.253731</td>\n",
       "      <td>0</td>\n",
       "      <td>7</td>\n",
       "      <td>2017</td>\n",
       "      <td>другой</td>\n",
       "      <td>5</td>\n",
       "    </tr>\n",
       "    <tr>\n",
       "      <th>323</th>\n",
       "      <td>6</td>\n",
       "      <td>9591727.0</td>\n",
       "      <td>72.0</td>\n",
       "      <td>2017-06-29T00:00:00</td>\n",
       "      <td>2</td>\n",
       "      <td>2.80</td>\n",
       "      <td>10</td>\n",
       "      <td>34.00</td>\n",
       "      <td>9</td>\n",
       "      <td>False</td>\n",
       "      <td>...</td>\n",
       "      <td>534.0</td>\n",
       "      <td>118.0</td>\n",
       "      <td>133218.430556</td>\n",
       "      <td>0.472222</td>\n",
       "      <td>0.236111</td>\n",
       "      <td>3</td>\n",
       "      <td>6</td>\n",
       "      <td>2017</td>\n",
       "      <td>другой</td>\n",
       "      <td>5</td>\n",
       "    </tr>\n",
       "    <tr>\n",
       "      <th>...</th>\n",
       "      <td>...</td>\n",
       "      <td>...</td>\n",
       "      <td>...</td>\n",
       "      <td>...</td>\n",
       "      <td>...</td>\n",
       "      <td>...</td>\n",
       "      <td>...</td>\n",
       "      <td>...</td>\n",
       "      <td>...</td>\n",
       "      <td>...</td>\n",
       "      <td>...</td>\n",
       "      <td>...</td>\n",
       "      <td>...</td>\n",
       "      <td>...</td>\n",
       "      <td>...</td>\n",
       "      <td>...</td>\n",
       "      <td>...</td>\n",
       "      <td>...</td>\n",
       "      <td>...</td>\n",
       "      <td>...</td>\n",
       "      <td>...</td>\n",
       "    </tr>\n",
       "    <tr>\n",
       "      <th>23625</th>\n",
       "      <td>12</td>\n",
       "      <td>6700000.0</td>\n",
       "      <td>42.0</td>\n",
       "      <td>2019-02-13T00:00:00</td>\n",
       "      <td>2</td>\n",
       "      <td>2.70</td>\n",
       "      <td>5</td>\n",
       "      <td>24.00</td>\n",
       "      <td>5</td>\n",
       "      <td>False</td>\n",
       "      <td>...</td>\n",
       "      <td>837.0</td>\n",
       "      <td>26.0</td>\n",
       "      <td>159523.809524</td>\n",
       "      <td>0.571429</td>\n",
       "      <td>0.145238</td>\n",
       "      <td>2</td>\n",
       "      <td>2</td>\n",
       "      <td>2019</td>\n",
       "      <td>последний</td>\n",
       "      <td>5</td>\n",
       "    </tr>\n",
       "    <tr>\n",
       "      <th>23632</th>\n",
       "      <td>20</td>\n",
       "      <td>5000000.0</td>\n",
       "      <td>38.0</td>\n",
       "      <td>2018-06-23T00:00:00</td>\n",
       "      <td>1</td>\n",
       "      <td>2.70</td>\n",
       "      <td>9</td>\n",
       "      <td>31.00</td>\n",
       "      <td>15</td>\n",
       "      <td>False</td>\n",
       "      <td>...</td>\n",
       "      <td>230.0</td>\n",
       "      <td>113.0</td>\n",
       "      <td>131578.947368</td>\n",
       "      <td>0.815789</td>\n",
       "      <td>0.260526</td>\n",
       "      <td>5</td>\n",
       "      <td>6</td>\n",
       "      <td>2018</td>\n",
       "      <td>другой</td>\n",
       "      <td>7</td>\n",
       "    </tr>\n",
       "    <tr>\n",
       "      <th>23644</th>\n",
       "      <td>7</td>\n",
       "      <td>4990000.0</td>\n",
       "      <td>62.5</td>\n",
       "      <td>2018-04-26T00:00:00</td>\n",
       "      <td>2</td>\n",
       "      <td>2.70</td>\n",
       "      <td>4</td>\n",
       "      <td>32.30</td>\n",
       "      <td>4</td>\n",
       "      <td>False</td>\n",
       "      <td>...</td>\n",
       "      <td>171.0</td>\n",
       "      <td>166.0</td>\n",
       "      <td>79840.000000</td>\n",
       "      <td>0.516800</td>\n",
       "      <td>0.193600</td>\n",
       "      <td>3</td>\n",
       "      <td>4</td>\n",
       "      <td>2018</td>\n",
       "      <td>последний</td>\n",
       "      <td>4</td>\n",
       "    </tr>\n",
       "    <tr>\n",
       "      <th>23665</th>\n",
       "      <td>11</td>\n",
       "      <td>4250000.0</td>\n",
       "      <td>47.0</td>\n",
       "      <td>2016-05-20T00:00:00</td>\n",
       "      <td>1</td>\n",
       "      <td>2.70</td>\n",
       "      <td>6</td>\n",
       "      <td>18.20</td>\n",
       "      <td>1</td>\n",
       "      <td>False</td>\n",
       "      <td>...</td>\n",
       "      <td>519.0</td>\n",
       "      <td>131.0</td>\n",
       "      <td>90425.531915</td>\n",
       "      <td>0.387234</td>\n",
       "      <td>0.310638</td>\n",
       "      <td>4</td>\n",
       "      <td>5</td>\n",
       "      <td>2016</td>\n",
       "      <td>первый</td>\n",
       "      <td>4</td>\n",
       "    </tr>\n",
       "    <tr>\n",
       "      <th>23681</th>\n",
       "      <td>13</td>\n",
       "      <td>5250000.0</td>\n",
       "      <td>43.0</td>\n",
       "      <td>2018-05-11T00:00:00</td>\n",
       "      <td>2</td>\n",
       "      <td>2.50</td>\n",
       "      <td>5</td>\n",
       "      <td>29.00</td>\n",
       "      <td>2</td>\n",
       "      <td>False</td>\n",
       "      <td>...</td>\n",
       "      <td>660.0</td>\n",
       "      <td>80.0</td>\n",
       "      <td>122093.023256</td>\n",
       "      <td>0.674419</td>\n",
       "      <td>0.139535</td>\n",
       "      <td>4</td>\n",
       "      <td>5</td>\n",
       "      <td>2018</td>\n",
       "      <td>другой</td>\n",
       "      <td>7</td>\n",
       "    </tr>\n",
       "  </tbody>\n",
       "</table>\n",
       "<p>562 rows × 30 columns</p>\n",
       "</div>"
      ],
      "text/plain": [
       "       total_images  last_price  total_area first_day_exposition  rooms  \\\n",
       "24                8   6500000.0        97.2  2015-10-31T00:00:00      2   \n",
       "137              11  13310800.0        85.1  2018-01-01T00:00:00      2   \n",
       "291              10   5900000.0        70.0  2017-01-24T00:00:00      3   \n",
       "318              12   9990000.0        67.0  2017-07-10T00:00:00      1   \n",
       "323               6   9591727.0        72.0  2017-06-29T00:00:00      2   \n",
       "...             ...         ...         ...                  ...    ...   \n",
       "23625            12   6700000.0        42.0  2019-02-13T00:00:00      2   \n",
       "23632            20   5000000.0        38.0  2018-06-23T00:00:00      1   \n",
       "23644             7   4990000.0        62.5  2018-04-26T00:00:00      2   \n",
       "23665            11   4250000.0        47.0  2016-05-20T00:00:00      1   \n",
       "23681            13   5250000.0        43.0  2018-05-11T00:00:00      2   \n",
       "\n",
       "       ceiling_height  floors_total  living_area  floor  is_apartment  ...  \\\n",
       "24               2.70             3        46.50      1         False  ...   \n",
       "137              2.70            10        31.52      5         False  ...   \n",
       "291              2.51             5        47.40      1         False  ...   \n",
       "318              2.84             9        37.00      7         False  ...   \n",
       "323              2.80            10        34.00      9         False  ...   \n",
       "...               ...           ...          ...    ...           ...  ...   \n",
       "23625            2.70             5        24.00      5         False  ...   \n",
       "23632            2.70             9        31.00     15         False  ...   \n",
       "23644            2.70             4        32.30      4         False  ...   \n",
       "23665            2.70             6        18.20      1         False  ...   \n",
       "23681            2.50             5        29.00      2         False  ...   \n",
       "\n",
       "       ponds_nearest  days_exposition  price_square_meter  living_total  \\\n",
       "24             124.0            265.0        66872.427984      0.478395   \n",
       "137            133.0            340.0       156413.631022      0.370388   \n",
       "291            118.0            480.0        84285.714286      0.677143   \n",
       "318            713.0             50.0       149104.477612      0.552239   \n",
       "323            534.0            118.0       133218.430556      0.472222   \n",
       "...              ...              ...                 ...           ...   \n",
       "23625          837.0             26.0       159523.809524      0.571429   \n",
       "23632          230.0            113.0       131578.947368      0.815789   \n",
       "23644          171.0            166.0        79840.000000      0.516800   \n",
       "23665          519.0            131.0        90425.531915      0.387234   \n",
       "23681          660.0             80.0       122093.023256      0.674419   \n",
       "\n",
       "      kitchen_total  day  month  year  floor_category  cityCenters_km  \n",
       "24         0.201646    5     10  2015          первый               2  \n",
       "137        0.315511    0      1  2018          другой               4  \n",
       "291        0.114286    1      1  2017          первый               4  \n",
       "318        0.253731    0      7  2017          другой               5  \n",
       "323        0.236111    3      6  2017          другой               5  \n",
       "...             ...  ...    ...   ...             ...             ...  \n",
       "23625      0.145238    2      2  2019       последний               5  \n",
       "23632      0.260526    5      6  2018          другой               7  \n",
       "23644      0.193600    3      4  2018       последний               4  \n",
       "23665      0.310638    4      5  2016          первый               4  \n",
       "23681      0.139535    4      5  2018          другой               7  \n",
       "\n",
       "[562 rows x 30 columns]"
      ]
     },
     "metadata": {},
     "output_type": "display_data"
    }
   ],
   "source": [
    "filtered_df_spb_center = filtered_df_spb.query('cityCenters_km <= 7') #срез по центру Спб \n",
    "display(filtered_df_spb_center)"
   ]
  },
  {
   "cell_type": "code",
   "execution_count": 96,
   "metadata": {},
   "outputs": [
    {
     "data": {
      "image/png": "[encoded data removed]",
      "text/plain": [
       "<Figure size 432x288 with 1 Axes>"
      ]
     },
     "metadata": {
      "needs_background": "light"
     },
     "output_type": "display_data"
    },
    {
     "data": {
      "image/png": "[encoded data removed]",
      "text/plain": [
       "<Figure size 432x288 with 1 Axes>"
      ]
     },
     "metadata": {
      "needs_background": "light"
     },
     "output_type": "display_data"
    },
    {
     "data": {
      "image/png": "[encoded data removed]",
      "text/plain": [
       "<Figure size 432x288 with 1 Axes>"
      ]
     },
     "metadata": {
      "needs_background": "light"
     },
     "output_type": "display_data"
    },
    {
     "data": {
      "image/png": "[encoded data removed]",
      "text/plain": [
       "<Figure size 432x288 with 1 Axes>"
      ]
     },
     "metadata": {
      "needs_background": "light"
     },
     "output_type": "display_data"
    },
    {
     "data": {
      "image/png": "[encoded data removed]",
      "text/plain": [
       "<Figure size 432x288 with 1 Axes>"
      ]
     },
     "metadata": {
      "needs_background": "light"
     },
     "output_type": "display_data"
    },
    {
     "data": {
      "image/png": "[encoded data removed]",
      "text/plain": [
       "<Figure size 432x288 with 1 Axes>"
      ]
     },
     "metadata": {
      "needs_background": "light"
     },
     "output_type": "display_data"
    },
    {
     "data": {
      "image/png": "[encoded data removed]",
      "text/plain": [
       "<Figure size 432x288 with 1 Axes>"
      ]
     },
     "metadata": {
      "needs_background": "light"
     },
     "output_type": "display_data"
    }
   ],
   "source": [
    "def plotter(column):\n",
    "    all_df = filtered_df.pivot_table(index=column, values='price_square_meter', aggfunc='median')\n",
    "    spb_df = filtered_df_spb_center.pivot_table(index=column, values='price_square_meter', aggfunc='median')\n",
    "    plt.bar(spb_df.index, spb_df['price_square_meter'], label='spb_data')\n",
    "    plt.bar(all_df.index, all_df['price_square_meter'], label='all_data')\n",
    "    plt.title(column)\n",
    "    plt.ylim([70000, 150000])\n",
    "    plt.legend()\n",
    "    plt.show()\n",
    "\n",
    "plotter('day')\n",
    "plotter('month') \n",
    "plotter('year')\n",
    "plotter('floor_category')\n",
    "plotter('rooms')\n",
    "plotter('ceiling_height') \n",
    "plotter('total_area')"
   ]
  },
  {
   "cell_type": "markdown",
   "metadata": {},
   "source": [
    "Вывод: По графикам можно сделать вывод, что зависимость цены за кв. м от изучаемых параметров у квартир в центре аналогична зависимости по всем данным. Однако, выборка квартир в центре примерно в 2-3 раза дороже. "
   ]
  },
  {
   "cell_type": "markdown",
   "metadata": {},
   "source": [
    "## Общий вывод"
   ]
  },
  {
   "cell_type": "markdown",
   "metadata": {},
   "source": [
    "На вход поступили данные от сервиса Яндекс Недвижимость — архив объявлений о продаже квартир в Санкт-Петербурге \n",
    "и соседних населённых пунктах за несколько лет. \n",
    "\n",
    "Целью проекта было научиться определять рыночную стоимость объектов недвижимости. \n",
    "Задача — установить параметры. Это позволит построить автоматизированную систему: она отследит аномалии и мошенническую деятельность.\n",
    "\n",
    "Основное исследование прошло в 5 этапов:\n",
    "\n",
    "#### Изучение общей информации о данных.\n",
    "На данном этапе мы получили общую информации о данных в таблице и увидели, с чем предстоит иметь дело.\n",
    "\n",
    "Основные проблемы, которые были выявлены: \n",
    "1. Большое количество пропущенных значений.\n",
    "2. Не все типы данных подходили для анализа.\n",
    "\n",
    "#### Предобработка данных.\n",
    "На втором этапе мы решили проблемы, выявленные на первом этапе и подготовили данные ддля дальнейшего анализа.\n",
    "А именно:\n",
    "1. Заполненили пропуски.\n",
    "2. Измененили типы данных на те, которые подойдут для дальнейшего анализа. \n",
    "3. Избавились от некорректных данных, которые не повлияют на дальнейший анализ.\n",
    "\n",
    "#### Расчет и добавление данных в таблицу.\n",
    "На данном третьем этапе мы рассчитали данные, которые нам понадобятся для анализа и добавили их в новые столбцы исходной таблицы.\n",
    "1. цену квадратного метра;\n",
    "2. день недели, месяц и год публикации объявления;\n",
    "3. этаж квартиры; варианты — первый, последний, другой;\n",
    "4. соотношение жилой и общей площади, а также отношение площади кухни к общей.\n",
    "\n",
    "#### Исследовательский анализ данных \n",
    "На 4 этапе мы провели исследовательский анализ данных, а именно:\n",
    "1. Изучили, как парметры - площадь, число комнат, высота потолков влияют на цену квадратного метра. \n",
    "2. Изучили время продажи квартиры. Выяснили, сколько обычно занимает продажа. \n",
    "3. Убрали редкие и выбивающиеся значения.\n",
    "4. Выяснили какие факторы больше всего влияют на стоимость квартиры и зависит ли цена от площади, числа комнат, удалённости от центра. \n",
    "5. Изучили зависимость цены от того, на каком этаже расположена квартира: первом, последнем или другом. Также изучили зависимость от даты размещения: дня недели, месяца и года.\n",
    "6. Выбрали 10 населённых пунктов с наибольшим числом объявлений и посчитали среднюю цену квадратного метра в этих населённых пунктах. Узнали населённые пункты с самой высокой и низкой стоимостью жилья. \n",
    "7. Выделили квартиры в центре Санкт-Петербурга и построили график, как цена зависит от удаленности от центра. \n",
    "8. Выделили сегмент квартир в центре. Проанализировали эту территорию и изучили следующие параметры: площадь, цена, число комнат, высота потолков. \n",
    "\n",
    "\n",
    "#### Общий вывод\n",
    "Последний, пятый этап посвящен обобщению результатов исследования и рекомендаций заказчику на основе проведенного анализа. \n",
    "1. Чем выше потолки, тем дороже стоимость кв. м. \n",
    "2. Самые дорогие - однокомнатные и шести комнатные квартиры. На втором месте двухкомнатные и пятикомнатные. Цена за м.кв. у трехкомнатных и четырехкомнатных самая низкая. \n",
    "3. Квартиры на первом этаже дешевле остальных. \n",
    "4. С 2015 по 2019 год квартиры только дорожали. \n",
    "5. Пик высоких цен на недвижимость приходится на август. Самые низкие цены - в мае-июне и декабре.\n",
    "6. Пик высоких цен приходится на объявления, опубликованные в среду, далее к концу недели цена за кв.м. снижается. \n",
    "7. Зависимости между общей площадтю и ценой за кв. м. выявлено не было. \n",
    "8. В среднем продажа квартиры занимает 95 дней. Можно считать, что продажи прошли очень быстро, если прошли от 1 до 45 дней.Аномально долгие продажи занимают больше 500 дней. \n",
    "9. Самое дорогое жилье в Санкт-Петербурге, на втором месте Пушкин, на третьем деревня Кудрово. Самое дешевое жилье в городе Выборг, Гатчина и Всеволожск. \n",
    "10. Квартиры с расстоянием до центра до 7 км - находятся в центральной зоне. А, если расстояние до центра больше 7 км, то это за пределами центральной зоны.\n",
    "11. Зависимость цены за кв. м от изучаемых параметров у квартир в центре аналогична зависимости по всем данным. Однако, выборка квартир в центре примерно в 2-3 раза дороже.\n",
    "\n"
   ]
  }
 ],
 "metadata": {
  "ExecuteTimeLog": [
   {
    "duration": 271,
    "start_time": "2022-03-11T03:50:01.322Z"
   },
   {
    "duration": 622,
    "start_time": "2022-03-11T03:50:04.497Z"
   },
   {
    "duration": 65,
    "start_time": "2022-03-11T03:50:05.205Z"
   },
   {
    "duration": 14,
    "start_time": "2022-03-11T03:50:16.962Z"
   },
   {
    "duration": 11,
    "start_time": "2022-03-11T03:50:50.481Z"
   },
   {
    "duration": 86,
    "start_time": "2022-03-11T03:54:08.533Z"
   },
   {
    "duration": 60,
    "start_time": "2022-03-11T03:54:33.345Z"
   },
   {
    "duration": 8,
    "start_time": "2022-03-11T03:54:41.313Z"
   },
   {
    "duration": 3,
    "start_time": "2022-03-11T03:55:45.513Z"
   },
   {
    "duration": 61,
    "start_time": "2022-03-11T03:55:45.997Z"
   },
   {
    "duration": 7,
    "start_time": "2022-03-11T03:55:46.773Z"
   },
   {
    "duration": 70,
    "start_time": "2022-03-11T03:57:08.625Z"
   },
   {
    "duration": 28,
    "start_time": "2022-03-11T03:57:09.833Z"
   },
   {
    "duration": 12,
    "start_time": "2022-03-11T03:58:51.177Z"
   },
   {
    "duration": 10,
    "start_time": "2022-03-11T04:12:44.693Z"
   },
   {
    "duration": 3,
    "start_time": "2022-03-11T04:13:35.680Z"
   },
   {
    "duration": 77,
    "start_time": "2022-03-11T04:13:35.687Z"
   },
   {
    "duration": 36,
    "start_time": "2022-03-11T04:13:35.766Z"
   },
   {
    "duration": 26,
    "start_time": "2022-03-11T04:13:35.804Z"
   },
   {
    "duration": 10,
    "start_time": "2022-03-11T04:13:35.832Z"
   },
   {
    "duration": 2445,
    "start_time": "2022-03-11T04:36:54.056Z"
   },
   {
    "duration": 1662,
    "start_time": "2022-03-11T04:37:11.547Z"
   },
   {
    "duration": 80,
    "start_time": "2022-03-11T04:39:04.684Z"
   },
   {
    "duration": 2537,
    "start_time": "2022-03-11T04:39:35.942Z"
   },
   {
    "duration": 2533,
    "start_time": "2022-03-11T04:40:04.883Z"
   },
   {
    "duration": 5480,
    "start_time": "2022-03-11T04:40:51.332Z"
   },
   {
    "duration": 221,
    "start_time": "2022-03-11T04:41:30.192Z"
   },
   {
    "duration": 233,
    "start_time": "2022-03-11T04:42:52.376Z"
   },
   {
    "duration": 4,
    "start_time": "2022-03-11T04:42:57.900Z"
   },
   {
    "duration": 2536,
    "start_time": "2022-03-11T04:43:14.519Z"
   },
   {
    "duration": 2,
    "start_time": "2022-03-11T04:43:32.624Z"
   },
   {
    "duration": 90,
    "start_time": "2022-03-11T04:43:32.631Z"
   },
   {
    "duration": 27,
    "start_time": "2022-03-11T04:43:32.723Z"
   },
   {
    "duration": 35,
    "start_time": "2022-03-11T04:43:32.752Z"
   },
   {
    "duration": 13,
    "start_time": "2022-03-11T04:43:32.789Z"
   },
   {
    "duration": 5477,
    "start_time": "2022-03-11T04:43:32.804Z"
   },
   {
    "duration": 5577,
    "start_time": "2022-03-11T04:45:50.816Z"
   },
   {
    "duration": 83,
    "start_time": "2022-03-11T04:46:48.847Z"
   },
   {
    "duration": 74,
    "start_time": "2022-03-11T04:47:00.931Z"
   },
   {
    "duration": 5710,
    "start_time": "2022-03-11T04:47:16.995Z"
   },
   {
    "duration": 76,
    "start_time": "2022-03-11T04:48:04.831Z"
   },
   {
    "duration": 121,
    "start_time": "2022-03-11T04:49:10.107Z"
   },
   {
    "duration": 2117,
    "start_time": "2022-03-11T04:51:08.631Z"
   },
   {
    "duration": 7,
    "start_time": "2022-03-11T04:52:55.511Z"
   },
   {
    "duration": 5363,
    "start_time": "2022-03-11T04:53:45.827Z"
   },
   {
    "duration": 8,
    "start_time": "2022-03-11T04:54:01.083Z"
   },
   {
    "duration": 14,
    "start_time": "2022-03-11T04:54:07.615Z"
   },
   {
    "duration": 11,
    "start_time": "2022-03-11T04:54:41.319Z"
   },
   {
    "duration": 316,
    "start_time": "2022-03-11T05:03:01.943Z"
   },
   {
    "duration": 11,
    "start_time": "2022-03-11T05:03:10.914Z"
   },
   {
    "duration": 9,
    "start_time": "2022-03-11T05:03:40.802Z"
   },
   {
    "duration": 10,
    "start_time": "2022-03-11T05:04:21.063Z"
   },
   {
    "duration": 8,
    "start_time": "2022-03-11T05:04:27.846Z"
   },
   {
    "duration": 11,
    "start_time": "2022-03-11T05:05:04.651Z"
   },
   {
    "duration": 11,
    "start_time": "2022-03-11T05:06:49.690Z"
   },
   {
    "duration": 16,
    "start_time": "2022-03-11T05:07:00.082Z"
   },
   {
    "duration": 11,
    "start_time": "2022-03-11T05:07:40.226Z"
   },
   {
    "duration": 13,
    "start_time": "2022-03-11T05:09:03.394Z"
   },
   {
    "duration": 12,
    "start_time": "2022-03-11T05:09:23.542Z"
   },
   {
    "duration": 17,
    "start_time": "2022-03-11T05:09:34.306Z"
   },
   {
    "duration": 77,
    "start_time": "2022-03-11T05:12:05.218Z"
   },
   {
    "duration": 3,
    "start_time": "2022-03-11T05:12:17.570Z"
   },
   {
    "duration": 71,
    "start_time": "2022-03-11T05:12:17.578Z"
   },
   {
    "duration": 26,
    "start_time": "2022-03-11T05:12:17.651Z"
   },
   {
    "duration": 29,
    "start_time": "2022-03-11T05:12:17.680Z"
   },
   {
    "duration": 10,
    "start_time": "2022-03-11T05:12:17.711Z"
   },
   {
    "duration": 20,
    "start_time": "2022-03-11T05:12:17.723Z"
   },
   {
    "duration": 88,
    "start_time": "2022-03-11T05:12:17.745Z"
   },
   {
    "duration": 83,
    "start_time": "2022-03-11T05:12:39.178Z"
   },
   {
    "duration": 100,
    "start_time": "2022-03-11T05:15:27.854Z"
   },
   {
    "duration": 2718,
    "start_time": "2022-03-11T05:15:34.986Z"
   },
   {
    "duration": 2555,
    "start_time": "2022-03-11T05:15:50.554Z"
   },
   {
    "duration": 5109,
    "start_time": "2022-03-11T05:16:13.910Z"
   },
   {
    "duration": 78,
    "start_time": "2022-03-11T05:17:36.802Z"
   },
   {
    "duration": 26674,
    "start_time": "2022-03-11T05:17:43.902Z"
   },
   {
    "duration": 34521,
    "start_time": "2022-03-11T05:19:23.066Z"
   },
   {
    "duration": 17364,
    "start_time": "2022-03-11T05:21:03.242Z"
   },
   {
    "duration": 3,
    "start_time": "2022-03-11T05:21:30.698Z"
   },
   {
    "duration": 132,
    "start_time": "2022-03-11T05:21:30.703Z"
   },
   {
    "duration": 28,
    "start_time": "2022-03-11T05:21:30.838Z"
   },
   {
    "duration": 24,
    "start_time": "2022-03-11T05:21:30.869Z"
   },
   {
    "duration": 11,
    "start_time": "2022-03-11T05:21:30.902Z"
   },
   {
    "duration": 21,
    "start_time": "2022-03-11T05:21:30.915Z"
   },
   {
    "duration": 17468,
    "start_time": "2022-03-11T05:21:30.939Z"
   },
   {
    "duration": 48871,
    "start_time": "2022-03-11T05:23:44.919Z"
   },
   {
    "duration": 85271,
    "start_time": "2022-03-11T05:25:53.474Z"
   },
   {
    "duration": 517,
    "start_time": "2022-03-11T05:35:55.577Z"
   },
   {
    "duration": 234,
    "start_time": "2022-03-11T05:37:55.785Z"
   },
   {
    "duration": 288,
    "start_time": "2022-03-11T05:38:48.981Z"
   },
   {
    "duration": 315,
    "start_time": "2022-03-11T05:39:05.053Z"
   },
   {
    "duration": 544,
    "start_time": "2022-03-11T05:39:12.161Z"
   },
   {
    "duration": 3,
    "start_time": "2022-03-11T06:58:49.882Z"
   },
   {
    "duration": 70,
    "start_time": "2022-03-11T06:58:49.890Z"
   },
   {
    "duration": 26,
    "start_time": "2022-03-11T06:58:49.962Z"
   },
   {
    "duration": 12,
    "start_time": "2022-03-11T06:58:50.001Z"
   },
   {
    "duration": 33,
    "start_time": "2022-03-11T06:58:50.015Z"
   },
   {
    "duration": 23,
    "start_time": "2022-03-11T06:58:50.050Z"
   },
   {
    "duration": 88827,
    "start_time": "2022-03-11T06:58:50.075Z"
   },
   {
    "duration": 603,
    "start_time": "2022-03-11T07:00:18.905Z"
   },
   {
    "duration": 9,
    "start_time": "2022-03-11T07:05:12.378Z"
   },
   {
    "duration": 13,
    "start_time": "2022-03-11T07:05:38.170Z"
   },
   {
    "duration": 23,
    "start_time": "2022-03-11T07:07:27.311Z"
   },
   {
    "duration": 81,
    "start_time": "2022-03-11T07:12:51.090Z"
   },
   {
    "duration": 8,
    "start_time": "2022-03-11T07:12:55.495Z"
   },
   {
    "duration": 102,
    "start_time": "2022-03-11T07:13:01.318Z"
   },
   {
    "duration": 6,
    "start_time": "2022-03-11T07:14:53.938Z"
   },
   {
    "duration": 7,
    "start_time": "2022-03-11T07:15:31.255Z"
   },
   {
    "duration": 5390,
    "start_time": "2022-03-11T07:18:30.374Z"
   },
   {
    "duration": 26,
    "start_time": "2022-03-11T07:19:26.609Z"
   },
   {
    "duration": 64,
    "start_time": "2022-03-11T07:19:31.382Z"
   },
   {
    "duration": 38,
    "start_time": "2022-03-11T07:19:45.354Z"
   },
   {
    "duration": 734,
    "start_time": "2022-03-11T07:20:53.257Z"
   },
   {
    "duration": 574,
    "start_time": "2022-03-11T07:21:00.661Z"
   },
   {
    "duration": 689,
    "start_time": "2022-03-11T07:21:05.493Z"
   },
   {
    "duration": 554,
    "start_time": "2022-03-11T07:21:23.181Z"
   },
   {
    "duration": 564,
    "start_time": "2022-03-11T07:22:01.790Z"
   },
   {
    "duration": 251,
    "start_time": "2022-03-11T08:25:21.650Z"
   },
   {
    "duration": 184,
    "start_time": "2022-03-11T08:25:58.499Z"
   },
   {
    "duration": 219,
    "start_time": "2022-03-11T08:26:15.026Z"
   },
   {
    "duration": 248,
    "start_time": "2022-03-11T08:26:34.954Z"
   },
   {
    "duration": 206,
    "start_time": "2022-03-11T08:27:04.018Z"
   },
   {
    "duration": 243,
    "start_time": "2022-03-11T08:28:13.142Z"
   },
   {
    "duration": 209,
    "start_time": "2022-03-11T08:28:26.282Z"
   },
   {
    "duration": 313,
    "start_time": "2022-03-11T08:28:37.162Z"
   },
   {
    "duration": 312,
    "start_time": "2022-03-11T08:28:42.222Z"
   },
   {
    "duration": 294,
    "start_time": "2022-03-11T08:28:47.646Z"
   },
   {
    "duration": 316,
    "start_time": "2022-03-11T08:28:54.659Z"
   },
   {
    "duration": 392,
    "start_time": "2022-03-11T08:29:11.930Z"
   },
   {
    "duration": 295,
    "start_time": "2022-03-11T08:29:49.014Z"
   },
   {
    "duration": 193,
    "start_time": "2022-03-11T08:30:16.310Z"
   },
   {
    "duration": 263,
    "start_time": "2022-03-11T10:00:39.566Z"
   },
   {
    "duration": 409,
    "start_time": "2022-03-11T10:02:06.466Z"
   },
   {
    "duration": 619,
    "start_time": "2022-03-11T10:02:12.362Z"
   },
   {
    "duration": 310,
    "start_time": "2022-03-11T10:02:17.178Z"
   },
   {
    "duration": 398,
    "start_time": "2022-03-11T10:02:30.598Z"
   },
   {
    "duration": 290,
    "start_time": "2022-03-11T10:02:39.478Z"
   },
   {
    "duration": 407,
    "start_time": "2022-03-11T10:02:44.555Z"
   },
   {
    "duration": 407,
    "start_time": "2022-03-11T10:03:23.755Z"
   },
   {
    "duration": 234,
    "start_time": "2022-03-11T10:03:31.515Z"
   },
   {
    "duration": 191,
    "start_time": "2022-03-11T10:03:48.811Z"
   },
   {
    "duration": 224,
    "start_time": "2022-03-11T10:03:53.518Z"
   },
   {
    "duration": 265,
    "start_time": "2022-03-11T10:03:57.858Z"
   },
   {
    "duration": 241,
    "start_time": "2022-03-11T10:04:01.995Z"
   },
   {
    "duration": 226,
    "start_time": "2022-03-11T10:04:22.503Z"
   },
   {
    "duration": 284,
    "start_time": "2022-03-11T10:04:28.171Z"
   },
   {
    "duration": 375,
    "start_time": "2022-03-11T10:04:33.174Z"
   },
   {
    "duration": 295,
    "start_time": "2022-03-11T10:05:03.115Z"
   },
   {
    "duration": 217,
    "start_time": "2022-03-11T10:05:09.508Z"
   },
   {
    "duration": 381,
    "start_time": "2022-03-11T10:05:15.910Z"
   },
   {
    "duration": 259,
    "start_time": "2022-03-11T10:06:22.350Z"
   },
   {
    "duration": 364,
    "start_time": "2022-03-11T10:06:27.415Z"
   },
   {
    "duration": 3,
    "start_time": "2022-03-11T10:07:10.894Z"
   },
   {
    "duration": 97,
    "start_time": "2022-03-11T10:07:10.900Z"
   },
   {
    "duration": 40,
    "start_time": "2022-03-11T10:07:11.000Z"
   },
   {
    "duration": 15,
    "start_time": "2022-03-11T10:07:11.043Z"
   },
   {
    "duration": 41,
    "start_time": "2022-03-11T10:07:11.060Z"
   },
   {
    "duration": 29,
    "start_time": "2022-03-11T10:07:11.104Z"
   },
   {
    "duration": -133,
    "start_time": "2022-03-11T10:08:00.148Z"
   },
   {
    "duration": -134,
    "start_time": "2022-03-11T10:08:00.151Z"
   },
   {
    "duration": -135,
    "start_time": "2022-03-11T10:08:00.153Z"
   },
   {
    "duration": -136,
    "start_time": "2022-03-11T10:08:00.156Z"
   },
   {
    "duration": -137,
    "start_time": "2022-03-11T10:08:00.158Z"
   },
   {
    "duration": -136,
    "start_time": "2022-03-11T10:08:00.159Z"
   },
   {
    "duration": -137,
    "start_time": "2022-03-11T10:08:00.162Z"
   },
   {
    "duration": -137,
    "start_time": "2022-03-11T10:08:00.164Z"
   },
   {
    "duration": -137,
    "start_time": "2022-03-11T10:08:00.166Z"
   },
   {
    "duration": -138,
    "start_time": "2022-03-11T10:08:00.168Z"
   },
   {
    "duration": -137,
    "start_time": "2022-03-11T10:08:00.169Z"
   },
   {
    "duration": -137,
    "start_time": "2022-03-11T10:08:00.171Z"
   },
   {
    "duration": -164,
    "start_time": "2022-03-11T10:08:00.199Z"
   },
   {
    "duration": -165,
    "start_time": "2022-03-11T10:08:00.202Z"
   },
   {
    "duration": -164,
    "start_time": "2022-03-11T10:08:00.203Z"
   },
   {
    "duration": -166,
    "start_time": "2022-03-11T10:08:00.207Z"
   },
   {
    "duration": -166,
    "start_time": "2022-03-11T10:08:00.208Z"
   },
   {
    "duration": -166,
    "start_time": "2022-03-11T10:08:00.210Z"
   },
   {
    "duration": 3,
    "start_time": "2022-03-11T10:08:02.126Z"
   },
   {
    "duration": 79,
    "start_time": "2022-03-11T10:08:03.658Z"
   },
   {
    "duration": 32,
    "start_time": "2022-03-11T10:08:04.302Z"
   },
   {
    "duration": 12,
    "start_time": "2022-03-11T10:08:08.482Z"
   },
   {
    "duration": 11,
    "start_time": "2022-03-11T10:08:15.686Z"
   },
   {
    "duration": 19,
    "start_time": "2022-03-11T10:08:18.546Z"
   },
   {
    "duration": 92277,
    "start_time": "2022-03-11T10:08:20.982Z"
   },
   {
    "duration": 341,
    "start_time": "2022-03-11T10:10:01.238Z"
   },
   {
    "duration": 9,
    "start_time": "2022-03-11T10:10:05.822Z"
   },
   {
    "duration": 13,
    "start_time": "2022-03-11T10:10:17.154Z"
   },
   {
    "duration": 23,
    "start_time": "2022-03-11T10:10:24.134Z"
   },
   {
    "duration": 8,
    "start_time": "2022-03-11T10:10:26.434Z"
   },
   {
    "duration": 26,
    "start_time": "2022-03-11T10:10:28.330Z"
   },
   {
    "duration": 586,
    "start_time": "2022-03-11T10:10:29.282Z"
   },
   {
    "duration": 367,
    "start_time": "2022-03-11T10:10:35.803Z"
   },
   {
    "duration": 759,
    "start_time": "2022-03-11T10:11:04.482Z"
   },
   {
    "duration": 383,
    "start_time": "2022-03-11T10:11:09.546Z"
   },
   {
    "duration": 355,
    "start_time": "2022-03-11T10:11:21.718Z"
   },
   {
    "duration": 417,
    "start_time": "2022-03-11T10:11:31.102Z"
   },
   {
    "duration": 203,
    "start_time": "2022-03-11T10:11:47.098Z"
   },
   {
    "duration": 207,
    "start_time": "2022-03-11T10:12:04.306Z"
   },
   {
    "duration": 207,
    "start_time": "2022-03-11T10:12:07.810Z"
   },
   {
    "duration": 197,
    "start_time": "2022-03-11T10:12:10.114Z"
   },
   {
    "duration": 199,
    "start_time": "2022-03-11T10:12:13.086Z"
   },
   {
    "duration": 208,
    "start_time": "2022-03-11T10:12:15.214Z"
   },
   {
    "duration": 209,
    "start_time": "2022-03-11T10:12:18.834Z"
   },
   {
    "duration": 189,
    "start_time": "2022-03-11T10:12:25.850Z"
   },
   {
    "duration": 189,
    "start_time": "2022-03-11T10:12:32.330Z"
   },
   {
    "duration": 336,
    "start_time": "2022-03-11T10:12:49.646Z"
   },
   {
    "duration": 200,
    "start_time": "2022-03-11T10:12:54.846Z"
   },
   {
    "duration": 225,
    "start_time": "2022-03-11T10:13:00.770Z"
   },
   {
    "duration": 389,
    "start_time": "2022-03-11T10:13:03.802Z"
   },
   {
    "duration": 363,
    "start_time": "2022-03-11T10:13:16.290Z"
   },
   {
    "duration": 235,
    "start_time": "2022-03-11T10:13:20.978Z"
   },
   {
    "duration": 234,
    "start_time": "2022-03-11T10:13:40.106Z"
   },
   {
    "duration": 214,
    "start_time": "2022-03-11T10:13:56.538Z"
   },
   {
    "duration": 233,
    "start_time": "2022-03-11T10:14:02.590Z"
   },
   {
    "duration": 235,
    "start_time": "2022-03-11T10:14:06.182Z"
   },
   {
    "duration": 244,
    "start_time": "2022-03-11T10:14:09.797Z"
   },
   {
    "duration": 223,
    "start_time": "2022-03-11T10:14:17.778Z"
   },
   {
    "duration": 241,
    "start_time": "2022-03-11T10:14:23.950Z"
   },
   {
    "duration": 355,
    "start_time": "2022-03-11T10:14:31.458Z"
   },
   {
    "duration": 176,
    "start_time": "2022-03-11T10:14:37.226Z"
   },
   {
    "duration": 292,
    "start_time": "2022-03-11T10:14:43.146Z"
   },
   {
    "duration": 200,
    "start_time": "2022-03-11T10:14:52.586Z"
   },
   {
    "duration": 407,
    "start_time": "2022-03-11T10:15:00.946Z"
   },
   {
    "duration": 74,
    "start_time": "2022-03-11T10:16:15.086Z"
   },
   {
    "duration": 623,
    "start_time": "2022-03-11T10:32:42.063Z"
   },
   {
    "duration": 1138,
    "start_time": "2022-03-11T10:32:53.810Z"
   },
   {
    "duration": 365,
    "start_time": "2022-03-11T10:33:03.191Z"
   },
   {
    "duration": 1203,
    "start_time": "2022-03-11T10:33:09.075Z"
   },
   {
    "duration": 217,
    "start_time": "2022-03-11T10:33:30.783Z"
   },
   {
    "duration": 295,
    "start_time": "2022-03-13T05:22:07.143Z"
   },
   {
    "duration": 251,
    "start_time": "2022-03-13T05:22:15.579Z"
   },
   {
    "duration": 701,
    "start_time": "2022-03-13T05:22:42.247Z"
   },
   {
    "duration": 73,
    "start_time": "2022-03-13T05:22:42.950Z"
   },
   {
    "duration": 31,
    "start_time": "2022-03-13T05:22:43.025Z"
   },
   {
    "duration": 25,
    "start_time": "2022-03-13T05:22:43.058Z"
   },
   {
    "duration": 10,
    "start_time": "2022-03-13T05:22:43.085Z"
   },
   {
    "duration": 23,
    "start_time": "2022-03-13T05:22:43.097Z"
   },
   {
    "duration": 79292,
    "start_time": "2022-03-13T05:22:43.122Z"
   },
   {
    "duration": 353,
    "start_time": "2022-03-13T05:24:02.417Z"
   },
   {
    "duration": 14,
    "start_time": "2022-03-13T05:24:02.777Z"
   },
   {
    "duration": 12,
    "start_time": "2022-03-13T05:24:02.793Z"
   },
   {
    "duration": 26,
    "start_time": "2022-03-13T05:24:02.807Z"
   },
   {
    "duration": 7,
    "start_time": "2022-03-13T05:24:02.835Z"
   },
   {
    "duration": 55,
    "start_time": "2022-03-13T05:24:02.844Z"
   },
   {
    "duration": 592,
    "start_time": "2022-03-13T05:24:02.901Z"
   },
   {
    "duration": 389,
    "start_time": "2022-03-13T05:24:03.495Z"
   },
   {
    "duration": 457,
    "start_time": "2022-03-13T05:24:03.886Z"
   },
   {
    "duration": 388,
    "start_time": "2022-03-13T05:24:04.345Z"
   },
   {
    "duration": 222,
    "start_time": "2022-03-13T05:24:04.734Z"
   },
   {
    "duration": 1100,
    "start_time": "2022-03-13T05:24:04.957Z"
   },
   {
    "duration": 457,
    "start_time": "2022-03-13T05:24:49.772Z"
   },
   {
    "duration": 466,
    "start_time": "2022-03-13T05:25:10.481Z"
   },
   {
    "duration": 418,
    "start_time": "2022-03-13T05:26:12.142Z"
   },
   {
    "duration": 261,
    "start_time": "2022-03-13T05:26:36.071Z"
   },
   {
    "duration": 245,
    "start_time": "2022-03-13T05:28:06.990Z"
   },
   {
    "duration": 211,
    "start_time": "2022-03-13T05:34:11.494Z"
   },
   {
    "duration": 241,
    "start_time": "2022-03-13T05:34:20.026Z"
   },
   {
    "duration": 262,
    "start_time": "2022-03-13T05:38:08.110Z"
   },
   {
    "duration": 28,
    "start_time": "2022-03-13T05:38:15.647Z"
   },
   {
    "duration": 176,
    "start_time": "2022-03-13T05:38:16.976Z"
   },
   {
    "duration": 150,
    "start_time": "2022-03-13T05:38:44.545Z"
   },
   {
    "duration": 156,
    "start_time": "2022-03-13T05:39:53.010Z"
   },
   {
    "duration": 166,
    "start_time": "2022-03-13T05:40:02.361Z"
   },
   {
    "duration": 35,
    "start_time": "2022-03-13T05:40:27.943Z"
   },
   {
    "duration": 163,
    "start_time": "2022-03-13T05:40:31.847Z"
   },
   {
    "duration": 46,
    "start_time": "2022-03-13T05:41:21.027Z"
   },
   {
    "duration": 151,
    "start_time": "2022-03-13T05:41:21.797Z"
   },
   {
    "duration": 163,
    "start_time": "2022-03-13T05:41:30.109Z"
   },
   {
    "duration": 163,
    "start_time": "2022-03-13T05:42:03.059Z"
   },
   {
    "duration": 159,
    "start_time": "2022-03-13T05:42:45.177Z"
   },
   {
    "duration": 143,
    "start_time": "2022-03-13T05:42:50.089Z"
   },
   {
    "duration": 242,
    "start_time": "2022-03-13T05:43:07.524Z"
   },
   {
    "duration": 143,
    "start_time": "2022-03-13T05:45:22.911Z"
   },
   {
    "duration": 147,
    "start_time": "2022-03-13T05:45:32.556Z"
   },
   {
    "duration": 147,
    "start_time": "2022-03-13T05:45:38.753Z"
   },
   {
    "duration": 148,
    "start_time": "2022-03-13T05:45:46.916Z"
   },
   {
    "duration": 147,
    "start_time": "2022-03-13T05:45:56.455Z"
   },
   {
    "duration": 148,
    "start_time": "2022-03-13T05:45:58.188Z"
   },
   {
    "duration": 174,
    "start_time": "2022-03-13T05:46:00.704Z"
   },
   {
    "duration": 145,
    "start_time": "2022-03-13T05:46:41.823Z"
   },
   {
    "duration": 153,
    "start_time": "2022-03-13T05:46:51.357Z"
   },
   {
    "duration": 169,
    "start_time": "2022-03-13T05:47:12.288Z"
   },
   {
    "duration": 28,
    "start_time": "2022-03-13T05:52:18.517Z"
   },
   {
    "duration": 12,
    "start_time": "2022-03-13T05:52:26.875Z"
   },
   {
    "duration": 14,
    "start_time": "2022-03-13T05:52:37.717Z"
   },
   {
    "duration": 13,
    "start_time": "2022-03-13T05:52:51.633Z"
   },
   {
    "duration": 13,
    "start_time": "2022-03-13T05:53:06.627Z"
   },
   {
    "duration": 106,
    "start_time": "2022-03-13T05:58:46.410Z"
   },
   {
    "duration": 172,
    "start_time": "2022-03-13T06:01:00.072Z"
   },
   {
    "duration": 9,
    "start_time": "2022-03-13T06:03:41.036Z"
   },
   {
    "duration": 9,
    "start_time": "2022-03-13T06:03:45.484Z"
   },
   {
    "duration": 317,
    "start_time": "2022-03-13T06:17:45.178Z"
   },
   {
    "duration": 12,
    "start_time": "2022-03-13T06:18:22.185Z"
   },
   {
    "duration": 15,
    "start_time": "2022-03-13T06:18:33.257Z"
   },
   {
    "duration": 13,
    "start_time": "2022-03-13T06:22:46.928Z"
   },
   {
    "duration": 14,
    "start_time": "2022-03-13T06:22:49.464Z"
   },
   {
    "duration": 15,
    "start_time": "2022-03-13T06:23:33.287Z"
   },
   {
    "duration": 43,
    "start_time": "2022-03-13T06:23:34.066Z"
   },
   {
    "duration": 91,
    "start_time": "2022-03-13T06:26:13.154Z"
   },
   {
    "duration": 497,
    "start_time": "2022-03-14T03:14:39.199Z"
   },
   {
    "duration": 739,
    "start_time": "2022-03-14T03:14:46.510Z"
   },
   {
    "duration": 85,
    "start_time": "2022-03-14T03:14:47.251Z"
   },
   {
    "duration": 31,
    "start_time": "2022-03-14T03:14:47.339Z"
   },
   {
    "duration": 33,
    "start_time": "2022-03-14T03:14:47.373Z"
   },
   {
    "duration": 11,
    "start_time": "2022-03-14T03:14:47.408Z"
   },
   {
    "duration": 27,
    "start_time": "2022-03-14T03:14:47.421Z"
   },
   {
    "duration": 86346,
    "start_time": "2022-03-14T03:14:47.450Z"
   },
   {
    "duration": 330,
    "start_time": "2022-03-14T03:16:13.799Z"
   },
   {
    "duration": 11,
    "start_time": "2022-03-14T03:16:14.132Z"
   },
   {
    "duration": 13,
    "start_time": "2022-03-14T03:16:14.145Z"
   },
   {
    "duration": 57,
    "start_time": "2022-03-14T03:16:14.160Z"
   },
   {
    "duration": 11,
    "start_time": "2022-03-14T03:16:14.219Z"
   },
   {
    "duration": 27,
    "start_time": "2022-03-14T03:16:14.232Z"
   },
   {
    "duration": 592,
    "start_time": "2022-03-14T03:16:14.260Z"
   },
   {
    "duration": 371,
    "start_time": "2022-03-14T03:16:14.854Z"
   },
   {
    "duration": 428,
    "start_time": "2022-03-14T03:16:15.227Z"
   },
   {
    "duration": 359,
    "start_time": "2022-03-14T03:16:15.656Z"
   },
   {
    "duration": 234,
    "start_time": "2022-03-14T03:16:16.018Z"
   },
   {
    "duration": 60,
    "start_time": "2022-03-14T03:16:16.254Z"
   },
   {
    "duration": 162,
    "start_time": "2022-03-14T03:16:16.317Z"
   },
   {
    "duration": 168,
    "start_time": "2022-03-14T03:16:16.481Z"
   },
   {
    "duration": 163,
    "start_time": "2022-03-14T03:16:16.651Z"
   },
   {
    "duration": 162,
    "start_time": "2022-03-14T03:16:16.817Z"
   },
   {
    "duration": 24,
    "start_time": "2022-03-14T03:16:16.981Z"
   },
   {
    "duration": 16,
    "start_time": "2022-03-14T03:16:17.007Z"
   },
   {
    "duration": 15,
    "start_time": "2022-03-14T03:16:17.025Z"
   },
   {
    "duration": 15,
    "start_time": "2022-03-14T03:16:17.042Z"
   },
   {
    "duration": 172,
    "start_time": "2022-03-14T03:16:17.102Z"
   },
   {
    "duration": 12,
    "start_time": "2022-03-14T03:16:17.277Z"
   },
   {
    "duration": 19,
    "start_time": "2022-03-14T03:16:17.302Z"
   },
   {
    "duration": 41,
    "start_time": "2022-03-14T03:16:17.323Z"
   },
   {
    "duration": 237,
    "start_time": "2022-03-14T03:16:17.366Z"
   },
   {
    "duration": 404,
    "start_time": "2022-03-14T03:17:06.219Z"
   },
   {
    "duration": 318,
    "start_time": "2022-03-14T03:17:32.143Z"
   },
   {
    "duration": 200,
    "start_time": "2022-03-14T03:18:14.331Z"
   },
   {
    "duration": 170,
    "start_time": "2022-03-14T03:18:44.563Z"
   },
   {
    "duration": 194,
    "start_time": "2022-03-14T03:21:21.454Z"
   },
   {
    "duration": 206,
    "start_time": "2022-03-14T03:24:03.082Z"
   },
   {
    "duration": 313,
    "start_time": "2022-03-14T03:31:43.315Z"
   },
   {
    "duration": 203,
    "start_time": "2022-03-14T03:32:20.387Z"
   },
   {
    "duration": 188,
    "start_time": "2022-03-14T03:32:50.750Z"
   },
   {
    "duration": 172,
    "start_time": "2022-03-14T03:33:02.370Z"
   },
   {
    "duration": 222,
    "start_time": "2022-03-14T03:33:07.330Z"
   },
   {
    "duration": 171,
    "start_time": "2022-03-14T03:33:22.459Z"
   },
   {
    "duration": 221,
    "start_time": "2022-03-14T03:34:54.190Z"
   },
   {
    "duration": 84,
    "start_time": "2022-03-14T03:35:45.854Z"
   },
   {
    "duration": 8,
    "start_time": "2022-03-14T03:38:35.526Z"
   },
   {
    "duration": 8,
    "start_time": "2022-03-14T03:38:54.126Z"
   },
   {
    "duration": 9,
    "start_time": "2022-03-14T03:39:19.150Z"
   },
   {
    "duration": 123,
    "start_time": "2022-03-14T03:42:26.042Z"
   },
   {
    "duration": 19,
    "start_time": "2022-03-14T03:50:50.237Z"
   },
   {
    "duration": 26,
    "start_time": "2022-03-14T03:51:08.845Z"
   },
   {
    "duration": 961,
    "start_time": "2022-03-14T03:55:13.766Z"
   },
   {
    "duration": 19,
    "start_time": "2022-03-14T03:55:23.989Z"
   },
   {
    "duration": 25,
    "start_time": "2022-03-14T03:55:49.282Z"
   },
   {
    "duration": 247,
    "start_time": "2022-03-14T03:56:12.197Z"
   },
   {
    "duration": 28,
    "start_time": "2022-03-14T03:56:39.721Z"
   },
   {
    "duration": 251,
    "start_time": "2022-03-14T03:58:36.113Z"
   },
   {
    "duration": 30,
    "start_time": "2022-03-14T03:58:59.941Z"
   },
   {
    "duration": 30,
    "start_time": "2022-03-14T03:59:13.941Z"
   },
   {
    "duration": 26,
    "start_time": "2022-03-14T03:59:53.234Z"
   },
   {
    "duration": 25,
    "start_time": "2022-03-14T04:00:32.441Z"
   },
   {
    "duration": 3,
    "start_time": "2022-03-14T04:04:52.941Z"
   },
   {
    "duration": 212,
    "start_time": "2022-03-14T04:15:32.125Z"
   },
   {
    "duration": 1027,
    "start_time": "2022-03-14T04:37:05.568Z"
   },
   {
    "duration": 3,
    "start_time": "2022-03-14T04:39:53.864Z"
   },
   {
    "duration": 37,
    "start_time": "2022-03-14T04:39:53.869Z"
   },
   {
    "duration": 97,
    "start_time": "2022-03-14T04:39:53.909Z"
   },
   {
    "duration": 28,
    "start_time": "2022-03-14T04:39:54.008Z"
   },
   {
    "duration": 33,
    "start_time": "2022-03-14T04:39:54.038Z"
   },
   {
    "duration": 17,
    "start_time": "2022-03-14T04:39:54.073Z"
   },
   {
    "duration": 42,
    "start_time": "2022-03-14T04:39:54.093Z"
   },
   {
    "duration": 84702,
    "start_time": "2022-03-14T04:39:54.138Z"
   },
   {
    "duration": 325,
    "start_time": "2022-03-14T04:41:18.841Z"
   },
   {
    "duration": 9,
    "start_time": "2022-03-14T04:41:19.167Z"
   },
   {
    "duration": 28,
    "start_time": "2022-03-14T04:41:19.178Z"
   },
   {
    "duration": 22,
    "start_time": "2022-03-14T04:41:19.208Z"
   },
   {
    "duration": 6,
    "start_time": "2022-03-14T04:41:19.232Z"
   },
   {
    "duration": 27,
    "start_time": "2022-03-14T04:41:19.240Z"
   },
   {
    "duration": 590,
    "start_time": "2022-03-14T04:41:19.269Z"
   },
   {
    "duration": 353,
    "start_time": "2022-03-14T04:41:19.861Z"
   },
   {
    "duration": 363,
    "start_time": "2022-03-14T04:41:20.216Z"
   },
   {
    "duration": 441,
    "start_time": "2022-03-14T04:41:20.581Z"
   },
   {
    "duration": 215,
    "start_time": "2022-03-14T04:41:21.025Z"
   },
   {
    "duration": 59,
    "start_time": "2022-03-14T04:41:21.242Z"
   },
   {
    "duration": 144,
    "start_time": "2022-03-14T04:41:21.304Z"
   },
   {
    "duration": 155,
    "start_time": "2022-03-14T04:41:21.451Z"
   },
   {
    "duration": 167,
    "start_time": "2022-03-14T04:41:21.608Z"
   },
   {
    "duration": 167,
    "start_time": "2022-03-14T04:41:21.777Z"
   },
   {
    "duration": 13,
    "start_time": "2022-03-14T04:41:21.946Z"
   },
   {
    "duration": 13,
    "start_time": "2022-03-14T04:41:21.961Z"
   },
   {
    "duration": 34,
    "start_time": "2022-03-14T04:41:21.976Z"
   },
   {
    "duration": 16,
    "start_time": "2022-03-14T04:41:22.012Z"
   },
   {
    "duration": 184,
    "start_time": "2022-03-14T04:41:22.030Z"
   },
   {
    "duration": 12,
    "start_time": "2022-03-14T04:41:22.216Z"
   },
   {
    "duration": 16,
    "start_time": "2022-03-14T04:41:22.230Z"
   },
   {
    "duration": 73,
    "start_time": "2022-03-14T04:41:22.248Z"
   },
   {
    "duration": 226,
    "start_time": "2022-03-14T04:41:22.323Z"
   },
   {
    "duration": 213,
    "start_time": "2022-03-14T04:41:22.552Z"
   },
   {
    "duration": 212,
    "start_time": "2022-03-14T04:41:22.767Z"
   },
   {
    "duration": 188,
    "start_time": "2022-03-14T04:41:22.981Z"
   },
   {
    "duration": 208,
    "start_time": "2022-03-14T04:41:23.171Z"
   },
   {
    "duration": 185,
    "start_time": "2022-03-14T04:41:23.381Z"
   },
   {
    "duration": 193,
    "start_time": "2022-03-14T04:41:23.568Z"
   },
   {
    "duration": 39,
    "start_time": "2022-03-14T04:41:23.763Z"
   },
   {
    "duration": 213,
    "start_time": "2022-03-14T04:41:23.804Z"
   },
   {
    "duration": 959,
    "start_time": "2022-03-14T04:41:24.018Z"
   },
   {
    "duration": 127,
    "start_time": "2022-03-14T09:45:21.725Z"
   },
   {
    "duration": 335,
    "start_time": "2022-03-14T10:00:50.096Z"
   },
   {
    "duration": 3,
    "start_time": "2022-03-14T10:00:58.724Z"
   },
   {
    "duration": 12,
    "start_time": "2022-03-14T10:00:58.729Z"
   },
   {
    "duration": 82,
    "start_time": "2022-03-14T10:00:58.744Z"
   },
   {
    "duration": 28,
    "start_time": "2022-03-14T10:00:58.828Z"
   },
   {
    "duration": 12,
    "start_time": "2022-03-14T10:00:58.859Z"
   },
   {
    "duration": 22,
    "start_time": "2022-03-14T10:00:58.902Z"
   },
   {
    "duration": 20,
    "start_time": "2022-03-14T10:00:58.927Z"
   },
   {
    "duration": 86680,
    "start_time": "2022-03-14T10:00:58.950Z"
   },
   {
    "duration": 326,
    "start_time": "2022-03-14T10:02:25.632Z"
   },
   {
    "duration": 9,
    "start_time": "2022-03-14T10:02:25.960Z"
   },
   {
    "duration": 30,
    "start_time": "2022-03-14T10:02:25.971Z"
   },
   {
    "duration": 23,
    "start_time": "2022-03-14T10:02:26.004Z"
   },
   {
    "duration": 7,
    "start_time": "2022-03-14T10:02:26.029Z"
   },
   {
    "duration": 34,
    "start_time": "2022-03-14T10:02:26.037Z"
   },
   {
    "duration": 597,
    "start_time": "2022-03-14T10:02:26.073Z"
   },
   {
    "duration": 363,
    "start_time": "2022-03-14T10:02:26.672Z"
   },
   {
    "duration": 477,
    "start_time": "2022-03-14T10:02:27.037Z"
   },
   {
    "duration": 356,
    "start_time": "2022-03-14T10:02:27.516Z"
   },
   {
    "duration": 234,
    "start_time": "2022-03-14T10:02:27.878Z"
   },
   {
    "duration": 47,
    "start_time": "2022-03-14T10:02:28.115Z"
   },
   {
    "duration": 170,
    "start_time": "2022-03-14T10:02:28.164Z"
   },
   {
    "duration": 169,
    "start_time": "2022-03-14T10:02:28.336Z"
   },
   {
    "duration": 311,
    "start_time": "2022-03-14T10:02:28.507Z"
   },
   {
    "duration": 160,
    "start_time": "2022-03-14T10:02:28.819Z"
   },
   {
    "duration": 26,
    "start_time": "2022-03-14T10:02:28.981Z"
   },
   {
    "duration": 12,
    "start_time": "2022-03-14T10:02:29.009Z"
   },
   {
    "duration": 15,
    "start_time": "2022-03-14T10:02:29.023Z"
   },
   {
    "duration": 14,
    "start_time": "2022-03-14T10:02:29.039Z"
   },
   {
    "duration": 187,
    "start_time": "2022-03-14T10:02:29.055Z"
   },
   {
    "duration": 10,
    "start_time": "2022-03-14T10:02:29.244Z"
   },
   {
    "duration": 15,
    "start_time": "2022-03-14T10:02:29.255Z"
   },
   {
    "duration": 65,
    "start_time": "2022-03-14T10:02:29.272Z"
   },
   {
    "duration": 228,
    "start_time": "2022-03-14T10:02:29.339Z"
   },
   {
    "duration": 212,
    "start_time": "2022-03-14T10:02:29.569Z"
   },
   {
    "duration": 215,
    "start_time": "2022-03-14T10:02:29.783Z"
   },
   {
    "duration": 202,
    "start_time": "2022-03-14T10:02:30.001Z"
   },
   {
    "duration": 223,
    "start_time": "2022-03-14T10:02:30.205Z"
   },
   {
    "duration": 201,
    "start_time": "2022-03-14T10:02:30.429Z"
   },
   {
    "duration": 209,
    "start_time": "2022-03-14T10:02:30.632Z"
   },
   {
    "duration": 23,
    "start_time": "2022-03-14T10:02:30.843Z"
   },
   {
    "duration": 265,
    "start_time": "2022-03-14T10:02:30.868Z"
   },
   {
    "duration": 286,
    "start_time": "2022-03-14T10:02:31.135Z"
   },
   {
    "duration": 893,
    "start_time": "2022-03-14T10:06:22.111Z"
   },
   {
    "duration": 102,
    "start_time": "2022-03-14T10:07:24.015Z"
   },
   {
    "duration": 45,
    "start_time": "2022-03-14T10:07:33.440Z"
   },
   {
    "duration": 39,
    "start_time": "2022-03-14T10:07:48.756Z"
   },
   {
    "duration": 898,
    "start_time": "2022-03-14T10:07:55.785Z"
   },
   {
    "duration": 4,
    "start_time": "2022-03-15T05:36:20.934Z"
   },
   {
    "duration": 845,
    "start_time": "2022-03-15T05:36:20.941Z"
   },
   {
    "duration": 87,
    "start_time": "2022-03-15T05:36:21.789Z"
   },
   {
    "duration": 73,
    "start_time": "2022-03-15T05:36:21.880Z"
   },
   {
    "duration": 21,
    "start_time": "2022-03-15T05:36:21.956Z"
   },
   {
    "duration": 15,
    "start_time": "2022-03-15T05:36:21.980Z"
   },
   {
    "duration": 66,
    "start_time": "2022-03-15T05:36:21.999Z"
   },
   {
    "duration": 115852,
    "start_time": "2022-03-15T05:36:22.068Z"
   },
   {
    "duration": 467,
    "start_time": "2022-03-15T05:38:17.923Z"
   },
   {
    "duration": 15,
    "start_time": "2022-03-15T05:38:18.393Z"
   },
   {
    "duration": 49,
    "start_time": "2022-03-15T05:38:18.410Z"
   },
   {
    "duration": 32,
    "start_time": "2022-03-15T05:38:18.461Z"
   },
   {
    "duration": 11,
    "start_time": "2022-03-15T05:38:18.496Z"
   },
   {
    "duration": 65,
    "start_time": "2022-03-15T05:38:18.510Z"
   },
   {
    "duration": 893,
    "start_time": "2022-03-15T05:38:18.577Z"
   },
   {
    "duration": 526,
    "start_time": "2022-03-15T05:38:19.472Z"
   },
   {
    "duration": 632,
    "start_time": "2022-03-15T05:38:20.001Z"
   },
   {
    "duration": 520,
    "start_time": "2022-03-15T05:38:20.635Z"
   },
   {
    "duration": 334,
    "start_time": "2022-03-15T05:38:21.160Z"
   },
   {
    "duration": 81,
    "start_time": "2022-03-15T05:38:21.500Z"
   },
   {
    "duration": 292,
    "start_time": "2022-03-15T05:38:21.586Z"
   },
   {
    "duration": 340,
    "start_time": "2022-03-15T05:38:21.881Z"
   },
   {
    "duration": 242,
    "start_time": "2022-03-15T05:38:22.224Z"
   },
   {
    "duration": 237,
    "start_time": "2022-03-15T05:38:22.468Z"
   },
   {
    "duration": 18,
    "start_time": "2022-03-15T05:38:22.707Z"
   },
   {
    "duration": 37,
    "start_time": "2022-03-15T05:38:22.727Z"
   },
   {
    "duration": 16,
    "start_time": "2022-03-15T05:38:22.766Z"
   },
   {
    "duration": 16,
    "start_time": "2022-03-15T05:38:22.784Z"
   },
   {
    "duration": 292,
    "start_time": "2022-03-15T05:38:22.802Z"
   },
   {
    "duration": 13,
    "start_time": "2022-03-15T05:38:23.096Z"
   },
   {
    "duration": 45,
    "start_time": "2022-03-15T05:38:23.111Z"
   },
   {
    "duration": 58,
    "start_time": "2022-03-15T05:38:23.158Z"
   },
   {
    "duration": 338,
    "start_time": "2022-03-15T05:38:23.218Z"
   },
   {
    "duration": 382,
    "start_time": "2022-03-15T05:38:23.559Z"
   },
   {
    "duration": 310,
    "start_time": "2022-03-15T05:38:23.952Z"
   },
   {
    "duration": 280,
    "start_time": "2022-03-15T05:38:24.264Z"
   },
   {
    "duration": 326,
    "start_time": "2022-03-15T05:38:24.546Z"
   },
   {
    "duration": 294,
    "start_time": "2022-03-15T05:38:24.876Z"
   },
   {
    "duration": 292,
    "start_time": "2022-03-15T05:38:25.172Z"
   },
   {
    "duration": 34,
    "start_time": "2022-03-15T05:38:25.467Z"
   },
   {
    "duration": 385,
    "start_time": "2022-03-15T05:38:25.504Z"
   },
   {
    "duration": 71,
    "start_time": "2022-03-15T05:38:25.891Z"
   },
   {
    "duration": 1301,
    "start_time": "2022-03-15T05:38:25.964Z"
   },
   {
    "duration": 57,
    "start_time": "2022-03-15T05:41:58.538Z"
   },
   {
    "duration": 1424,
    "start_time": "2022-03-15T05:42:28.462Z"
   },
   {
    "duration": 8323,
    "start_time": "2022-03-15T05:43:36.138Z"
   },
   {
    "duration": 1879,
    "start_time": "2022-03-15T05:44:06.630Z"
   },
   {
    "duration": 423,
    "start_time": "2022-03-15T05:45:21.219Z"
   },
   {
    "duration": 849,
    "start_time": "2022-03-15T05:45:49.847Z"
   },
   {
    "duration": 341,
    "start_time": "2022-03-15T05:58:38.845Z"
   },
   {
    "duration": 8779,
    "start_time": "2022-03-15T06:03:59.145Z"
   },
   {
    "duration": 11,
    "start_time": "2022-03-25T06:17:51.430Z"
   },
   {
    "duration": 1104,
    "start_time": "2022-03-25T06:17:51.790Z"
   },
   {
    "duration": 101,
    "start_time": "2022-03-25T06:17:52.897Z"
   },
   {
    "duration": 49,
    "start_time": "2022-03-25T06:17:53.226Z"
   },
   {
    "duration": 23,
    "start_time": "2022-03-25T06:17:54.330Z"
   },
   {
    "duration": 13,
    "start_time": "2022-03-25T06:17:59.819Z"
   },
   {
    "duration": 29,
    "start_time": "2022-03-25T06:18:01.361Z"
   },
   {
    "duration": 62665,
    "start_time": "2022-03-25T06:18:01.878Z"
   },
   {
    "duration": 568,
    "start_time": "2022-03-25T06:19:51.314Z"
   },
   {
    "duration": 12,
    "start_time": "2022-03-25T06:19:58.226Z"
   },
   {
    "duration": 21,
    "start_time": "2022-03-25T06:19:59.033Z"
   },
   {
    "duration": 32,
    "start_time": "2022-03-25T06:20:00.041Z"
   },
   {
    "duration": 9,
    "start_time": "2022-03-25T06:20:06.962Z"
   },
   {
    "duration": 34,
    "start_time": "2022-03-25T06:20:07.486Z"
   },
   {
    "duration": 480,
    "start_time": "2022-03-25T06:20:08.306Z"
   },
   {
    "duration": 203,
    "start_time": "2022-03-25T06:20:30.558Z"
   },
   {
    "duration": 534,
    "start_time": "2022-03-25T06:20:39.342Z"
   },
   {
    "duration": 554,
    "start_time": "2022-03-25T06:20:44.071Z"
   },
   {
    "duration": 387,
    "start_time": "2022-03-25T06:21:05.818Z"
   },
   {
    "duration": 415,
    "start_time": "2022-03-25T06:21:11.670Z"
   },
   {
    "duration": 174,
    "start_time": "2022-03-25T06:28:49.862Z"
   },
   {
    "duration": 11,
    "start_time": "2022-03-25T06:29:10.726Z"
   },
   {
    "duration": 11,
    "start_time": "2022-03-25T06:29:17.751Z"
   },
   {
    "duration": 19,
    "start_time": "2022-03-25T06:29:22.334Z"
   },
   {
    "duration": 60,
    "start_time": "2022-03-25T06:29:23.286Z"
   },
   {
    "duration": 236,
    "start_time": "2022-03-25T06:29:27.114Z"
   },
   {
    "duration": 237,
    "start_time": "2022-03-25T06:29:30.162Z"
   },
   {
    "duration": 237,
    "start_time": "2022-03-25T06:29:32.473Z"
   },
   {
    "duration": 221,
    "start_time": "2022-03-25T06:29:34.241Z"
   },
   {
    "duration": 221,
    "start_time": "2022-03-25T06:29:36.910Z"
   },
   {
    "duration": 8,
    "start_time": "2022-03-25T06:29:39.480Z"
   },
   {
    "duration": 294,
    "start_time": "2022-03-25T06:30:29.990Z"
   },
   {
    "duration": 8,
    "start_time": "2022-03-25T06:30:31.246Z"
   },
   {
    "duration": 212,
    "start_time": "2022-03-25T06:30:39.966Z"
   },
   {
    "duration": 7,
    "start_time": "2022-03-25T06:30:57.662Z"
   },
   {
    "duration": 35,
    "start_time": "2022-03-25T06:31:06.997Z"
   },
   {
    "duration": 249,
    "start_time": "2022-03-25T06:31:15.714Z"
   },
   {
    "duration": 58,
    "start_time": "2022-03-25T06:31:18.746Z"
   },
   {
    "duration": 9,
    "start_time": "2022-03-25T06:32:22.611Z"
   },
   {
    "duration": 6,
    "start_time": "2022-03-25T06:32:53.750Z"
   },
   {
    "duration": 509,
    "start_time": "2022-03-25T06:33:45.885Z"
   },
   {
    "duration": 532,
    "start_time": "2022-03-25T06:34:01.622Z"
   },
   {
    "duration": 9,
    "start_time": "2022-03-25T06:34:09.834Z"
   },
   {
    "duration": 110,
    "start_time": "2022-03-25T06:43:32.562Z"
   },
   {
    "duration": 180,
    "start_time": "2022-03-25T06:44:26.306Z"
   },
   {
    "duration": 111,
    "start_time": "2022-03-25T06:44:34.589Z"
   },
   {
    "duration": 152,
    "start_time": "2022-03-25T06:44:39.122Z"
   },
   {
    "duration": 110,
    "start_time": "2022-03-25T06:44:40.493Z"
   },
   {
    "duration": 46,
    "start_time": "2022-03-27T07:46:44.766Z"
   },
   {
    "duration": 3,
    "start_time": "2022-03-27T07:46:47.999Z"
   },
   {
    "duration": 798,
    "start_time": "2022-03-27T07:46:48.011Z"
   },
   {
    "duration": 76,
    "start_time": "2022-03-27T07:46:48.811Z"
   },
   {
    "duration": 27,
    "start_time": "2022-03-27T07:46:48.889Z"
   },
   {
    "duration": 12,
    "start_time": "2022-03-27T07:46:48.918Z"
   },
   {
    "duration": 8,
    "start_time": "2022-03-27T07:46:48.932Z"
   },
   {
    "duration": 42,
    "start_time": "2022-03-27T07:46:48.942Z"
   },
   {
    "duration": 38821,
    "start_time": "2022-03-27T07:46:48.986Z"
   },
   {
    "duration": 333,
    "start_time": "2022-03-27T07:47:27.809Z"
   },
   {
    "duration": 8,
    "start_time": "2022-03-27T07:47:28.144Z"
   },
   {
    "duration": 27,
    "start_time": "2022-03-27T07:47:28.155Z"
   },
   {
    "duration": 20,
    "start_time": "2022-03-27T07:47:28.184Z"
   },
   {
    "duration": 6,
    "start_time": "2022-03-27T07:47:28.206Z"
   },
   {
    "duration": 21,
    "start_time": "2022-03-27T07:47:28.213Z"
   },
   {
    "duration": 298,
    "start_time": "2022-03-27T07:47:28.235Z"
   },
   {
    "duration": 210,
    "start_time": "2022-03-27T07:47:28.534Z"
   },
   {
    "duration": 345,
    "start_time": "2022-03-27T07:47:28.745Z"
   },
   {
    "duration": 211,
    "start_time": "2022-03-27T07:47:29.092Z"
   },
   {
    "duration": 151,
    "start_time": "2022-03-27T07:47:29.305Z"
   },
   {
    "duration": 44,
    "start_time": "2022-03-27T07:47:29.457Z"
   },
   {
    "duration": 97,
    "start_time": "2022-03-27T07:47:29.503Z"
   },
   {
    "duration": 113,
    "start_time": "2022-03-27T07:47:29.602Z"
   },
   {
    "duration": 113,
    "start_time": "2022-03-27T07:47:29.717Z"
   },
   {
    "duration": 101,
    "start_time": "2022-03-27T07:47:29.832Z"
   },
   {
    "duration": 13,
    "start_time": "2022-03-27T07:47:29.935Z"
   },
   {
    "duration": 11,
    "start_time": "2022-03-27T07:47:29.949Z"
   },
   {
    "duration": 25,
    "start_time": "2022-03-27T07:47:29.962Z"
   },
   {
    "duration": 11,
    "start_time": "2022-03-27T07:47:29.988Z"
   },
   {
    "duration": 119,
    "start_time": "2022-03-27T07:47:30.002Z"
   },
   {
    "duration": 8,
    "start_time": "2022-03-27T07:47:30.122Z"
   },
   {
    "duration": 16,
    "start_time": "2022-03-27T07:47:30.131Z"
   },
   {
    "duration": 51,
    "start_time": "2022-03-27T07:47:30.149Z"
   },
   {
    "duration": 82,
    "start_time": "2022-03-27T07:47:30.202Z"
   },
   {
    "duration": 70,
    "start_time": "2022-03-27T07:47:30.286Z"
   },
   {
    "duration": 163,
    "start_time": "2022-03-27T07:47:30.358Z"
   },
   {
    "duration": 195,
    "start_time": "2022-03-27T07:47:30.523Z"
   },
   {
    "duration": 132,
    "start_time": "2022-03-27T07:47:30.719Z"
   },
   {
    "duration": 130,
    "start_time": "2022-03-27T07:47:30.853Z"
   },
   {
    "duration": 124,
    "start_time": "2022-03-27T07:47:30.984Z"
   },
   {
    "duration": 4,
    "start_time": "2022-03-27T07:47:31.110Z"
   },
   {
    "duration": 124,
    "start_time": "2022-03-27T07:47:31.115Z"
   },
   {
    "duration": 5,
    "start_time": "2022-03-27T07:47:31.241Z"
   },
   {
    "duration": 140,
    "start_time": "2022-03-27T07:47:31.247Z"
   },
   {
    "duration": 4,
    "start_time": "2022-03-27T07:47:31.389Z"
   },
   {
    "duration": 29,
    "start_time": "2022-03-27T07:47:31.395Z"
   },
   {
    "duration": 145,
    "start_time": "2022-03-27T07:47:31.426Z"
   },
   {
    "duration": 30,
    "start_time": "2022-03-27T07:47:31.580Z"
   },
   {
    "duration": 3771,
    "start_time": "2022-03-27T07:47:31.611Z"
   },
   {
    "duration": 120,
    "start_time": "2022-03-27T07:48:32.743Z"
   },
   {
    "duration": 8,
    "start_time": "2022-09-26T09:39:24.495Z"
   },
   {
    "duration": 649,
    "start_time": "2022-09-26T09:39:24.505Z"
   },
   {
    "duration": 318,
    "start_time": "2022-09-26T09:39:25.156Z"
   },
   {
    "duration": 32,
    "start_time": "2022-09-26T09:39:25.477Z"
   },
   {
    "duration": 15,
    "start_time": "2022-09-26T09:39:25.511Z"
   },
   {
    "duration": 9,
    "start_time": "2022-09-26T09:39:25.527Z"
   },
   {
    "duration": 32,
    "start_time": "2022-09-26T09:39:25.537Z"
   },
   {
    "duration": 3,
    "start_time": "2022-09-26T09:40:14.726Z"
   },
   {
    "duration": 9,
    "start_time": "2022-09-26T09:40:14.730Z"
   },
   {
    "duration": 96,
    "start_time": "2022-09-26T09:40:14.741Z"
   },
   {
    "duration": 33,
    "start_time": "2022-09-26T09:40:14.839Z"
   },
   {
    "duration": 15,
    "start_time": "2022-09-26T09:40:14.874Z"
   },
   {
    "duration": 26,
    "start_time": "2022-09-26T09:40:14.891Z"
   },
   {
    "duration": 17,
    "start_time": "2022-09-26T09:40:14.920Z"
   },
   {
    "duration": 42819,
    "start_time": "2022-09-26T09:40:14.939Z"
   },
   {
    "duration": 305,
    "start_time": "2022-09-26T09:40:57.759Z"
   },
   {
    "duration": 10,
    "start_time": "2022-09-26T09:40:58.066Z"
   },
   {
    "duration": 29,
    "start_time": "2022-09-26T09:40:58.077Z"
   },
   {
    "duration": 19,
    "start_time": "2022-09-26T09:40:58.109Z"
   },
   {
    "duration": 5,
    "start_time": "2022-09-26T09:40:58.130Z"
   },
   {
    "duration": 29,
    "start_time": "2022-09-26T09:40:58.137Z"
   },
   {
    "duration": 351,
    "start_time": "2022-09-26T09:40:58.168Z"
   },
   {
    "duration": 218,
    "start_time": "2022-09-26T09:40:58.520Z"
   },
   {
    "duration": 256,
    "start_time": "2022-09-26T09:40:58.740Z"
   },
   {
    "duration": 140,
    "start_time": "2022-09-26T09:40:58.998Z"
   },
   {
    "duration": 164,
    "start_time": "2022-09-26T09:40:59.139Z"
   },
   {
    "duration": 38,
    "start_time": "2022-09-26T09:40:59.308Z"
   },
   {
    "duration": 113,
    "start_time": "2022-09-26T09:40:59.352Z"
   },
   {
    "duration": 120,
    "start_time": "2022-09-26T09:40:59.466Z"
   },
   {
    "duration": 127,
    "start_time": "2022-09-26T09:40:59.587Z"
   },
   {
    "duration": 120,
    "start_time": "2022-09-26T09:40:59.716Z"
   },
   {
    "duration": 11,
    "start_time": "2022-09-26T09:40:59.837Z"
   },
   {
    "duration": 10,
    "start_time": "2022-09-26T09:40:59.850Z"
   },
   {
    "duration": 10,
    "start_time": "2022-09-26T09:40:59.862Z"
   },
   {
    "duration": 37,
    "start_time": "2022-09-26T09:40:59.873Z"
   },
   {
    "duration": 118,
    "start_time": "2022-09-26T09:40:59.911Z"
   },
   {
    "duration": 9,
    "start_time": "2022-09-26T09:41:00.030Z"
   },
   {
    "duration": 11,
    "start_time": "2022-09-26T09:41:00.041Z"
   },
   {
    "duration": 56,
    "start_time": "2022-09-26T09:41:00.053Z"
   },
   {
    "duration": 69,
    "start_time": "2022-09-26T09:41:00.110Z"
   },
   {
    "duration": 85,
    "start_time": "2022-09-26T09:41:00.180Z"
   },
   {
    "duration": 151,
    "start_time": "2022-09-26T09:41:00.266Z"
   },
   {
    "duration": 145,
    "start_time": "2022-09-26T09:41:00.419Z"
   },
   {
    "duration": 148,
    "start_time": "2022-09-26T09:41:00.565Z"
   },
   {
    "duration": 154,
    "start_time": "2022-09-26T09:41:00.715Z"
   },
   {
    "duration": 148,
    "start_time": "2022-09-26T09:41:00.871Z"
   },
   {
    "duration": 4,
    "start_time": "2022-09-26T09:41:01.021Z"
   },
   {
    "duration": 135,
    "start_time": "2022-09-26T09:41:01.027Z"
   },
   {
    "duration": 5,
    "start_time": "2022-09-26T09:41:01.163Z"
   },
   {
    "duration": 176,
    "start_time": "2022-09-26T09:41:01.170Z"
   },
   {
    "duration": 5,
    "start_time": "2022-09-26T09:41:01.347Z"
   },
   {
    "duration": 100,
    "start_time": "2022-09-26T09:41:01.353Z"
   },
   {
    "duration": 223,
    "start_time": "2022-09-26T09:41:01.454Z"
   },
   {
    "duration": 207,
    "start_time": "2022-09-26T09:41:01.679Z"
   },
   {
    "duration": 3921,
    "start_time": "2022-09-26T09:41:01.888Z"
   }
  ],
  "kernelspec": {
   "display_name": "Python 3 (ipykernel)",
   "language": "python",
   "name": "python3"
  },
  "language_info": {
   "codemirror_mode": {
    "name": "ipython",
    "version": 3
   },
   "file_extension": ".py",
   "mimetype": "text/x-python",
   "name": "python",
   "nbconvert_exporter": "python",
   "pygments_lexer": "ipython3",
   "version": "3.9.5"
  },
  "toc": {
   "base_numbering": 1,
   "nav_menu": {},
   "number_sections": true,
   "sideBar": true,
   "skip_h1_title": true,
   "title_cell": "Содержание",
   "title_sidebar": "Contents",
   "toc_cell": true,
   "toc_position": {
    "height": "calc(100% - 180px)",
    "left": "10px",
    "top": "150px",
    "width": "165px"
   },
   "toc_section_display": true,
   "toc_window_display": false
  }
 },
 "nbformat": 4,
 "nbformat_minor": 4
}
