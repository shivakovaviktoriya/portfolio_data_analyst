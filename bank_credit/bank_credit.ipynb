{
 "cells": [
  {
   "cell_type": "markdown",
   "id": "8c3270d0",
   "metadata": {},
   "source": [
    "# Исследование надежности заемщиков.\n",
    "\n",
    "### Описание проекта\n",
    "**Заказчик** — кредитный отдел банка. Нужно разобраться, влияет ли семейное положение и количество детей клиента на факт погашения кредита в срок. \n",
    "\n",
    "**Входные данные от банка** — статистика о платёжеспособности клиентов.\n",
    "\n",
    "**Результаты исследования** будут учтены при построении модели кредитного скоринга — специальной системы, которая оценивает способность потенциального заёмщика вернуть кредит банку.\n",
    "\n",
    "**Цель исследования** — проверить 4 гипотезы:\n",
    "1. Есть ли зависимость между количеством детей и возвратом кредита в срок?\n",
    "2. Есть ли зависимость между семейным положением и возвратом кредита в срок?\n",
    "3. Есть ли зависимость между уровнем дохода и возвратом кредита в срок?\n",
    "4. Как разные цели кредита влияют на его возврат в срок?\n",
    "\n",
    "**Ход исследования**\n",
    "\n",
    "Данные о платёжеспособности клиентов представлены в файле /datasets/data.csv \n",
    "\n",
    "Исследование пройдет в **4 этапа:**\n",
    "1. Изучение общей информации о данных.\n",
    "2. Предобработка данных.\n",
    "3. Ответы на поставленные вопросы.\n",
    "4. Общие выводы. \n"
   ]
  },
  {
   "cell_type": "markdown",
   "id": "faf5ed85",
   "metadata": {},
   "source": [
    "### Шаг 1. Обзор данных"
   ]
  },
  {
   "cell_type": "code",
   "execution_count": 1,
   "id": "17d56816",
   "metadata": {},
   "outputs": [],
   "source": [
    "#проигнорируем предупреждения -_-\n",
    "import warnings\n",
    "warnings.filterwarnings('ignore')"
   ]
  },
  {
   "cell_type": "code",
   "execution_count": 2,
   "id": "7808ba61",
   "metadata": {},
   "outputs": [],
   "source": [
    "# импорт библиотеки pandas\n",
    "import pandas as pd"
   ]
  },
  {
   "cell_type": "code",
   "execution_count": 3,
   "id": "46a8af61",
   "metadata": {},
   "outputs": [],
   "source": [
    "# чтение файла с данными и сохранение в df\n",
    "df = pd.read_csv('/datasets/data.csv')"
   ]
  },
  {
   "cell_type": "code",
   "execution_count": 4,
   "id": "319bf20e",
   "metadata": {
    "scrolled": true
   },
   "outputs": [
    {
     "data": {
      "text/html": [
       "<div>\n",
       "<style scoped>\n",
       "    .dataframe tbody tr th:only-of-type {\n",
       "        vertical-align: middle;\n",
       "    }\n",
       "\n",
       "    .dataframe tbody tr th {\n",
       "        vertical-align: top;\n",
       "    }\n",
       "\n",
       "    .dataframe thead th {\n",
       "        text-align: right;\n",
       "    }\n",
       "</style>\n",
       "<table border=\"1\" class=\"dataframe\">\n",
       "  <thead>\n",
       "    <tr style=\"text-align: right;\">\n",
       "      <th></th>\n",
       "      <th>children</th>\n",
       "      <th>days_employed</th>\n",
       "      <th>dob_years</th>\n",
       "      <th>education</th>\n",
       "      <th>education_id</th>\n",
       "      <th>family_status</th>\n",
       "      <th>family_status_id</th>\n",
       "      <th>gender</th>\n",
       "      <th>income_type</th>\n",
       "      <th>debt</th>\n",
       "      <th>total_income</th>\n",
       "      <th>purpose</th>\n",
       "    </tr>\n",
       "  </thead>\n",
       "  <tbody>\n",
       "    <tr>\n",
       "      <th>0</th>\n",
       "      <td>1</td>\n",
       "      <td>-8437.673028</td>\n",
       "      <td>42</td>\n",
       "      <td>высшее</td>\n",
       "      <td>0</td>\n",
       "      <td>женат / замужем</td>\n",
       "      <td>0</td>\n",
       "      <td>F</td>\n",
       "      <td>сотрудник</td>\n",
       "      <td>0</td>\n",
       "      <td>253875.639453</td>\n",
       "      <td>покупка жилья</td>\n",
       "    </tr>\n",
       "    <tr>\n",
       "      <th>1</th>\n",
       "      <td>1</td>\n",
       "      <td>-4024.803754</td>\n",
       "      <td>36</td>\n",
       "      <td>среднее</td>\n",
       "      <td>1</td>\n",
       "      <td>женат / замужем</td>\n",
       "      <td>0</td>\n",
       "      <td>F</td>\n",
       "      <td>сотрудник</td>\n",
       "      <td>0</td>\n",
       "      <td>112080.014102</td>\n",
       "      <td>приобретение автомобиля</td>\n",
       "    </tr>\n",
       "    <tr>\n",
       "      <th>2</th>\n",
       "      <td>0</td>\n",
       "      <td>-5623.422610</td>\n",
       "      <td>33</td>\n",
       "      <td>Среднее</td>\n",
       "      <td>1</td>\n",
       "      <td>женат / замужем</td>\n",
       "      <td>0</td>\n",
       "      <td>M</td>\n",
       "      <td>сотрудник</td>\n",
       "      <td>0</td>\n",
       "      <td>145885.952297</td>\n",
       "      <td>покупка жилья</td>\n",
       "    </tr>\n",
       "    <tr>\n",
       "      <th>3</th>\n",
       "      <td>3</td>\n",
       "      <td>-4124.747207</td>\n",
       "      <td>32</td>\n",
       "      <td>среднее</td>\n",
       "      <td>1</td>\n",
       "      <td>женат / замужем</td>\n",
       "      <td>0</td>\n",
       "      <td>M</td>\n",
       "      <td>сотрудник</td>\n",
       "      <td>0</td>\n",
       "      <td>267628.550329</td>\n",
       "      <td>дополнительное образование</td>\n",
       "    </tr>\n",
       "    <tr>\n",
       "      <th>4</th>\n",
       "      <td>0</td>\n",
       "      <td>340266.072047</td>\n",
       "      <td>53</td>\n",
       "      <td>среднее</td>\n",
       "      <td>1</td>\n",
       "      <td>гражданский брак</td>\n",
       "      <td>1</td>\n",
       "      <td>F</td>\n",
       "      <td>пенсионер</td>\n",
       "      <td>0</td>\n",
       "      <td>158616.077870</td>\n",
       "      <td>сыграть свадьбу</td>\n",
       "    </tr>\n",
       "    <tr>\n",
       "      <th>5</th>\n",
       "      <td>0</td>\n",
       "      <td>-926.185831</td>\n",
       "      <td>27</td>\n",
       "      <td>высшее</td>\n",
       "      <td>0</td>\n",
       "      <td>гражданский брак</td>\n",
       "      <td>1</td>\n",
       "      <td>M</td>\n",
       "      <td>компаньон</td>\n",
       "      <td>0</td>\n",
       "      <td>255763.565419</td>\n",
       "      <td>покупка жилья</td>\n",
       "    </tr>\n",
       "    <tr>\n",
       "      <th>6</th>\n",
       "      <td>0</td>\n",
       "      <td>-2879.202052</td>\n",
       "      <td>43</td>\n",
       "      <td>высшее</td>\n",
       "      <td>0</td>\n",
       "      <td>женат / замужем</td>\n",
       "      <td>0</td>\n",
       "      <td>F</td>\n",
       "      <td>компаньон</td>\n",
       "      <td>0</td>\n",
       "      <td>240525.971920</td>\n",
       "      <td>операции с жильем</td>\n",
       "    </tr>\n",
       "    <tr>\n",
       "      <th>7</th>\n",
       "      <td>0</td>\n",
       "      <td>-152.779569</td>\n",
       "      <td>50</td>\n",
       "      <td>СРЕДНЕЕ</td>\n",
       "      <td>1</td>\n",
       "      <td>женат / замужем</td>\n",
       "      <td>0</td>\n",
       "      <td>M</td>\n",
       "      <td>сотрудник</td>\n",
       "      <td>0</td>\n",
       "      <td>135823.934197</td>\n",
       "      <td>образование</td>\n",
       "    </tr>\n",
       "    <tr>\n",
       "      <th>8</th>\n",
       "      <td>2</td>\n",
       "      <td>-6929.865299</td>\n",
       "      <td>35</td>\n",
       "      <td>ВЫСШЕЕ</td>\n",
       "      <td>0</td>\n",
       "      <td>гражданский брак</td>\n",
       "      <td>1</td>\n",
       "      <td>F</td>\n",
       "      <td>сотрудник</td>\n",
       "      <td>0</td>\n",
       "      <td>95856.832424</td>\n",
       "      <td>на проведение свадьбы</td>\n",
       "    </tr>\n",
       "    <tr>\n",
       "      <th>9</th>\n",
       "      <td>0</td>\n",
       "      <td>-2188.756445</td>\n",
       "      <td>41</td>\n",
       "      <td>среднее</td>\n",
       "      <td>1</td>\n",
       "      <td>женат / замужем</td>\n",
       "      <td>0</td>\n",
       "      <td>M</td>\n",
       "      <td>сотрудник</td>\n",
       "      <td>0</td>\n",
       "      <td>144425.938277</td>\n",
       "      <td>покупка жилья для семьи</td>\n",
       "    </tr>\n",
       "  </tbody>\n",
       "</table>\n",
       "</div>"
      ],
      "text/plain": [
       "   children  days_employed  dob_years education  education_id  \\\n",
       "0         1   -8437.673028         42    высшее             0   \n",
       "1         1   -4024.803754         36   среднее             1   \n",
       "2         0   -5623.422610         33   Среднее             1   \n",
       "3         3   -4124.747207         32   среднее             1   \n",
       "4         0  340266.072047         53   среднее             1   \n",
       "5         0    -926.185831         27    высшее             0   \n",
       "6         0   -2879.202052         43    высшее             0   \n",
       "7         0    -152.779569         50   СРЕДНЕЕ             1   \n",
       "8         2   -6929.865299         35    ВЫСШЕЕ             0   \n",
       "9         0   -2188.756445         41   среднее             1   \n",
       "\n",
       "      family_status  family_status_id gender income_type  debt   total_income  \\\n",
       "0   женат / замужем                 0      F   сотрудник     0  253875.639453   \n",
       "1   женат / замужем                 0      F   сотрудник     0  112080.014102   \n",
       "2   женат / замужем                 0      M   сотрудник     0  145885.952297   \n",
       "3   женат / замужем                 0      M   сотрудник     0  267628.550329   \n",
       "4  гражданский брак                 1      F   пенсионер     0  158616.077870   \n",
       "5  гражданский брак                 1      M   компаньон     0  255763.565419   \n",
       "6   женат / замужем                 0      F   компаньон     0  240525.971920   \n",
       "7   женат / замужем                 0      M   сотрудник     0  135823.934197   \n",
       "8  гражданский брак                 1      F   сотрудник     0   95856.832424   \n",
       "9   женат / замужем                 0      M   сотрудник     0  144425.938277   \n",
       "\n",
       "                      purpose  \n",
       "0               покупка жилья  \n",
       "1     приобретение автомобиля  \n",
       "2               покупка жилья  \n",
       "3  дополнительное образование  \n",
       "4             сыграть свадьбу  \n",
       "5               покупка жилья  \n",
       "6           операции с жильем  \n",
       "7                 образование  \n",
       "8       на проведение свадьбы  \n",
       "9     покупка жилья для семьи  "
      ]
     },
     "execution_count": 4,
     "metadata": {},
     "output_type": "execute_result"
    }
   ],
   "source": [
    "# получение первых 10 строк таблицы df\n",
    "df.head(10)"
   ]
  },
  {
   "cell_type": "code",
   "execution_count": 5,
   "id": "7546647b",
   "metadata": {},
   "outputs": [
    {
     "name": "stdout",
     "output_type": "stream",
     "text": [
      "<class 'pandas.core.frame.DataFrame'>\n",
      "RangeIndex: 21525 entries, 0 to 21524\n",
      "Data columns (total 12 columns):\n",
      " #   Column            Non-Null Count  Dtype  \n",
      "---  ------            --------------  -----  \n",
      " 0   children          21525 non-null  int64  \n",
      " 1   days_employed     19351 non-null  float64\n",
      " 2   dob_years         21525 non-null  int64  \n",
      " 3   education         21525 non-null  object \n",
      " 4   education_id      21525 non-null  int64  \n",
      " 5   family_status     21525 non-null  object \n",
      " 6   family_status_id  21525 non-null  int64  \n",
      " 7   gender            21525 non-null  object \n",
      " 8   income_type       21525 non-null  object \n",
      " 9   debt              21525 non-null  int64  \n",
      " 10  total_income      19351 non-null  float64\n",
      " 11  purpose           21525 non-null  object \n",
      "dtypes: float64(2), int64(5), object(5)\n",
      "memory usage: 2.0+ MB\n"
     ]
    }
   ],
   "source": [
    "# получение общей информации о данных в таблице df\n",
    "df.info()"
   ]
  },
  {
   "cell_type": "markdown",
   "id": "4a611ad5",
   "metadata": {},
   "source": [
    "Итак, в таблице 12 столбцов. Типы данных в столбцах — float, int и object.\n",
    "\n",
    "* children  — кол-во детей;\n",
    "* days_employed — трудовой стаж;\n",
    "* dob_years — возраст;\n",
    "* education — образование;\n",
    "* education_id — идентификатор образования;\n",
    "* family_status — семейное положение;\n",
    "* family_status_id — идентификатор семейного положения;\n",
    "* gender — пол;\n",
    "* income_type — тип дохода;\n",
    "* debt — долг;\n",
    "* total_income — суммарный доход;\n",
    "* purpose цель — (на что кредит).\n",
    "\n",
    "**Выводы:**\n",
    "1. В каждой строке таблицы представлены данные о клиенте. Колонки рассказывают о семейном положении клиента, о его доходах, образовании, а также часть колонк описывают суммарный доход клиента, оставшийся долг и цель кредита. \n",
    "2. В названиях колонок нарушения стиля нет. \n",
    "3. В двух столбцах (days_employed и total_income) есть пропущенные значения.\n",
    "4. Пристутсвуют аномальные значения. Например, столбце days_employed (трудовой стаж) встречаются отрицательные значения.\n",
    "5. Не все типы данных подходят для анализа.  \n",
    "\n",
    "Чтобы двигаться дальше, нужно устранить проблемы в данных."
   ]
  },
  {
   "cell_type": "markdown",
   "id": "c2f89972",
   "metadata": {},
   "source": [
    "### Шаг 2.1 Заполнение пропусков"
   ]
  },
  {
   "cell_type": "code",
   "execution_count": 6,
   "id": "b419200c",
   "metadata": {},
   "outputs": [
    {
     "data": {
      "text/plain": [
       "children               0\n",
       "days_employed       2174\n",
       "dob_years              0\n",
       "education              0\n",
       "education_id           0\n",
       "family_status          0\n",
       "family_status_id       0\n",
       "gender                 0\n",
       "income_type            0\n",
       "debt                   0\n",
       "total_income        2174\n",
       "purpose                0\n",
       "dtype: int64"
      ]
     },
     "metadata": {},
     "output_type": "display_data"
    }
   ],
   "source": [
    "# подсчёт пропусков\n",
    "display(df.isna().sum()) \n"
   ]
  },
  {
   "cell_type": "markdown",
   "id": "3a6a2514",
   "metadata": {},
   "source": [
    "Таким образом, мы видим, что в 2-х столбцах есть 2174 пропущенных значений. Колонки days_employed и total_income хранят в себе количественные значения. Проверим, какую долю составляют пропущенные значения в каждом из столбцов с пропусками:"
   ]
  },
  {
   "cell_type": "code",
   "execution_count": 7,
   "id": "1c9b3af9",
   "metadata": {},
   "outputs": [
    {
     "name": "stdout",
     "output_type": "stream",
     "text": [
      "Доля пропущенных значений в каждом из столбцов - 10%\n"
     ]
    }
   ],
   "source": [
    "#доля пропущенных значений \n",
    "total_df = len(df) #всего значений в таблице\n",
    "missing_values_df = df['days_employed'].isna().sum() #всего пропущенных значений, в обоих столбцах кол-во пропусков одинаковое \n",
    "print(f'Доля пропущенных значений в каждом из столбцов - {missing_values_df / total_df:.0%}') "
   ]
  },
  {
   "cell_type": "markdown",
   "id": "fef5d385",
   "metadata": {},
   "source": [
    "Пропуски в количественных данных лучше заполнить характерными значениями. Это значения, характеризующие состояние выборки, — набора данных, выбранных для проведения исследования. Чтобы примерно оценить типичные значения выборки подходит медиана."
   ]
  },
  {
   "cell_type": "code",
   "execution_count": 8,
   "id": "bdf42f41",
   "metadata": {},
   "outputs": [
    {
     "name": "stdout",
     "output_type": "stream",
     "text": [
      "Пропуски до: 2174\n",
      "сотрудник -1574.2028211070854\n",
      "пенсионер 365213.3062657312\n",
      "компаньон -1547.3822226779334\n",
      "госслужащий -2689.3683533043886\n",
      "безработный 366413.65274420456\n",
      "предприниматель -520.8480834953765\n",
      "студент -578.7515535382181\n",
      "в декрете -3296.7599620220594\n",
      "Пропуски после: 0\n"
     ]
    }
   ],
   "source": [
    "#заполним пропуски медианой с группировкой по типу дохода (пенсионер, сотрудник и тд)\n",
    "\n",
    "#заполнение столбца с трудовым стажем\n",
    "print('Пропуски до:', df['days_employed'].isna().sum()) #кол-во пропусков до заполнения\n",
    "\n",
    "for income_type in df['income_type'].unique():\n",
    "    median = df.loc[df['income_type'] == income_type, 'days_employed'].median()\n",
    "    print(income_type, median) #вывод значения медианы для каждого типа\n",
    "    df.loc[(df['days_employed'].isna()) & (df['income_type'] == income_type), 'days_employed'] = median\n",
    "\n",
    "print('Пропуски после:', df['days_employed'].isna().sum()) # проверка кол-ва пропусков после заполнения"
   ]
  },
  {
   "cell_type": "code",
   "execution_count": 9,
   "id": "f4ffc734",
   "metadata": {},
   "outputs": [
    {
     "name": "stdout",
     "output_type": "stream",
     "text": [
      "Пропуски до: 2174\n",
      "сотрудник 142594.39684740017\n",
      "пенсионер 118514.48641164352\n",
      "компаньон 172357.95096577113\n",
      "госслужащий 150447.9352830068\n",
      "безработный 131339.7516762103\n",
      "предприниматель 499163.1449470857\n",
      "студент 98201.62531401133\n",
      "в декрете 53829.13072905995\n",
      "Пропуски после: 0\n"
     ]
    }
   ],
   "source": [
    "#заполнение столбца с суммарным доходом\n",
    "print('Пропуски до:', df['total_income'].isna().sum()) #кол-во пропусков до заполнения\n",
    "\n",
    "for income_type in df['income_type'].unique():\n",
    "    median = df.loc[df['income_type'] == income_type, 'total_income'].median()\n",
    "    print(income_type, median) #вывод значения медианы для каждого типа\n",
    "    df.loc[(df['total_income'].isna()) & (df['income_type'] == income_type), 'total_income'] = median\n",
    "\n",
    "print('Пропуски после:', df['total_income'].isna().sum()) # проверка кол-ва пропусков после заполнения"
   ]
  },
  {
   "cell_type": "code",
   "execution_count": 10,
   "id": "a7c8851d",
   "metadata": {},
   "outputs": [
    {
     "data": {
      "text/plain": [
       "children            0\n",
       "days_employed       0\n",
       "dob_years           0\n",
       "education           0\n",
       "education_id        0\n",
       "family_status       0\n",
       "family_status_id    0\n",
       "gender              0\n",
       "income_type         0\n",
       "debt                0\n",
       "total_income        0\n",
       "purpose             0\n",
       "dtype: int64"
      ]
     },
     "metadata": {},
     "output_type": "display_data"
    }
   ],
   "source": [
    "# проверочный подсчёт пропусков в таблице после преобразований\n",
    "display(df.isna().sum()) "
   ]
  },
  {
   "cell_type": "markdown",
   "id": "6049e241",
   "metadata": {},
   "source": [
    "### Шаг 2.2 Проверка данных на аномалии и исправления."
   ]
  },
  {
   "cell_type": "code",
   "execution_count": 11,
   "id": "df18ce9e",
   "metadata": {},
   "outputs": [
    {
     "data": {
      "text/plain": [
       "0      -8437.673028\n",
       "1      -4024.803754\n",
       "2      -5623.422610\n",
       "3      -4124.747207\n",
       "4     340266.072047\n",
       "5       -926.185831\n",
       "6      -2879.202052\n",
       "7       -152.779569\n",
       "8      -6929.865299\n",
       "9      -2188.756445\n",
       "10     -4171.483647\n",
       "11      -792.701887\n",
       "12    365213.306266\n",
       "13     -1846.641941\n",
       "14     -1844.956182\n",
       "15      -972.364419\n",
       "16     -1719.934226\n",
       "17     -2369.999720\n",
       "18    400281.136913\n",
       "19    -10038.818549\n",
       "20     -1311.604166\n",
       "21      -253.685166\n",
       "22     -1766.644138\n",
       "23      -272.981385\n",
       "24    338551.952911\n",
       "25    363548.489348\n",
       "26     -2689.368353\n",
       "27      -529.191635\n",
       "28      -717.274324\n",
       "29    365213.306266\n",
       "30    335581.668515\n",
       "31     -1682.083438\n",
       "32     -4649.910832\n",
       "33     -1548.637544\n",
       "34     -4488.067031\n",
       "35    394021.072184\n",
       "36      -176.216688\n",
       "37     -6448.810860\n",
       "38      -597.881827\n",
       "39      -650.587796\n",
       "40     -1030.362606\n",
       "41     -2689.368353\n",
       "42     -1257.496190\n",
       "43     -4375.681384\n",
       "44     -1362.041728\n",
       "45     -1039.451741\n",
       "46     -2262.712304\n",
       "47     -2689.137274\n",
       "48     -3341.067886\n",
       "49     -1181.443228\n",
       "Name: days_employed, dtype: float64"
      ]
     },
     "execution_count": 11,
     "metadata": {},
     "output_type": "execute_result"
    }
   ],
   "source": [
    "#на предыдущих шагах можно было заметить, что в столбце с трудовым штатом присутствуют аномально большие значения и отрицательные\n",
    "#отрицательного стажа быть не может, поэтому необходимо все привести к положительным значениям\n",
    "#посомтрим первые 50 строчек столбца\n",
    "df['days_employed'].head(50)"
   ]
  },
  {
   "cell_type": "markdown",
   "id": "66baa86a",
   "metadata": {},
   "source": [
    "Можно сделать вывод, что верные значения представлены в днях и находятся в диапозоне от 0 до 15000 дней (примерно от 0 до 41 года трудовой стаж - это норма). Все значения, что больше 15000 скорее всего представлены в часах.  Скорее всего, в данных встречается информация из двух систем. Одна из них считает стаж в часах и \"наоборот\".\n",
    "Переведем все к единому измерению в днях. "
   ]
  },
  {
   "cell_type": "code",
   "execution_count": 12,
   "id": "a9c59b07",
   "metadata": {},
   "outputs": [
    {
     "data": {
      "text/plain": [
       "0      8437.673028\n",
       "1      4024.803754\n",
       "2      5623.422610\n",
       "3      4124.747207\n",
       "4     14177.753002\n",
       "5       926.185831\n",
       "6      2879.202052\n",
       "7       152.779569\n",
       "8      6929.865299\n",
       "9      2188.756445\n",
       "10     4171.483647\n",
       "11      792.701887\n",
       "12    15217.221094\n",
       "13     1846.641941\n",
       "14     1844.956182\n",
       "15      972.364419\n",
       "16     1719.934226\n",
       "17     2369.999720\n",
       "18    16678.380705\n",
       "19    10038.818549\n",
       "20     1311.604166\n",
       "21      253.685166\n",
       "22     1766.644138\n",
       "23      272.981385\n",
       "24    14106.331371\n",
       "25    15147.853723\n",
       "26     2689.368353\n",
       "27      529.191635\n",
       "28      717.274324\n",
       "29    15217.221094\n",
       "30    13982.569521\n",
       "31     1682.083438\n",
       "32     4649.910832\n",
       "33     1548.637544\n",
       "34     4488.067031\n",
       "35    16417.544674\n",
       "36      176.216688\n",
       "37     6448.810860\n",
       "38      597.881827\n",
       "39      650.587796\n",
       "40     1030.362606\n",
       "41     2689.368353\n",
       "42     1257.496190\n",
       "43     4375.681384\n",
       "44     1362.041728\n",
       "45     1039.451741\n",
       "46     2262.712304\n",
       "47     2689.137274\n",
       "48     3341.067886\n",
       "49     1181.443228\n",
       "Name: days_employed, dtype: float64"
      ]
     },
     "execution_count": 12,
     "metadata": {},
     "output_type": "execute_result"
    }
   ],
   "source": [
    "df['days_employed'] = df['days_employed'].apply(abs) # берет значения по модулю, избавляемся от отрицательных значений\n",
    "df.loc[df['days_employed'] > 15000, 'days_employed'] = df.loc[df['days_employed'] > 15000, 'days_employed'] / 24 #переводим часы в дни\n",
    "df['days_employed'].head(50) #проверяем результат"
   ]
  },
  {
   "cell_type": "markdown",
   "id": "c6aa2b02",
   "metadata": {},
   "source": [
    "В столбце с количеством детей присутствуют знаяения 20 и -1. Доля аномалий мала и ни на что не повлияет, поэтому исключим эти строки."
   ]
  },
  {
   "cell_type": "code",
   "execution_count": 13,
   "id": "c1aa3de3",
   "metadata": {},
   "outputs": [
    {
     "data": {
      "text/plain": [
       "array([1, 0, 3, 2, 4, 5])"
      ]
     },
     "execution_count": 13,
     "metadata": {},
     "output_type": "execute_result"
    }
   ],
   "source": [
    "df = df[df['children'] != 20] #убираем строки со значением 20\n",
    "df = df[df['children'] != -1] #убираем строки со значением -1\n",
    "df['children'].unique()\n",
    "        "
   ]
  },
  {
   "cell_type": "markdown",
   "id": "71b60968",
   "metadata": {},
   "source": [
    "### Шаг 2.3. Изменение типов данных."
   ]
  },
  {
   "cell_type": "code",
   "execution_count": 14,
   "id": "16c3d61b",
   "metadata": {},
   "outputs": [
    {
     "data": {
      "text/html": [
       "<div>\n",
       "<style scoped>\n",
       "    .dataframe tbody tr th:only-of-type {\n",
       "        vertical-align: middle;\n",
       "    }\n",
       "\n",
       "    .dataframe tbody tr th {\n",
       "        vertical-align: top;\n",
       "    }\n",
       "\n",
       "    .dataframe thead th {\n",
       "        text-align: right;\n",
       "    }\n",
       "</style>\n",
       "<table border=\"1\" class=\"dataframe\">\n",
       "  <thead>\n",
       "    <tr style=\"text-align: right;\">\n",
       "      <th></th>\n",
       "      <th>children</th>\n",
       "      <th>days_employed</th>\n",
       "      <th>dob_years</th>\n",
       "      <th>education</th>\n",
       "      <th>education_id</th>\n",
       "      <th>family_status</th>\n",
       "      <th>family_status_id</th>\n",
       "      <th>gender</th>\n",
       "      <th>income_type</th>\n",
       "      <th>debt</th>\n",
       "      <th>total_income</th>\n",
       "      <th>purpose</th>\n",
       "    </tr>\n",
       "  </thead>\n",
       "  <tbody>\n",
       "    <tr>\n",
       "      <th>0</th>\n",
       "      <td>1</td>\n",
       "      <td>8437.673028</td>\n",
       "      <td>42</td>\n",
       "      <td>высшее</td>\n",
       "      <td>0</td>\n",
       "      <td>женат / замужем</td>\n",
       "      <td>0</td>\n",
       "      <td>F</td>\n",
       "      <td>сотрудник</td>\n",
       "      <td>0</td>\n",
       "      <td>253875</td>\n",
       "      <td>покупка жилья</td>\n",
       "    </tr>\n",
       "    <tr>\n",
       "      <th>1</th>\n",
       "      <td>1</td>\n",
       "      <td>4024.803754</td>\n",
       "      <td>36</td>\n",
       "      <td>среднее</td>\n",
       "      <td>1</td>\n",
       "      <td>женат / замужем</td>\n",
       "      <td>0</td>\n",
       "      <td>F</td>\n",
       "      <td>сотрудник</td>\n",
       "      <td>0</td>\n",
       "      <td>112080</td>\n",
       "      <td>приобретение автомобиля</td>\n",
       "    </tr>\n",
       "    <tr>\n",
       "      <th>2</th>\n",
       "      <td>0</td>\n",
       "      <td>5623.422610</td>\n",
       "      <td>33</td>\n",
       "      <td>Среднее</td>\n",
       "      <td>1</td>\n",
       "      <td>женат / замужем</td>\n",
       "      <td>0</td>\n",
       "      <td>M</td>\n",
       "      <td>сотрудник</td>\n",
       "      <td>0</td>\n",
       "      <td>145885</td>\n",
       "      <td>покупка жилья</td>\n",
       "    </tr>\n",
       "    <tr>\n",
       "      <th>3</th>\n",
       "      <td>3</td>\n",
       "      <td>4124.747207</td>\n",
       "      <td>32</td>\n",
       "      <td>среднее</td>\n",
       "      <td>1</td>\n",
       "      <td>женат / замужем</td>\n",
       "      <td>0</td>\n",
       "      <td>M</td>\n",
       "      <td>сотрудник</td>\n",
       "      <td>0</td>\n",
       "      <td>267628</td>\n",
       "      <td>дополнительное образование</td>\n",
       "    </tr>\n",
       "    <tr>\n",
       "      <th>4</th>\n",
       "      <td>0</td>\n",
       "      <td>14177.753002</td>\n",
       "      <td>53</td>\n",
       "      <td>среднее</td>\n",
       "      <td>1</td>\n",
       "      <td>гражданский брак</td>\n",
       "      <td>1</td>\n",
       "      <td>F</td>\n",
       "      <td>пенсионер</td>\n",
       "      <td>0</td>\n",
       "      <td>158616</td>\n",
       "      <td>сыграть свадьбу</td>\n",
       "    </tr>\n",
       "  </tbody>\n",
       "</table>\n",
       "</div>"
      ],
      "text/plain": [
       "   children  days_employed  dob_years education  education_id  \\\n",
       "0         1    8437.673028         42    высшее             0   \n",
       "1         1    4024.803754         36   среднее             1   \n",
       "2         0    5623.422610         33   Среднее             1   \n",
       "3         3    4124.747207         32   среднее             1   \n",
       "4         0   14177.753002         53   среднее             1   \n",
       "\n",
       "      family_status  family_status_id gender income_type  debt  total_income  \\\n",
       "0   женат / замужем                 0      F   сотрудник     0        253875   \n",
       "1   женат / замужем                 0      F   сотрудник     0        112080   \n",
       "2   женат / замужем                 0      M   сотрудник     0        145885   \n",
       "3   женат / замужем                 0      M   сотрудник     0        267628   \n",
       "4  гражданский брак                 1      F   пенсионер     0        158616   \n",
       "\n",
       "                      purpose  \n",
       "0               покупка жилья  \n",
       "1     приобретение автомобиля  \n",
       "2               покупка жилья  \n",
       "3  дополнительное образование  \n",
       "4             сыграть свадьбу  "
      ]
     },
     "execution_count": 14,
     "metadata": {},
     "output_type": "execute_result"
    }
   ],
   "source": [
    "#заменим вещественный тип данных в столбце total_income на целочисленный\n",
    "df['total_income'] = df['total_income'].astype('int')\n",
    "df.head(5)"
   ]
  },
  {
   "cell_type": "markdown",
   "id": "314c51f6",
   "metadata": {},
   "source": [
    "### Шаг 2.4. Удаление дубликатов."
   ]
  },
  {
   "cell_type": "code",
   "execution_count": 15,
   "id": "0d155096",
   "metadata": {},
   "outputs": [
    {
     "data": {
      "text/plain": [
       "среднее                13667\n",
       "высшее                  4698\n",
       "СРЕДНЕЕ                  766\n",
       "Среднее                  703\n",
       "неоконченное высшее      665\n",
       "ВЫСШЕЕ                   271\n",
       "Высшее                   268\n",
       "начальное                250\n",
       "Неоконченное высшее       47\n",
       "НЕОКОНЧЕННОЕ ВЫСШЕЕ       29\n",
       "НАЧАЛЬНОЕ                 17\n",
       "Начальное                 15\n",
       "ученая степень             4\n",
       "УЧЕНАЯ СТЕПЕНЬ             1\n",
       "Ученая степень             1\n",
       "Name: education, dtype: int64"
      ]
     },
     "execution_count": 15,
     "metadata": {},
     "output_type": "execute_result"
    }
   ],
   "source": [
    "#посомтрим неявные дубликаты в столбце с образованием education \n",
    "df['education'].value_counts()"
   ]
  },
  {
   "cell_type": "code",
   "execution_count": 16,
   "id": "75b29f84",
   "metadata": {},
   "outputs": [
    {
     "data": {
      "text/plain": [
       "среднее                15136\n",
       "высшее                  5237\n",
       "неоконченное высшее      741\n",
       "начальное                282\n",
       "ученая степень             6\n",
       "Name: education, dtype: int64"
      ]
     },
     "execution_count": 16,
     "metadata": {},
     "output_type": "execute_result"
    }
   ],
   "source": [
    "df['education'] = df['education'].str.lower() #переведем все значения в столбце к нижнему регистру\n",
    "df['education'].value_counts() "
   ]
  },
  {
   "cell_type": "code",
   "execution_count": 17,
   "id": "7f6280e2",
   "metadata": {},
   "outputs": [
    {
     "data": {
      "text/plain": [
       "среднее                15136\n",
       "высшее                  5237\n",
       "неоконченное высшее      741\n",
       "начальное                282\n",
       "ученая степень             6\n",
       "Name: education, dtype: int64"
      ]
     },
     "execution_count": 17,
     "metadata": {},
     "output_type": "execute_result"
    }
   ],
   "source": [
    "#посомтрим неявные дубликаты в столбце с образованием education \n",
    "df['education'].value_counts()"
   ]
  },
  {
   "cell_type": "markdown",
   "id": "32dbeebf",
   "metadata": {},
   "source": [
    "Итак. \n",
    "Все пропуски заполнены. \n",
    "Аномальные значения обработаны. \n",
    "Неявных дублей больше нет (привели данные к единому регистру)\n",
    "Тепрь посмотрим явные дубли и удалим их."
   ]
  },
  {
   "cell_type": "code",
   "execution_count": 18,
   "id": "b6c2cf25",
   "metadata": {},
   "outputs": [
    {
     "data": {
      "text/plain": [
       "71"
      ]
     },
     "execution_count": 18,
     "metadata": {},
     "output_type": "execute_result"
    }
   ],
   "source": [
    "df.duplicated().sum() #посчитаем явные дубликаты "
   ]
  },
  {
   "cell_type": "code",
   "execution_count": 19,
   "id": "ed7fc95c",
   "metadata": {},
   "outputs": [
    {
     "data": {
      "text/plain": [
       "0"
      ]
     },
     "execution_count": 19,
     "metadata": {},
     "output_type": "execute_result"
    }
   ],
   "source": [
    "df = df.drop_duplicates() #удалим явные дубликаты \n",
    "df.duplicated().sum() #посчитаем явные дубликаты после удаления "
   ]
  },
  {
   "cell_type": "markdown",
   "id": "505f201f",
   "metadata": {},
   "source": [
    "### Шаг 2.5. Формирование дополнительных датафреймов словарей, декомпозиция исходного датафрейма."
   ]
  },
  {
   "cell_type": "code",
   "execution_count": 20,
   "id": "693523ee",
   "metadata": {},
   "outputs": [],
   "source": [
    "#создадим дополнительные словари для столбцов с образованием и семейным положением\n",
    "education_dict = df[['education','education_id']]\n",
    "education_dict['education'] = education_dict['education'].str.lower()\n",
    "education_dict = education_dict.drop_duplicates()\n",
    "\n",
    "family_status_dict = df[['family_status','family_status_id']]\n",
    "family_status_dict['family_status'] = family_status_dict['family_status'].str.lower()\n",
    "family_status_dict = family_status_dict.drop_duplicates()\n",
    "\n",
    "#удалим из исходного датафрейма столбцы education и family_status, оставив только их идентификаторы: education_id и family_status_id.\n",
    "df.drop(['education'], axis=1, inplace=True) \n",
    "df.drop(['family_status'], axis=1, inplace=True) \n",
    "\n"
   ]
  },
  {
   "cell_type": "code",
   "execution_count": 21,
   "id": "cd742397",
   "metadata": {
    "scrolled": true
   },
   "outputs": [
    {
     "data": {
      "text/html": [
       "<div>\n",
       "<style scoped>\n",
       "    .dataframe tbody tr th:only-of-type {\n",
       "        vertical-align: middle;\n",
       "    }\n",
       "\n",
       "    .dataframe tbody tr th {\n",
       "        vertical-align: top;\n",
       "    }\n",
       "\n",
       "    .dataframe thead th {\n",
       "        text-align: right;\n",
       "    }\n",
       "</style>\n",
       "<table border=\"1\" class=\"dataframe\">\n",
       "  <thead>\n",
       "    <tr style=\"text-align: right;\">\n",
       "      <th></th>\n",
       "      <th>children</th>\n",
       "      <th>days_employed</th>\n",
       "      <th>dob_years</th>\n",
       "      <th>education_id</th>\n",
       "      <th>family_status_id</th>\n",
       "      <th>gender</th>\n",
       "      <th>income_type</th>\n",
       "      <th>debt</th>\n",
       "      <th>total_income</th>\n",
       "      <th>purpose</th>\n",
       "    </tr>\n",
       "  </thead>\n",
       "  <tbody>\n",
       "    <tr>\n",
       "      <th>0</th>\n",
       "      <td>1</td>\n",
       "      <td>8437.673028</td>\n",
       "      <td>42</td>\n",
       "      <td>0</td>\n",
       "      <td>0</td>\n",
       "      <td>F</td>\n",
       "      <td>сотрудник</td>\n",
       "      <td>0</td>\n",
       "      <td>253875</td>\n",
       "      <td>покупка жилья</td>\n",
       "    </tr>\n",
       "    <tr>\n",
       "      <th>1</th>\n",
       "      <td>1</td>\n",
       "      <td>4024.803754</td>\n",
       "      <td>36</td>\n",
       "      <td>1</td>\n",
       "      <td>0</td>\n",
       "      <td>F</td>\n",
       "      <td>сотрудник</td>\n",
       "      <td>0</td>\n",
       "      <td>112080</td>\n",
       "      <td>приобретение автомобиля</td>\n",
       "    </tr>\n",
       "    <tr>\n",
       "      <th>2</th>\n",
       "      <td>0</td>\n",
       "      <td>5623.422610</td>\n",
       "      <td>33</td>\n",
       "      <td>1</td>\n",
       "      <td>0</td>\n",
       "      <td>M</td>\n",
       "      <td>сотрудник</td>\n",
       "      <td>0</td>\n",
       "      <td>145885</td>\n",
       "      <td>покупка жилья</td>\n",
       "    </tr>\n",
       "    <tr>\n",
       "      <th>3</th>\n",
       "      <td>3</td>\n",
       "      <td>4124.747207</td>\n",
       "      <td>32</td>\n",
       "      <td>1</td>\n",
       "      <td>0</td>\n",
       "      <td>M</td>\n",
       "      <td>сотрудник</td>\n",
       "      <td>0</td>\n",
       "      <td>267628</td>\n",
       "      <td>дополнительное образование</td>\n",
       "    </tr>\n",
       "    <tr>\n",
       "      <th>4</th>\n",
       "      <td>0</td>\n",
       "      <td>14177.753002</td>\n",
       "      <td>53</td>\n",
       "      <td>1</td>\n",
       "      <td>1</td>\n",
       "      <td>F</td>\n",
       "      <td>пенсионер</td>\n",
       "      <td>0</td>\n",
       "      <td>158616</td>\n",
       "      <td>сыграть свадьбу</td>\n",
       "    </tr>\n",
       "  </tbody>\n",
       "</table>\n",
       "</div>"
      ],
      "text/plain": [
       "   children  days_employed  dob_years  education_id  family_status_id gender  \\\n",
       "0         1    8437.673028         42             0                 0      F   \n",
       "1         1    4024.803754         36             1                 0      F   \n",
       "2         0    5623.422610         33             1                 0      M   \n",
       "3         3    4124.747207         32             1                 0      M   \n",
       "4         0   14177.753002         53             1                 1      F   \n",
       "\n",
       "  income_type  debt  total_income                     purpose  \n",
       "0   сотрудник     0        253875               покупка жилья  \n",
       "1   сотрудник     0        112080     приобретение автомобиля  \n",
       "2   сотрудник     0        145885               покупка жилья  \n",
       "3   сотрудник     0        267628  дополнительное образование  \n",
       "4   пенсионер     0        158616             сыграть свадьбу  "
      ]
     },
     "execution_count": 21,
     "metadata": {},
     "output_type": "execute_result"
    }
   ],
   "source": [
    "df.head() #проверка удаления столбцов"
   ]
  },
  {
   "cell_type": "markdown",
   "id": "0a3b64d5",
   "metadata": {},
   "source": [
    "### Шаг 2.6. Категоризация дохода."
   ]
  },
  {
   "cell_type": "code",
   "execution_count": 22,
   "id": "c0c53498",
   "metadata": {},
   "outputs": [
    {
     "data": {
      "text/html": [
       "<div>\n",
       "<style scoped>\n",
       "    .dataframe tbody tr th:only-of-type {\n",
       "        vertical-align: middle;\n",
       "    }\n",
       "\n",
       "    .dataframe tbody tr th {\n",
       "        vertical-align: top;\n",
       "    }\n",
       "\n",
       "    .dataframe thead th {\n",
       "        text-align: right;\n",
       "    }\n",
       "</style>\n",
       "<table border=\"1\" class=\"dataframe\">\n",
       "  <thead>\n",
       "    <tr style=\"text-align: right;\">\n",
       "      <th></th>\n",
       "      <th>children</th>\n",
       "      <th>days_employed</th>\n",
       "      <th>dob_years</th>\n",
       "      <th>education_id</th>\n",
       "      <th>family_status_id</th>\n",
       "      <th>gender</th>\n",
       "      <th>income_type</th>\n",
       "      <th>debt</th>\n",
       "      <th>total_income</th>\n",
       "      <th>purpose</th>\n",
       "      <th>total_income_category</th>\n",
       "    </tr>\n",
       "  </thead>\n",
       "  <tbody>\n",
       "    <tr>\n",
       "      <th>0</th>\n",
       "      <td>1</td>\n",
       "      <td>8437.673028</td>\n",
       "      <td>42</td>\n",
       "      <td>0</td>\n",
       "      <td>0</td>\n",
       "      <td>F</td>\n",
       "      <td>сотрудник</td>\n",
       "      <td>0</td>\n",
       "      <td>253875</td>\n",
       "      <td>покупка жилья</td>\n",
       "      <td>B</td>\n",
       "    </tr>\n",
       "    <tr>\n",
       "      <th>1</th>\n",
       "      <td>1</td>\n",
       "      <td>4024.803754</td>\n",
       "      <td>36</td>\n",
       "      <td>1</td>\n",
       "      <td>0</td>\n",
       "      <td>F</td>\n",
       "      <td>сотрудник</td>\n",
       "      <td>0</td>\n",
       "      <td>112080</td>\n",
       "      <td>приобретение автомобиля</td>\n",
       "      <td>C</td>\n",
       "    </tr>\n",
       "    <tr>\n",
       "      <th>2</th>\n",
       "      <td>0</td>\n",
       "      <td>5623.422610</td>\n",
       "      <td>33</td>\n",
       "      <td>1</td>\n",
       "      <td>0</td>\n",
       "      <td>M</td>\n",
       "      <td>сотрудник</td>\n",
       "      <td>0</td>\n",
       "      <td>145885</td>\n",
       "      <td>покупка жилья</td>\n",
       "      <td>C</td>\n",
       "    </tr>\n",
       "    <tr>\n",
       "      <th>3</th>\n",
       "      <td>3</td>\n",
       "      <td>4124.747207</td>\n",
       "      <td>32</td>\n",
       "      <td>1</td>\n",
       "      <td>0</td>\n",
       "      <td>M</td>\n",
       "      <td>сотрудник</td>\n",
       "      <td>0</td>\n",
       "      <td>267628</td>\n",
       "      <td>дополнительное образование</td>\n",
       "      <td>B</td>\n",
       "    </tr>\n",
       "    <tr>\n",
       "      <th>4</th>\n",
       "      <td>0</td>\n",
       "      <td>14177.753002</td>\n",
       "      <td>53</td>\n",
       "      <td>1</td>\n",
       "      <td>1</td>\n",
       "      <td>F</td>\n",
       "      <td>пенсионер</td>\n",
       "      <td>0</td>\n",
       "      <td>158616</td>\n",
       "      <td>сыграть свадьбу</td>\n",
       "      <td>C</td>\n",
       "    </tr>\n",
       "  </tbody>\n",
       "</table>\n",
       "</div>"
      ],
      "text/plain": [
       "   children  days_employed  dob_years  education_id  family_status_id gender  \\\n",
       "0         1    8437.673028         42             0                 0      F   \n",
       "1         1    4024.803754         36             1                 0      F   \n",
       "2         0    5623.422610         33             1                 0      M   \n",
       "3         3    4124.747207         32             1                 0      M   \n",
       "4         0   14177.753002         53             1                 1      F   \n",
       "\n",
       "  income_type  debt  total_income                     purpose  \\\n",
       "0   сотрудник     0        253875               покупка жилья   \n",
       "1   сотрудник     0        112080     приобретение автомобиля   \n",
       "2   сотрудник     0        145885               покупка жилья   \n",
       "3   сотрудник     0        267628  дополнительное образование   \n",
       "4   пенсионер     0        158616             сыграть свадьбу   \n",
       "\n",
       "  total_income_category  \n",
       "0                     B  \n",
       "1                     C  \n",
       "2                     C  \n",
       "3                     B  \n",
       "4                     C  "
      ]
     },
     "execution_count": 22,
     "metadata": {},
     "output_type": "execute_result"
    }
   ],
   "source": [
    "#напишем функцию, которая присвоит клиентам категорию от А до Е в зависимости от их дохода\n",
    "# на основании диапазонов, указанных ниже, создайте столбец total_income_category с категориями:\n",
    "#0–30000 — 'E';\n",
    "#30001–50000 — 'D';\n",
    "#50001–200000 — 'C';\n",
    "#200001–1000000 — 'B';\n",
    "#1000001 и выше — 'A'.\n",
    "def total_income_group(total_income):\n",
    "    if total_income <= 30000:\n",
    "        return 'E'\n",
    "    if 30001 <= total_income <= 50000:\n",
    "        return 'D'\n",
    "    if 50001 <= total_income <= 200000:\n",
    "        return 'C'\n",
    "    if 200001 <= total_income <= 1000000:\n",
    "        return 'B'\n",
    "    return 'A'\n",
    "df['total_income_category'] = df['total_income'].apply(total_income_group) #вызываем функцию для каждого значения из столбца с доходами\n",
    "df.head() #смотрим результат"
   ]
  },
  {
   "cell_type": "code",
   "execution_count": 23,
   "id": "5dd6b49c",
   "metadata": {},
   "outputs": [
    {
     "data": {
      "text/plain": [
       "свадьба                                   790\n",
       "на проведение свадьбы                     763\n",
       "сыграть свадьбу                           760\n",
       "операции с недвижимостью                  672\n",
       "покупка коммерческой недвижимости         658\n",
       "покупка жилья для сдачи                   649\n",
       "операции с жильем                         647\n",
       "операции с коммерческой недвижимостью     645\n",
       "жилье                                     641\n",
       "покупка жилья                             640\n",
       "покупка жилья для семьи                   637\n",
       "недвижимость                              631\n",
       "строительство собственной недвижимости    628\n",
       "операции со своей недвижимостью           623\n",
       "строительство жилой недвижимости          620\n",
       "покупка своего жилья                      619\n",
       "строительство недвижимости                619\n",
       "покупка недвижимости                      616\n",
       "ремонт жилью                              604\n",
       "покупка жилой недвижимости                602\n",
       "на покупку своего автомобиля              504\n",
       "заняться высшим образованием              496\n",
       "автомобиль                                491\n",
       "сделка с подержанным автомобилем          481\n",
       "автомобили                                476\n",
       "свой автомобиль                           473\n",
       "на покупку подержанного автомобиля        471\n",
       "на покупку автомобиля                     469\n",
       "приобретение автомобиля                   459\n",
       "сделка с автомобилем                      455\n",
       "дополнительное образование                455\n",
       "высшее образование                        446\n",
       "получение дополнительного образования     444\n",
       "образование                               442\n",
       "получение образования                     440\n",
       "профильное образование                    432\n",
       "получение высшего образования             425\n",
       "заняться образованием                     408\n",
       "Name: purpose, dtype: int64"
      ]
     },
     "execution_count": 23,
     "metadata": {},
     "output_type": "execute_result"
    }
   ],
   "source": [
    "df['purpose'].value_counts()"
   ]
  },
  {
   "cell_type": "markdown",
   "id": "824ec7b8",
   "metadata": {},
   "source": [
    "### Шаг 2.7. Категоризация целей кредита."
   ]
  },
  {
   "cell_type": "code",
   "execution_count": 24,
   "id": "1009b5a2",
   "metadata": {
    "scrolled": true
   },
   "outputs": [
    {
     "data": {
      "text/html": [
       "<div>\n",
       "<style scoped>\n",
       "    .dataframe tbody tr th:only-of-type {\n",
       "        vertical-align: middle;\n",
       "    }\n",
       "\n",
       "    .dataframe tbody tr th {\n",
       "        vertical-align: top;\n",
       "    }\n",
       "\n",
       "    .dataframe thead th {\n",
       "        text-align: right;\n",
       "    }\n",
       "</style>\n",
       "<table border=\"1\" class=\"dataframe\">\n",
       "  <thead>\n",
       "    <tr style=\"text-align: right;\">\n",
       "      <th></th>\n",
       "      <th>children</th>\n",
       "      <th>days_employed</th>\n",
       "      <th>dob_years</th>\n",
       "      <th>education_id</th>\n",
       "      <th>family_status_id</th>\n",
       "      <th>gender</th>\n",
       "      <th>income_type</th>\n",
       "      <th>debt</th>\n",
       "      <th>total_income</th>\n",
       "      <th>purpose</th>\n",
       "      <th>total_income_category</th>\n",
       "      <th>purpose_category</th>\n",
       "    </tr>\n",
       "  </thead>\n",
       "  <tbody>\n",
       "    <tr>\n",
       "      <th>0</th>\n",
       "      <td>1</td>\n",
       "      <td>8437.673028</td>\n",
       "      <td>42</td>\n",
       "      <td>0</td>\n",
       "      <td>0</td>\n",
       "      <td>F</td>\n",
       "      <td>сотрудник</td>\n",
       "      <td>0</td>\n",
       "      <td>253875</td>\n",
       "      <td>покупка жилья</td>\n",
       "      <td>B</td>\n",
       "      <td>операции с недвижимостью</td>\n",
       "    </tr>\n",
       "    <tr>\n",
       "      <th>1</th>\n",
       "      <td>1</td>\n",
       "      <td>4024.803754</td>\n",
       "      <td>36</td>\n",
       "      <td>1</td>\n",
       "      <td>0</td>\n",
       "      <td>F</td>\n",
       "      <td>сотрудник</td>\n",
       "      <td>0</td>\n",
       "      <td>112080</td>\n",
       "      <td>приобретение автомобиля</td>\n",
       "      <td>C</td>\n",
       "      <td>операции с автомобилем</td>\n",
       "    </tr>\n",
       "    <tr>\n",
       "      <th>2</th>\n",
       "      <td>0</td>\n",
       "      <td>5623.422610</td>\n",
       "      <td>33</td>\n",
       "      <td>1</td>\n",
       "      <td>0</td>\n",
       "      <td>M</td>\n",
       "      <td>сотрудник</td>\n",
       "      <td>0</td>\n",
       "      <td>145885</td>\n",
       "      <td>покупка жилья</td>\n",
       "      <td>C</td>\n",
       "      <td>операции с недвижимостью</td>\n",
       "    </tr>\n",
       "    <tr>\n",
       "      <th>3</th>\n",
       "      <td>3</td>\n",
       "      <td>4124.747207</td>\n",
       "      <td>32</td>\n",
       "      <td>1</td>\n",
       "      <td>0</td>\n",
       "      <td>M</td>\n",
       "      <td>сотрудник</td>\n",
       "      <td>0</td>\n",
       "      <td>267628</td>\n",
       "      <td>дополнительное образование</td>\n",
       "      <td>B</td>\n",
       "      <td>получение образования</td>\n",
       "    </tr>\n",
       "    <tr>\n",
       "      <th>4</th>\n",
       "      <td>0</td>\n",
       "      <td>14177.753002</td>\n",
       "      <td>53</td>\n",
       "      <td>1</td>\n",
       "      <td>1</td>\n",
       "      <td>F</td>\n",
       "      <td>пенсионер</td>\n",
       "      <td>0</td>\n",
       "      <td>158616</td>\n",
       "      <td>сыграть свадьбу</td>\n",
       "      <td>C</td>\n",
       "      <td>проведение свадьбы</td>\n",
       "    </tr>\n",
       "    <tr>\n",
       "      <th>5</th>\n",
       "      <td>0</td>\n",
       "      <td>926.185831</td>\n",
       "      <td>27</td>\n",
       "      <td>0</td>\n",
       "      <td>1</td>\n",
       "      <td>M</td>\n",
       "      <td>компаньон</td>\n",
       "      <td>0</td>\n",
       "      <td>255763</td>\n",
       "      <td>покупка жилья</td>\n",
       "      <td>B</td>\n",
       "      <td>операции с недвижимостью</td>\n",
       "    </tr>\n",
       "    <tr>\n",
       "      <th>6</th>\n",
       "      <td>0</td>\n",
       "      <td>2879.202052</td>\n",
       "      <td>43</td>\n",
       "      <td>0</td>\n",
       "      <td>0</td>\n",
       "      <td>F</td>\n",
       "      <td>компаньон</td>\n",
       "      <td>0</td>\n",
       "      <td>240525</td>\n",
       "      <td>операции с жильем</td>\n",
       "      <td>B</td>\n",
       "      <td>операции с недвижимостью</td>\n",
       "    </tr>\n",
       "    <tr>\n",
       "      <th>7</th>\n",
       "      <td>0</td>\n",
       "      <td>152.779569</td>\n",
       "      <td>50</td>\n",
       "      <td>1</td>\n",
       "      <td>0</td>\n",
       "      <td>M</td>\n",
       "      <td>сотрудник</td>\n",
       "      <td>0</td>\n",
       "      <td>135823</td>\n",
       "      <td>образование</td>\n",
       "      <td>C</td>\n",
       "      <td>получение образования</td>\n",
       "    </tr>\n",
       "    <tr>\n",
       "      <th>8</th>\n",
       "      <td>2</td>\n",
       "      <td>6929.865299</td>\n",
       "      <td>35</td>\n",
       "      <td>0</td>\n",
       "      <td>1</td>\n",
       "      <td>F</td>\n",
       "      <td>сотрудник</td>\n",
       "      <td>0</td>\n",
       "      <td>95856</td>\n",
       "      <td>на проведение свадьбы</td>\n",
       "      <td>C</td>\n",
       "      <td>проведение свадьбы</td>\n",
       "    </tr>\n",
       "    <tr>\n",
       "      <th>9</th>\n",
       "      <td>0</td>\n",
       "      <td>2188.756445</td>\n",
       "      <td>41</td>\n",
       "      <td>1</td>\n",
       "      <td>0</td>\n",
       "      <td>M</td>\n",
       "      <td>сотрудник</td>\n",
       "      <td>0</td>\n",
       "      <td>144425</td>\n",
       "      <td>покупка жилья для семьи</td>\n",
       "      <td>C</td>\n",
       "      <td>операции с недвижимостью</td>\n",
       "    </tr>\n",
       "  </tbody>\n",
       "</table>\n",
       "</div>"
      ],
      "text/plain": [
       "   children  days_employed  dob_years  education_id  family_status_id gender  \\\n",
       "0         1    8437.673028         42             0                 0      F   \n",
       "1         1    4024.803754         36             1                 0      F   \n",
       "2         0    5623.422610         33             1                 0      M   \n",
       "3         3    4124.747207         32             1                 0      M   \n",
       "4         0   14177.753002         53             1                 1      F   \n",
       "5         0     926.185831         27             0                 1      M   \n",
       "6         0    2879.202052         43             0                 0      F   \n",
       "7         0     152.779569         50             1                 0      M   \n",
       "8         2    6929.865299         35             0                 1      F   \n",
       "9         0    2188.756445         41             1                 0      M   \n",
       "\n",
       "  income_type  debt  total_income                     purpose  \\\n",
       "0   сотрудник     0        253875               покупка жилья   \n",
       "1   сотрудник     0        112080     приобретение автомобиля   \n",
       "2   сотрудник     0        145885               покупка жилья   \n",
       "3   сотрудник     0        267628  дополнительное образование   \n",
       "4   пенсионер     0        158616             сыграть свадьбу   \n",
       "5   компаньон     0        255763               покупка жилья   \n",
       "6   компаньон     0        240525           операции с жильем   \n",
       "7   сотрудник     0        135823                 образование   \n",
       "8   сотрудник     0         95856       на проведение свадьбы   \n",
       "9   сотрудник     0        144425     покупка жилья для семьи   \n",
       "\n",
       "  total_income_category          purpose_category  \n",
       "0                     B  операции с недвижимостью  \n",
       "1                     C    операции с автомобилем  \n",
       "2                     C  операции с недвижимостью  \n",
       "3                     B     получение образования  \n",
       "4                     C        проведение свадьбы  \n",
       "5                     B  операции с недвижимостью  \n",
       "6                     B  операции с недвижимостью  \n",
       "7                     C     получение образования  \n",
       "8                     C        проведение свадьбы  \n",
       "9                     C  операции с недвижимостью  "
      ]
     },
     "execution_count": 24,
     "metadata": {},
     "output_type": "execute_result"
    }
   ],
   "source": [
    "#напишем функцию, которая считает значение в каждой строке столбца purpose и в зависимости от его значения присвоит тип операции \n",
    "def purpose_category(row):\n",
    "    purpose_category = row['purpose']\n",
    "    car = 'автомобил' #ключевое слово, по которому можно определить тип. Ниже по аналогии \n",
    "    wedding = 'свадьб'\n",
    "    education = 'образован'\n",
    "    \n",
    "    if car in purpose_category:\n",
    "        return 'операции с автомобилем'\n",
    "    if education in purpose_category:\n",
    "        return 'получение образования'\n",
    "    if wedding in purpose_category:\n",
    "        return 'проведение свадьбы'\n",
    "    return 'операции с недвижимостью'\n",
    "\n",
    "df['purpose_category'] = df.apply(purpose_category, axis=1)\n",
    "df.head(10) #смотрим результат"
   ]
  },
  {
   "cell_type": "markdown",
   "id": "968bb538",
   "metadata": {},
   "source": [
    "### Ответы на вопросы."
   ]
  },
  {
   "cell_type": "markdown",
   "id": "ea3e6622",
   "metadata": {},
   "source": [
    "##### Вопрос 1: Есть ли зависимость между количеством детей и возвратом кредита в срок?"
   ]
  },
  {
   "cell_type": "code",
   "execution_count": 25,
   "id": "f71e2731",
   "metadata": {
    "scrolled": true
   },
   "outputs": [
    {
     "data": {
      "text/html": [
       "<style  type=\"text/css\" >\n",
       "</style><table id=\"T_641c0_\" ><thead>    <tr>        <th class=\"blank level0\" ></th>        <th class=\"col_heading level0 col0\" >Нет задолженности</th>        <th class=\"col_heading level0 col1\" >Задолженность</th>        <th class=\"col_heading level0 col2\" >% задолженности</th>    </tr>    <tr>        <th class=\"index_name level0\" >children</th>        <th class=\"blank\" ></th>        <th class=\"blank\" ></th>        <th class=\"blank\" ></th>    </tr></thead><tbody>\n",
       "                <tr>\n",
       "                        <th id=\"T_641c0_level0_row0\" class=\"row_heading level0 row0\" >0</th>\n",
       "                        <td id=\"T_641c0_row0_col0\" class=\"data row0 col0\" >13028.000000</td>\n",
       "                        <td id=\"T_641c0_row0_col1\" class=\"data row0 col1\" >1063</td>\n",
       "                        <td id=\"T_641c0_row0_col2\" class=\"data row0 col2\" >7.54%</td>\n",
       "            </tr>\n",
       "            <tr>\n",
       "                        <th id=\"T_641c0_level0_row1\" class=\"row_heading level0 row1\" >1</th>\n",
       "                        <td id=\"T_641c0_row1_col0\" class=\"data row1 col0\" >4364.000000</td>\n",
       "                        <td id=\"T_641c0_row1_col1\" class=\"data row1 col1\" >444</td>\n",
       "                        <td id=\"T_641c0_row1_col2\" class=\"data row1 col2\" >9.23%</td>\n",
       "            </tr>\n",
       "            <tr>\n",
       "                        <th id=\"T_641c0_level0_row2\" class=\"row_heading level0 row2\" >2</th>\n",
       "                        <td id=\"T_641c0_row2_col0\" class=\"data row2 col0\" >1858.000000</td>\n",
       "                        <td id=\"T_641c0_row2_col1\" class=\"data row2 col1\" >194</td>\n",
       "                        <td id=\"T_641c0_row2_col2\" class=\"data row2 col2\" >9.45%</td>\n",
       "            </tr>\n",
       "            <tr>\n",
       "                        <th id=\"T_641c0_level0_row3\" class=\"row_heading level0 row3\" >3</th>\n",
       "                        <td id=\"T_641c0_row3_col0\" class=\"data row3 col0\" >303.000000</td>\n",
       "                        <td id=\"T_641c0_row3_col1\" class=\"data row3 col1\" >27</td>\n",
       "                        <td id=\"T_641c0_row3_col2\" class=\"data row3 col2\" >8.18%</td>\n",
       "            </tr>\n",
       "            <tr>\n",
       "                        <th id=\"T_641c0_level0_row4\" class=\"row_heading level0 row4\" >4</th>\n",
       "                        <td id=\"T_641c0_row4_col0\" class=\"data row4 col0\" >37.000000</td>\n",
       "                        <td id=\"T_641c0_row4_col1\" class=\"data row4 col1\" >4</td>\n",
       "                        <td id=\"T_641c0_row4_col2\" class=\"data row4 col2\" >9.76%</td>\n",
       "            </tr>\n",
       "            <tr>\n",
       "                        <th id=\"T_641c0_level0_row5\" class=\"row_heading level0 row5\" >5</th>\n",
       "                        <td id=\"T_641c0_row5_col0\" class=\"data row5 col0\" >9.000000</td>\n",
       "                        <td id=\"T_641c0_row5_col1\" class=\"data row5 col1\" >0</td>\n",
       "                        <td id=\"T_641c0_row5_col2\" class=\"data row5 col2\" >0.00%</td>\n",
       "            </tr>\n",
       "    </tbody></table>"
      ],
      "text/plain": [
       "<pandas.io.formats.style.Styler at 0x7f05bed972e0>"
      ]
     },
     "metadata": {},
     "output_type": "display_data"
    }
   ],
   "source": [
    "debt_by_children = df.pivot_table(index = 'children', columns = 'debt', values = 'total_income', aggfunc = 'count').fillna(0)\n",
    "debt_by_children.columns = ['Нет задолженности', 'Задолженность']\n",
    "debt_by_children['% задолженности'] = debt_by_children['Задолженность'] / (debt_by_children['Задолженность'] + debt_by_children['Нет задолженности'])\n",
    "display(debt_by_children.style.format({'% задолженности': '{:.2%}', 'Задолженность': '{:.0f}'}))"
   ]
  },
  {
   "cell_type": "markdown",
   "id": "d2e9caa4",
   "metadata": {},
   "source": [
    "##### Вывод 1:"
   ]
  },
  {
   "cell_type": "markdown",
   "id": "9bdc0619",
   "metadata": {},
   "source": [
    "По итоговой таблице можно сделать следующие выводы:\n",
    "1. У клиентов, у которых 5 детей нет задолжностей вообще. \n",
    "2. От 1 до 4 детей процент задолжности примерно одинаковый 8-9%.\n",
    "3. У клиентов без детей этот процент чуть меньше - 7,5%. \n",
    "\n",
    "То есть кредиты возвращают лучше всего многодетные семьи с 5 детьми. На втором месте люди без детей. \n",
    "Количество детей в промежутке от 1 до 4 никак ни влияет на возврат долгов. \n"
   ]
  },
  {
   "cell_type": "markdown",
   "id": "fca8a4bf",
   "metadata": {},
   "source": [
    "##### Вопрос 2: Есть ли зависимость между семейным положением и возвратом кредита в срок?"
   ]
  },
  {
   "cell_type": "code",
   "execution_count": 26,
   "id": "079037f7",
   "metadata": {
    "scrolled": true
   },
   "outputs": [
    {
     "data": {
      "text/html": [
       "<style  type=\"text/css\" >\n",
       "</style><table id=\"T_932b7_\" ><thead>    <tr>        <th class=\"blank level0\" ></th>        <th class=\"col_heading level0 col0\" >family_status</th>        <th class=\"col_heading level0 col1\" >family_status_id</th>        <th class=\"col_heading level0 col2\" >Нет задолженности</th>        <th class=\"col_heading level0 col3\" >Задолженность</th>        <th class=\"col_heading level0 col4\" >% задолженности</th>    </tr></thead><tbody>\n",
       "                <tr>\n",
       "                        <th id=\"T_932b7_level0_row0\" class=\"row_heading level0 row0\" >0</th>\n",
       "                        <td id=\"T_932b7_row0_col0\" class=\"data row0 col0\" >женат / замужем</td>\n",
       "                        <td id=\"T_932b7_row0_col1\" class=\"data row0 col1\" >0</td>\n",
       "                        <td id=\"T_932b7_row0_col2\" class=\"data row0 col2\" >11334</td>\n",
       "                        <td id=\"T_932b7_row0_col3\" class=\"data row0 col3\" >927</td>\n",
       "                        <td id=\"T_932b7_row0_col4\" class=\"data row0 col4\" >7.56%</td>\n",
       "            </tr>\n",
       "            <tr>\n",
       "                        <th id=\"T_932b7_level0_row1\" class=\"row_heading level0 row1\" >1</th>\n",
       "                        <td id=\"T_932b7_row1_col0\" class=\"data row1 col0\" >гражданский брак</td>\n",
       "                        <td id=\"T_932b7_row1_col1\" class=\"data row1 col1\" >1</td>\n",
       "                        <td id=\"T_932b7_row1_col2\" class=\"data row1 col2\" >3749</td>\n",
       "                        <td id=\"T_932b7_row1_col3\" class=\"data row1 col3\" >385</td>\n",
       "                        <td id=\"T_932b7_row1_col4\" class=\"data row1 col4\" >9.31%</td>\n",
       "            </tr>\n",
       "            <tr>\n",
       "                        <th id=\"T_932b7_level0_row2\" class=\"row_heading level0 row2\" >2</th>\n",
       "                        <td id=\"T_932b7_row2_col0\" class=\"data row2 col0\" >вдовец / вдова</td>\n",
       "                        <td id=\"T_932b7_row2_col1\" class=\"data row2 col1\" >2</td>\n",
       "                        <td id=\"T_932b7_row2_col2\" class=\"data row2 col2\" >888</td>\n",
       "                        <td id=\"T_932b7_row2_col3\" class=\"data row2 col3\" >63</td>\n",
       "                        <td id=\"T_932b7_row2_col4\" class=\"data row2 col4\" >6.62%</td>\n",
       "            </tr>\n",
       "            <tr>\n",
       "                        <th id=\"T_932b7_level0_row3\" class=\"row_heading level0 row3\" >3</th>\n",
       "                        <td id=\"T_932b7_row3_col0\" class=\"data row3 col0\" >в разводе</td>\n",
       "                        <td id=\"T_932b7_row3_col1\" class=\"data row3 col1\" >3</td>\n",
       "                        <td id=\"T_932b7_row3_col2\" class=\"data row3 col2\" >1105</td>\n",
       "                        <td id=\"T_932b7_row3_col3\" class=\"data row3 col3\" >84</td>\n",
       "                        <td id=\"T_932b7_row3_col4\" class=\"data row3 col4\" >7.06%</td>\n",
       "            </tr>\n",
       "            <tr>\n",
       "                        <th id=\"T_932b7_level0_row4\" class=\"row_heading level0 row4\" >4</th>\n",
       "                        <td id=\"T_932b7_row4_col0\" class=\"data row4 col0\" >не женат / не замужем</td>\n",
       "                        <td id=\"T_932b7_row4_col1\" class=\"data row4 col1\" >4</td>\n",
       "                        <td id=\"T_932b7_row4_col2\" class=\"data row4 col2\" >2523</td>\n",
       "                        <td id=\"T_932b7_row4_col3\" class=\"data row4 col3\" >273</td>\n",
       "                        <td id=\"T_932b7_row4_col4\" class=\"data row4 col4\" >9.76%</td>\n",
       "            </tr>\n",
       "    </tbody></table>"
      ],
      "text/plain": [
       "<pandas.io.formats.style.Styler at 0x7f05ff85ad00>"
      ]
     },
     "metadata": {},
     "output_type": "display_data"
    }
   ],
   "source": [
    "debt_by_family = df.pivot_table(index = 'family_status_id', columns = 'debt', values = 'total_income', aggfunc = 'count').fillna(0)\n",
    "debt_by_family.columns = ['Нет задолженности', 'Задолженность']\n",
    "debt_by_family['% задолженности'] = debt_by_family['Задолженность'] / (debt_by_family['Задолженность'] + debt_by_family['Нет задолженности'])\n",
    "debt_by_family_report = family_status_dict.merge(debt_by_family, on = 'family_status_id')\n",
    "display(debt_by_family_report.style.format({'% задолженности': '{:.2%}', 'Задолженность': '{:.0f}'}))"
   ]
  },
  {
   "cell_type": "markdown",
   "id": "522e2d59",
   "metadata": {},
   "source": [
    "##### Вывод 2:"
   ]
  },
  {
   "cell_type": "markdown",
   "id": "4867a7ff",
   "metadata": {},
   "source": [
    "По сводной таблице можно сделать следующие выводы:\n",
    "1. Больше всего долгов в процентном соотношении у людей, которые не состоят в браке вообще или находятся в гражданском браке - в таких категориях примерно 9,5% долгов. \n",
    "2. Лучше всего платят по кредитам вдовцы. У них меньше всего процент задолжностей - 6,6%. \n",
    "3. У клиентов в браке или разводе процент задолжности средний - примерно 7%.\n",
    "\n",
    "Таким образом, семейное положение незначительно, но влияет на платежеспособность клиентов. "
   ]
  },
  {
   "cell_type": "markdown",
   "id": "0132e8f9",
   "metadata": {},
   "source": [
    "##### Вопрос 3: Есть ли зависимость между уровнем дохода и возвратом кредита в срок?"
   ]
  },
  {
   "cell_type": "code",
   "execution_count": 27,
   "id": "74d3db8f",
   "metadata": {
    "scrolled": false
   },
   "outputs": [
    {
     "data": {
      "text/html": [
       "<style  type=\"text/css\" >\n",
       "</style><table id=\"T_81f38_\" ><thead>    <tr>        <th class=\"blank level0\" ></th>        <th class=\"col_heading level0 col0\" >Нет задолженности</th>        <th class=\"col_heading level0 col1\" >Задолженность</th>        <th class=\"col_heading level0 col2\" >% задолженности</th>    </tr>    <tr>        <th class=\"index_name level0\" >total_income_category</th>        <th class=\"blank\" ></th>        <th class=\"blank\" ></th>        <th class=\"blank\" ></th>    </tr></thead><tbody>\n",
       "                <tr>\n",
       "                        <th id=\"T_81f38_level0_row0\" class=\"row_heading level0 row0\" >A</th>\n",
       "                        <td id=\"T_81f38_row0_col0\" class=\"data row0 col0\" >23</td>\n",
       "                        <td id=\"T_81f38_row0_col1\" class=\"data row0 col1\" >2</td>\n",
       "                        <td id=\"T_81f38_row0_col2\" class=\"data row0 col2\" >8.00%</td>\n",
       "            </tr>\n",
       "            <tr>\n",
       "                        <th id=\"T_81f38_level0_row1\" class=\"row_heading level0 row1\" >B</th>\n",
       "                        <td id=\"T_81f38_row1_col0\" class=\"data row1 col0\" >4660</td>\n",
       "                        <td id=\"T_81f38_row1_col1\" class=\"data row1 col1\" >354</td>\n",
       "                        <td id=\"T_81f38_row1_col2\" class=\"data row1 col2\" >7.06%</td>\n",
       "            </tr>\n",
       "            <tr>\n",
       "                        <th id=\"T_81f38_level0_row2\" class=\"row_heading level0 row2\" >C</th>\n",
       "                        <td id=\"T_81f38_row2_col0\" class=\"data row2 col0\" >14568</td>\n",
       "                        <td id=\"T_81f38_row2_col1\" class=\"data row2 col1\" >1353</td>\n",
       "                        <td id=\"T_81f38_row2_col2\" class=\"data row2 col2\" >8.50%</td>\n",
       "            </tr>\n",
       "            <tr>\n",
       "                        <th id=\"T_81f38_level0_row3\" class=\"row_heading level0 row3\" >D</th>\n",
       "                        <td id=\"T_81f38_row3_col0\" class=\"data row3 col0\" >328</td>\n",
       "                        <td id=\"T_81f38_row3_col1\" class=\"data row3 col1\" >21</td>\n",
       "                        <td id=\"T_81f38_row3_col2\" class=\"data row3 col2\" >6.02%</td>\n",
       "            </tr>\n",
       "            <tr>\n",
       "                        <th id=\"T_81f38_level0_row4\" class=\"row_heading level0 row4\" >E</th>\n",
       "                        <td id=\"T_81f38_row4_col0\" class=\"data row4 col0\" >20</td>\n",
       "                        <td id=\"T_81f38_row4_col1\" class=\"data row4 col1\" >2</td>\n",
       "                        <td id=\"T_81f38_row4_col2\" class=\"data row4 col2\" >9.09%</td>\n",
       "            </tr>\n",
       "    </tbody></table>"
      ],
      "text/plain": [
       "<pandas.io.formats.style.Styler at 0x7f05bea30dc0>"
      ]
     },
     "metadata": {},
     "output_type": "display_data"
    }
   ],
   "source": [
    "debt_by_total_income = df.pivot_table(index = 'total_income_category', columns = 'debt', values = 'total_income', aggfunc = 'count').fillna(0)\n",
    "debt_by_total_income.columns = ['Нет задолженности', 'Задолженность']\n",
    "debt_by_total_income['% задолженности'] = debt_by_total_income['Задолженность'] / (debt_by_total_income['Задолженность'] + debt_by_total_income['Нет задолженности'])\n",
    "display(debt_by_total_income.style.format({'% задолженности': '{:.2%}', 'Задолженность': '{:.0f}'}))"
   ]
  },
  {
   "cell_type": "markdown",
   "id": "62e67324",
   "metadata": {},
   "source": [
    "##### Вывод 3:"
   ]
  },
  {
   "cell_type": "markdown",
   "id": "80e265aa",
   "metadata": {},
   "source": [
    "По итоговой таблице можно сделать следующие вывод, что суммарный доход не влияет на возврат долгов по кредиту. \n",
    "Например, клиенты с самым высоким доходом \"А\" имеют такой же процент задолженности, как и клиенты со средним достатком категории \"С\". \n",
    "Явной закономерности не наблюдается. \n",
    "\n",
    "Однако, можно заметить, что сильно различается количество выданных займов. \n",
    "Больше всего кредитов берут клиенты категории \"С\" - среднего дохода. \n",
    "А к категориям \"А\" - высокий доход и \"Е\" - низкий доход, количество выданных кредитов значительно уменьшается. "
   ]
  },
  {
   "cell_type": "markdown",
   "id": "14055847",
   "metadata": {},
   "source": [
    "##### Вопрос 4: Как разные цели кредита влияют на его возврат в срок?"
   ]
  },
  {
   "cell_type": "code",
   "execution_count": 28,
   "id": "45d583e2",
   "metadata": {
    "scrolled": true
   },
   "outputs": [
    {
     "data": {
      "text/html": [
       "<style  type=\"text/css\" >\n",
       "</style><table id=\"T_437e1_\" ><thead>    <tr>        <th class=\"blank level0\" ></th>        <th class=\"col_heading level0 col0\" >Нет задолженности</th>        <th class=\"col_heading level0 col1\" >Задолженность</th>        <th class=\"col_heading level0 col2\" >% задолженности</th>    </tr>    <tr>        <th class=\"index_name level0\" >purpose_category</th>        <th class=\"blank\" ></th>        <th class=\"blank\" ></th>        <th class=\"blank\" ></th>    </tr></thead><tbody>\n",
       "                <tr>\n",
       "                        <th id=\"T_437e1_level0_row0\" class=\"row_heading level0 row0\" >операции с автомобилем</th>\n",
       "                        <td id=\"T_437e1_row0_col0\" class=\"data row0 col0\" >3879</td>\n",
       "                        <td id=\"T_437e1_row0_col1\" class=\"data row0 col1\" >400</td>\n",
       "                        <td id=\"T_437e1_row0_col2\" class=\"data row0 col2\" >9.35%</td>\n",
       "            </tr>\n",
       "            <tr>\n",
       "                        <th id=\"T_437e1_level0_row1\" class=\"row_heading level0 row1\" >операции с недвижимостью</th>\n",
       "                        <td id=\"T_437e1_row1_col0\" class=\"data row1 col0\" >9971</td>\n",
       "                        <td id=\"T_437e1_row1_col1\" class=\"data row1 col1\" >780</td>\n",
       "                        <td id=\"T_437e1_row1_col2\" class=\"data row1 col2\" >7.26%</td>\n",
       "            </tr>\n",
       "            <tr>\n",
       "                        <th id=\"T_437e1_level0_row2\" class=\"row_heading level0 row2\" >получение образования</th>\n",
       "                        <td id=\"T_437e1_row2_col0\" class=\"data row2 col0\" >3619</td>\n",
       "                        <td id=\"T_437e1_row2_col1\" class=\"data row2 col1\" >369</td>\n",
       "                        <td id=\"T_437e1_row2_col2\" class=\"data row2 col2\" >9.25%</td>\n",
       "            </tr>\n",
       "            <tr>\n",
       "                        <th id=\"T_437e1_level0_row3\" class=\"row_heading level0 row3\" >проведение свадьбы</th>\n",
       "                        <td id=\"T_437e1_row3_col0\" class=\"data row3 col0\" >2130</td>\n",
       "                        <td id=\"T_437e1_row3_col1\" class=\"data row3 col1\" >183</td>\n",
       "                        <td id=\"T_437e1_row3_col2\" class=\"data row3 col2\" >7.91%</td>\n",
       "            </tr>\n",
       "    </tbody></table>"
      ],
      "text/plain": [
       "<pandas.io.formats.style.Styler at 0x7f05bed97670>"
      ]
     },
     "metadata": {},
     "output_type": "display_data"
    }
   ],
   "source": [
    "debt_by_purpose = df.pivot_table(index = 'purpose_category', columns = 'debt', values = 'purpose', aggfunc = 'count').fillna(0)\n",
    "debt_by_purpose.columns = ['Нет задолженности', 'Задолженность']\n",
    "debt_by_purpose['% задолженности'] = debt_by_purpose['Задолженность'] / (debt_by_purpose['Задолженность'] + debt_by_purpose['Нет задолженности'])\n",
    "display(debt_by_purpose.style.format({'% задолженности': '{:.2%}', 'Задолженность': '{:.0f}'}))"
   ]
  },
  {
   "cell_type": "markdown",
   "id": "b0f64f86",
   "metadata": {},
   "source": [
    "##### Вывод 4:"
   ]
  },
  {
   "cell_type": "markdown",
   "id": "450adcb3",
   "metadata": {},
   "source": [
    "По сводной таблицу можно сделать следующие выводы:\n",
    "1. Клиенты лучше платят по кредитам, взятым на операции с недвижимостью или проведение свадьбы. Процент задолженности у таких составляет около 7,5%.\n",
    "2. Хуже возвращают долги по операциям с автомобилем или образованием. Здесть процент задолженности составляет чуть больше 9%. \n",
    "\n"
   ]
  },
  {
   "cell_type": "markdown",
   "id": "a0553b90",
   "metadata": {},
   "source": [
    "## Общий вывод:"
   ]
  },
  {
   "cell_type": "markdown",
   "id": "c23be6b3",
   "metadata": {},
   "source": [
    "Кредитным отьделом банка кредитный отдел банка нам была поставлена главная цель - выяснить, какие факторы влияют на факт погашения кредита в срок.\n",
    "\n",
    "Заказчиком были предоставлены входные данные — статистика о платёжеспособности клиентов.\n",
    "Целью было проверить 4 гипотезы:\n",
    "\n",
    "- Есть ли зависимость между количеством детей и возвратом кредита в срок?\n",
    "- Есть ли зависимость между семейным положением и возвратом кредита в срок?\n",
    "- Есть ли зависимость между уровнем дохода и возвратом кредита в срок?\n",
    "- Как разные цели кредита влияют на его возврат в срок?\n",
    "\n",
    "Основное исследование прошло в 4 этапа:\n",
    "\n",
    "#### Изучение общей информации о данных.\n",
    "На данном этапе мы олучили общую информации о данных в таблице и увидели, с чем предстоит иметь дело.\n",
    "\n",
    "Основные проблемы, которые были выявлены: \n",
    "1. В двух столбцах (days_employed и total_income) были пропущенны значения.\n",
    "2. Пристутсвовали аномальные значения. Например, столбце days_employed (трудовой стаж) - отрицательные значения.\n",
    "3. Не все типы данных подходили для анализа.\n",
    "\n",
    "#### Предобработка данных.\n",
    "На втором этапе мы подготовили решили проблемы, выявленные на первом этапе и подготовили данные ддля дальнейшего анализа.\n",
    "А именно:\n",
    "1. Заполненили пропуски.\n",
    "2. Проверили данные на аномалии и исправили их.\n",
    "3. Избавились от некорректных данных, которые не повлияют на дальнейший анализ.\n",
    "4. Измененили типы данных на те, которые подойдут для дальнейшего анализа. \n",
    "5. Нашли и обработали неявные дубликаты. (привели данные к единому регистру)\n",
    "6. Удалили явные дубликаты. \n",
    "7. Сформировали дополнительные датафреймы словарей и декомпозировали исходный датафрейм для удобства анализа. \n",
    "8. Для удобства анализа категоризировали клиентов:\n",
    "- в зависимости от их дохода (от А до Е);\n",
    "- в зависимости от целей кредита (свадьба, недвижимость, образование, авто).\n",
    "\n",
    "#### Ответы на поставленные вопросы.\n",
    "На данном третьем этапе мы посторили сводные таблицы и проверили четыре гипотезы. Краткие выводы по каждому вопросу представлены ниже.\n",
    "\n",
    "1. Наличие и количество детей по-разному влияют на платежеспособность клиентов. Первая гипотеза подтвердилась.\n",
    "\n",
    "2. Семейное положение также влияет на наличие задолженностей по кредиту, вторая гипотеза подтвердилась.\n",
    "\n",
    "3. Зависимости между уровнем дохода и возвратом кредита в срок установлено не было. Вопреки ожиданиям люди с большим доходом платят кредит также, как и со средним. Однако берут их значительно реже как клиенты категории \"А\", так и категории \"Е\". Третья гипотеза не подтвердилась. \n",
    "\n",
    "4. Цель кредита относительно влияют на погашение кредита. Из 4 целей были выделены 2 группы, в которых отличается процент задолженностей. \n",
    "\n",
    "\n",
    "#### Общий вывод\n",
    "Последний, четвертый этап посвящен обобщению результатов исследования и рекомендаций заказчику на основе проведенного анализа. \n",
    "\n",
    "Итак, можно сделать вывод, что при построении модели кредитного скоринга банку следует учитывать наличие и количество детей (меньше долгов у многодетных семей (5 детей) и у кредиторов без детей), а также частично на семейное положение кредитора.\n",
    "Также стоит брать во внимание цели кредита (клиенты лучше платят по кредитам, взятым на операции с недвижимостью или проведение свадьбы).\n",
    "\n",
    "Зависимости между уровнем дохода и возвратом кредита в срок установлено не было.\n",
    "\n"
   ]
  }
 ],
 "metadata": {
  "ExecuteTimeLog": [
   {
    "duration": 345,
    "start_time": "2022-02-10T08:51:22.551Z"
   },
   {
    "duration": 743,
    "start_time": "2022-02-10T08:51:32.355Z"
   },
   {
    "duration": 57,
    "start_time": "2022-02-10T08:51:34.951Z"
   },
   {
    "duration": 28,
    "start_time": "2022-02-10T08:52:36.583Z"
   },
   {
    "duration": 15,
    "start_time": "2022-02-10T08:53:31.826Z"
   },
   {
    "duration": 13,
    "start_time": "2022-02-10T09:34:25.997Z"
   },
   {
    "duration": 7,
    "start_time": "2022-02-10T09:44:34.313Z"
   },
   {
    "duration": 191,
    "start_time": "2022-02-10T09:44:42.428Z"
   },
   {
    "duration": 94,
    "start_time": "2022-02-10T09:44:52.394Z"
   },
   {
    "duration": 8,
    "start_time": "2022-02-10T09:44:57.832Z"
   },
   {
    "duration": 11,
    "start_time": "2022-02-10T09:45:04.364Z"
   },
   {
    "duration": 98,
    "start_time": "2022-02-10T09:46:40.160Z"
   },
   {
    "duration": 152,
    "start_time": "2022-02-10T09:47:02.996Z"
   },
   {
    "duration": 101,
    "start_time": "2022-02-10T09:47:11.604Z"
   },
   {
    "duration": 403,
    "start_time": "2022-02-10T09:47:49.977Z"
   },
   {
    "duration": 304,
    "start_time": "2022-02-10T09:47:54.789Z"
   },
   {
    "duration": 14,
    "start_time": "2022-02-10T09:49:24.080Z"
   },
   {
    "duration": 347,
    "start_time": "2022-02-10T09:51:41.828Z"
   },
   {
    "duration": 310,
    "start_time": "2022-02-10T09:52:39.520Z"
   },
   {
    "duration": 11,
    "start_time": "2022-02-10T09:52:58.728Z"
   },
   {
    "duration": 12,
    "start_time": "2022-02-10T09:53:08.936Z"
   },
   {
    "duration": 7,
    "start_time": "2022-02-10T09:53:37.440Z"
   },
   {
    "duration": 7,
    "start_time": "2022-02-10T09:53:43.357Z"
   },
   {
    "duration": 7,
    "start_time": "2022-02-10T09:53:50.504Z"
   },
   {
    "duration": 7,
    "start_time": "2022-02-10T09:54:14.112Z"
   },
   {
    "duration": 5,
    "start_time": "2022-02-10T09:55:22.504Z"
   },
   {
    "duration": 6,
    "start_time": "2022-02-10T09:55:30.572Z"
   },
   {
    "duration": 5,
    "start_time": "2022-02-10T10:06:31.015Z"
   },
   {
    "duration": 4,
    "start_time": "2022-02-10T10:06:34.720Z"
   },
   {
    "duration": 344,
    "start_time": "2022-02-10T10:06:42.055Z"
   },
   {
    "duration": 6,
    "start_time": "2022-02-10T10:07:10.127Z"
   },
   {
    "duration": 10,
    "start_time": "2022-02-10T10:08:32.447Z"
   },
   {
    "duration": 9,
    "start_time": "2022-02-10T10:11:06.544Z"
   },
   {
    "duration": 13,
    "start_time": "2022-02-10T10:11:24.668Z"
   },
   {
    "duration": 27,
    "start_time": "2022-02-10T10:11:44.531Z"
   },
   {
    "duration": 25,
    "start_time": "2022-02-10T10:11:58.267Z"
   },
   {
    "duration": 13,
    "start_time": "2022-02-10T10:12:00.236Z"
   },
   {
    "duration": 7,
    "start_time": "2022-02-10T10:29:06.094Z"
   },
   {
    "duration": 23,
    "start_time": "2022-02-10T10:29:20.402Z"
   },
   {
    "duration": 18,
    "start_time": "2022-02-10T10:29:38.838Z"
   },
   {
    "duration": 308,
    "start_time": "2022-02-15T03:30:05.567Z"
   },
   {
    "duration": 1651,
    "start_time": "2022-02-15T03:30:04.227Z"
   },
   {
    "duration": 751,
    "start_time": "2022-02-15T03:30:19.700Z"
   },
   {
    "duration": 58,
    "start_time": "2022-02-15T03:30:20.455Z"
   },
   {
    "duration": 37,
    "start_time": "2022-02-15T03:30:20.515Z"
   },
   {
    "duration": 16,
    "start_time": "2022-02-15T03:30:20.555Z"
   },
   {
    "duration": 12,
    "start_time": "2022-02-15T03:30:20.573Z"
   },
   {
    "duration": 6,
    "start_time": "2022-02-15T03:30:20.587Z"
   },
   {
    "duration": 43,
    "start_time": "2022-02-15T03:30:20.595Z"
   },
   {
    "duration": 20,
    "start_time": "2022-02-15T03:30:20.640Z"
   },
   {
    "duration": 19,
    "start_time": "2022-02-15T03:30:20.663Z"
   },
   {
    "duration": 3,
    "start_time": "2022-02-15T03:30:46.711Z"
   },
   {
    "duration": 60,
    "start_time": "2022-02-15T03:30:46.717Z"
   },
   {
    "duration": 19,
    "start_time": "2022-02-15T03:30:46.780Z"
   },
   {
    "duration": 33,
    "start_time": "2022-02-15T03:30:46.801Z"
   },
   {
    "duration": 11,
    "start_time": "2022-02-15T03:30:46.837Z"
   },
   {
    "duration": 8,
    "start_time": "2022-02-15T03:30:46.850Z"
   },
   {
    "duration": 30,
    "start_time": "2022-02-15T03:30:46.861Z"
   },
   {
    "duration": 41,
    "start_time": "2022-02-15T03:30:46.893Z"
   },
   {
    "duration": 16,
    "start_time": "2022-02-15T03:30:46.936Z"
   },
   {
    "duration": 3,
    "start_time": "2022-02-15T08:16:55.816Z"
   },
   {
    "duration": 64,
    "start_time": "2022-02-15T08:16:55.822Z"
   },
   {
    "duration": 19,
    "start_time": "2022-02-15T08:16:55.889Z"
   },
   {
    "duration": 29,
    "start_time": "2022-02-15T08:16:55.911Z"
   },
   {
    "duration": 12,
    "start_time": "2022-02-15T08:16:55.942Z"
   },
   {
    "duration": 6,
    "start_time": "2022-02-15T08:16:55.956Z"
   },
   {
    "duration": 36,
    "start_time": "2022-02-15T08:16:55.965Z"
   },
   {
    "duration": 12,
    "start_time": "2022-02-15T08:16:56.032Z"
   },
   {
    "duration": 17,
    "start_time": "2022-02-15T08:16:56.047Z"
   },
   {
    "duration": 285,
    "start_time": "2022-02-15T09:09:46.438Z"
   },
   {
    "duration": 10,
    "start_time": "2022-02-15T09:09:56.198Z"
   },
   {
    "duration": 9,
    "start_time": "2022-02-15T09:10:30.386Z"
   },
   {
    "duration": 8,
    "start_time": "2022-02-15T09:10:46.490Z"
   },
   {
    "duration": 9,
    "start_time": "2022-02-15T09:11:26.290Z"
   },
   {
    "duration": 9,
    "start_time": "2022-02-15T09:11:38.798Z"
   },
   {
    "duration": 10,
    "start_time": "2022-02-15T09:12:00.402Z"
   },
   {
    "duration": 13,
    "start_time": "2022-02-15T09:12:17.510Z"
   },
   {
    "duration": 3,
    "start_time": "2022-02-15T09:12:21.194Z"
   },
   {
    "duration": 72,
    "start_time": "2022-02-15T09:12:21.200Z"
   },
   {
    "duration": 19,
    "start_time": "2022-02-15T09:12:21.274Z"
   },
   {
    "duration": 34,
    "start_time": "2022-02-15T09:12:21.296Z"
   },
   {
    "duration": 18,
    "start_time": "2022-02-15T09:12:21.333Z"
   },
   {
    "duration": 20,
    "start_time": "2022-02-15T09:12:21.354Z"
   },
   {
    "duration": 58,
    "start_time": "2022-02-15T09:12:21.376Z"
   },
   {
    "duration": 13,
    "start_time": "2022-02-15T09:12:21.437Z"
   },
   {
    "duration": 17,
    "start_time": "2022-02-15T09:12:21.453Z"
   },
   {
    "duration": 6579,
    "start_time": "2022-02-15T09:13:28.166Z"
   },
   {
    "duration": 7,
    "start_time": "2022-02-15T09:13:51.909Z"
   },
   {
    "duration": 12,
    "start_time": "2022-02-15T09:14:04.730Z"
   },
   {
    "duration": 3,
    "start_time": "2022-02-15T09:14:07.718Z"
   },
   {
    "duration": 56,
    "start_time": "2022-02-15T09:14:07.724Z"
   },
   {
    "duration": 19,
    "start_time": "2022-02-15T09:14:07.782Z"
   },
   {
    "duration": 30,
    "start_time": "2022-02-15T09:14:07.803Z"
   },
   {
    "duration": 12,
    "start_time": "2022-02-15T09:14:07.836Z"
   },
   {
    "duration": 7,
    "start_time": "2022-02-15T09:14:07.850Z"
   },
   {
    "duration": 37,
    "start_time": "2022-02-15T09:14:07.860Z"
   },
   {
    "duration": 43,
    "start_time": "2022-02-15T09:14:07.899Z"
   },
   {
    "duration": 17,
    "start_time": "2022-02-15T09:14:07.944Z"
   },
   {
    "duration": 12,
    "start_time": "2022-02-15T09:18:44.074Z"
   },
   {
    "duration": 3,
    "start_time": "2022-02-15T09:18:49.569Z"
   },
   {
    "duration": 60,
    "start_time": "2022-02-15T09:18:50.177Z"
   },
   {
    "duration": 21,
    "start_time": "2022-02-15T09:18:50.901Z"
   },
   {
    "duration": 16,
    "start_time": "2022-02-15T09:18:53.453Z"
   },
   {
    "duration": 12,
    "start_time": "2022-02-15T09:18:57.398Z"
   },
   {
    "duration": 9,
    "start_time": "2022-02-15T09:19:00.090Z"
   },
   {
    "duration": 10,
    "start_time": "2022-02-15T09:19:28.286Z"
   },
   {
    "duration": 7,
    "start_time": "2022-02-15T09:20:35.737Z"
   },
   {
    "duration": 9,
    "start_time": "2022-02-15T09:20:53.430Z"
   },
   {
    "duration": 9,
    "start_time": "2022-02-15T09:21:48.394Z"
   },
   {
    "duration": 6,
    "start_time": "2022-02-15T09:22:08.333Z"
   },
   {
    "duration": 37,
    "start_time": "2022-02-15T09:22:14.682Z"
   },
   {
    "duration": 13,
    "start_time": "2022-02-15T09:22:17.697Z"
   },
   {
    "duration": 19,
    "start_time": "2022-02-15T09:22:20.013Z"
   },
   {
    "duration": 438,
    "start_time": "2022-02-15T09:24:17.929Z"
   },
   {
    "duration": 19,
    "start_time": "2022-02-15T09:24:37.626Z"
   },
   {
    "duration": 8,
    "start_time": "2022-02-15T09:24:53.269Z"
   },
   {
    "duration": 7,
    "start_time": "2022-02-15T09:25:00.526Z"
   },
   {
    "duration": 8,
    "start_time": "2022-02-15T09:26:11.625Z"
   },
   {
    "duration": 4,
    "start_time": "2022-02-15T09:26:15.637Z"
   },
   {
    "duration": 61,
    "start_time": "2022-02-15T09:26:15.644Z"
   },
   {
    "duration": 34,
    "start_time": "2022-02-15T09:26:15.708Z"
   },
   {
    "duration": 22,
    "start_time": "2022-02-15T09:26:15.747Z"
   },
   {
    "duration": 11,
    "start_time": "2022-02-15T09:26:15.771Z"
   },
   {
    "duration": 10,
    "start_time": "2022-02-15T09:26:15.785Z"
   },
   {
    "duration": 73,
    "start_time": "2022-02-15T09:26:15.798Z"
   },
   {
    "duration": 12,
    "start_time": "2022-02-15T09:26:15.873Z"
   },
   {
    "duration": 45,
    "start_time": "2022-02-15T09:26:15.887Z"
   },
   {
    "duration": 15,
    "start_time": "2022-02-15T09:26:23.357Z"
   },
   {
    "duration": 77,
    "start_time": "2022-02-15T09:26:38.893Z"
   },
   {
    "duration": 7,
    "start_time": "2022-02-15T09:26:47.501Z"
   },
   {
    "duration": 15,
    "start_time": "2022-02-15T09:27:03.473Z"
   },
   {
    "duration": 21,
    "start_time": "2022-02-15T09:27:14.313Z"
   },
   {
    "duration": 300,
    "start_time": "2022-02-15T09:27:33.701Z"
   },
   {
    "duration": 252,
    "start_time": "2022-02-15T09:27:43.041Z"
   },
   {
    "duration": 7,
    "start_time": "2022-02-15T09:28:02.173Z"
   },
   {
    "duration": 7,
    "start_time": "2022-02-15T09:28:09.889Z"
   },
   {
    "duration": 8,
    "start_time": "2022-02-15T09:28:34.893Z"
   },
   {
    "duration": 14,
    "start_time": "2022-02-15T09:35:08.553Z"
   },
   {
    "duration": 17,
    "start_time": "2022-02-15T09:35:20.978Z"
   },
   {
    "duration": 36,
    "start_time": "2022-02-15T09:36:33.645Z"
   },
   {
    "duration": 39,
    "start_time": "2022-02-15T09:36:54.693Z"
   },
   {
    "duration": 57,
    "start_time": "2022-02-15T09:37:03.713Z"
   },
   {
    "duration": 5,
    "start_time": "2022-02-15T09:43:15.225Z"
   },
   {
    "duration": 30,
    "start_time": "2022-02-15T09:43:21.293Z"
   },
   {
    "duration": 25,
    "start_time": "2022-02-15T09:43:58.053Z"
   },
   {
    "duration": 23,
    "start_time": "2022-02-15T09:47:13.709Z"
   },
   {
    "duration": 10,
    "start_time": "2022-02-15T09:48:05.541Z"
   },
   {
    "duration": 6135,
    "start_time": "2022-02-15T09:49:52.657Z"
   },
   {
    "duration": 1043,
    "start_time": "2022-02-15T09:50:27.117Z"
   },
   {
    "duration": 16,
    "start_time": "2022-02-15T09:50:38.364Z"
   },
   {
    "duration": 14,
    "start_time": "2022-02-15T09:50:51.221Z"
   },
   {
    "duration": 38,
    "start_time": "2022-02-15T09:53:32.661Z"
   },
   {
    "duration": 40,
    "start_time": "2022-02-15T09:53:35.057Z"
   },
   {
    "duration": 64,
    "start_time": "2022-02-15T09:53:39.601Z"
   },
   {
    "duration": 57,
    "start_time": "2022-02-15T09:53:47.449Z"
   },
   {
    "duration": 10,
    "start_time": "2022-02-15T09:55:42.365Z"
   },
   {
    "duration": 16,
    "start_time": "2022-02-15T09:56:55.401Z"
   },
   {
    "duration": 26,
    "start_time": "2022-02-15T09:57:02.336Z"
   },
   {
    "duration": 33,
    "start_time": "2022-02-15T10:01:04.765Z"
   },
   {
    "duration": 4,
    "start_time": "2022-02-15T10:02:23.824Z"
   },
   {
    "duration": 82,
    "start_time": "2022-02-15T10:02:23.830Z"
   },
   {
    "duration": 19,
    "start_time": "2022-02-15T10:02:23.915Z"
   },
   {
    "duration": 37,
    "start_time": "2022-02-15T10:02:23.937Z"
   },
   {
    "duration": 12,
    "start_time": "2022-02-15T10:02:23.976Z"
   },
   {
    "duration": 24,
    "start_time": "2022-02-15T10:02:23.990Z"
   },
   {
    "duration": 56,
    "start_time": "2022-02-15T10:02:24.018Z"
   },
   {
    "duration": 11,
    "start_time": "2022-02-15T10:02:24.077Z"
   },
   {
    "duration": 17,
    "start_time": "2022-02-15T10:02:24.090Z"
   },
   {
    "duration": 25,
    "start_time": "2022-02-15T10:02:24.109Z"
   },
   {
    "duration": 30,
    "start_time": "2022-02-15T10:02:24.137Z"
   },
   {
    "duration": 71,
    "start_time": "2022-02-15T10:02:24.169Z"
   },
   {
    "duration": 10,
    "start_time": "2022-02-15T10:02:24.242Z"
   },
   {
    "duration": 38,
    "start_time": "2022-02-15T10:02:24.255Z"
   },
   {
    "duration": 26,
    "start_time": "2022-02-15T10:02:39.184Z"
   },
   {
    "duration": 7,
    "start_time": "2022-02-15T10:14:09.640Z"
   },
   {
    "duration": 18,
    "start_time": "2022-02-15T10:14:14.644Z"
   },
   {
    "duration": 18,
    "start_time": "2022-02-15T10:14:23.920Z"
   },
   {
    "duration": 7,
    "start_time": "2022-02-15T10:14:31.772Z"
   },
   {
    "duration": 65,
    "start_time": "2022-02-15T10:18:21.435Z"
   },
   {
    "duration": 11,
    "start_time": "2022-02-15T10:18:23.359Z"
   },
   {
    "duration": 30,
    "start_time": "2022-02-15T10:18:25.867Z"
   },
   {
    "duration": 8,
    "start_time": "2022-02-15T10:18:31.885Z"
   },
   {
    "duration": 10,
    "start_time": "2022-02-15T10:21:40.548Z"
   },
   {
    "duration": 280,
    "start_time": "2022-02-15T10:22:15.141Z"
   },
   {
    "duration": 234,
    "start_time": "2022-02-15T10:22:29.385Z"
   },
   {
    "duration": 259,
    "start_time": "2022-02-15T10:23:45.078Z"
   },
   {
    "duration": 319,
    "start_time": "2022-02-15T10:24:04.914Z"
   },
   {
    "duration": 260,
    "start_time": "2022-02-15T10:24:19.246Z"
   },
   {
    "duration": 259,
    "start_time": "2022-02-15T10:27:32.250Z"
   },
   {
    "duration": 278,
    "start_time": "2022-02-15T10:28:23.292Z"
   },
   {
    "duration": 253,
    "start_time": "2022-02-15T10:28:33.958Z"
   },
   {
    "duration": 4,
    "start_time": "2022-02-15T10:28:46.465Z"
   },
   {
    "duration": 68,
    "start_time": "2022-02-15T10:28:46.472Z"
   },
   {
    "duration": 19,
    "start_time": "2022-02-15T10:28:46.544Z"
   },
   {
    "duration": 18,
    "start_time": "2022-02-15T10:28:46.566Z"
   },
   {
    "duration": 48,
    "start_time": "2022-02-15T10:28:46.587Z"
   },
   {
    "duration": 5,
    "start_time": "2022-02-15T10:28:46.637Z"
   },
   {
    "duration": 38,
    "start_time": "2022-02-15T10:28:46.644Z"
   },
   {
    "duration": 53,
    "start_time": "2022-02-15T10:28:46.684Z"
   },
   {
    "duration": 8,
    "start_time": "2022-02-15T10:28:46.741Z"
   },
   {
    "duration": 21,
    "start_time": "2022-02-15T10:28:46.753Z"
   },
   {
    "duration": 68,
    "start_time": "2022-02-15T10:28:46.776Z"
   },
   {
    "duration": 60,
    "start_time": "2022-02-15T10:28:46.847Z"
   },
   {
    "duration": 10,
    "start_time": "2022-02-15T10:28:46.933Z"
   },
   {
    "duration": 29,
    "start_time": "2022-02-15T10:28:46.946Z"
   },
   {
    "duration": 8,
    "start_time": "2022-02-15T10:28:46.977Z"
   },
   {
    "duration": 12,
    "start_time": "2022-02-15T10:28:54.569Z"
   },
   {
    "duration": 252,
    "start_time": "2022-02-15T10:29:00.590Z"
   },
   {
    "duration": 242,
    "start_time": "2022-02-15T10:29:06.650Z"
   },
   {
    "duration": 5,
    "start_time": "2022-02-15T10:29:09.553Z"
   },
   {
    "duration": 61,
    "start_time": "2022-02-15T10:29:09.566Z"
   },
   {
    "duration": 20,
    "start_time": "2022-02-15T10:29:09.629Z"
   },
   {
    "duration": 15,
    "start_time": "2022-02-15T10:29:09.652Z"
   },
   {
    "duration": 13,
    "start_time": "2022-02-15T10:29:09.670Z"
   },
   {
    "duration": 45,
    "start_time": "2022-02-15T10:29:09.686Z"
   },
   {
    "duration": 37,
    "start_time": "2022-02-15T10:29:09.734Z"
   },
   {
    "duration": 12,
    "start_time": "2022-02-15T10:29:09.773Z"
   },
   {
    "duration": 46,
    "start_time": "2022-02-15T10:29:09.788Z"
   },
   {
    "duration": 18,
    "start_time": "2022-02-15T10:29:09.838Z"
   },
   {
    "duration": 21,
    "start_time": "2022-02-15T10:29:09.859Z"
   },
   {
    "duration": 106,
    "start_time": "2022-02-15T10:29:09.882Z"
   },
   {
    "duration": 10,
    "start_time": "2022-02-15T10:29:09.990Z"
   },
   {
    "duration": 49,
    "start_time": "2022-02-15T10:29:10.003Z"
   },
   {
    "duration": 12,
    "start_time": "2022-02-15T10:29:10.055Z"
   },
   {
    "duration": 252,
    "start_time": "2022-02-15T10:30:38.059Z"
   },
   {
    "duration": 27,
    "start_time": "2022-02-15T10:30:44.753Z"
   },
   {
    "duration": 259,
    "start_time": "2022-02-15T10:36:19.137Z"
   },
   {
    "duration": 258,
    "start_time": "2022-02-15T10:36:22.234Z"
   },
   {
    "duration": 3,
    "start_time": "2022-02-15T10:36:25.561Z"
   },
   {
    "duration": 64,
    "start_time": "2022-02-15T10:36:25.566Z"
   },
   {
    "duration": 20,
    "start_time": "2022-02-15T10:36:25.633Z"
   },
   {
    "duration": 16,
    "start_time": "2022-02-15T10:36:25.656Z"
   },
   {
    "duration": 12,
    "start_time": "2022-02-15T10:36:25.675Z"
   },
   {
    "duration": 45,
    "start_time": "2022-02-15T10:36:25.689Z"
   },
   {
    "duration": 38,
    "start_time": "2022-02-15T10:36:25.737Z"
   },
   {
    "duration": 12,
    "start_time": "2022-02-15T10:36:25.778Z"
   },
   {
    "duration": 45,
    "start_time": "2022-02-15T10:36:25.793Z"
   },
   {
    "duration": 18,
    "start_time": "2022-02-15T10:36:25.841Z"
   },
   {
    "duration": 18,
    "start_time": "2022-02-15T10:36:25.861Z"
   },
   {
    "duration": 105,
    "start_time": "2022-02-15T10:36:25.881Z"
   },
   {
    "duration": 9,
    "start_time": "2022-02-15T10:36:25.989Z"
   },
   {
    "duration": 49,
    "start_time": "2022-02-15T10:36:26.001Z"
   },
   {
    "duration": 14,
    "start_time": "2022-02-15T10:36:26.052Z"
   },
   {
    "duration": 15,
    "start_time": "2022-02-15T10:36:59.250Z"
   },
   {
    "duration": 16,
    "start_time": "2022-02-15T10:49:20.248Z"
   },
   {
    "duration": 40,
    "start_time": "2022-02-15T10:49:31.388Z"
   },
   {
    "duration": 15,
    "start_time": "2022-02-15T10:52:08.465Z"
   },
   {
    "duration": 6,
    "start_time": "2022-02-15T10:53:22.683Z"
   },
   {
    "duration": 62,
    "start_time": "2022-02-15T10:53:22.691Z"
   },
   {
    "duration": 19,
    "start_time": "2022-02-15T10:53:22.757Z"
   },
   {
    "duration": 17,
    "start_time": "2022-02-15T10:53:22.779Z"
   },
   {
    "duration": 12,
    "start_time": "2022-02-15T10:53:22.798Z"
   },
   {
    "duration": 5,
    "start_time": "2022-02-15T10:53:22.813Z"
   },
   {
    "duration": 45,
    "start_time": "2022-02-15T10:53:22.821Z"
   },
   {
    "duration": 11,
    "start_time": "2022-02-15T10:53:22.869Z"
   },
   {
    "duration": 11,
    "start_time": "2022-02-15T10:53:22.882Z"
   },
   {
    "duration": 24,
    "start_time": "2022-02-15T10:53:22.896Z"
   },
   {
    "duration": 27,
    "start_time": "2022-02-15T10:53:22.922Z"
   },
   {
    "duration": 65,
    "start_time": "2022-02-15T10:53:22.952Z"
   },
   {
    "duration": 18,
    "start_time": "2022-02-15T10:53:23.019Z"
   },
   {
    "duration": 28,
    "start_time": "2022-02-15T10:53:23.039Z"
   },
   {
    "duration": 21,
    "start_time": "2022-02-15T10:53:23.069Z"
   },
   {
    "duration": 20,
    "start_time": "2022-02-15T10:53:23.093Z"
   },
   {
    "duration": 17,
    "start_time": "2022-02-15T10:53:23.115Z"
   },
   {
    "duration": 21,
    "start_time": "2022-02-15T10:53:23.135Z"
   },
   {
    "duration": 29,
    "start_time": "2022-02-15T10:53:29.529Z"
   },
   {
    "duration": 270,
    "start_time": "2022-02-16T09:44:42.219Z"
   },
   {
    "duration": 177,
    "start_time": "2022-02-16T09:45:28.263Z"
   },
   {
    "duration": 175,
    "start_time": "2022-02-16T09:45:33.659Z"
   },
   {
    "duration": 639,
    "start_time": "2022-02-16T09:45:46.103Z"
   },
   {
    "duration": 54,
    "start_time": "2022-02-16T09:45:46.744Z"
   },
   {
    "duration": 32,
    "start_time": "2022-02-16T09:45:46.801Z"
   },
   {
    "duration": 13,
    "start_time": "2022-02-16T09:45:46.836Z"
   },
   {
    "duration": 13,
    "start_time": "2022-02-16T09:45:46.851Z"
   },
   {
    "duration": 16,
    "start_time": "2022-02-16T09:45:46.866Z"
   },
   {
    "duration": 64,
    "start_time": "2022-02-16T09:45:46.885Z"
   },
   {
    "duration": 14,
    "start_time": "2022-02-16T09:45:46.953Z"
   },
   {
    "duration": 14,
    "start_time": "2022-02-16T09:45:46.969Z"
   },
   {
    "duration": 46,
    "start_time": "2022-02-16T09:45:46.985Z"
   },
   {
    "duration": 19,
    "start_time": "2022-02-16T09:45:47.033Z"
   },
   {
    "duration": 79,
    "start_time": "2022-02-16T09:45:47.054Z"
   },
   {
    "duration": 11,
    "start_time": "2022-02-16T09:45:47.135Z"
   },
   {
    "duration": 27,
    "start_time": "2022-02-16T09:45:47.148Z"
   },
   {
    "duration": 11,
    "start_time": "2022-02-16T09:45:47.177Z"
   },
   {
    "duration": 49,
    "start_time": "2022-02-16T09:45:47.190Z"
   },
   {
    "duration": 29,
    "start_time": "2022-02-16T09:45:47.242Z"
   },
   {
    "duration": 7,
    "start_time": "2022-02-16T09:45:47.273Z"
   },
   {
    "duration": 6,
    "start_time": "2022-02-16T09:45:47.282Z"
   },
   {
    "duration": 322,
    "start_time": "2022-02-16T10:02:04.642Z"
   },
   {
    "duration": 3,
    "start_time": "2022-02-16T10:02:22.102Z"
   },
   {
    "duration": 42,
    "start_time": "2022-02-16T10:02:22.111Z"
   },
   {
    "duration": 12,
    "start_time": "2022-02-16T10:02:22.155Z"
   },
   {
    "duration": 15,
    "start_time": "2022-02-16T10:02:22.169Z"
   },
   {
    "duration": 9,
    "start_time": "2022-02-16T10:02:22.186Z"
   },
   {
    "duration": 34,
    "start_time": "2022-02-16T10:02:22.196Z"
   },
   {
    "duration": 25,
    "start_time": "2022-02-16T10:02:22.232Z"
   },
   {
    "duration": 8,
    "start_time": "2022-02-16T10:02:22.259Z"
   },
   {
    "duration": 5,
    "start_time": "2022-02-16T10:02:22.269Z"
   },
   {
    "duration": 54,
    "start_time": "2022-02-16T10:02:22.276Z"
   },
   {
    "duration": 14,
    "start_time": "2022-02-16T10:02:22.332Z"
   },
   {
    "duration": 42,
    "start_time": "2022-02-16T10:02:22.348Z"
   },
   {
    "duration": 7,
    "start_time": "2022-02-16T10:02:22.391Z"
   },
   {
    "duration": 45,
    "start_time": "2022-02-16T10:02:22.400Z"
   },
   {
    "duration": 11,
    "start_time": "2022-02-16T10:02:22.446Z"
   },
   {
    "duration": 9,
    "start_time": "2022-02-16T10:02:22.459Z"
   },
   {
    "duration": 19,
    "start_time": "2022-02-16T10:02:22.470Z"
   },
   {
    "duration": 44,
    "start_time": "2022-02-16T10:02:22.491Z"
   },
   {
    "duration": 308,
    "start_time": "2022-02-16T10:02:22.537Z"
   },
   {
    "duration": 303,
    "start_time": "2022-02-16T10:03:49.954Z"
   },
   {
    "duration": 3,
    "start_time": "2022-02-16T10:03:56.635Z"
   },
   {
    "duration": 298,
    "start_time": "2022-02-16T10:04:06.910Z"
   },
   {
    "duration": 206,
    "start_time": "2022-02-16T10:05:25.607Z"
   },
   {
    "duration": 234,
    "start_time": "2022-02-16T10:05:39.562Z"
   },
   {
    "duration": 187,
    "start_time": "2022-02-16T10:24:40.609Z"
   },
   {
    "duration": 352,
    "start_time": "2022-02-16T10:25:05.653Z"
   },
   {
    "duration": 19,
    "start_time": "2022-02-16T10:28:04.837Z"
   },
   {
    "duration": 20,
    "start_time": "2022-02-16T10:28:19.265Z"
   },
   {
    "duration": 20,
    "start_time": "2022-02-16T10:29:25.009Z"
   },
   {
    "duration": 19,
    "start_time": "2022-02-16T10:29:46.009Z"
   },
   {
    "duration": 18,
    "start_time": "2022-02-16T10:30:03.857Z"
   },
   {
    "duration": 217,
    "start_time": "2022-02-16T10:33:51.025Z"
   },
   {
    "duration": 71,
    "start_time": "2022-02-16T10:34:09.061Z"
   },
   {
    "duration": 29,
    "start_time": "2022-02-16T10:38:19.688Z"
   },
   {
    "duration": 232,
    "start_time": "2022-02-17T05:49:55.303Z"
   },
   {
    "duration": 584,
    "start_time": "2022-02-17T05:50:03.260Z"
   },
   {
    "duration": 45,
    "start_time": "2022-02-17T05:50:03.846Z"
   },
   {
    "duration": 18,
    "start_time": "2022-02-17T05:50:03.893Z"
   },
   {
    "duration": 20,
    "start_time": "2022-02-17T05:50:03.912Z"
   },
   {
    "duration": 9,
    "start_time": "2022-02-17T05:50:03.934Z"
   },
   {
    "duration": 4,
    "start_time": "2022-02-17T05:50:03.944Z"
   },
   {
    "duration": 24,
    "start_time": "2022-02-17T05:50:03.950Z"
   },
   {
    "duration": 10,
    "start_time": "2022-02-17T05:50:03.977Z"
   },
   {
    "duration": 41,
    "start_time": "2022-02-17T05:50:03.990Z"
   },
   {
    "duration": 15,
    "start_time": "2022-02-17T05:50:04.033Z"
   },
   {
    "duration": 11,
    "start_time": "2022-02-17T05:50:04.050Z"
   },
   {
    "duration": 41,
    "start_time": "2022-02-17T05:50:04.062Z"
   },
   {
    "duration": 31,
    "start_time": "2022-02-17T05:50:04.105Z"
   },
   {
    "duration": 17,
    "start_time": "2022-02-17T05:50:04.138Z"
   },
   {
    "duration": 11,
    "start_time": "2022-02-17T05:50:04.157Z"
   },
   {
    "duration": 13,
    "start_time": "2022-02-17T05:50:04.169Z"
   },
   {
    "duration": 24,
    "start_time": "2022-02-17T05:50:04.184Z"
   },
   {
    "duration": 23,
    "start_time": "2022-02-17T05:50:04.210Z"
   },
   {
    "duration": 241,
    "start_time": "2022-02-17T05:50:04.235Z"
   },
   {
    "duration": 350,
    "start_time": "2022-02-17T05:50:04.477Z"
   },
   {
    "duration": 33,
    "start_time": "2022-02-17T05:50:04.829Z"
   },
   {
    "duration": 26,
    "start_time": "2022-02-17T05:55:45.119Z"
   },
   {
    "duration": 30,
    "start_time": "2022-02-17T06:00:44.963Z"
   },
   {
    "duration": 21,
    "start_time": "2022-02-17T06:02:41.866Z"
   },
   {
    "duration": 30,
    "start_time": "2022-02-17T06:02:54.302Z"
   },
   {
    "duration": 210,
    "start_time": "2022-02-17T06:07:40.358Z"
   },
   {
    "duration": 2,
    "start_time": "2022-02-17T06:07:43.647Z"
   },
   {
    "duration": 53,
    "start_time": "2022-02-17T06:07:43.653Z"
   },
   {
    "duration": 13,
    "start_time": "2022-02-17T06:07:43.708Z"
   },
   {
    "duration": 10,
    "start_time": "2022-02-17T06:07:43.723Z"
   },
   {
    "duration": 9,
    "start_time": "2022-02-17T06:07:43.736Z"
   },
   {
    "duration": 4,
    "start_time": "2022-02-17T06:07:43.746Z"
   },
   {
    "duration": 23,
    "start_time": "2022-02-17T06:07:43.752Z"
   },
   {
    "duration": 9,
    "start_time": "2022-02-17T06:07:43.777Z"
   },
   {
    "duration": 5,
    "start_time": "2022-02-17T06:07:43.788Z"
   },
   {
    "duration": 42,
    "start_time": "2022-02-17T06:07:43.795Z"
   },
   {
    "duration": 11,
    "start_time": "2022-02-17T06:07:43.839Z"
   },
   {
    "duration": 42,
    "start_time": "2022-02-17T06:07:43.851Z"
   },
   {
    "duration": 7,
    "start_time": "2022-02-17T06:07:43.894Z"
   },
   {
    "duration": 17,
    "start_time": "2022-02-17T06:07:43.931Z"
   },
   {
    "duration": 38,
    "start_time": "2022-02-17T06:07:43.950Z"
   },
   {
    "duration": 10,
    "start_time": "2022-02-17T06:07:43.990Z"
   },
   {
    "duration": 46,
    "start_time": "2022-02-17T06:07:44.001Z"
   },
   {
    "duration": 7,
    "start_time": "2022-02-17T06:07:44.049Z"
   },
   {
    "duration": 234,
    "start_time": "2022-02-17T06:07:44.058Z"
   },
   {
    "duration": 22,
    "start_time": "2022-02-17T06:07:44.293Z"
   },
   {
    "duration": 36,
    "start_time": "2022-02-17T06:07:44.317Z"
   },
   {
    "duration": 19,
    "start_time": "2022-02-17T06:09:30.114Z"
   },
   {
    "duration": 19,
    "start_time": "2022-02-17T06:14:15.454Z"
   },
   {
    "duration": 18,
    "start_time": "2022-02-17T06:14:35.746Z"
   },
   {
    "duration": 19,
    "start_time": "2022-02-17T06:17:43.254Z"
   },
   {
    "duration": 22,
    "start_time": "2022-02-17T06:18:22.114Z"
   },
   {
    "duration": 167,
    "start_time": "2022-02-17T06:22:11.058Z"
   },
   {
    "duration": 2,
    "start_time": "2022-02-17T06:22:17.318Z"
   },
   {
    "duration": 50,
    "start_time": "2022-02-17T06:22:17.325Z"
   },
   {
    "duration": 13,
    "start_time": "2022-02-17T06:22:17.376Z"
   },
   {
    "duration": 10,
    "start_time": "2022-02-17T06:22:17.391Z"
   },
   {
    "duration": 31,
    "start_time": "2022-02-17T06:22:17.403Z"
   },
   {
    "duration": 4,
    "start_time": "2022-02-17T06:22:17.435Z"
   },
   {
    "duration": 25,
    "start_time": "2022-02-17T06:22:17.441Z"
   },
   {
    "duration": 10,
    "start_time": "2022-02-17T06:22:17.468Z"
   },
   {
    "duration": 5,
    "start_time": "2022-02-17T06:22:17.480Z"
   },
   {
    "duration": 13,
    "start_time": "2022-02-17T06:22:17.531Z"
   },
   {
    "duration": 11,
    "start_time": "2022-02-17T06:22:17.546Z"
   },
   {
    "duration": 40,
    "start_time": "2022-02-17T06:22:17.558Z"
   },
   {
    "duration": 31,
    "start_time": "2022-02-17T06:22:17.600Z"
   },
   {
    "duration": 17,
    "start_time": "2022-02-17T06:22:17.633Z"
   },
   {
    "duration": 38,
    "start_time": "2022-02-17T06:22:17.651Z"
   },
   {
    "duration": 41,
    "start_time": "2022-02-17T06:22:17.690Z"
   },
   {
    "duration": 19,
    "start_time": "2022-02-17T06:22:17.732Z"
   },
   {
    "duration": 8,
    "start_time": "2022-02-17T06:22:17.753Z"
   },
   {
    "duration": 245,
    "start_time": "2022-02-17T06:22:17.762Z"
   },
   {
    "duration": 30,
    "start_time": "2022-02-17T06:22:18.008Z"
   },
   {
    "duration": 182,
    "start_time": "2022-02-17T06:22:18.040Z"
   },
   {
    "duration": 3717,
    "start_time": "2022-02-17T06:22:14.507Z"
   },
   {
    "duration": 3715,
    "start_time": "2022-02-17T06:22:14.510Z"
   },
   {
    "duration": 211,
    "start_time": "2022-02-17T06:22:33.662Z"
   },
   {
    "duration": 176,
    "start_time": "2022-02-17T06:23:10.675Z"
   },
   {
    "duration": 2,
    "start_time": "2022-02-17T06:23:13.210Z"
   },
   {
    "duration": 45,
    "start_time": "2022-02-17T06:23:13.217Z"
   },
   {
    "duration": 11,
    "start_time": "2022-02-17T06:23:13.264Z"
   },
   {
    "duration": 13,
    "start_time": "2022-02-17T06:23:13.277Z"
   },
   {
    "duration": 9,
    "start_time": "2022-02-17T06:23:13.292Z"
   },
   {
    "duration": 5,
    "start_time": "2022-02-17T06:23:13.331Z"
   },
   {
    "duration": 24,
    "start_time": "2022-02-17T06:23:13.338Z"
   },
   {
    "duration": 9,
    "start_time": "2022-02-17T06:23:13.363Z"
   },
   {
    "duration": 4,
    "start_time": "2022-02-17T06:23:13.375Z"
   },
   {
    "duration": 50,
    "start_time": "2022-02-17T06:23:13.381Z"
   },
   {
    "duration": 13,
    "start_time": "2022-02-17T06:23:13.432Z"
   },
   {
    "duration": 41,
    "start_time": "2022-02-17T06:23:13.447Z"
   },
   {
    "duration": 7,
    "start_time": "2022-02-17T06:23:13.489Z"
   },
   {
    "duration": 46,
    "start_time": "2022-02-17T06:23:13.498Z"
   },
   {
    "duration": 36,
    "start_time": "2022-02-17T06:23:13.546Z"
   },
   {
    "duration": 10,
    "start_time": "2022-02-17T06:23:13.583Z"
   },
   {
    "duration": 52,
    "start_time": "2022-02-17T06:23:13.595Z"
   },
   {
    "duration": 7,
    "start_time": "2022-02-17T06:23:13.649Z"
   },
   {
    "duration": 246,
    "start_time": "2022-02-17T06:23:13.657Z"
   },
   {
    "duration": 27,
    "start_time": "2022-02-17T06:23:13.905Z"
   },
   {
    "duration": 173,
    "start_time": "2022-02-17T06:23:13.933Z"
   },
   {
    "duration": 3720,
    "start_time": "2022-02-17T06:23:10.388Z"
   },
   {
    "duration": 3717,
    "start_time": "2022-02-17T06:23:10.392Z"
   },
   {
    "duration": 20,
    "start_time": "2022-02-17T06:23:38.686Z"
   },
   {
    "duration": 20,
    "start_time": "2022-02-17T06:23:56.657Z"
   },
   {
    "duration": 17,
    "start_time": "2022-02-17T06:24:00.298Z"
   },
   {
    "duration": 2,
    "start_time": "2022-02-17T06:24:04.250Z"
   },
   {
    "duration": 70,
    "start_time": "2022-02-17T06:24:04.257Z"
   },
   {
    "duration": 13,
    "start_time": "2022-02-17T06:24:04.329Z"
   },
   {
    "duration": 14,
    "start_time": "2022-02-17T06:24:04.344Z"
   },
   {
    "duration": 10,
    "start_time": "2022-02-17T06:24:04.360Z"
   },
   {
    "duration": 4,
    "start_time": "2022-02-17T06:24:04.372Z"
   },
   {
    "duration": 65,
    "start_time": "2022-02-17T06:24:04.378Z"
   },
   {
    "duration": 9,
    "start_time": "2022-02-17T06:24:04.445Z"
   },
   {
    "duration": 10,
    "start_time": "2022-02-17T06:24:04.456Z"
   },
   {
    "duration": 13,
    "start_time": "2022-02-17T06:24:04.468Z"
   },
   {
    "duration": 12,
    "start_time": "2022-02-17T06:24:04.482Z"
   },
   {
    "duration": 75,
    "start_time": "2022-02-17T06:24:04.495Z"
   },
   {
    "duration": 8,
    "start_time": "2022-02-17T06:24:04.571Z"
   },
   {
    "duration": 19,
    "start_time": "2022-02-17T06:24:04.580Z"
   },
   {
    "duration": 37,
    "start_time": "2022-02-17T06:24:04.630Z"
   },
   {
    "duration": 11,
    "start_time": "2022-02-17T06:24:04.670Z"
   },
   {
    "duration": 55,
    "start_time": "2022-02-17T06:24:04.684Z"
   },
   {
    "duration": 8,
    "start_time": "2022-02-17T06:24:04.741Z"
   },
   {
    "duration": 256,
    "start_time": "2022-02-17T06:24:04.751Z"
   },
   {
    "duration": 33,
    "start_time": "2022-02-17T06:24:05.010Z"
   },
   {
    "duration": 21,
    "start_time": "2022-02-17T06:24:05.045Z"
   },
   {
    "duration": 21,
    "start_time": "2022-02-17T06:24:05.068Z"
   },
   {
    "duration": 57,
    "start_time": "2022-02-17T06:24:05.091Z"
   },
   {
    "duration": 18,
    "start_time": "2022-02-17T06:24:56.662Z"
   },
   {
    "duration": 3,
    "start_time": "2022-02-17T06:30:01.898Z"
   },
   {
    "duration": 20,
    "start_time": "2022-02-17T06:30:01.902Z"
   },
   {
    "duration": 49,
    "start_time": "2022-02-17T06:30:01.924Z"
   },
   {
    "duration": 11,
    "start_time": "2022-02-17T06:30:01.975Z"
   },
   {
    "duration": 11,
    "start_time": "2022-02-17T06:30:01.988Z"
   },
   {
    "duration": 9,
    "start_time": "2022-02-17T06:30:02.001Z"
   },
   {
    "duration": 21,
    "start_time": "2022-02-17T06:30:02.011Z"
   },
   {
    "duration": 28,
    "start_time": "2022-02-17T06:30:02.034Z"
   },
   {
    "duration": 9,
    "start_time": "2022-02-17T06:30:02.063Z"
   },
   {
    "duration": 7,
    "start_time": "2022-02-17T06:30:02.074Z"
   },
   {
    "duration": 12,
    "start_time": "2022-02-17T06:30:02.082Z"
   },
   {
    "duration": 41,
    "start_time": "2022-02-17T06:30:02.096Z"
   },
   {
    "duration": 39,
    "start_time": "2022-02-17T06:30:02.138Z"
   },
   {
    "duration": 7,
    "start_time": "2022-02-17T06:30:02.179Z"
   },
   {
    "duration": 18,
    "start_time": "2022-02-17T06:30:02.188Z"
   },
   {
    "duration": 56,
    "start_time": "2022-02-17T06:30:02.207Z"
   },
   {
    "duration": 10,
    "start_time": "2022-02-17T06:30:02.265Z"
   },
   {
    "duration": 27,
    "start_time": "2022-02-17T06:30:02.277Z"
   },
   {
    "duration": 27,
    "start_time": "2022-02-17T06:30:02.306Z"
   },
   {
    "duration": 235,
    "start_time": "2022-02-17T06:30:02.335Z"
   },
   {
    "duration": 19,
    "start_time": "2022-02-17T06:30:02.571Z"
   },
   {
    "duration": 18,
    "start_time": "2022-02-17T06:30:02.592Z"
   },
   {
    "duration": 19,
    "start_time": "2022-02-17T06:30:02.630Z"
   },
   {
    "duration": 20,
    "start_time": "2022-02-17T06:30:02.651Z"
   },
   {
    "duration": 44,
    "start_time": "2022-02-17T06:45:26.893Z"
   },
   {
    "duration": 3,
    "start_time": "2022-02-17T06:45:32.733Z"
   },
   {
    "duration": 5,
    "start_time": "2022-02-17T06:45:32.738Z"
   },
   {
    "duration": 46,
    "start_time": "2022-02-17T06:45:32.745Z"
   },
   {
    "duration": 12,
    "start_time": "2022-02-17T06:45:32.793Z"
   },
   {
    "duration": 13,
    "start_time": "2022-02-17T06:45:32.807Z"
   },
   {
    "duration": 9,
    "start_time": "2022-02-17T06:45:32.830Z"
   },
   {
    "duration": 3,
    "start_time": "2022-02-17T06:45:32.841Z"
   },
   {
    "duration": 116,
    "start_time": "2022-02-17T06:45:32.846Z"
   },
   {
    "duration": 8,
    "start_time": "2022-02-17T06:45:32.964Z"
   },
   {
    "duration": 11,
    "start_time": "2022-02-17T06:45:32.974Z"
   },
   {
    "duration": 14,
    "start_time": "2022-02-17T06:45:32.986Z"
   },
   {
    "duration": 175,
    "start_time": "2022-02-17T06:45:33.001Z"
   },
   {
    "duration": 3735,
    "start_time": "2022-02-17T06:45:29.443Z"
   },
   {
    "duration": 3734,
    "start_time": "2022-02-17T06:45:29.445Z"
   },
   {
    "duration": 3733,
    "start_time": "2022-02-17T06:45:29.447Z"
   },
   {
    "duration": 3731,
    "start_time": "2022-02-17T06:45:29.449Z"
   },
   {
    "duration": 3730,
    "start_time": "2022-02-17T06:45:29.451Z"
   },
   {
    "duration": 3725,
    "start_time": "2022-02-17T06:45:29.457Z"
   },
   {
    "duration": 3724,
    "start_time": "2022-02-17T06:45:29.459Z"
   },
   {
    "duration": 3723,
    "start_time": "2022-02-17T06:45:29.461Z"
   },
   {
    "duration": 3721,
    "start_time": "2022-02-17T06:45:29.464Z"
   },
   {
    "duration": 3720,
    "start_time": "2022-02-17T06:45:29.466Z"
   },
   {
    "duration": 3719,
    "start_time": "2022-02-17T06:45:29.468Z"
   },
   {
    "duration": 3719,
    "start_time": "2022-02-17T06:45:29.469Z"
   },
   {
    "duration": 49,
    "start_time": "2022-02-17T06:49:44.833Z"
   },
   {
    "duration": 2,
    "start_time": "2022-02-17T06:49:50.765Z"
   },
   {
    "duration": 4,
    "start_time": "2022-02-17T06:49:50.769Z"
   },
   {
    "duration": 47,
    "start_time": "2022-02-17T06:49:50.776Z"
   },
   {
    "duration": 15,
    "start_time": "2022-02-17T06:49:50.825Z"
   },
   {
    "duration": 13,
    "start_time": "2022-02-17T06:49:50.842Z"
   },
   {
    "duration": 8,
    "start_time": "2022-02-17T06:49:50.857Z"
   },
   {
    "duration": 12,
    "start_time": "2022-02-17T06:49:50.867Z"
   },
   {
    "duration": 66,
    "start_time": "2022-02-17T06:49:50.881Z"
   },
   {
    "duration": 46,
    "start_time": "2022-02-17T06:49:50.949Z"
   },
   {
    "duration": 9,
    "start_time": "2022-02-17T06:49:50.997Z"
   },
   {
    "duration": 28,
    "start_time": "2022-02-17T06:49:51.007Z"
   },
   {
    "duration": 16,
    "start_time": "2022-02-17T06:49:51.037Z"
   },
   {
    "duration": 13,
    "start_time": "2022-02-17T06:49:51.054Z"
   },
   {
    "duration": 65,
    "start_time": "2022-02-17T06:49:51.069Z"
   },
   {
    "duration": 7,
    "start_time": "2022-02-17T06:49:51.135Z"
   },
   {
    "duration": 18,
    "start_time": "2022-02-17T06:49:51.144Z"
   },
   {
    "duration": 39,
    "start_time": "2022-02-17T06:49:51.163Z"
   },
   {
    "duration": 32,
    "start_time": "2022-02-17T06:49:51.205Z"
   },
   {
    "duration": 20,
    "start_time": "2022-02-17T06:49:51.239Z"
   },
   {
    "duration": 10,
    "start_time": "2022-02-17T06:49:51.260Z"
   },
   {
    "duration": 261,
    "start_time": "2022-02-17T06:49:51.272Z"
   },
   {
    "duration": 22,
    "start_time": "2022-02-17T06:49:51.535Z"
   },
   {
    "duration": 22,
    "start_time": "2022-02-17T06:49:51.559Z"
   },
   {
    "duration": 18,
    "start_time": "2022-02-17T06:49:51.583Z"
   },
   {
    "duration": 20,
    "start_time": "2022-02-17T06:49:51.631Z"
   },
   {
    "duration": 12,
    "start_time": "2022-02-17T06:51:10.404Z"
   },
   {
    "duration": 14,
    "start_time": "2022-02-17T06:51:20.516Z"
   },
   {
    "duration": 3,
    "start_time": "2022-02-17T06:51:30.401Z"
   },
   {
    "duration": 7,
    "start_time": "2022-02-17T06:51:30.405Z"
   },
   {
    "duration": 52,
    "start_time": "2022-02-17T06:51:30.414Z"
   },
   {
    "duration": 11,
    "start_time": "2022-02-17T06:51:30.468Z"
   },
   {
    "duration": 17,
    "start_time": "2022-02-17T06:51:30.481Z"
   },
   {
    "duration": 33,
    "start_time": "2022-02-17T06:51:30.500Z"
   },
   {
    "duration": 4,
    "start_time": "2022-02-17T06:51:30.535Z"
   },
   {
    "duration": 61,
    "start_time": "2022-02-17T06:51:30.541Z"
   },
   {
    "duration": 60,
    "start_time": "2022-02-17T06:51:30.604Z"
   },
   {
    "duration": 9,
    "start_time": "2022-02-17T06:51:30.665Z"
   },
   {
    "duration": 30,
    "start_time": "2022-02-17T06:51:30.676Z"
   },
   {
    "duration": 28,
    "start_time": "2022-02-17T06:51:30.707Z"
   },
   {
    "duration": 22,
    "start_time": "2022-02-17T06:51:30.737Z"
   },
   {
    "duration": 43,
    "start_time": "2022-02-17T06:51:30.762Z"
   },
   {
    "duration": 6,
    "start_time": "2022-02-17T06:51:30.807Z"
   },
   {
    "duration": 29,
    "start_time": "2022-02-17T06:51:30.815Z"
   },
   {
    "duration": 39,
    "start_time": "2022-02-17T06:51:30.846Z"
   },
   {
    "duration": 10,
    "start_time": "2022-02-17T06:51:30.887Z"
   },
   {
    "duration": 22,
    "start_time": "2022-02-17T06:51:30.898Z"
   },
   {
    "duration": 7,
    "start_time": "2022-02-17T06:51:30.930Z"
   },
   {
    "duration": 239,
    "start_time": "2022-02-17T06:51:30.939Z"
   },
   {
    "duration": 21,
    "start_time": "2022-02-17T06:51:31.179Z"
   },
   {
    "duration": 35,
    "start_time": "2022-02-17T06:51:31.202Z"
   },
   {
    "duration": 17,
    "start_time": "2022-02-17T06:51:31.239Z"
   },
   {
    "duration": 19,
    "start_time": "2022-02-17T06:51:31.258Z"
   },
   {
    "duration": 15,
    "start_time": "2022-02-17T06:51:54.704Z"
   },
   {
    "duration": 12,
    "start_time": "2022-02-17T06:52:04.321Z"
   },
   {
    "duration": 60,
    "start_time": "2022-02-17T06:59:02.105Z"
   },
   {
    "duration": 9,
    "start_time": "2022-02-17T06:59:07.832Z"
   },
   {
    "duration": 3,
    "start_time": "2022-02-17T06:59:11.840Z"
   },
   {
    "duration": 4,
    "start_time": "2022-02-17T06:59:11.846Z"
   },
   {
    "duration": 53,
    "start_time": "2022-02-17T06:59:11.851Z"
   },
   {
    "duration": 12,
    "start_time": "2022-02-17T06:59:11.906Z"
   },
   {
    "duration": 17,
    "start_time": "2022-02-17T06:59:11.920Z"
   },
   {
    "duration": 12,
    "start_time": "2022-02-17T06:59:11.939Z"
   },
   {
    "duration": 13,
    "start_time": "2022-02-17T06:59:11.953Z"
   },
   {
    "duration": 68,
    "start_time": "2022-02-17T06:59:11.968Z"
   },
   {
    "duration": 45,
    "start_time": "2022-02-17T06:59:12.039Z"
   },
   {
    "duration": 10,
    "start_time": "2022-02-17T06:59:12.086Z"
   },
   {
    "duration": 6,
    "start_time": "2022-02-17T06:59:12.097Z"
   },
   {
    "duration": 39,
    "start_time": "2022-02-17T06:59:12.105Z"
   },
   {
    "duration": 8,
    "start_time": "2022-02-17T06:59:12.145Z"
   },
   {
    "duration": 11,
    "start_time": "2022-02-17T06:59:12.155Z"
   },
   {
    "duration": 67,
    "start_time": "2022-02-17T06:59:12.168Z"
   },
   {
    "duration": 7,
    "start_time": "2022-02-17T06:59:12.237Z"
   },
   {
    "duration": 17,
    "start_time": "2022-02-17T06:59:12.245Z"
   },
   {
    "duration": 36,
    "start_time": "2022-02-17T06:59:12.263Z"
   },
   {
    "duration": 32,
    "start_time": "2022-02-17T06:59:12.300Z"
   },
   {
    "duration": 19,
    "start_time": "2022-02-17T06:59:12.334Z"
   },
   {
    "duration": 9,
    "start_time": "2022-02-17T06:59:12.355Z"
   },
   {
    "duration": 248,
    "start_time": "2022-02-17T06:59:12.366Z"
   },
   {
    "duration": 32,
    "start_time": "2022-02-17T06:59:12.616Z"
   },
   {
    "duration": 18,
    "start_time": "2022-02-17T06:59:12.651Z"
   },
   {
    "duration": 17,
    "start_time": "2022-02-17T06:59:12.670Z"
   },
   {
    "duration": 45,
    "start_time": "2022-02-17T06:59:12.689Z"
   },
   {
    "duration": 3,
    "start_time": "2022-02-17T07:02:37.684Z"
   },
   {
    "duration": 6,
    "start_time": "2022-02-17T07:02:37.689Z"
   },
   {
    "duration": 47,
    "start_time": "2022-02-17T07:02:37.697Z"
   },
   {
    "duration": 13,
    "start_time": "2022-02-17T07:02:37.746Z"
   },
   {
    "duration": 14,
    "start_time": "2022-02-17T07:02:37.761Z"
   },
   {
    "duration": 11,
    "start_time": "2022-02-17T07:02:37.778Z"
   },
   {
    "duration": 38,
    "start_time": "2022-02-17T07:02:37.792Z"
   },
   {
    "duration": 49,
    "start_time": "2022-02-17T07:02:37.832Z"
   },
   {
    "duration": 67,
    "start_time": "2022-02-17T07:02:37.883Z"
   },
   {
    "duration": 9,
    "start_time": "2022-02-17T07:02:37.952Z"
   },
   {
    "duration": 8,
    "start_time": "2022-02-17T07:02:37.963Z"
   },
   {
    "duration": 15,
    "start_time": "2022-02-17T07:02:37.973Z"
   },
   {
    "duration": 7,
    "start_time": "2022-02-17T07:02:37.989Z"
   },
   {
    "duration": 35,
    "start_time": "2022-02-17T07:02:37.998Z"
   },
   {
    "duration": 41,
    "start_time": "2022-02-17T07:02:38.035Z"
   },
   {
    "duration": 7,
    "start_time": "2022-02-17T07:02:38.077Z"
   },
   {
    "duration": 17,
    "start_time": "2022-02-17T07:02:38.086Z"
   },
   {
    "duration": 58,
    "start_time": "2022-02-17T07:02:38.106Z"
   },
   {
    "duration": 10,
    "start_time": "2022-02-17T07:02:38.166Z"
   },
   {
    "duration": 20,
    "start_time": "2022-02-17T07:02:38.178Z"
   },
   {
    "duration": 31,
    "start_time": "2022-02-17T07:02:38.200Z"
   },
   {
    "duration": 240,
    "start_time": "2022-02-17T07:02:38.233Z"
   },
   {
    "duration": 23,
    "start_time": "2022-02-17T07:02:38.475Z"
   },
   {
    "duration": 38,
    "start_time": "2022-02-17T07:02:38.500Z"
   },
   {
    "duration": 19,
    "start_time": "2022-02-17T07:02:38.540Z"
   },
   {
    "duration": 18,
    "start_time": "2022-02-17T07:02:38.561Z"
   },
   {
    "duration": 12,
    "start_time": "2022-02-17T07:05:34.808Z"
   },
   {
    "duration": 2,
    "start_time": "2022-02-17T07:05:46.064Z"
   },
   {
    "duration": 3,
    "start_time": "2022-02-17T07:05:46.070Z"
   },
   {
    "duration": 51,
    "start_time": "2022-02-17T07:05:46.074Z"
   },
   {
    "duration": 12,
    "start_time": "2022-02-17T07:05:46.127Z"
   },
   {
    "duration": 14,
    "start_time": "2022-02-17T07:05:46.141Z"
   },
   {
    "duration": 12,
    "start_time": "2022-02-17T07:05:46.156Z"
   },
   {
    "duration": 5,
    "start_time": "2022-02-17T07:05:46.170Z"
   },
   {
    "duration": 68,
    "start_time": "2022-02-17T07:05:46.177Z"
   },
   {
    "duration": 44,
    "start_time": "2022-02-17T07:05:46.247Z"
   },
   {
    "duration": 9,
    "start_time": "2022-02-17T07:05:46.292Z"
   },
   {
    "duration": 5,
    "start_time": "2022-02-17T07:05:46.302Z"
   },
   {
    "duration": 33,
    "start_time": "2022-02-17T07:05:46.309Z"
   },
   {
    "duration": 7,
    "start_time": "2022-02-17T07:05:46.344Z"
   },
   {
    "duration": 13,
    "start_time": "2022-02-17T07:05:46.353Z"
   },
   {
    "duration": 74,
    "start_time": "2022-02-17T07:05:46.367Z"
   },
   {
    "duration": 7,
    "start_time": "2022-02-17T07:05:46.442Z"
   },
   {
    "duration": 17,
    "start_time": "2022-02-17T07:05:46.451Z"
   },
   {
    "duration": 39,
    "start_time": "2022-02-17T07:05:46.470Z"
   },
   {
    "duration": 28,
    "start_time": "2022-02-17T07:05:46.510Z"
   },
   {
    "duration": 20,
    "start_time": "2022-02-17T07:05:46.541Z"
   },
   {
    "duration": 9,
    "start_time": "2022-02-17T07:05:46.563Z"
   },
   {
    "duration": 258,
    "start_time": "2022-02-17T07:05:46.573Z"
   },
   {
    "duration": 21,
    "start_time": "2022-02-17T07:05:46.833Z"
   },
   {
    "duration": 22,
    "start_time": "2022-02-17T07:05:46.856Z"
   },
   {
    "duration": 18,
    "start_time": "2022-02-17T07:05:46.880Z"
   },
   {
    "duration": 49,
    "start_time": "2022-02-17T07:05:46.899Z"
   },
   {
    "duration": 3,
    "start_time": "2022-02-17T07:06:27.188Z"
   },
   {
    "duration": 5,
    "start_time": "2022-02-17T07:06:27.193Z"
   },
   {
    "duration": 48,
    "start_time": "2022-02-17T07:06:27.200Z"
   },
   {
    "duration": 12,
    "start_time": "2022-02-17T07:06:27.250Z"
   },
   {
    "duration": 13,
    "start_time": "2022-02-17T07:06:27.264Z"
   },
   {
    "duration": 9,
    "start_time": "2022-02-17T07:06:27.279Z"
   },
   {
    "duration": 4,
    "start_time": "2022-02-17T07:06:27.290Z"
   },
   {
    "duration": 77,
    "start_time": "2022-02-17T07:06:27.296Z"
   },
   {
    "duration": 63,
    "start_time": "2022-02-17T07:06:27.375Z"
   },
   {
    "duration": 8,
    "start_time": "2022-02-17T07:06:27.440Z"
   },
   {
    "duration": 6,
    "start_time": "2022-02-17T07:06:27.450Z"
   },
   {
    "duration": 12,
    "start_time": "2022-02-17T07:06:27.457Z"
   },
   {
    "duration": 8,
    "start_time": "2022-02-17T07:06:27.471Z"
   },
   {
    "duration": 13,
    "start_time": "2022-02-17T07:06:27.480Z"
   },
   {
    "duration": 78,
    "start_time": "2022-02-17T07:06:27.495Z"
   },
   {
    "duration": 7,
    "start_time": "2022-02-17T07:06:27.574Z"
   },
   {
    "duration": 24,
    "start_time": "2022-02-17T07:06:27.583Z"
   },
   {
    "duration": 48,
    "start_time": "2022-02-17T07:06:27.610Z"
   },
   {
    "duration": 10,
    "start_time": "2022-02-17T07:06:27.660Z"
   },
   {
    "duration": 23,
    "start_time": "2022-02-17T07:06:27.671Z"
   },
   {
    "duration": 7,
    "start_time": "2022-02-17T07:06:27.696Z"
   },
   {
    "duration": 260,
    "start_time": "2022-02-17T07:06:27.704Z"
   },
   {
    "duration": 19,
    "start_time": "2022-02-17T07:06:27.965Z"
   },
   {
    "duration": 19,
    "start_time": "2022-02-17T07:06:27.985Z"
   },
   {
    "duration": 35,
    "start_time": "2022-02-17T07:06:28.006Z"
   },
   {
    "duration": 18,
    "start_time": "2022-02-17T07:06:28.043Z"
   },
   {
    "duration": 10,
    "start_time": "2022-02-17T07:06:41.552Z"
   },
   {
    "duration": 2,
    "start_time": "2022-02-17T07:07:02.404Z"
   },
   {
    "duration": 2,
    "start_time": "2022-02-17T07:07:02.413Z"
   },
   {
    "duration": 45,
    "start_time": "2022-02-17T07:07:02.417Z"
   },
   {
    "duration": 13,
    "start_time": "2022-02-17T07:07:02.464Z"
   },
   {
    "duration": 11,
    "start_time": "2022-02-17T07:07:02.478Z"
   },
   {
    "duration": 43,
    "start_time": "2022-02-17T07:07:02.491Z"
   },
   {
    "duration": 11,
    "start_time": "2022-02-17T07:07:02.536Z"
   },
   {
    "duration": 49,
    "start_time": "2022-02-17T07:07:02.549Z"
   },
   {
    "duration": 65,
    "start_time": "2022-02-17T07:07:02.599Z"
   },
   {
    "duration": 9,
    "start_time": "2022-02-17T07:07:02.668Z"
   },
   {
    "duration": 5,
    "start_time": "2022-02-17T07:07:02.680Z"
   },
   {
    "duration": 11,
    "start_time": "2022-02-17T07:07:02.687Z"
   },
   {
    "duration": 35,
    "start_time": "2022-02-17T07:07:02.699Z"
   },
   {
    "duration": 9,
    "start_time": "2022-02-17T07:07:02.736Z"
   },
   {
    "duration": 13,
    "start_time": "2022-02-17T07:07:02.746Z"
   },
   {
    "duration": 42,
    "start_time": "2022-02-17T07:07:02.760Z"
   },
   {
    "duration": 32,
    "start_time": "2022-02-17T07:07:02.804Z"
   },
   {
    "duration": 15,
    "start_time": "2022-02-17T07:07:02.838Z"
   },
   {
    "duration": 33,
    "start_time": "2022-02-17T07:07:02.855Z"
   },
   {
    "duration": 9,
    "start_time": "2022-02-17T07:07:02.890Z"
   },
   {
    "duration": 46,
    "start_time": "2022-02-17T07:07:02.901Z"
   },
   {
    "duration": 7,
    "start_time": "2022-02-17T07:07:02.949Z"
   },
   {
    "duration": 244,
    "start_time": "2022-02-17T07:07:02.958Z"
   },
   {
    "duration": 29,
    "start_time": "2022-02-17T07:07:03.204Z"
   },
   {
    "duration": 18,
    "start_time": "2022-02-17T07:07:03.234Z"
   },
   {
    "duration": 17,
    "start_time": "2022-02-17T07:07:03.253Z"
   },
   {
    "duration": 19,
    "start_time": "2022-02-17T07:07:03.271Z"
   },
   {
    "duration": 7,
    "start_time": "2022-02-17T07:07:13.380Z"
   },
   {
    "duration": 14,
    "start_time": "2022-02-17T07:07:52.580Z"
   },
   {
    "duration": 5,
    "start_time": "2022-02-17T07:07:55.740Z"
   },
   {
    "duration": 13,
    "start_time": "2022-02-17T07:10:37.400Z"
   },
   {
    "duration": 2,
    "start_time": "2022-02-17T07:10:48.945Z"
   },
   {
    "duration": 5,
    "start_time": "2022-02-17T07:10:48.949Z"
   },
   {
    "duration": 45,
    "start_time": "2022-02-17T07:10:48.956Z"
   },
   {
    "duration": 12,
    "start_time": "2022-02-17T07:10:49.003Z"
   },
   {
    "duration": 24,
    "start_time": "2022-02-17T07:10:49.016Z"
   },
   {
    "duration": 10,
    "start_time": "2022-02-17T07:10:49.042Z"
   },
   {
    "duration": 5,
    "start_time": "2022-02-17T07:10:49.054Z"
   },
   {
    "duration": 49,
    "start_time": "2022-02-17T07:10:49.061Z"
   },
   {
    "duration": 74,
    "start_time": "2022-02-17T07:10:49.112Z"
   },
   {
    "duration": 8,
    "start_time": "2022-02-17T07:10:49.188Z"
   },
   {
    "duration": 5,
    "start_time": "2022-02-17T07:10:49.198Z"
   },
   {
    "duration": 37,
    "start_time": "2022-02-17T07:10:49.204Z"
   },
   {
    "duration": 15,
    "start_time": "2022-02-17T07:10:49.243Z"
   },
   {
    "duration": 13,
    "start_time": "2022-02-17T07:10:49.260Z"
   },
   {
    "duration": 72,
    "start_time": "2022-02-17T07:10:49.275Z"
   },
   {
    "duration": 8,
    "start_time": "2022-02-17T07:10:49.349Z"
   },
   {
    "duration": 20,
    "start_time": "2022-02-17T07:10:49.358Z"
   },
   {
    "duration": 51,
    "start_time": "2022-02-17T07:10:49.380Z"
   },
   {
    "duration": 19,
    "start_time": "2022-02-17T07:10:49.433Z"
   },
   {
    "duration": 21,
    "start_time": "2022-02-17T07:10:49.455Z"
   },
   {
    "duration": 14,
    "start_time": "2022-02-17T07:10:49.477Z"
   },
   {
    "duration": 265,
    "start_time": "2022-02-17T07:10:49.493Z"
   },
   {
    "duration": 19,
    "start_time": "2022-02-17T07:10:49.760Z"
   },
   {
    "duration": 19,
    "start_time": "2022-02-17T07:10:49.781Z"
   },
   {
    "duration": 52,
    "start_time": "2022-02-17T07:10:49.802Z"
   },
   {
    "duration": 22,
    "start_time": "2022-02-17T07:10:49.857Z"
   },
   {
    "duration": 4,
    "start_time": "2022-03-01T07:57:38.649Z"
   },
   {
    "duration": 761,
    "start_time": "2022-03-01T07:57:38.655Z"
   },
   {
    "duration": 61,
    "start_time": "2022-03-01T07:57:39.419Z"
   },
   {
    "duration": 28,
    "start_time": "2022-03-01T07:57:39.483Z"
   },
   {
    "duration": 16,
    "start_time": "2022-03-01T07:57:39.513Z"
   },
   {
    "duration": 12,
    "start_time": "2022-03-01T07:57:39.531Z"
   },
   {
    "duration": 32,
    "start_time": "2022-03-01T07:57:39.545Z"
   },
   {
    "duration": 67,
    "start_time": "2022-03-01T07:57:39.580Z"
   },
   {
    "duration": 68,
    "start_time": "2022-03-01T07:57:39.675Z"
   },
   {
    "duration": 33,
    "start_time": "2022-03-01T07:57:39.745Z"
   },
   {
    "duration": 7,
    "start_time": "2022-03-01T07:57:39.780Z"
   },
   {
    "duration": 24,
    "start_time": "2022-03-01T07:57:39.789Z"
   },
   {
    "duration": 11,
    "start_time": "2022-03-01T07:57:39.815Z"
   },
   {
    "duration": 55,
    "start_time": "2022-03-01T07:57:39.829Z"
   },
   {
    "duration": 16,
    "start_time": "2022-03-01T07:57:39.886Z"
   },
   {
    "duration": 24,
    "start_time": "2022-03-01T07:57:39.905Z"
   },
   {
    "duration": 84,
    "start_time": "2022-03-01T07:57:39.931Z"
   },
   {
    "duration": 17,
    "start_time": "2022-03-01T07:57:40.018Z"
   },
   {
    "duration": 60,
    "start_time": "2022-03-01T07:57:40.038Z"
   },
   {
    "duration": 11,
    "start_time": "2022-03-01T07:57:40.101Z"
   },
   {
    "duration": 427,
    "start_time": "2022-03-01T07:57:40.116Z"
   },
   {
    "duration": 1274,
    "start_time": "2022-03-01T07:57:40.546Z"
   },
   {
    "duration": 51,
    "start_time": "2022-03-01T07:57:41.823Z"
   },
   {
    "duration": 32,
    "start_time": "2022-03-01T07:57:41.877Z"
   },
   {
    "duration": 61,
    "start_time": "2022-03-01T07:57:41.912Z"
   },
   {
    "duration": 4,
    "start_time": "2022-03-01T08:00:35.955Z"
   },
   {
    "duration": 8,
    "start_time": "2022-03-01T08:00:35.962Z"
   },
   {
    "duration": 64,
    "start_time": "2022-03-01T08:00:35.973Z"
   },
   {
    "duration": 19,
    "start_time": "2022-03-01T08:00:36.040Z"
   },
   {
    "duration": 29,
    "start_time": "2022-03-01T08:00:36.062Z"
   },
   {
    "duration": 14,
    "start_time": "2022-03-01T08:00:36.094Z"
   },
   {
    "duration": 13,
    "start_time": "2022-03-01T08:00:36.110Z"
   },
   {
    "duration": 96,
    "start_time": "2022-03-01T08:00:36.125Z"
   },
   {
    "duration": 93,
    "start_time": "2022-03-01T08:00:36.224Z"
   },
   {
    "duration": 12,
    "start_time": "2022-03-01T08:00:36.320Z"
   },
   {
    "duration": 40,
    "start_time": "2022-03-01T08:00:36.335Z"
   },
   {
    "duration": 23,
    "start_time": "2022-03-01T08:00:36.379Z"
   },
   {
    "duration": 17,
    "start_time": "2022-03-01T08:00:36.405Z"
   },
   {
    "duration": 58,
    "start_time": "2022-03-01T08:00:36.425Z"
   },
   {
    "duration": 13,
    "start_time": "2022-03-01T08:00:36.486Z"
   },
   {
    "duration": 39,
    "start_time": "2022-03-01T08:00:36.502Z"
   },
   {
    "duration": 10,
    "start_time": "2022-03-01T08:00:36.573Z"
   },
   {
    "duration": 56,
    "start_time": "2022-03-01T08:00:36.586Z"
   },
   {
    "duration": 36,
    "start_time": "2022-03-01T08:00:36.645Z"
   },
   {
    "duration": 48,
    "start_time": "2022-03-01T08:00:36.684Z"
   },
   {
    "duration": 40,
    "start_time": "2022-03-01T08:00:36.735Z"
   },
   {
    "duration": 427,
    "start_time": "2022-03-01T08:00:36.778Z"
   },
   {
    "duration": 33,
    "start_time": "2022-03-01T08:00:37.209Z"
   },
   {
    "duration": 58,
    "start_time": "2022-03-01T08:00:37.246Z"
   },
   {
    "duration": 28,
    "start_time": "2022-03-01T08:00:37.306Z"
   },
   {
    "duration": 63,
    "start_time": "2022-03-01T08:00:37.336Z"
   },
   {
    "duration": 3,
    "start_time": "2022-03-01T08:00:42.536Z"
   },
   {
    "duration": 3,
    "start_time": "2022-03-01T08:00:43.840Z"
   },
   {
    "duration": 60,
    "start_time": "2022-03-01T08:00:44.928Z"
   },
   {
    "duration": 19,
    "start_time": "2022-03-01T08:00:46.160Z"
   },
   {
    "duration": 16,
    "start_time": "2022-03-01T08:00:51.812Z"
   },
   {
    "duration": 12,
    "start_time": "2022-03-01T08:01:01.972Z"
   },
   {
    "duration": 6,
    "start_time": "2022-03-01T08:01:04.392Z"
   },
   {
    "duration": 69,
    "start_time": "2022-03-01T08:01:07.720Z"
   },
   {
    "duration": 68,
    "start_time": "2022-03-01T08:01:11.404Z"
   },
   {
    "duration": 13,
    "start_time": "2022-03-01T08:01:14.067Z"
   },
   {
    "duration": 7,
    "start_time": "2022-03-01T08:01:19.336Z"
   },
   {
    "duration": 19,
    "start_time": "2022-03-01T08:01:23.392Z"
   },
   {
    "duration": 15,
    "start_time": "2022-03-01T08:02:33.864Z"
   },
   {
    "duration": 20,
    "start_time": "2022-03-01T08:02:37.752Z"
   },
   {
    "duration": 10,
    "start_time": "2022-03-01T08:02:40.132Z"
   },
   {
    "duration": 23,
    "start_time": "2022-03-01T08:02:51.591Z"
   },
   {
    "duration": 10,
    "start_time": "2022-03-01T08:02:53.581Z"
   },
   {
    "duration": 60,
    "start_time": "2022-03-01T08:03:41.895Z"
   },
   {
    "duration": 24,
    "start_time": "2022-03-01T08:08:13.295Z"
   },
   {
    "duration": 347,
    "start_time": "2022-03-01T08:09:32.415Z"
   },
   {
    "duration": 27,
    "start_time": "2022-03-01T08:09:35.751Z"
   },
   {
    "duration": 23,
    "start_time": "2022-03-01T08:09:46.775Z"
   },
   {
    "duration": 27,
    "start_time": "2022-03-01T08:10:11.476Z"
   },
   {
    "duration": 36,
    "start_time": "2022-03-01T08:10:28.667Z"
   },
   {
    "duration": 25,
    "start_time": "2022-03-01T08:11:12.516Z"
   },
   {
    "duration": 47,
    "start_time": "2022-03-01T08:11:24.508Z"
   },
   {
    "duration": 54,
    "start_time": "2022-03-01T08:11:49.955Z"
   },
   {
    "duration": 15,
    "start_time": "2022-03-01T08:11:53.287Z"
   },
   {
    "duration": 36,
    "start_time": "2022-03-01T08:11:55.303Z"
   },
   {
    "duration": 394,
    "start_time": "2022-03-01T08:12:04.919Z"
   },
   {
    "duration": 414,
    "start_time": "2022-03-01T08:12:07.667Z"
   },
   {
    "duration": 27,
    "start_time": "2022-03-01T08:12:10.935Z"
   },
   {
    "duration": 30,
    "start_time": "2022-03-01T08:12:44.636Z"
   },
   {
    "duration": 28,
    "start_time": "2022-03-01T08:13:40.855Z"
   },
   {
    "duration": 32,
    "start_time": "2022-03-01T08:13:54.912Z"
   },
   {
    "duration": 8,
    "start_time": "2022-09-26T09:29:40.960Z"
   },
   {
    "duration": 374,
    "start_time": "2022-09-26T09:29:40.970Z"
   },
   {
    "duration": 276,
    "start_time": "2022-09-26T09:29:41.346Z"
   },
   {
    "duration": 18,
    "start_time": "2022-09-26T09:29:41.624Z"
   },
   {
    "duration": 24,
    "start_time": "2022-09-26T09:29:41.644Z"
   },
   {
    "duration": 8,
    "start_time": "2022-09-26T09:29:41.669Z"
   },
   {
    "duration": 16,
    "start_time": "2022-09-26T09:29:41.679Z"
   },
   {
    "duration": 40,
    "start_time": "2022-09-26T09:29:41.697Z"
   },
   {
    "duration": 37,
    "start_time": "2022-09-26T09:29:41.740Z"
   },
   {
    "duration": 10,
    "start_time": "2022-09-26T09:29:41.779Z"
   },
   {
    "duration": 6,
    "start_time": "2022-09-26T09:29:41.808Z"
   },
   {
    "duration": 44,
    "start_time": "2022-09-26T09:29:41.815Z"
   },
   {
    "duration": 18,
    "start_time": "2022-09-26T09:29:41.860Z"
   },
   {
    "duration": 28,
    "start_time": "2022-09-26T09:29:41.879Z"
   },
   {
    "duration": 30,
    "start_time": "2022-09-26T09:29:41.908Z"
   },
   {
    "duration": 30,
    "start_time": "2022-09-26T09:29:41.939Z"
   },
   {
    "duration": 28,
    "start_time": "2022-09-26T09:29:41.970Z"
   },
   {
    "duration": 40,
    "start_time": "2022-09-26T09:29:41.999Z"
   },
   {
    "duration": 36,
    "start_time": "2022-09-26T09:29:42.040Z"
   },
   {
    "duration": 40,
    "start_time": "2022-09-26T09:29:42.078Z"
   },
   {
    "duration": 9,
    "start_time": "2022-09-26T09:29:42.120Z"
   },
   {
    "duration": 44,
    "start_time": "2022-09-26T09:29:42.130Z"
   },
   {
    "duration": 31,
    "start_time": "2022-09-26T09:29:42.176Z"
   },
   {
    "duration": 176,
    "start_time": "2022-09-26T09:29:42.210Z"
   },
   {
    "duration": 505,
    "start_time": "2022-09-26T09:29:42.388Z"
   },
   {
    "duration": 25,
    "start_time": "2022-09-26T09:29:42.895Z"
   },
   {
    "duration": 32,
    "start_time": "2022-09-26T09:29:42.922Z"
   },
   {
    "duration": 27,
    "start_time": "2022-09-26T09:29:42.956Z"
   }
  ],
  "kernelspec": {
   "display_name": "Python 3 (ipykernel)",
   "language": "python",
   "name": "python3"
  },
  "language_info": {
   "codemirror_mode": {
    "name": "ipython",
    "version": 3
   },
   "file_extension": ".py",
   "mimetype": "text/x-python",
   "name": "python",
   "nbconvert_exporter": "python",
   "pygments_lexer": "ipython3",
   "version": "3.9.5"
  },
  "toc": {
   "base_numbering": 1,
   "nav_menu": {},
   "number_sections": true,
   "sideBar": true,
   "skip_h1_title": true,
   "title_cell": "Table of Contents",
   "title_sidebar": "Contents",
   "toc_cell": false,
   "toc_position": {},
   "toc_section_display": true,
   "toc_window_display": false
  }
 },
 "nbformat": 4,
 "nbformat_minor": 5
}
